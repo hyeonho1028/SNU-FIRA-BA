{
 "cells": [
  {
   "cell_type": "markdown",
   "metadata": {},
   "source": [
    "###### 7월 18일 시험얘기\n",
    "상대평가이다.40 50 10 이렇게 생각했는데 어떻게 될지 모르겠다. 50 50 도 가능성이 있다. \n",
    "\n",
    "아니면 70 30 도 있고 시험결과를 봐야지 알 수 있다.\n",
    "\n",
    "부담 갖지 말아라"
   ]
  },
  {
   "cell_type": "markdown",
   "metadata": {},
   "source": [
    "# 7월 17일 클래스"
   ]
  },
  {
   "cell_type": "code",
   "execution_count": 3,
   "metadata": {},
   "outputs": [],
   "source": [
    "hour_rate = 7500\n",
    "total_wage = 0\n",
    "\n",
    "def albeit(hours):\n",
    "    global total_wage\n",
    "    daily_wage = hour_rate * hours\n",
    "    total_wage += daily_wage\n",
    "    return total_wage"
   ]
  },
  {
   "cell_type": "code",
   "execution_count": 7,
   "metadata": {},
   "outputs": [
    {
     "data": {
      "text/plain": [
       "(262500, 285000, 322500)"
      ]
     },
     "execution_count": 7,
     "metadata": {},
     "output_type": "execute_result"
    }
   ],
   "source": [
    "albeit(4), albeit(3), albeit(5)"
   ]
  },
  {
   "cell_type": "code",
   "execution_count": 8,
   "metadata": {},
   "outputs": [],
   "source": [
    "hour_rate = 7500\n",
    "total_wage1 = 0\n",
    "total_wage2 = 0\n",
    "\n",
    "def albeit1(hours):\n",
    "    global total_wage\n",
    "    daily_wage = hour_rate * hours\n",
    "    total_wage += daily_wage\n",
    "    return total_wage\n",
    "\n",
    "def albeit2(hours):\n",
    "    global total_wage\n",
    "    daily_wage = hour_rate * hours\n",
    "    total_wage += daily_wage\n",
    "    return total_wage"
   ]
  },
  {
   "cell_type": "code",
   "execution_count": 9,
   "metadata": {},
   "outputs": [
    {
     "data": {
      "text/plain": [
       "(345000, 367500)"
      ]
     },
     "execution_count": 9,
     "metadata": {},
     "output_type": "execute_result"
    }
   ],
   "source": [
    "albeit1(3), albeit2(3)"
   ]
  },
  {
   "cell_type": "code",
   "execution_count": 13,
   "metadata": {},
   "outputs": [],
   "source": [
    "# 클래스를 사용하는거 시험에 나옴...\n",
    "class Albeit:\n",
    "    hour_rate = 7500\n",
    "    def __init__(self): #self는 객체 자신\n",
    "        self.total_wage = 0\n",
    "    def calculate_wage(self, hours):\n",
    "        daily_wage = Albeit.hour_rate * hours\n",
    "        self.total_wage += daily_wage\n",
    "        return self.total_wage"
   ]
  },
  {
   "cell_type": "code",
   "execution_count": 15,
   "metadata": {},
   "outputs": [
    {
     "data": {
      "text/plain": [
       "30000"
      ]
     },
     "execution_count": 15,
     "metadata": {},
     "output_type": "execute_result"
    }
   ],
   "source": [
    "albeit1 = Albeit()\n",
    "albeit1.calculate_wage(4)"
   ]
  },
  {
   "cell_type": "code",
   "execution_count": null,
   "metadata": {},
   "outputs": [],
   "source": [
    "class MyClass():\n",
    "class MyClass(object):\n",
    "class MyClass:        # 3개가 모두 같다."
   ]
  },
  {
   "cell_type": "code",
   "execution_count": 16,
   "metadata": {},
   "outputs": [],
   "source": [
    "class PartTimer:\n",
    "    pass\n",
    "kim = PartTimer()\n",
    "Lee = PartTimer()\n",
    "#i = int() 와 같다는 의미"
   ]
  },
  {
   "cell_type": "code",
   "execution_count": 20,
   "metadata": {},
   "outputs": [
    {
     "name": "stdout",
     "output_type": "stream",
     "text": [
      "<class '__main__.PartTimer'>\n"
     ]
    }
   ],
   "source": [
    "print(type(kim)) # data type을 만들었다."
   ]
  },
  {
   "cell_type": "code",
   "execution_count": 28,
   "metadata": {},
   "outputs": [],
   "source": [
    "class PartTimer:\n",
    "    '''설명입니다.'''\n",
    "    hour_rate = 7500\n",
    "    nickname = None\n",
    "    \n",
    "kim = PartTimer()\n",
    "Lee = PartTimer()"
   ]
  },
  {
   "cell_type": "code",
   "execution_count": 23,
   "metadata": {},
   "outputs": [
    {
     "data": {
      "text/plain": [
       "7500"
      ]
     },
     "execution_count": 23,
     "metadata": {},
     "output_type": "execute_result"
    }
   ],
   "source": [
    "kim.hour_rate"
   ]
  },
  {
   "cell_type": "code",
   "execution_count": 25,
   "metadata": {},
   "outputs": [
    {
     "data": {
      "text/plain": [
       "'프로도'"
      ]
     },
     "execution_count": 25,
     "metadata": {},
     "output_type": "execute_result"
    }
   ],
   "source": [
    "kim.nickname = '프로도'\n",
    "kim.nickname"
   ]
  },
  {
   "cell_type": "code",
   "execution_count": 29,
   "metadata": {},
   "outputs": [
    {
     "name": "stdout",
     "output_type": "stream",
     "text": [
      "설명입니다.\n"
     ]
    }
   ],
   "source": [
    "print(PartTimer.__doc__)"
   ]
  },
  {
   "cell_type": "code",
   "execution_count": 123,
   "metadata": {},
   "outputs": [],
   "source": [
    "class movies_world:\n",
    "    movie = []\n",
    "    name = None\n",
    "    year = None    \n",
    "    director = None\n",
    "    money = None\n",
    "    actor = None\n",
    "    def setname(self, name):\n",
    "        self.name = name\n",
    "    movie.append({'영화 이름':name})\n",
    "    def setyear(self, year):\n",
    "        self.year = year\n",
    "    movie.append({'개봉 년도':year})\n",
    "    def setdirector(self, director):\n",
    "        self.director = direcotr\n",
    "    movie.append({'감독':director})\n",
    "    def setmoney(self, money):\n",
    "        self.money = money\n",
    "    movie.append({'예산':money})\n",
    "    def setactor(self, actor):\n",
    "        self.actor = actor\n",
    "    movie.append({'주연':actor})\n",
    "    def gethhh(self):\n",
    "        return self.movie"
   ]
  },
  {
   "cell_type": "code",
   "execution_count": 124,
   "metadata": {},
   "outputs": [],
   "source": [
    "abc = movies_world()\n",
    "abc.name = '어벤져스'\n",
    "abc.year = 2018\n",
    "abc.director = 'A'\n",
    "abc.money = 3000\n",
    "abc.actor = ['ironman', 'captin', 'spider']"
   ]
  },
  {
   "cell_type": "code",
   "execution_count": 125,
   "metadata": {},
   "outputs": [
    {
     "data": {
      "text/plain": [
       "('어벤져스', 2018, 'A', 3000, ['ironman', 'captin', 'spider'])"
      ]
     },
     "execution_count": 125,
     "metadata": {},
     "output_type": "execute_result"
    }
   ],
   "source": [
    "abc.name, abc.year, abc.director, abc.money, abc.actor"
   ]
  },
  {
   "cell_type": "code",
   "execution_count": 126,
   "metadata": {},
   "outputs": [
    {
     "name": "stdout",
     "output_type": "stream",
     "text": [
      "[{'영화 이름': None}, {'개봉 년도': None}, {'감독': None}, {'예산': None}, {'주연': None}]\n"
     ]
    }
   ],
   "source": [
    "print(abc.gethhh())"
   ]
  },
  {
   "cell_type": "code",
   "execution_count": 129,
   "metadata": {},
   "outputs": [
    {
     "name": "stdout",
     "output_type": "stream",
     "text": [
      " 영화 In 정보\n",
      "영화 이름:  In\n",
      "년도:  2014\n",
      "감독:  Nolan\n",
      "예산:  $165,000,000\n",
      "주연:  ['Matthew', 'Anne', 'Jessica']\n",
      "\n",
      " 영화 In 정보\n",
      "영화 이름:  In\n",
      "년도:  2014\n",
      "감독:  Nolan\n",
      "예산:  $165,000,000\n",
      "주연:  ['Matthew', 'Anne', 'Jessica']\n",
      "\n",
      " 영화 In 정보\n",
      "영화 이름:  In\n",
      "년도:  2014\n",
      "감독:  Nolan\n",
      "예산:  $165,000,000\n",
      "주연:  ['Matthew', 'Anne', 'Jessica']\n",
      "\n"
     ]
    }
   ],
   "source": [
    "class Movie:\n",
    "    def __init__(self, name, year, director, budget, stars):\n",
    "        self.name = name\n",
    "        self.year = year\n",
    "        self.director = director\n",
    "        self.budget = budget\n",
    "        self.stars = stars\n",
    "        \n",
    "movies= []\n",
    "movies.append(Movie('In', 2014, 'Nolan', '$165,000,000', ['Matthew', 'Anne', 'Jessica']))\n",
    "movies.append(Movie('In', 2014, 'Nolan', '$165,000,000', ['Matthew', 'Anne', 'Jessica']))\n",
    "movies.append(Movie('In', 2014, 'Nolan', '$165,000,000', ['Matthew', 'Anne', 'Jessica']))\n",
    "\n",
    "for movie in movies:\n",
    "    print(' 영화 {} 정보'.format(movie.name))\n",
    "    print('영화 이름: ', movie.name)\n",
    "    print('년도: ', movie.year)\n",
    "    print('감독: ', movie.director)\n",
    "    print('예산: ', movie.budget)\n",
    "    print('주연: ', movie.stars)\n",
    "    print()\n",
    "    \n",
    "    "
   ]
  },
  {
   "cell_type": "code",
   "execution_count": 133,
   "metadata": {
    "scrolled": true
   },
   "outputs": [
    {
     "name": "stdout",
     "output_type": "stream",
     "text": [
      "In 주연목록\n",
      "Matthew\n",
      "Anne\n",
      "Jessica\n"
     ]
    }
   ],
   "source": [
    "class Movie:\n",
    "    def __init__(self, name, year, director, budget, stars):\n",
    "        self.name = name\n",
    "        self.year = year\n",
    "        self.director = director\n",
    "        self.budget = budget\n",
    "        self.stars = stars\n",
    "    def get_stars(self):\n",
    "        print('{} 주연목록'.format(self.name))\n",
    "        for star in self.stars:\n",
    "            print(star)\n",
    "            \n",
    "movie = Movie('In', 2014, 'Nolan', '$165,000,000', ['Matthew', 'Anne', 'Jessica'])\n",
    "\n",
    "movie.get_stars()"
   ]
  },
  {
   "cell_type": "markdown",
   "metadata": {},
   "source": [
    "## 아르바이트생 관리"
   ]
  },
  {
   "cell_type": "code",
   "execution_count": 159,
   "metadata": {},
   "outputs": [],
   "source": [
    "class PartTimer:\n",
    "    hour_rate = 7500\n",
    "    total_part_timers = 0\n",
    "\n",
    "    def __init__(self, name, place = '113동'):\n",
    "        total_wage = 0\n",
    "        self.nickname = name\n",
    "        self.workplace = place\n",
    "        PartTimer.total_part_timers += 1\n",
    "    \n",
    "    def getnickname(self):\n",
    "        return 'My nickname is ' + self.nickname\n",
    "    \n",
    "    def calculate_wage(self, hours):\n",
    "        daily_wage = PartTimer.hour_rate * hours\n",
    "        self.total_wage += daily_wage\n",
    "        return self.total_wage\n",
    "        "
   ]
  },
  {
   "cell_type": "code",
   "execution_count": 153,
   "metadata": {},
   "outputs": [],
   "source": [
    "lee = PartTimer('라이언')"
   ]
  },
  {
   "cell_type": "code",
   "execution_count": 154,
   "metadata": {},
   "outputs": [
    {
     "data": {
      "text/plain": [
       "'라이언'"
      ]
     },
     "execution_count": 154,
     "metadata": {},
     "output_type": "execute_result"
    }
   ],
   "source": [
    "lee.nickname"
   ]
  },
  {
   "cell_type": "code",
   "execution_count": 157,
   "metadata": {},
   "outputs": [
    {
     "name": "stdout",
     "output_type": "stream",
     "text": [
      "None\n"
     ]
    }
   ],
   "source": [
    "print(lee.calculate_wage(3))"
   ]
  },
  {
   "cell_type": "code",
   "execution_count": null,
   "metadata": {},
   "outputs": [],
   "source": []
  },
  {
   "cell_type": "code",
   "execution_count": null,
   "metadata": {},
   "outputs": [],
   "source": []
  },
  {
   "cell_type": "code",
   "execution_count": null,
   "metadata": {},
   "outputs": [],
   "source": []
  },
  {
   "cell_type": "code",
   "execution_count": null,
   "metadata": {},
   "outputs": [],
   "source": []
  },
  {
   "cell_type": "code",
   "execution_count": null,
   "metadata": {},
   "outputs": [],
   "source": []
  }
 ],
 "metadata": {
  "kernelspec": {
   "display_name": "Python 3",
   "language": "python",
   "name": "python3"
  },
  "language_info": {
   "codemirror_mode": {
    "name": "ipython",
    "version": 3
   },
   "file_extension": ".py",
   "mimetype": "text/x-python",
   "name": "python",
   "nbconvert_exporter": "python",
   "pygments_lexer": "ipython3",
   "version": "3.6.5"
  }
 },
 "nbformat": 4,
 "nbformat_minor": 2
}
