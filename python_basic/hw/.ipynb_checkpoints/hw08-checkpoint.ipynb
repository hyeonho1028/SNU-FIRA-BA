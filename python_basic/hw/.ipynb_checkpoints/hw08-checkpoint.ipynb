{
 "cells": [
  {
   "cell_type": "code",
   "execution_count": 1,
   "metadata": {},
   "outputs": [],
   "source": [
    "import collections"
   ]
  },
  {
   "cell_type": "code",
   "execution_count": 85,
   "metadata": {},
   "outputs": [],
   "source": [
    "def vowel(n):\n",
    "    a = n.count('a')\n",
    "    e = n.count('e')\n",
    "    i = n.count('i')\n",
    "    o = n.count('o')\n",
    "    u = n.count('u')\n",
    "\n",
    "    print('The number fo a:', a)\n",
    "    print('The number fo e:', e)\n",
    "    print('The number fo i:', i)\n",
    "    print('The number fo o:', o)\n",
    "    print('The number fo u:', u)\n",
    "    \n",
    "    m = max(a, e, i, o, u)\n",
    "    \n",
    "    if m == a:\n",
    "        max_index = 'a'\n",
    "    elif m == e:\n",
    "        max_index = 'e'\n",
    "    elif m == i:\n",
    "        max_index = 'i'\n",
    "    elif m == o:\n",
    "        max_index = 'o'\n",
    "    else:\n",
    "        max_index = 'u'\n",
    "    \n",
    "    for i in n:\n",
    "        if i == max_index:\n",
    "            i = i.upper()\n",
    "            print(i, end = \"\")\n",
    "        else:\n",
    "            print(i, end = \"\")"
   ]
  },
  {
   "cell_type": "code",
   "execution_count": 86,
   "metadata": {},
   "outputs": [
    {
     "name": "stdout",
     "output_type": "stream",
     "text": [
      "The number fo a: 3\n",
      "The number fo e: 7\n",
      "The number fo i: 6\n",
      "The number fo o: 6\n",
      "The number fo u: 0\n",
      "ThE rEgrEt aftEr not doing somEthing is biggEr than that of doing somEthing"
     ]
    }
   ],
   "source": [
    "vowel('The regret after not doing something is bigger than that of doing something')"
   ]
  },
  {
   "cell_type": "code",
   "execution_count": 112,
   "metadata": {},
   "outputs": [],
   "source": [
    "from collections import Counter\n",
    "def vowel(n):\n",
    "    counts = Counter(n)\n",
    "    m = list()\n",
    "    for i in ['a','e','i','o','u']:\n",
    "        if i in counts:\n",
    "            print('The number of {}: {}'.format(i, counts.get(i)))\n",
    "            m.append(counts.get(i))\n",
    "        else:\n",
    "            print('The number of {}: 0'.format(i))\n",
    "    else:\n",
    "        m = max(m)\n",
    "        for i in ['a','e','i','o','u']:\n",
    "            if counts.get(i) == m:\n",
    "                max_index = i    \n",
    "        \n",
    "    for i in n:\n",
    "        if i == max_index:\n",
    "            i = i.upper()\n",
    "            print(i, end = \"\")\n",
    "        else:\n",
    "            print(i, end = \"\")"
   ]
  },
  {
   "cell_type": "code",
   "execution_count": 113,
   "metadata": {},
   "outputs": [
    {
     "name": "stdout",
     "output_type": "stream",
     "text": [
      "Counter({' ': 12, 't': 8, 'e': 7, 'g': 7, 'n': 6, 'o': 6, 'i': 6, 'h': 5, 'r': 4, 'a': 3, 's': 3, 'f': 2, 'd': 2, 'm': 2, 'T': 1, 'b': 1})\n",
      "The number of a: 3\n",
      "The number of e: 7\n",
      "The number of i: 6\n",
      "The number of o: 6\n",
      "The number of u: 0\n",
      "ThE rEgrEt aftEr not doing somEthing is biggEr than that of doing somEthing"
     ]
    }
   ],
   "source": [
    "vowel('The regret after not doing something is bigger than that of doing something')"
   ]
  },
  {
   "cell_type": "code",
   "execution_count": null,
   "metadata": {},
   "outputs": [],
   "source": []
  }
 ],
 "metadata": {
  "kernelspec": {
   "display_name": "Python 3",
   "language": "python",
   "name": "python3"
  },
  "language_info": {
   "codemirror_mode": {
    "name": "ipython",
    "version": 3
   },
   "file_extension": ".py",
   "mimetype": "text/x-python",
   "name": "python",
   "nbconvert_exporter": "python",
   "pygments_lexer": "ipython3",
   "version": "3.6.5"
  }
 },
 "nbformat": 4,
 "nbformat_minor": 2
}
