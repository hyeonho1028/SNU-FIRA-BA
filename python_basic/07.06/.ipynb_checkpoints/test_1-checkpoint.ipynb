{
 "cells": [
  {
   "cell_type": "markdown",
   "metadata": {},
   "source": [
    "# 7월 6일 금요일"
   ]
  },
  {
   "cell_type": "code",
   "execution_count": 39,
   "metadata": {},
   "outputs": [],
   "source": [
    "L = list()\n",
    "for i in range(1, 101) :\n",
    "    if len(L) < 101 :\n",
    "        L = L + [i]"
   ]
  },
  {
   "cell_type": "code",
   "execution_count": 40,
   "metadata": {},
   "outputs": [
    {
     "name": "stdout",
     "output_type": "stream",
     "text": [
      "[1, 2, 3, 4, 5, 6, 7, 8, 9, 10, 11, 12, 13, 14, 15, 16, 17, 18, 19, 20, 21, 22, 23, 24, 25, 26, 27, 28, 29, 30, 31, 32, 33, 34, 35, 36, 37, 38, 39, 40, 41, 42, 43, 44, 45, 46, 47, 48, 49, 50, 51, 52, 53, 54, 55, 56, 57, 58, 59, 60, 61, 62, 63, 64, 65, 66, 67, 68, 69, 70, 71, 72, 73, 74, 75, 76, 77, 78, 79, 80, 81, 82, 83, 84, 85, 86, 87, 88, 89, 90, 91, 92, 93, 94, 95, 96, 97, 98, 99, 100]\n"
     ]
    }
   ],
   "source": [
    "print(L)"
   ]
  },
  {
   "cell_type": "code",
   "execution_count": 35,
   "metadata": {},
   "outputs": [],
   "source": [
    "L = list(range(1, 101))"
   ]
  },
  {
   "cell_type": "code",
   "execution_count": 36,
   "metadata": {},
   "outputs": [],
   "source": [
    "for i in range(len(L)) :\n",
    "    L[i] += 1"
   ]
  },
  {
   "cell_type": "code",
   "execution_count": 38,
   "metadata": {},
   "outputs": [
    {
     "name": "stdout",
     "output_type": "stream",
     "text": [
      "[2, 3, 4, 5, 6, 7, 8, 9, 10, 11, 12, 13, 14, 15, 16, 17, 18, 19, 20, 21, 22, 23, 24, 25, 26, 27, 28, 29, 30, 31, 32, 33, 34, 35, 36, 37, 38, 39, 40, 41, 42, 43, 44, 45, 46, 47, 48, 49, 50, 51, 52, 53, 54, 55, 56, 57, 58, 59, 60, 61, 62, 63, 64, 65, 66, 67, 68, 69, 70, 71, 72, 73, 74, 75, 76, 77, 78, 79, 80, 81, 82, 83, 84, 85, 86, 87, 88, 89, 90, 91, 92, 93, 94, 95, 96, 97, 98, 99, 100, 101]\n"
     ]
    }
   ],
   "source": [
    "print(L)"
   ]
  },
  {
   "cell_type": "code",
   "execution_count": 73,
   "metadata": {
    "collapsed": true
   },
   "outputs": [
    {
     "name": "stdout",
     "output_type": "stream",
     "text": [
      "1 <class 'str'>\n",
      "3 <class 'str'>\n",
      "5 <class 'str'>\n",
      "7 <class 'str'>\n",
      "9 <class 'str'>\n",
      "x <class 'str'>\n",
      "y <class 'str'>\n",
      "z <class 'str'>\n",
      "1 <class 'list'>\n",
      "3 <class 'list'>\n",
      "5 <class 'list'>\n",
      "7 <class 'list'>\n",
      "9 <class 'list'>\n",
      "x <class 'list'>\n",
      "y <class 'list'>\n",
      "z <class 'list'>\n"
     ]
    }
   ],
   "source": [
    "T = (1, 3, 5, 7, 9)\n",
    "T2 = list(T)\n",
    "\n",
    "for i in range(len(T2)) :\n",
    "    T2[i] = str(T2[i])\n",
    "else :\n",
    "    T2.extend(['x', 'y', 'z'])\n",
    "    # T2.append('x')\n",
    "    # T2.append('y')\n",
    "    # T2.append('z')\n",
    "    # t += list('xyz') extend와 같다.\n",
    "    \n",
    "for i in range(len(T2)) :\n",
    "    print(T2[i], type(T2[i]))\n",
    "    \n",
    "for i in T2 :\n",
    "    print(i, type(T2))"
   ]
  },
  {
   "cell_type": "code",
   "execution_count": 75,
   "metadata": {},
   "outputs": [
    {
     "name": "stdout",
     "output_type": "stream",
     "text": [
      "1 <class 'list'>\n",
      "3 <class 'list'>\n",
      "5 <class 'list'>\n",
      "7 <class 'list'>\n",
      "9 <class 'list'>\n",
      "x <class 'list'>\n",
      "y <class 'list'>\n",
      "z <class 'list'>\n"
     ]
    }
   ],
   "source": [
    "T = (1, 3, 5, 7, 9)\n",
    "T2 = list(T)\n",
    "\n",
    "for i in T2 :\n",
    "    i = str(i)         # t= [str(e) for e in t] 리스트 축약\n",
    "else :\n",
    "    T2 += list('xyz')\n",
    "    \n",
    "for i in T2 :\n",
    "    print(i, type(T2))"
   ]
  },
  {
   "cell_type": "code",
   "execution_count": 1,
   "metadata": {},
   "outputs": [],
   "source": [
    "def xor(a, b) :\n",
    "    if a == b :\n",
    "        return False\n",
    "    else :\n",
    "        return True"
   ]
  },
  {
   "cell_type": "code",
   "execution_count": null,
   "metadata": {},
   "outputs": [],
   "source": [
    "def bitwise_xor(x, y) :\n",
    "    return x ^ y"
   ]
  },
  {
   "cell_type": "code",
   "execution_count": 3,
   "metadata": {},
   "outputs": [
    {
     "data": {
      "text/plain": [
       "False"
      ]
     },
     "execution_count": 3,
     "metadata": {},
     "output_type": "execute_result"
    }
   ],
   "source": [
    "xor(2, 2)"
   ]
  },
  {
   "cell_type": "code",
   "execution_count": 47,
   "metadata": {},
   "outputs": [],
   "source": [
    "def expand_rectangle(x, y) :\n",
    "    print('Width = {}'.format(x + 5))\n",
    "    print('Length = {}'.format(y * 2))\n",
    "    return print('Area Ratio = {}'.format(round((x * y) / ((x + 5) * y * 2), 2)))\n",
    "#   return print('Area Ratio = {:2f}'.format((x * y) / ((x + 5) * y * 2), 2))"
   ]
  },
  {
   "cell_type": "code",
   "execution_count": 43,
   "metadata": {},
   "outputs": [],
   "source": [
    "def expand_rectangle(x, y) :\n",
    "    return print(\"width = {}\\nlength = {}\\narea ratio = {}\".format(x + 5,\n",
    "                                     y * 2,\n",
    "                                     round((x * y) / ((x + 5) * y * 2), 2)))"
   ]
  },
  {
   "cell_type": "code",
   "execution_count": 46,
   "metadata": {},
   "outputs": [
    {
     "name": "stdout",
     "output_type": "stream",
     "text": [
      "Width = 12\n",
      "Length = 20\n",
      "Area Ratio = 0.29\n"
     ]
    }
   ],
   "source": [
    "expand_rectangle(7, 10)"
   ]
  },
  {
   "cell_type": "code",
   "execution_count": 104,
   "metadata": {},
   "outputs": [],
   "source": [
    "def calculator(o, i, j) :\n",
    "    if o == 'add' :\n",
    "        print(i + j)\n",
    "    elif o == 'sub' :\n",
    "        print(i - j)\n",
    "    elif o == 'mul' :\n",
    "        print(i * j)\n",
    "    elif o == 'div' :\n",
    "        print(i / j)\n",
    "    else :\n",
    "        print(o + 'is not supported')"
   ]
  },
  {
   "cell_type": "code",
   "execution_count": 105,
   "metadata": {},
   "outputs": [
    {
     "name": "stdout",
     "output_type": "stream",
     "text": [
      "addtiionis not supported\n",
      "8\n",
      "-1\n",
      "2.3333333333333335\n",
      "35\n",
      "[1, 2, 3, 4]\n"
     ]
    }
   ],
   "source": [
    "calculator('addtiion', 3, 5)\n",
    "calculator('add', 3, 5)\n",
    "calculator('sub', 7, 8)\n",
    "calculator('div', 7, 3)\n",
    "calculator('add', '3', '5') # 문자열이 '35'로 나오게 하려면 위의 사용자 정의 함수를 print를 빼라.\n",
    "calculator('add', [1, 2], [3, 4])"
   ]
  },
  {
   "cell_type": "code",
   "execution_count": 95,
   "metadata": {},
   "outputs": [],
   "source": [
    "def vowel(x) :\n",
    "    count = 0\n",
    "    for i in x :\n",
    "        if i.lower() in ['a', 'e', 'i', 'o', 'u'] :\n",
    "            count += 1\n",
    "    else :\n",
    "        return print(count)"
   ]
  },
  {
   "cell_type": "code",
   "execution_count": 98,
   "metadata": {},
   "outputs": [
    {
     "name": "stdout",
     "output_type": "stream",
     "text": [
      "2\n",
      "4\n"
     ]
    }
   ],
   "source": [
    "vowel('Apples')\n",
    "vowel('I love Python')"
   ]
  },
  {
   "cell_type": "code",
   "execution_count": 169,
   "metadata": {},
   "outputs": [],
   "source": [
    "def calculator_int(*args) :\n",
    "    sum = 0\n",
    "    for i in args :\n",
    "        sum += i\n",
    "    else :\n",
    "        return sum, int(round(sum/len(args), 0))"
   ]
  },
  {
   "cell_type": "code",
   "execution_count": 170,
   "metadata": {},
   "outputs": [
    {
     "data": {
      "text/plain": [
       "(15, 3)"
      ]
     },
     "execution_count": 170,
     "metadata": {},
     "output_type": "execute_result"
    }
   ],
   "source": [
    "calculator_int(1, 2, 3, 4, 5)"
   ]
  },
  {
   "cell_type": "code",
   "execution_count": 171,
   "metadata": {},
   "outputs": [
    {
     "data": {
      "text/plain": [
       "(35, 6)"
      ]
     },
     "execution_count": 171,
     "metadata": {},
     "output_type": "execute_result"
    }
   ],
   "source": [
    "calculator_int(1, 3, 5, 7, 9, 10)"
   ]
  },
  {
   "cell_type": "code",
   "execution_count": 192,
   "metadata": {},
   "outputs": [],
   "source": [
    "def search(x, y) :\n",
    "    for i in x :\n",
    "        if i == y :\n",
    "            return x.index(i)\n",
    "    else :\n",
    "        return False      \n",
    "    #if e in seq :\n",
    "    #    return seq.index(e)\n",
    "    #return False"
   ]
  },
  {
   "cell_type": "code",
   "execution_count": 193,
   "metadata": {},
   "outputs": [
    {
     "name": "stdout",
     "output_type": "stream",
     "text": [
      "1\n",
      "False\n"
     ]
    }
   ],
   "source": [
    "print(search([1, 2, 3], 2))\n",
    "print(search([1, 2, 3], 10))"
   ]
  },
  {
   "cell_type": "code",
   "execution_count": 194,
   "metadata": {},
   "outputs": [
    {
     "name": "stdout",
     "output_type": "stream",
     "text": [
      "2\n",
      "False\n"
     ]
    }
   ],
   "source": [
    "print(search(('a', 'b', 'c'), 'c'))\n",
    "print(search(('a', 'b', 'c'), '1'))"
   ]
  },
  {
   "cell_type": "code",
   "execution_count": 206,
   "metadata": {},
   "outputs": [],
   "source": [
    "def search_char(x, y) :\n",
    "    if y in x :\n",
    "        return x.index(y)\n",
    "    return -1"
   ]
  },
  {
   "cell_type": "code",
   "execution_count": 207,
   "metadata": {},
   "outputs": [
    {
     "data": {
      "text/plain": [
       "4"
      ]
     },
     "execution_count": 207,
     "metadata": {},
     "output_type": "execute_result"
    }
   ],
   "source": [
    "search_char('python', 'o')"
   ]
  },
  {
   "cell_type": "code",
   "execution_count": 208,
   "metadata": {},
   "outputs": [
    {
     "data": {
      "text/plain": [
       "-1"
      ]
     },
     "execution_count": 208,
     "metadata": {},
     "output_type": "execute_result"
    }
   ],
   "source": [
    "search_char('안녕 파이썬', 'p')"
   ]
  },
  {
   "cell_type": "code",
   "execution_count": 255,
   "metadata": {},
   "outputs": [],
   "source": [
    "def reverse_odd_text(*args) :\n",
    "    count = 0\n",
    "    for i in args :\n",
    "        if len(i) % 2 == 1 :\n",
    "            print(i[::-1])\n",
    "            count += 1\n",
    "        else :\n",
    "            print(i)\n",
    "    return count"
   ]
  },
  {
   "cell_type": "code",
   "execution_count": 256,
   "metadata": {},
   "outputs": [
    {
     "name": "stdout",
     "output_type": "stream",
     "text": [
      "der\n",
      "blue\n",
      "neerg\n",
      "yellow\n",
      "purple\n",
      "kcalb\n",
      "etihw\n"
     ]
    }
   ],
   "source": [
    "odd_count = reverse_odd_text('red', 'blue', 'green', 'yellow', 'purple', 'black', 'white')"
   ]
  },
  {
   "cell_type": "code",
   "execution_count": 257,
   "metadata": {},
   "outputs": [
    {
     "name": "stdout",
     "output_type": "stream",
     "text": [
      "4\n"
     ]
    }
   ],
   "source": [
    "print(odd_count)"
   ]
  },
  {
   "cell_type": "code",
   "execution_count": 289,
   "metadata": {},
   "outputs": [
    {
     "ename": "SyntaxError",
     "evalue": "invalid syntax (<ipython-input-289-3aa6b404cb0f>, line 4)",
     "output_type": "error",
     "traceback": [
      "\u001b[1;36m  File \u001b[1;32m\"<ipython-input-289-3aa6b404cb0f>\"\u001b[1;36m, line \u001b[1;32m4\u001b[0m\n\u001b[1;33m    def :\u001b[0m\n\u001b[1;37m        ^\u001b[0m\n\u001b[1;31mSyntaxError\u001b[0m\u001b[1;31m:\u001b[0m invalid syntax\n"
     ]
    }
   ],
   "source": [
    "def sort_scores(*args) :\n",
    "    return print(sorted(args, reverse = True), end = '\\n')\n",
    "\n",
    "#def :\n",
    "#    score_list = list(scores)\n",
    "#    score_list.sort(reverse=True)\n",
    "#    for s in score()\n",
    "#        return"
   ]
  },
  {
   "cell_type": "code",
   "execution_count": 288,
   "metadata": {},
   "outputs": [
    {
     "name": "stdout",
     "output_type": "stream",
     "text": [
      "[100, 97, 88, 65, 53, 46, 27]\n"
     ]
    }
   ],
   "source": [
    "sort_scores(100, 27, 65, 88, 46, 97, 53)"
   ]
  },
  {
   "cell_type": "code",
   "execution_count": 368,
   "metadata": {},
   "outputs": [],
   "source": [
    "def sort_by_word_length(*args) :\n",
    "    L = list()\n",
    "    L2 = list()\n",
    "    args = list(args)\n",
    "    for i in args :\n",
    "        L.append([len(i), i])\n",
    "        L.sort(reverse=True)\n",
    "    for length, w in L :\n",
    "        L2.append(w)\n",
    "    return L2"
   ]
  },
  {
   "cell_type": "code",
   "execution_count": 369,
   "metadata": {},
   "outputs": [
    {
     "data": {
      "text/plain": [
       "['바이올린', '피아노', '첼로', '드럼', '기타']"
      ]
     },
     "execution_count": 369,
     "metadata": {},
     "output_type": "execute_result"
    }
   ],
   "source": [
    "sort_by_word_length('피아노', '바이올린', '첼로', '기타', '드럼')"
   ]
  },
  {
   "cell_type": "code",
   "execution_count": null,
   "metadata": {},
   "outputs": [],
   "source": []
  },
  {
   "cell_type": "code",
   "execution_count": null,
   "metadata": {},
   "outputs": [],
   "source": []
  }
 ],
 "metadata": {
  "kernelspec": {
   "display_name": "Python 3",
   "language": "python",
   "name": "python3"
  },
  "language_info": {
   "codemirror_mode": {
    "name": "ipython",
    "version": 3
   },
   "file_extension": ".py",
   "mimetype": "text/x-python",
   "name": "python",
   "nbconvert_exporter": "python",
   "pygments_lexer": "ipython3",
   "version": "3.6.5"
  }
 },
 "nbformat": 4,
 "nbformat_minor": 2
}
