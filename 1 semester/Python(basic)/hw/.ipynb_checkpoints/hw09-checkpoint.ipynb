{
 "cells": [
  {
   "cell_type": "code",
   "execution_count": 71,
   "metadata": {},
   "outputs": [],
   "source": [
    "file = open('C:/tools/Scripts/hw/hw9_dataset/cars.csv', mode = 'r', encoding = 'utf-8')"
   ]
  },
  {
   "cell_type": "code",
   "execution_count": 72,
   "metadata": {},
   "outputs": [
    {
     "name": "stdout",
     "output_type": "stream",
     "text": [
      "company,model,color\n",
      "\n",
      "hyundai,genesis,black\n",
      "\n",
      "kia,k5,white\n",
      "\n",
      "audi,R8,silver\n",
      "\n"
     ]
    }
   ],
   "source": [
    "for line in file:\n",
    "    print(line)"
   ]
  },
  {
   "cell_type": "code",
   "execution_count": 16,
   "metadata": {},
   "outputs": [],
   "source": [
    "file = open('C:/tools/Scripts/hw/hw9_dataset/cars.csv', mode = 'r', encoding = 'utf-8')"
   ]
  },
  {
   "cell_type": "code",
   "execution_count": 17,
   "metadata": {},
   "outputs": [
    {
     "name": "stdout",
     "output_type": "stream",
     "text": [
      "[('company', 'model', 'color\\n'), ('hyundai', 'genesis', 'black\\n'), ('kia', 'k5', 'white\\n'), ('audi', 'R8', 'silver\\n')]\n"
     ]
    }
   ],
   "source": [
    "L = list()\n",
    "for line in file.readlines():\n",
    "    line = tuple(line.split(','))\n",
    "    L.append(line)\n",
    "print(L)"
   ]
  },
  {
   "cell_type": "code",
   "execution_count": 5,
   "metadata": {},
   "outputs": [],
   "source": [
    "file2 = open('C:/tools/Scripts/hw/hw9_dataset/My way.txt', mode = 'r', encoding = 'utf-8')"
   ]
  },
  {
   "cell_type": "code",
   "execution_count": 74,
   "metadata": {},
   "outputs": [
    {
     "name": "stdout",
     "output_type": "stream",
     "text": [
      "And now, the end is near\n",
      "\n",
      "And so I face the final curtain\n",
      "\n",
      "My friend, I'll say it clear\n"
     ]
    }
   ],
   "source": [
    "for line in file2:\n",
    "    print(line)"
   ]
  },
  {
   "cell_type": "code",
   "execution_count": 75,
   "metadata": {},
   "outputs": [],
   "source": [
    "file2 = open('C:/tools/Scripts/hw/hw9_dataset/My way.txt', mode = 'r', encoding = 'utf-8')"
   ]
  },
  {
   "cell_type": "code",
   "execution_count": 76,
   "metadata": {},
   "outputs": [
    {
     "name": "stdout",
     "output_type": "stream",
     "text": [
      "My friend, I'll say it clear\n"
     ]
    }
   ],
   "source": [
    "L = list()\n",
    "for line in file2.readlines():\n",
    "    L.append(line)\n",
    "print(L[2])"
   ]
  },
  {
   "cell_type": "code",
   "execution_count": 97,
   "metadata": {},
   "outputs": [],
   "source": [
    "file2 = open('C:/tools/Scripts/hw/hw9_dataset/My way.txt', mode = 'a', encoding = 'utf-8')"
   ]
  },
  {
   "cell_type": "code",
   "execution_count": 98,
   "metadata": {},
   "outputs": [
    {
     "data": {
      "text/plain": [
       "43"
      ]
     },
     "execution_count": 98,
     "metadata": {},
     "output_type": "execute_result"
    }
   ],
   "source": [
    "file2.write(\"\"\"\\n'I'll state my case, of which i'm certain'\"\"\")"
   ]
  },
  {
   "cell_type": "code",
   "execution_count": 99,
   "metadata": {},
   "outputs": [],
   "source": [
    "file2.close()"
   ]
  },
  {
   "cell_type": "code",
   "execution_count": 103,
   "metadata": {},
   "outputs": [],
   "source": [
    "file2 = open('C:/tools/Scripts/hw/hw9_dataset/My way.txt', mode = 'r', encoding = 'utf-8')"
   ]
  },
  {
   "cell_type": "code",
   "execution_count": 104,
   "metadata": {},
   "outputs": [
    {
     "name": "stdout",
     "output_type": "stream",
     "text": [
      "And now, the end is near\n",
      "And so I face the final curtain\n",
      "My friend, I'll say it clear\n",
      "'I'll state my case, of which i'm certain'\n"
     ]
    }
   ],
   "source": [
    "print(file2.read())"
   ]
  },
  {
   "cell_type": "code",
   "execution_count": null,
   "metadata": {},
   "outputs": [],
   "source": []
  },
  {
   "cell_type": "code",
   "execution_count": null,
   "metadata": {},
   "outputs": [],
   "source": []
  }
 ],
 "metadata": {
  "kernelspec": {
   "display_name": "Python 3",
   "language": "python",
   "name": "python3"
  },
  "language_info": {
   "codemirror_mode": {
    "name": "ipython",
    "version": 3
   },
   "file_extension": ".py",
   "mimetype": "text/x-python",
   "name": "python",
   "nbconvert_exporter": "python",
   "pygments_lexer": "ipython3",
   "version": "3.6.5"
  }
 },
 "nbformat": 4,
 "nbformat_minor": 2
}
