{
 "cells": [
  {
   "cell_type": "code",
   "execution_count": 11,
   "metadata": {},
   "outputs": [],
   "source": [
    "import os"
   ]
  },
  {
   "cell_type": "code",
   "execution_count": 12,
   "metadata": {},
   "outputs": [
    {
     "data": {
      "text/plain": [
       "'C:\\\\tools\\\\Scripts\\\\7.13'"
      ]
     },
     "execution_count": 12,
     "metadata": {},
     "output_type": "execute_result"
    }
   ],
   "source": [
    "os.getcwd() # current working directory"
   ]
  },
  {
   "cell_type": "code",
   "execution_count": 13,
   "metadata": {},
   "outputs": [],
   "source": [
    "os.chdir('..')"
   ]
  },
  {
   "cell_type": "code",
   "execution_count": 14,
   "metadata": {},
   "outputs": [
    {
     "data": {
      "text/plain": [
       "'C:\\\\tools\\\\Scripts'"
      ]
     },
     "execution_count": 14,
     "metadata": {},
     "output_type": "execute_result"
    }
   ],
   "source": [
    "os.getcwd() # current working directory"
   ]
  },
  {
   "cell_type": "code",
   "execution_count": 16,
   "metadata": {},
   "outputs": [],
   "source": [
    "os.chdir('7.13')"
   ]
  },
  {
   "cell_type": "code",
   "execution_count": 17,
   "metadata": {},
   "outputs": [
    {
     "data": {
      "text/plain": [
       "'C:\\\\tools\\\\Scripts\\\\7.13'"
      ]
     },
     "execution_count": 17,
     "metadata": {},
     "output_type": "execute_result"
    }
   ],
   "source": [
    "os.getcwd() # current working directory"
   ]
  },
  {
   "cell_type": "code",
   "execution_count": 18,
   "metadata": {},
   "outputs": [
    {
     "data": {
      "text/plain": [
       "False"
      ]
     },
     "execution_count": 18,
     "metadata": {},
     "output_type": "execute_result"
    }
   ],
   "source": [
    "os.path.isdir('mypythonlib/gui')"
   ]
  },
  {
   "cell_type": "code",
   "execution_count": 19,
   "metadata": {},
   "outputs": [
    {
     "data": {
      "text/plain": [
       "['.ipynb_checkpoints', 'Untitled.ipynb']"
      ]
     },
     "execution_count": 19,
     "metadata": {},
     "output_type": "execute_result"
    }
   ],
   "source": [
    "os.listdir()"
   ]
  },
  {
   "cell_type": "code",
   "execution_count": 20,
   "metadata": {},
   "outputs": [
    {
     "data": {
      "text/plain": [
       "'C:\\\\tools\\\\Scripts\\\\7.13'"
      ]
     },
     "execution_count": 20,
     "metadata": {},
     "output_type": "execute_result"
    }
   ],
   "source": [
    "os.getcwd() # current working directory"
   ]
  },
  {
   "cell_type": "code",
   "execution_count": 25,
   "metadata": {},
   "outputs": [
    {
     "name": "stdout",
     "output_type": "stream",
     "text": [
      "'Let It Be' by Beatles\n",
      "Let it be -- -\n",
      "Let it be -- -\n",
      "let it be - Let it be Let it be - Let it be -\n"
     ]
    }
   ],
   "source": [
    "import re\n",
    "lines = open('beatles.txt', mode = 'r', encoding = 'utf-8').readlines()\n",
    "for line in lines:\n",
    "    if re.search(r'let', line, re.IGNORECASE):\n",
    "        print(line.rstrip())\n"
   ]
  },
  {
   "cell_type": "code",
   "execution_count": 28,
   "metadata": {},
   "outputs": [
    {
     "name": "stdout",
     "output_type": "stream",
     "text": [
      "'LET It Be' by Beatles\n",
      "\n",
      "When I find myself in times of trouble\n",
      "Mother Mary comes to me\n",
      "Speaking words of wisdom\n",
      "LET it be -- -\n",
      "And in my hours darkness She is standing bright in front of me Speaking words of wisdom\n",
      "LET it be -- -\n",
      "let it be - LET it be LET it be - LET it be -\n"
     ]
    }
   ],
   "source": [
    "import re\n",
    "lines = open('beatles.txt', mode = 'r', encoding = 'utf-8').readlines()\n",
    "for line in lines:\n",
    "    line = re.sub(r'Let', 'LET', line)\n",
    "    print(line.rstrip())"
   ]
  },
  {
   "cell_type": "code",
   "execution_count": 29,
   "metadata": {},
   "outputs": [
    {
     "name": "stdout",
     "output_type": "stream",
     "text": [
      "'LET It Be' by Beatles\n",
      "\n",
      "When I find myself in times of trouble\n",
      "Mother Mary comes to me\n",
      "Speaking words of wisdom\n",
      "LET it be -- -\n",
      "And in my hours darkness She is standing bright in front of me Speaking words of wisdom\n",
      "LET it be -- -\n",
      "LET it be - LET it be Let it be - Let it be -\n"
     ]
    }
   ],
   "source": [
    "import re\n",
    "lines = open('beatles.txt', mode = 'r', encoding = 'utf-8').readlines()\n",
    "for line in lines:\n",
    "    # 대소문자 구분없이 최대 2개까지만 대체함\n",
    "    line = re.sub(re.compile(r'let', re.IGNORECASE), 'LET', line, 2)\n",
    "    print(line.rstrip())"
   ]
  },
  {
   "cell_type": "code",
   "execution_count": null,
   "metadata": {},
   "outputs": [],
   "source": []
  },
  {
   "cell_type": "markdown",
   "metadata": {},
   "source": [
    "# 파일 읽기 쓰기\n",
    "read와 readline과 readlines는 시험에 안나옴"
   ]
  },
  {
   "cell_type": "code",
   "execution_count": 63,
   "metadata": {},
   "outputs": [
    {
     "name": "stdout",
     "output_type": "stream",
     "text": [
      "파일 이름을 입력하세요...: 고향의 봄.txt\n",
      "1: ============ 고향의 봄 ===============\n",
      "2: \n",
      "3: 나의 살-던 고향은 꽃피는 산골\n",
      "4: 복숭아 꽃 살구꽃 아기 진달래\n",
      "5: 울긋불긋꽃대궐 차리인 동네\n",
      "6: 그 속에서 놀던 때가 그리습니다.나의 살-던 고향은 꽃피는 산골\n",
      "7: 복숭아 꽃 살구꽃 아기 진달래\n",
      "8: 울긋불긋꽃대궐 차리인 동네\n",
      "9: 그 속에서 놀던 때가 그리습니다."
     ]
    }
   ],
   "source": [
    "lines = open(input('파일 이름을 입력하세요...: '), mode = 'r', encoding = 'utf-8').readlines()\n",
    "for number, line in enumerate(lines, start = 1):\n",
    "    print('{}: {}'.format(number, line), end = '')\n",
    "    #print('{:4}: {}'.format(number, line.rstrip()))"
   ]
  },
  {
   "cell_type": "code",
   "execution_count": 73,
   "metadata": {},
   "outputs": [],
   "source": [
    "def head(n, file):\n",
    "    lines = open(file, mode = 'r', encoding = 'utf-8').readlines()\n",
    "    for i in range(len(lines)):\n",
    "        if i < n :\n",
    "            print(lines[i].rstrip())"
   ]
  },
  {
   "cell_type": "code",
   "execution_count": 74,
   "metadata": {},
   "outputs": [
    {
     "name": "stdout",
     "output_type": "stream",
     "text": [
      "============ 고향의 봄 ===============\n",
      "\n",
      "나의 살-던 고향은 꽃피는 산골\n",
      "복숭아 꽃 살구꽃 아기 진달래\n",
      "울긋불긋꽃대궐 차리인 동네\n"
     ]
    }
   ],
   "source": [
    "head(5, '고향의 봄.txt')"
   ]
  },
  {
   "cell_type": "code",
   "execution_count": null,
   "metadata": {},
   "outputs": [],
   "source": [
    "import sys\n",
    "\n",
    "if len(sys.argv) != 3 or sys.argv[1] == '-help':\n",
    "    print('usageL python head.py number filename')\n",
    "    sys.exit()\n",
    "\n",
    "\n",
    "count = int(sys.argv[1])\n",
    "file = sys.argv[2]\n",
    "\n",
    "with open(file, encoding = 'utf-8') as f:\n",
    "    lines = f.readlines()\n",
    "# lines = open(file).readlines()    \n",
    "    if count > len(lines):\n",
    "        count = len(lines)\n",
    "        \n",
    "    for i in range(count):\n",
    "        print(lines[i].rstrip())"
   ]
  },
  {
   "cell_type": "code",
   "execution_count": null,
   "metadata": {},
   "outputs": [],
   "source": []
  },
  {
   "cell_type": "code",
   "execution_count": 119,
   "metadata": {},
   "outputs": [
    {
     "name": "stdout",
     "output_type": "stream",
     "text": [
      "<> : 14번 출현\n",
      "<가에> : 1번 출현\n",
      "<고향> : 1번 출현\n",
      "<고향은> : 1번 출현\n",
      "<고향의> : 1번 출현\n",
      "<구꽃> : 1번 출현\n",
      "<그> : 2번 출현\n",
      "<그립습니다> : 2번 출현\n",
      "<긋> : 1번 출현\n",
      "<기> : 1번 출현\n",
      "<꽃> : 3번 출현\n",
      "<꽃피는> : 1번 출현\n",
      "<나의> : 2번 출현\n",
      "<남쪽에서> : 1번 출현\n",
      "<냇> : 1번 출현\n",
      "<네> : 1번 출현\n",
      "<놀던> : 2번 출현\n",
      "<달래> : 1번 출현\n",
      "<대궐> : 1번 출현\n",
      "<던> : 1번 출현\n",
      "<동> : 1번 출현\n",
      "<동네> : 3번 출현\n",
      "<들> : 1번 출현\n",
      "<때가> : 2번 출현\n",
      "<란> : 1번 출현\n",
      "<람이> : 1번 출현\n",
      "<바> : 1번 출현\n",
      "<복숭아> : 1번 출현\n",
      "<봄> : 1번 출현\n",
      "<불면> : 1번 출현\n",
      "<산골> : 1번 출현\n",
      "<살> : 2번 출현\n",
      "<새> : 1번 출현\n",
      "<속에서> : 2번 출현\n",
      "<수양버들> : 1번 출현\n",
      "<아> : 1번 출현\n",
      "<옛> : 1번 출현\n",
      "<울긋물> : 1번 출현\n",
      "<진> : 1번 출현\n",
      "<차리인> : 1번 출현\n",
      "<춤추는> : 1번 출현\n",
      "<파> : 1번 출현\n"
     ]
    }
   ],
   "source": [
    "import re\n",
    "lines = open('고향의 봄.txt', mode = 'r', encoding = 'utf-8').readlines()\n",
    "\n",
    "dic = {}\n",
    "\n",
    "for line in lines:\n",
    "    L = re.split('\\W+', line)\n",
    "    for index in L:\n",
    "        if index in dic:\n",
    "            dic[index] += 1\n",
    "        else:\n",
    "            dic[index] = 1\n",
    "            # words[word] = words.get(word, 0) + 1\n",
    "\n",
    "            \n",
    "for index in sorted(dic):\n",
    "    print('<{}> : {}번 출현'.format(index, dic[index]))"
   ]
  },
  {
   "cell_type": "code",
   "execution_count": 2,
   "metadata": {},
   "outputs": [
    {
     "name": "stdout",
     "output_type": "stream",
     "text": [
      "<_io.TextIOWrapper name='고향의 봄.txt' mode='r' encoding='utf-8'>\n",
      "<고향은> : 1번 출현\n",
      "<고향의> : 1번 출현\n",
      "<그> : 2번 출현\n",
      "<그립습니다> : 2번 출현\n",
      "<꽃> : 1번 출현\n",
      "<꽃-동-네> : 1번 출현\n",
      "<꽃피는-산골> : 1번 출현\n",
      "<나의> : 2번 출현\n",
      "<남쪽에서> : 1번 출현\n",
      "<냇-가에> : 1번 출현\n",
      "<놀던> : 2번 출현\n",
      "<대궐> : 1번 출현\n",
      "<동네> : 1번 출현\n",
      "<때가> : 2번 출현\n",
      "<바-람이-불면> : 1번 출현\n",
      "<복숭아-꽃> : 1번 출현\n",
      "<봄> : 1번 출현\n",
      "<살-구꽃> : 1번 출현\n",
      "<살-던> : 1번 출현\n",
      "<새> : 1번 출현\n",
      "<속에서> : 2번 출현\n",
      "<수양버들> : 1번 출현\n",
      "<아-기> : 1번 출현\n",
      "<옛-고향> : 1번 출현\n",
      "<울긋물-긋> : 1번 출현\n",
      "<진-달래> : 1번 출현\n",
      "<차리인-동네> : 1번 출현\n",
      "<춤추는-동네> : 1번 출현\n",
      "<파-란-들> : 1번 출현\n",
      "<﻿> : 1번 출현\n"
     ]
    }
   ],
   "source": [
    "import string\n",
    "words = {}\n",
    "strip = string.whitespace + string.punctuation + string.digits\n",
    "# 문서에 나타난 문자 중 불 필요한 문자들을 참조하는 문자열 변수 생성\n",
    "\n",
    "with open('고향의 봄.txt', mode= 'r', encoding= 'utf-8') as f:\n",
    "    # 문서를 줄 단위로 처리\n",
    "    for line in f:\n",
    "        for word in line.lower().split():\n",
    "            word = word.strip(strip)\n",
    "            \n",
    "            if len(word) == 0: continue\n",
    "            # 각 단어의 앞뒤에 있는 불필요한 문자들을 제거한 단어의 크기가 0이면 처리하지 ㅇ낳음\n",
    "            if word not in words:\n",
    "                words[word] = 1\n",
    "            else:\n",
    "                words[word] += 1\n",
    "\n",
    "for word in sorted(words):\n",
    "    print('<{}> : {}번 출현'.format(word, words[word]))"
   ]
  },
  {
   "cell_type": "code",
   "execution_count": 122,
   "metadata": {},
   "outputs": [
    {
     "name": "stdout",
     "output_type": "stream",
     "text": [
      "<고향은> : 1번 출현\n",
      "<고향의> : 1번 출현\n",
      "<그> : 2번 출현\n",
      "<그립습니다> : 2번 출현\n",
      "<꽃> : 1번 출현\n",
      "<꽃-동-네> : 1번 출현\n",
      "<꽃피는-산골> : 1번 출현\n",
      "<나의> : 2번 출현\n",
      "<남쪽에서> : 1번 출현\n",
      "<냇-가에> : 1번 출현\n",
      "<놀던> : 2번 출현\n",
      "<대궐> : 1번 출현\n",
      "<동네> : 1번 출현\n",
      "<때가> : 2번 출현\n",
      "<바-람이-불면> : 1번 출현\n",
      "<복숭아-꽃> : 1번 출현\n",
      "<봄> : 1번 출현\n",
      "<살-구꽃> : 1번 출현\n",
      "<살-던> : 1번 출현\n",
      "<새> : 1번 출현\n",
      "<속에서> : 2번 출현\n",
      "<수양버들> : 1번 출현\n",
      "<아-기> : 1번 출현\n",
      "<옛-고향> : 1번 출현\n",
      "<울긋물-긋> : 1번 출현\n",
      "<진-달래> : 1번 출현\n",
      "<차리인-동네> : 1번 출현\n",
      "<춤추는-동네> : 1번 출현\n",
      "<파-란-들> : 1번 출현\n",
      "<﻿> : 1번 출현\n"
     ]
    }
   ],
   "source": [
    "import string\n",
    "from collections import defaultdict\n",
    "\n",
    "words = defaultdict(int)\n",
    "\n",
    "strip = string.whitespace + string.punctuation + string.digits\n",
    "\n",
    "with open('고향의 봄.txt', mode= 'r', encoding= 'utf-8') as f:\n",
    "    # 문서를 줄 단위로 처리\n",
    "    for line in f:\n",
    "        for word in line.lower().split():\n",
    "            word = word.strip(strip)\n",
    "            \n",
    "            if len(word) == 0: continue\n",
    "            # 각 단어의 앞뒤에 있는 불필요한 문자들을 제거한 단어의 크기가 0이면 처리하지 ㅇ낳음\n",
    "            words[word] += 1\n",
    "                \n",
    "for word in sorted(words):\n",
    "    print('<{}> : {}번 출현'.format(word, words[word]))"
   ]
  },
  {
   "cell_type": "code",
   "execution_count": null,
   "metadata": {},
   "outputs": [],
   "source": []
  },
  {
   "cell_type": "code",
   "execution_count": null,
   "metadata": {},
   "outputs": [],
   "source": []
  },
  {
   "cell_type": "code",
   "execution_count": null,
   "metadata": {},
   "outputs": [],
   "source": []
  },
  {
   "cell_type": "code",
   "execution_count": null,
   "metadata": {},
   "outputs": [],
   "source": []
  }
 ],
 "metadata": {
  "kernelspec": {
   "display_name": "Python 3",
   "language": "python",
   "name": "python3"
  },
  "language_info": {
   "codemirror_mode": {
    "name": "ipython",
    "version": 3
   },
   "file_extension": ".py",
   "mimetype": "text/x-python",
   "name": "python",
   "nbconvert_exporter": "python",
   "pygments_lexer": "ipython3",
   "version": "3.6.5"
  }
 },
 "nbformat": 4,
 "nbformat_minor": 2
}
