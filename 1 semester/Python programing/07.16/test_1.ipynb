{
 "cells": [
  {
   "cell_type": "markdown",
   "metadata": {},
   "source": [
    "# 7월 16일 월요일"
   ]
  },
  {
   "cell_type": "markdown",
   "metadata": {},
   "source": [
    "### Lab 7-4"
   ]
  },
  {
   "cell_type": "code",
   "execution_count": 2,
   "metadata": {},
   "outputs": [],
   "source": [
    "import sys\n",
    "if len(sys.argv) != 3 or sys.argv[1] == '-help':\n",
    "    print('usage: python head.py number filename')\n",
    "    sys.exit()\n",
    "    \n",
    "word = sys.argv[1]\n",
    "file = sys.argv[2]\n",
    "\n",
    "lines = open(file, mode = 'r', encoding = 'utf-8').readlines()\n",
    "\n",
    "for index, line in enumerate(lines):\n",
    "    if word in line:\n",
    "        print('{}: {}'.format(index, line))"
   ]
  },
  {
   "cell_type": "markdown",
   "metadata": {},
   "source": [
    "### 해답"
   ]
  },
  {
   "cell_type": "code",
   "execution_count": null,
   "metadata": {},
   "outputs": [],
   "source": [
    "import sys\n",
    "if len(sys.argv) != 3 or sys.argv[1] == '-help':\n",
    "    print('usage: python head.py number filename')\n",
    "    sys.exit()\n",
    "    \n",
    "word = sys.argv[1]\n",
    "file = sys.argv[2]\n",
    "\n",
    "with open(file, encoding = 'utf-8') as f:\n",
    "    for lino, line in enumerate(f, start = 1):\n",
    "        if word in line:\n",
    "            print('{:4}: {}'.format(lino, line.rstrip()))"
   ]
  },
  {
   "cell_type": "markdown",
   "metadata": {},
   "source": [
    "### Lab 7-5"
   ]
  },
  {
   "cell_type": "code",
   "execution_count": 82,
   "metadata": {},
   "outputs": [
    {
     "name": "stdout",
     "output_type": "stream",
     "text": [
      "11\n",
      "48\n",
      "101\n"
     ]
    }
   ],
   "source": [
    "import string\n",
    "import re\n",
    "\n",
    "strip = string.whitespace + string.punctuation + string.digits\n",
    "#file = open(input('파일 이름을 입력하세요...: '), mode = 'r', encoding = 'utf-8').readlines()\n",
    "file = open('고향의 봄.txt', mode = 'r', encoding = 'utf-8').readlines()\n",
    "\n",
    "print(len(file))\n",
    "\n",
    "count = 0\n",
    "count2 = 0\n",
    "\n",
    "for line in file:\n",
    "    for word in re.split('[\\s=]+', line):\n",
    "        count2 += 1\n",
    "\n",
    "for line in file:\n",
    "    for word in re.split('\\W+', line):\n",
    "        for w in word.strip(strip):\n",
    "            count += 1\n",
    "\n",
    "print(count2)\n",
    "print(count)"
   ]
  },
  {
   "cell_type": "markdown",
   "metadata": {},
   "source": [
    "### 해답"
   ]
  },
  {
   "cell_type": "code",
   "execution_count": 14,
   "metadata": {},
   "outputs": [
    {
     "name": "stdout",
     "output_type": "stream",
     "text": [
      "11\n",
      "35\n",
      "101\n"
     ]
    }
   ],
   "source": [
    "import string\n",
    "#file = input('파일이름은?')\n",
    "\n",
    "lines = open('고향의 봄.txt', mode='r', encoding='utf-8-sig').readlines()\n",
    "\n",
    "total_lines = len(lines)\n",
    "total_words = 0\n",
    "total_letters = 0\n",
    "\n",
    "for line in lines:\n",
    "    line = line.split()\n",
    "    for word in line:\n",
    "        for t in string.punctuation:\n",
    "            word = word.replace(t, '')\n",
    "        if word:\n",
    "            total_words += 1\n",
    "            total_letters += len(word)\n",
    "\n",
    "print(total_lines)\n",
    "print(total_words)\n",
    "print(total_letters)"
   ]
  },
  {
   "cell_type": "code",
   "execution_count": 7,
   "metadata": {},
   "outputs": [
    {
     "name": "stdout",
     "output_type": "stream",
     "text": [
      "['어피치,97,A+']\n"
     ]
    }
   ],
   "source": [
    "file = open('data/grades.txt', mode = 'r', encoding = 'utf-8-sig')\n",
    "data = file.read().splitlines()\n",
    "file.close()\n",
    "\n",
    "print(data)"
   ]
  },
  {
   "cell_type": "markdown",
   "metadata": {},
   "source": [
    "### Lab 7-6"
   ]
  },
  {
   "cell_type": "code",
   "execution_count": 17,
   "metadata": {},
   "outputs": [
    {
     "name": "stdout",
     "output_type": "stream",
     "text": [
      "[['Kershaw', 18, 4, 2.31], ['Jansen', 5, 0, 1.32], ['Wood', 16, 3, 2.72], ['Hill', 12, 8, 3.32]]\n"
     ]
    }
   ],
   "source": [
    "file = open('data/pitcher_stats.txt', mode = 'r', encoding = 'utf-8')\n",
    "data = file.read().splitlines()\n",
    "file.close()\n",
    "\n",
    "data_parsed = data\n",
    "for i in range(len(data_parsed)):\n",
    "    data_parsed[i] = data_parsed[i].split('/')\n",
    "    \n",
    "data_converted = data_parsed\n",
    "for i in range(len(data_converted)):\n",
    "    data_converted[i][1] = int(data_converted[i][1])\n",
    "    data_converted[i][2] = int(data_converted[i][2])\n",
    "    data_converted[i][3] = float(data_converted[i][3])\n",
    "\n",
    "print(data)"
   ]
  },
  {
   "cell_type": "markdown",
   "metadata": {},
   "source": [
    "### Lab 7-7 해답"
   ]
  },
  {
   "cell_type": "code",
   "execution_count": 45,
   "metadata": {},
   "outputs": [],
   "source": [
    "file = open('data/pitcher_stats.txt', mode = 'r', encoding = 'utf-8')\n",
    "data = file.read().splitlines()\n",
    "file.close()\n",
    "\n",
    "data_parsed = data\n",
    "for i in range(len(data_parsed)):\n",
    "    data_parsed[i] = data_parsed[i].split('/')\n",
    "    \n",
    "for i in range(len(data_parsed)):\n",
    "    data_parsed[i] = '/'.join(data_parsed[i])\n",
    "\n",
    "with open('data/pitcher_stats_new.txt', mode = 'w', encoding='utf-8') as f:\n",
    "          for row in data:\n",
    "              f.write(row + '\\n')"
   ]
  },
  {
   "cell_type": "markdown",
   "metadata": {},
   "source": [
    "### Lab 7-8"
   ]
  },
  {
   "cell_type": "code",
   "execution_count": 94,
   "metadata": {},
   "outputs": [
    {
     "ename": "AttributeError",
     "evalue": "'str' object has no attribute 'sentence'",
     "output_type": "error",
     "traceback": [
      "\u001b[1;31m---------------------------------------------------------------------------\u001b[0m",
      "\u001b[1;31mAttributeError\u001b[0m                            Traceback (most recent call last)",
      "\u001b[1;32m<ipython-input-94-c0b0602a7137>\u001b[0m in \u001b[0;36m<module>\u001b[1;34m()\u001b[0m\n\u001b[0;32m     12\u001b[0m \u001b[1;32mfor\u001b[0m \u001b[0mline\u001b[0m \u001b[1;32min\u001b[0m \u001b[0mdata\u001b[0m\u001b[1;33m:\u001b[0m\u001b[1;33m\u001b[0m\u001b[0m\n\u001b[0;32m     13\u001b[0m     \u001b[0mline\u001b[0m \u001b[1;33m=\u001b[0m \u001b[0mline\u001b[0m\u001b[1;33m.\u001b[0m\u001b[0mstrip\u001b[0m\u001b[1;33m(\u001b[0m\u001b[0mstrip\u001b[0m\u001b[1;33m)\u001b[0m\u001b[1;33m\u001b[0m\u001b[0m\n\u001b[1;32m---> 14\u001b[1;33m     \u001b[0mline\u001b[0m\u001b[1;33m.\u001b[0m\u001b[0msentence\u001b[0m\u001b[1;33m(\u001b[0m\u001b[1;34m'.'\u001b[0m\u001b[1;33m)\u001b[0m\u001b[1;33m\u001b[0m\u001b[0m\n\u001b[0m\u001b[0;32m     15\u001b[0m     \u001b[0mprint\u001b[0m\u001b[1;33m(\u001b[0m\u001b[0mline\u001b[0m\u001b[1;33m)\u001b[0m\u001b[1;33m\u001b[0m\u001b[0m\n",
      "\u001b[1;31mAttributeError\u001b[0m: 'str' object has no attribute 'sentence'"
     ]
    }
   ],
   "source": [
    "import string\n",
    "\n",
    "strip = string.punctuation + string.whitespace\n",
    "\n",
    "file = open('data/zen_of_python.txt', mode = 'r', encoding = 'utf-8')\n",
    "data = file.read().splitlines()\n",
    "file.close()\n",
    "\n",
    "data = ''.join(data)\n",
    "\n",
    "data = data.split('.')\n",
    "for line in data:\n",
    "    line = line.strip(strip)\n",
    "    line.sentence('.')\n",
    "    print(line)\n"
   ]
  },
  {
   "cell_type": "code",
   "execution_count": 71,
   "metadata": {},
   "outputs": [
    {
     "name": "stdout",
     "output_type": "stream",
     "text": [
      "The Zen of Python, by Tim Peters\n",
      "\n",
      "Beautiful is better than ugly.\n",
      "Explicit is better than implicit.\n",
      "Simple is better than complex.\n",
      "Complex is better than complicated.\n",
      "Flat is better than nested.\n",
      "Sparse is better than dense.\n",
      "Readability counts.\n",
      "Special cases aren't special enough to break the rules.\n",
      "Although practicality beats purity.\n",
      "Errors should never pass silently.\n",
      "Unless explicitly silenced.\n",
      "In the face of ambiguity, refuse the temptation to guess.\n",
      "There should be one-- and preferably only one --obvious way to do it.\n",
      "Although that way may not be obvious at first unless you're Dutch.\n",
      "Now is better than never.\n",
      "Although never is often better than *right* now.\n",
      "If the implementation is hard to explain, it's a bad idea.\n",
      "If the implementation is easy to explain, it may be a good idea.\n",
      "Namespaces are one honking great idea -- let's do more of those!\n"
     ]
    }
   ],
   "source": [
    "import this"
   ]
  },
  {
   "cell_type": "code",
   "execution_count": 92,
   "metadata": {},
   "outputs": [],
   "source": [
    "zen = [\"\"\"Unless explicitly silenced.\n",
    "In the face of ambiguity, refuse the temptation to guess.\n",
    "There should be one-- and preferably only one --obvious way to do it.\n",
    "Although that way may not be obvious at first unless you're Dutch.\n",
    "Now is better than never.\n",
    "Although never is often better than *right* now.\n",
    "If the implementation is hard to explain, it's a bad idea.\n",
    "If the implementation is easy to explain, it may be a good idea.\n",
    "Namespaces are one honking great idea -- let's do more of those!\"\"\"]\n",
    "\n",
    "with open('data/zen_of_python.txt', mode = 'a', encoding = 'utf-8') as f:\n",
    "    for sentence in zen:\n",
    "        f.write(sentence + '\\n')"
   ]
  },
  {
   "cell_type": "code",
   "execution_count": 16,
   "metadata": {},
   "outputs": [
    {
     "name": "stdout",
     "output_type": "stream",
     "text": [
      "BEAUTIFUL IS BETTER THAN UGLY. EXPLICIT IS BETTER THAN IMPLICIT. SIMPLE\n",
      "IS BETTER THAN COMPLEX. COMPLEX IS BETTER THAN COMPLICATED. FLAT IS\n",
      "BETTER THAN NESTED. SPARSE IS BETTER THAN DENSE. READABILITY COUNTS.\n",
      "SPECIAL CASES AREN'T SPECIAL ENOUGH TO BREAK THE RULES. ALTHOUGH\n",
      "PRACTICALITY BEATS PURITY. ERRORS SHOULD NEVER PASS SILENTLY.\n",
      "UNLESS EXPLICITLY SILENCED.\n",
      "IN THE FACE OF AMBIGUITY, REFUSE THE TEMPTATION TO GUESS.\n",
      "THERE SHOULD BE ONE-- AND PREFERABLY ONLY ONE --OBVIOUS WAY TO DO IT.\n",
      "ALTHOUGH THAT WAY MAY NOT BE OBVIOUS AT FIRST UNLESS YOU'RE DUTCH.\n",
      "NOW IS BETTER THAN NEVER.\n",
      "ALTHOUGH NEVER IS OFTEN BETTER THAN *RIGHT* NOW.\n",
      "IF THE IMPLEMENTATION IS HARD TO EXPLAIN, IT'S A BAD IDEA.\n",
      "IF THE IMPLEMENTATION IS EASY TO EXPLAIN, IT MAY BE A GOOD IDEA.\n",
      "NAMESPACES ARE ONE HONKING GREAT IDEA -- LET'S DO MORE OF THOSE!\n"
     ]
    }
   ],
   "source": [
    "#name = input()\n",
    "with open('data/zen_of_python.txt', mode = 'r', encoding = 'utf-8-sig') as f:\n",
    "    for line in f:\n",
    "        print(line.upper().rstrip())"
   ]
  },
  {
   "cell_type": "code",
   "execution_count": 33,
   "metadata": {},
   "outputs": [
    {
     "name": "stdout",
     "output_type": "stream",
     "text": [
      "입력data/zen_of_python.txt\n"
     ]
    }
   ],
   "source": [
    "import os\n",
    "\n",
    "name = input('입력')\n",
    "\n",
    "name = 'data/zen_of_python.txt'\n",
    "n = name.rfind('/')\n",
    "new_name = name[:n] + '/UPPER' + name[n+1:]\n",
    "\n",
    "with open(name, mode = 'r', encoding = 'utf-8') as f:\n",
    "    file = f.readlines()\n",
    "    with open(new_name, mode = 'w', encoding = 'utf-8') as f2:\n",
    "        for line in file:\n",
    "            line = line.upper().rstrip()\n",
    "            f2.write(line + '\\n')"
   ]
  },
  {
   "cell_type": "markdown",
   "metadata": {},
   "source": [
    "### 해답"
   ]
  },
  {
   "cell_type": "code",
   "execution_count": 35,
   "metadata": {},
   "outputs": [
    {
     "name": "stdout",
     "output_type": "stream",
     "text": [
      "입력data/zen_of_python.txt\n",
      "\"UPPERzen_of_python.txt\" 파일이 C:\\tools\\Scripts\\7.16\\data 디레토리에 생성되었습니다.\n"
     ]
    }
   ],
   "source": [
    "from os import path\n",
    "\n",
    "file = input('입력')\n",
    "\n",
    "if path.isfile(file):\n",
    "    directory, filename = path.split(file)\n",
    "else:\n",
    "    raise fileNotFoundError\n",
    "    \n",
    "outfile = path.join(directory, 'UPPER' + filename)\n",
    "\n",
    "with open(file, encoding = 'utf-8') as fin:\n",
    "    with open(outfile, mode='w', encoding = 'utf-8') as fout:\n",
    "        for line in fin:\n",
    "            fout.write(line.upper())\n",
    "\n",
    "print('\"{}\" 파일이 {} 디레토리에 생성되었습니다.'.format(\n",
    "    path.basename(outfile), path.dirname(path.abspath(outfile))))"
   ]
  },
  {
   "cell_type": "code",
   "execution_count": null,
   "metadata": {},
   "outputs": [],
   "source": []
  },
  {
   "cell_type": "code",
   "execution_count": null,
   "metadata": {},
   "outputs": [],
   "source": []
  },
  {
   "cell_type": "code",
   "execution_count": null,
   "metadata": {},
   "outputs": [],
   "source": []
  }
 ],
 "metadata": {
  "kernelspec": {
   "display_name": "Python 3",
   "language": "python",
   "name": "python3"
  },
  "language_info": {
   "codemirror_mode": {
    "name": "ipython",
    "version": 3
   },
   "file_extension": ".py",
   "mimetype": "text/x-python",
   "name": "python",
   "nbconvert_exporter": "python",
   "pygments_lexer": "ipython3",
   "version": "3.6.5"
  }
 },
 "nbformat": 4,
 "nbformat_minor": 2
}
