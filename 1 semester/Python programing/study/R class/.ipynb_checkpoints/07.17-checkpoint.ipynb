{
 "cells": [
  {
   "cell_type": "code",
   "execution_count": 1,
   "metadata": {
    "scrolled": true
   },
   "outputs": [
    {
     "data": {
      "text/html": [
       "<ol class=list-inline>\n",
       "\t<li>-0.693147180559945</li>\n",
       "\t<li>-0.693147180559945</li>\n",
       "\t<li>-0.693147180559945</li>\n",
       "\t<li>-0.693147180559945</li>\n",
       "\t<li>-0.693147180559945</li>\n",
       "</ol>\n"
      ],
      "text/latex": [
       "\\begin{enumerate*}\n",
       "\\item -0.693147180559945\n",
       "\\item -0.693147180559945\n",
       "\\item -0.693147180559945\n",
       "\\item -0.693147180559945\n",
       "\\item -0.693147180559945\n",
       "\\end{enumerate*}\n"
      ],
      "text/markdown": [
       "1. -0.693147180559945\n",
       "2. -0.693147180559945\n",
       "3. -0.693147180559945\n",
       "4. -0.693147180559945\n",
       "5. -0.693147180559945\n",
       "\n",
       "\n"
      ],
      "text/plain": [
       "[1] -0.6931472 -0.6931472 -0.6931472 -0.6931472 -0.6931472"
      ]
     },
     "metadata": {},
     "output_type": "display_data"
    },
    {
     "data": {
      "image/png": "[encoded data removed]",
      "text/plain": [
       "plot without title"
      ]
     },
     "metadata": {},
     "output_type": "display_data"
    },
    {
     "data": {
      "image/png": "[encoded data removed]",
      "text/plain": [
       "plot without title"
      ]
     },
     "metadata": {},
     "output_type": "display_data"
    }
   ],
   "source": [
    "y = c(1,1,0,1,1)\n",
    "dbinom(y, size = 1, prob = 0.5, log = TRUE )\n",
    "loglike <- like <- c()\n",
    "theta.vec <- seq(0,1,length = 100)\n",
    "for (i in 1:100)\n",
    "{\n",
    "theta <- theta.vec[i]\n",
    "like[i] <- prod(dbinom(y, size = 1, prob = theta,\n",
    "log = FALSE ))\n",
    "loglike[i] <- sum(dbinom(y, size = 1, prob = theta,\n",
    "log = TRUE ))\n",
    "}\n",
    "plot(theta.vec, loglike, type = 'l', col = 'blue')\n",
    "plot(theta.vec, like, type = 'l', col = 'blue')"
   ]
  },
  {
   "cell_type": "code",
   "execution_count": null,
   "metadata": {},
   "outputs": [],
   "source": []
  },
  {
   "cell_type": "code",
   "execution_count": null,
   "metadata": {},
   "outputs": [],
   "source": []
  },
  {
   "cell_type": "code",
   "execution_count": null,
   "metadata": {},
   "outputs": [],
   "source": []
  },
  {
   "cell_type": "code",
   "execution_count": null,
   "metadata": {},
   "outputs": [],
   "source": []
  },
  {
   "cell_type": "code",
   "execution_count": null,
   "metadata": {},
   "outputs": [],
   "source": []
  },
  {
   "cell_type": "code",
   "execution_count": null,
   "metadata": {},
   "outputs": [],
   "source": []
  },
  {
   "cell_type": "code",
   "execution_count": null,
   "metadata": {},
   "outputs": [],
   "source": []
  },
  {
   "cell_type": "code",
   "execution_count": null,
   "metadata": {},
   "outputs": [],
   "source": []
  },
  {
   "cell_type": "code",
   "execution_count": null,
   "metadata": {},
   "outputs": [],
   "source": []
  },
  {
   "cell_type": "code",
   "execution_count": null,
   "metadata": {},
   "outputs": [],
   "source": []
  },
  {
   "cell_type": "code",
   "execution_count": null,
   "metadata": {},
   "outputs": [],
   "source": []
  },
  {
   "cell_type": "code",
   "execution_count": null,
   "metadata": {},
   "outputs": [],
   "source": []
  },
  {
   "cell_type": "code",
   "execution_count": null,
   "metadata": {},
   "outputs": [],
   "source": []
  }
 ],
 "metadata": {
  "kernelspec": {
   "display_name": "R",
   "language": "R",
   "name": "ir"
  },
  "language_info": {
   "codemirror_mode": "r",
   "file_extension": ".r",
   "mimetype": "text/x-r-source",
   "name": "R",
   "pygments_lexer": "r",
   "version": "3.4.3"
  }
 },
 "nbformat": 4,
 "nbformat_minor": 2
}
