{
 "cells": [
  {
   "cell_type": "code",
   "execution_count": 7,
   "metadata": {},
   "outputs": [
    {
     "data": {
      "text/html": [
       "<script>requirejs.config({paths: { 'plotly': ['https://cdn.plot.ly/plotly-latest.min']},});if(!window.Plotly) {{require(['plotly'],function(plotly) {window.Plotly=plotly;});}}</script>"
      ],
      "text/vnd.plotly.v1+html": [
       "<script>requirejs.config({paths: { 'plotly': ['https://cdn.plot.ly/plotly-latest.min']},});if(!window.Plotly) {{require(['plotly'],function(plotly) {window.Plotly=plotly;});}}</script>"
      ]
     },
     "metadata": {},
     "output_type": "display_data"
    }
   ],
   "source": [
    "from plotly.offline import init_notebook_mode, iplot\n",
    "from wordcloud import WordCloud\n",
    "import plotly.graph_objs as go\n",
    "import matplotlib.pyplot as plt\n",
    "import plotly.plotly as py\n",
    "from plotly import tools\n",
    "from datetime import date\n",
    "import pandas as pd\n",
    "import numpy as np \n",
    "import seaborn as sns\n",
    "import random \n",
    "import warnings\n",
    "warnings.filterwarnings(\"ignore\")\n",
    "init_notebook_mode(connected=True)\n",
    "\n",
    "path = \"D:/서울대 강의자료/고급빅데이터/final data/\"\n",
    "\n",
    "def bar_hor(df, col, title, color, w=None, h=None, lm=0, limit=100, return_trace=False, rev=False, xlb = False):\n",
    "    cnt_srs = df[col].value_counts()\n",
    "    yy = cnt_srs.head(limit).index[::-1] \n",
    "    xx = cnt_srs.head(limit).values[::-1] \n",
    "    if rev:\n",
    "        yy = cnt_srs.tail(limit).index[::-1] \n",
    "        xx = cnt_srs.tail(limit).values[::-1] \n",
    "    if xlb:\n",
    "        trace = go.Bar(y=xlb, x=xx, orientation = 'h', marker=dict(color=color))\n",
    "    else:\n",
    "        trace = go.Bar(y=yy, x=xx, orientation = 'h', marker=dict(color=color))\n",
    "    if return_trace:\n",
    "        return trace \n",
    "    layout = dict(title=title, margin=dict(l=lm), width=w, height=h)\n",
    "    data = [trace]\n",
    "    fig = go.Figure(data=data, layout=layout)\n",
    "    iplot(fig)\n",
    "\n",
    "def bar_hor_noagg(x, y, title, color, w=None, h=None, lm=0, limit=100, rt=False):\n",
    "    trace = go.Bar(y=x, x=y, orientation = 'h', marker=dict(color=color))\n",
    "    if rt:\n",
    "        return trace\n",
    "    layout = dict(title=title, margin=dict(l=lm), width=w, height=h)\n",
    "    data = [trace]\n",
    "    fig = go.Figure(data=data, layout=layout)\n",
    "    iplot(fig)\n",
    "\n",
    "\n",
    "def bar_ver_noagg(x, y, title, color, w=None, h=None, lm=0, rt = False):\n",
    "    trace = go.Bar(y=y, x=x, marker=dict(color=color))\n",
    "    if rt:\n",
    "        return trace\n",
    "    layout = dict(title=title, margin=dict(l=lm), width=w, height=h)\n",
    "    data = [trace]\n",
    "    fig = go.Figure(data=data, layout=layout)\n",
    "    iplot(fig)\n",
    "    \n",
    "def gp(col, title):\n",
    "    df1 = app_train[app_train[\"TARGET\"] == 1]\n",
    "    df0 = app_train[app_train[\"TARGET\"] == 0]\n",
    "    a1 = df1[col].value_counts()\n",
    "    b1 = df0[col].value_counts()\n",
    "    \n",
    "    total = dict(app_train[col].value_counts())\n",
    "    x0 = a1.index\n",
    "    x1 = b1.index\n",
    "    \n",
    "    y0 = [float(x)*100 / total[x0[i]] for i,x in enumerate(a1.values)]\n",
    "    y1 = [float(x)*100 / total[x1[i]] for i,x in enumerate(b1.values)]\n",
    "\n",
    "    trace1 = go.Bar(x=a1.index, y=y0, name='Target : 1', marker=dict(color=\"#96D38C\"))\n",
    "    trace2 = go.Bar(x=b1.index, y=y1, name='Target : 0', marker=dict(color=\"#FEBFB3\"))\n",
    "    return trace1, trace2 "
   ]
  },
  {
   "cell_type": "code",
   "execution_count": 9,
   "metadata": {
    "collapsed": true
   },
   "outputs": [
    {
     "data": {
      "text/html": [
       "<div>\n",
       "<style scoped>\n",
       "    .dataframe tbody tr th:only-of-type {\n",
       "        vertical-align: middle;\n",
       "    }\n",
       "\n",
       "    .dataframe tbody tr th {\n",
       "        vertical-align: top;\n",
       "    }\n",
       "\n",
       "    .dataframe thead th {\n",
       "        text-align: right;\n",
       "    }\n",
       "</style>\n",
       "<table border=\"1\" class=\"dataframe\">\n",
       "  <thead>\n",
       "    <tr style=\"text-align: right;\">\n",
       "      <th></th>\n",
       "      <th>SK_ID_CURR</th>\n",
       "      <th>TARGET</th>\n",
       "      <th>NAME_CONTRACT_TYPE</th>\n",
       "      <th>CODE_GENDER</th>\n",
       "      <th>FLAG_OWN_CAR</th>\n",
       "      <th>FLAG_OWN_REALTY</th>\n",
       "      <th>CNT_CHILDREN</th>\n",
       "      <th>AMT_INCOME_TOTAL</th>\n",
       "      <th>AMT_CREDIT</th>\n",
       "      <th>AMT_ANNUITY</th>\n",
       "      <th>...</th>\n",
       "      <th>FLAG_DOCUMENT_18</th>\n",
       "      <th>FLAG_DOCUMENT_19</th>\n",
       "      <th>FLAG_DOCUMENT_20</th>\n",
       "      <th>FLAG_DOCUMENT_21</th>\n",
       "      <th>AMT_REQ_CREDIT_BUREAU_HOUR</th>\n",
       "      <th>AMT_REQ_CREDIT_BUREAU_DAY</th>\n",
       "      <th>AMT_REQ_CREDIT_BUREAU_WEEK</th>\n",
       "      <th>AMT_REQ_CREDIT_BUREAU_MON</th>\n",
       "      <th>AMT_REQ_CREDIT_BUREAU_QRT</th>\n",
       "      <th>AMT_REQ_CREDIT_BUREAU_YEAR</th>\n",
       "    </tr>\n",
       "  </thead>\n",
       "  <tbody>\n",
       "    <tr>\n",
       "      <th>0</th>\n",
       "      <td>100002</td>\n",
       "      <td>1</td>\n",
       "      <td>Cash loans</td>\n",
       "      <td>M</td>\n",
       "      <td>N</td>\n",
       "      <td>Y</td>\n",
       "      <td>0</td>\n",
       "      <td>202500.0</td>\n",
       "      <td>406597.5</td>\n",
       "      <td>24700.5</td>\n",
       "      <td>...</td>\n",
       "      <td>0</td>\n",
       "      <td>0</td>\n",
       "      <td>0</td>\n",
       "      <td>0</td>\n",
       "      <td>0.0</td>\n",
       "      <td>0.0</td>\n",
       "      <td>0.0</td>\n",
       "      <td>0.0</td>\n",
       "      <td>0.0</td>\n",
       "      <td>1.0</td>\n",
       "    </tr>\n",
       "    <tr>\n",
       "      <th>1</th>\n",
       "      <td>100003</td>\n",
       "      <td>0</td>\n",
       "      <td>Cash loans</td>\n",
       "      <td>F</td>\n",
       "      <td>N</td>\n",
       "      <td>N</td>\n",
       "      <td>0</td>\n",
       "      <td>270000.0</td>\n",
       "      <td>1293502.5</td>\n",
       "      <td>35698.5</td>\n",
       "      <td>...</td>\n",
       "      <td>0</td>\n",
       "      <td>0</td>\n",
       "      <td>0</td>\n",
       "      <td>0</td>\n",
       "      <td>0.0</td>\n",
       "      <td>0.0</td>\n",
       "      <td>0.0</td>\n",
       "      <td>0.0</td>\n",
       "      <td>0.0</td>\n",
       "      <td>0.0</td>\n",
       "    </tr>\n",
       "    <tr>\n",
       "      <th>2</th>\n",
       "      <td>100004</td>\n",
       "      <td>0</td>\n",
       "      <td>Revolving loans</td>\n",
       "      <td>M</td>\n",
       "      <td>Y</td>\n",
       "      <td>Y</td>\n",
       "      <td>0</td>\n",
       "      <td>67500.0</td>\n",
       "      <td>135000.0</td>\n",
       "      <td>6750.0</td>\n",
       "      <td>...</td>\n",
       "      <td>0</td>\n",
       "      <td>0</td>\n",
       "      <td>0</td>\n",
       "      <td>0</td>\n",
       "      <td>0.0</td>\n",
       "      <td>0.0</td>\n",
       "      <td>0.0</td>\n",
       "      <td>0.0</td>\n",
       "      <td>0.0</td>\n",
       "      <td>0.0</td>\n",
       "    </tr>\n",
       "    <tr>\n",
       "      <th>3</th>\n",
       "      <td>100006</td>\n",
       "      <td>0</td>\n",
       "      <td>Cash loans</td>\n",
       "      <td>F</td>\n",
       "      <td>N</td>\n",
       "      <td>Y</td>\n",
       "      <td>0</td>\n",
       "      <td>135000.0</td>\n",
       "      <td>312682.5</td>\n",
       "      <td>29686.5</td>\n",
       "      <td>...</td>\n",
       "      <td>0</td>\n",
       "      <td>0</td>\n",
       "      <td>0</td>\n",
       "      <td>0</td>\n",
       "      <td>NaN</td>\n",
       "      <td>NaN</td>\n",
       "      <td>NaN</td>\n",
       "      <td>NaN</td>\n",
       "      <td>NaN</td>\n",
       "      <td>NaN</td>\n",
       "    </tr>\n",
       "    <tr>\n",
       "      <th>4</th>\n",
       "      <td>100007</td>\n",
       "      <td>0</td>\n",
       "      <td>Cash loans</td>\n",
       "      <td>M</td>\n",
       "      <td>N</td>\n",
       "      <td>Y</td>\n",
       "      <td>0</td>\n",
       "      <td>121500.0</td>\n",
       "      <td>513000.0</td>\n",
       "      <td>21865.5</td>\n",
       "      <td>...</td>\n",
       "      <td>0</td>\n",
       "      <td>0</td>\n",
       "      <td>0</td>\n",
       "      <td>0</td>\n",
       "      <td>0.0</td>\n",
       "      <td>0.0</td>\n",
       "      <td>0.0</td>\n",
       "      <td>0.0</td>\n",
       "      <td>0.0</td>\n",
       "      <td>0.0</td>\n",
       "    </tr>\n",
       "  </tbody>\n",
       "</table>\n",
       "<p>5 rows × 122 columns</p>\n",
       "</div>"
      ],
      "text/plain": [
       "   SK_ID_CURR  TARGET NAME_CONTRACT_TYPE CODE_GENDER FLAG_OWN_CAR  \\\n",
       "0      100002       1         Cash loans           M            N   \n",
       "1      100003       0         Cash loans           F            N   \n",
       "2      100004       0    Revolving loans           M            Y   \n",
       "3      100006       0         Cash loans           F            N   \n",
       "4      100007       0         Cash loans           M            N   \n",
       "\n",
       "  FLAG_OWN_REALTY  CNT_CHILDREN  AMT_INCOME_TOTAL  AMT_CREDIT  AMT_ANNUITY  \\\n",
       "0               Y             0          202500.0    406597.5      24700.5   \n",
       "1               N             0          270000.0   1293502.5      35698.5   \n",
       "2               Y             0           67500.0    135000.0       6750.0   \n",
       "3               Y             0          135000.0    312682.5      29686.5   \n",
       "4               Y             0          121500.0    513000.0      21865.5   \n",
       "\n",
       "              ...              FLAG_DOCUMENT_18 FLAG_DOCUMENT_19  \\\n",
       "0             ...                             0                0   \n",
       "1             ...                             0                0   \n",
       "2             ...                             0                0   \n",
       "3             ...                             0                0   \n",
       "4             ...                             0                0   \n",
       "\n",
       "  FLAG_DOCUMENT_20 FLAG_DOCUMENT_21 AMT_REQ_CREDIT_BUREAU_HOUR  \\\n",
       "0                0                0                        0.0   \n",
       "1                0                0                        0.0   \n",
       "2                0                0                        0.0   \n",
       "3                0                0                        NaN   \n",
       "4                0                0                        0.0   \n",
       "\n",
       "  AMT_REQ_CREDIT_BUREAU_DAY  AMT_REQ_CREDIT_BUREAU_WEEK  \\\n",
       "0                       0.0                         0.0   \n",
       "1                       0.0                         0.0   \n",
       "2                       0.0                         0.0   \n",
       "3                       NaN                         NaN   \n",
       "4                       0.0                         0.0   \n",
       "\n",
       "   AMT_REQ_CREDIT_BUREAU_MON  AMT_REQ_CREDIT_BUREAU_QRT  \\\n",
       "0                        0.0                        0.0   \n",
       "1                        0.0                        0.0   \n",
       "2                        0.0                        0.0   \n",
       "3                        NaN                        NaN   \n",
       "4                        0.0                        0.0   \n",
       "\n",
       "   AMT_REQ_CREDIT_BUREAU_YEAR  \n",
       "0                         1.0  \n",
       "1                         0.0  \n",
       "2                         0.0  \n",
       "3                         NaN  \n",
       "4                         0.0  \n",
       "\n",
       "[5 rows x 122 columns]"
      ]
     },
     "execution_count": 9,
     "metadata": {},
     "output_type": "execute_result"
    }
   ],
   "source": [
    "app_train = pd.read_csv(path + \"application_train.csv\", engine = 'python')\n",
    "# app_train.head()"
   ]
  },
  {
   "cell_type": "code",
   "execution_count": 10,
   "metadata": {},
   "outputs": [
    {
     "data": {
      "application/vnd.plotly.v1+json": {
       "data": [
        {
         "marker": {
          "color": [
           "#44ff54",
           "#ff4444"
          ]
         },
         "orientation": "h",
         "type": "bar",
         "uid": "7b99dd1c-d20b-11e8-ad19-8c1645385240",
         "x": [
          24825,
          282686
         ],
         "y": [
          "Target : 1",
          "Target : 0"
         ]
        }
       ],
       "layout": {
        "height": 350,
        "margin": {
         "l": 200
        },
        "title": "Distribution of Target Variable",
        "width": 600
       }
      },
      "text/html": [
       "<div id=\"44a24442-2ab2-4c37-b317-6f969fd0a51a\" style=\"height: 350px; width: 600px;\" class=\"plotly-graph-div\"></div><script type=\"text/javascript\">require([\"plotly\"], function(Plotly) { window.PLOTLYENV=window.PLOTLYENV || {};window.PLOTLYENV.BASE_URL=\"https://plot.ly\";Plotly.newPlot(\"44a24442-2ab2-4c37-b317-6f969fd0a51a\", [{\"marker\": {\"color\": [\"#44ff54\", \"#ff4444\"]}, \"orientation\": \"h\", \"x\": [24825, 282686], \"y\": [\"Target : 1\", \"Target : 0\"], \"type\": \"bar\", \"uid\": \"7b99dd1c-d20b-11e8-ad19-8c1645385240\"}], {\"height\": 350, \"margin\": {\"l\": 200}, \"title\": \"Distribution of Target Variable\", \"width\": 600}, {\"showLink\": true, \"linkText\": \"Export to plot.ly\"})});</script>"
      ],
      "text/vnd.plotly.v1+html": [
       "<div id=\"44a24442-2ab2-4c37-b317-6f969fd0a51a\" style=\"height: 350px; width: 600px;\" class=\"plotly-graph-div\"></div><script type=\"text/javascript\">require([\"plotly\"], function(Plotly) { window.PLOTLYENV=window.PLOTLYENV || {};window.PLOTLYENV.BASE_URL=\"https://plot.ly\";Plotly.newPlot(\"44a24442-2ab2-4c37-b317-6f969fd0a51a\", [{\"marker\": {\"color\": [\"#44ff54\", \"#ff4444\"]}, \"orientation\": \"h\", \"x\": [24825, 282686], \"y\": [\"Target : 1\", \"Target : 0\"], \"type\": \"bar\", \"uid\": \"7b99dd1c-d20b-11e8-ad19-8c1645385240\"}], {\"height\": 350, \"margin\": {\"l\": 200}, \"title\": \"Distribution of Target Variable\", \"width\": 600}, {\"showLink\": true, \"linkText\": \"Export to plot.ly\"})});</script>"
      ]
     },
     "metadata": {},
     "output_type": "display_data"
    }
   ],
   "source": [
    "# Target Variable Distribution \n",
    "bar_hor(app_train, \"TARGET\", \"Distribution of Target Variable\" , [\"#44ff54\", '#ff4444'], h=350, w=600, lm=200, xlb = ['Target : 1','Target : 0'])"
   ]
  },
  {
   "cell_type": "code",
   "execution_count": 11,
   "metadata": {},
   "outputs": [
    {
     "data": {
      "application/vnd.plotly.v1+json": {
       "data": [
        {
         "marker": {
          "color": "#f975ae"
         },
         "orientation": "h",
         "type": "bar",
         "uid": "90d5096e-d20b-11e8-8ea3-8c1645385240",
         "x": [
          4,
          105059,
          202448
         ],
         "xaxis": "x",
         "y": [
          "XNA",
          "M",
          "F"
         ],
         "yaxis": "y"
        },
        {
         "marker": {
          "color": "#96D38C"
         },
         "name": "Target : 1",
         "type": "bar",
         "uid": "90d5096f-d20b-11e8-a2eb-8c1645385240",
         "x": [
          "F",
          "M"
         ],
         "xaxis": "x2",
         "y": [
          6.999328222555915,
          10.141920254333279
         ],
         "yaxis": "y2"
        },
        {
         "marker": {
          "color": "#FEBFB3"
         },
         "name": "Target : 0",
         "type": "bar",
         "uid": "90d50970-d20b-11e8-a928-8c1645385240",
         "x": [
          "F",
          "M",
          "XNA"
         ],
         "xaxis": "x3",
         "y": [
          93.00067177744408,
          89.85807974566671,
          100
         ],
         "yaxis": "y3"
        }
       ],
       "layout": {
        "annotations": [
         {
          "font": {
           "size": 16
          },
          "showarrow": false,
          "text": "Gender Distribution",
          "x": 0.14444444444444446,
          "xanchor": "center",
          "xref": "paper",
          "y": 1,
          "yanchor": "bottom",
          "yref": "paper"
         },
         {
          "font": {
           "size": 16
          },
          "showarrow": false,
          "text": "Gender, Target=1",
          "x": 0.5,
          "xanchor": "center",
          "xref": "paper",
          "y": 1,
          "yanchor": "bottom",
          "yref": "paper"
         },
         {
          "font": {
           "size": 16
          },
          "showarrow": false,
          "text": "Gender, Target=0",
          "x": 0.8555555555555556,
          "xanchor": "center",
          "xref": "paper",
          "y": 1,
          "yanchor": "bottom",
          "yref": "paper"
         }
        ],
        "height": 350,
        "margin": {
         "l": 50
        },
        "showlegend": false,
        "xaxis": {
         "anchor": "y",
         "domain": [
          0,
          0.2888888888888889
         ]
        },
        "xaxis2": {
         "anchor": "y2",
         "domain": [
          0.35555555555555557,
          0.6444444444444445
         ]
        },
        "xaxis3": {
         "anchor": "y3",
         "domain": [
          0.7111111111111111,
          1
         ]
        },
        "yaxis": {
         "anchor": "x",
         "domain": [
          0,
          1
         ]
        },
        "yaxis2": {
         "anchor": "x2",
         "domain": [
          0,
          1
         ]
        },
        "yaxis3": {
         "anchor": "x3",
         "domain": [
          0,
          1
         ]
        }
       }
      },
      "text/html": [
       "<div id=\"45b4fda1-d66a-4f9b-9f68-a2d130357c28\" style=\"height: 350px; width: 100%;\" class=\"plotly-graph-div\"></div><script type=\"text/javascript\">require([\"plotly\"], function(Plotly) { window.PLOTLYENV=window.PLOTLYENV || {};window.PLOTLYENV.BASE_URL=\"https://plot.ly\";Plotly.newPlot(\"45b4fda1-d66a-4f9b-9f68-a2d130357c28\", [{\"marker\": {\"color\": \"#f975ae\"}, \"orientation\": \"h\", \"x\": [4, 105059, 202448], \"y\": [\"XNA\", \"M\", \"F\"], \"type\": \"bar\", \"uid\": \"90d5096e-d20b-11e8-8ea3-8c1645385240\", \"xaxis\": \"x\", \"yaxis\": \"y\"}, {\"marker\": {\"color\": \"#96D38C\"}, \"name\": \"Target : 1\", \"x\": [\"F\", \"M\"], \"y\": [6.999328222555915, 10.141920254333279], \"type\": \"bar\", \"uid\": \"90d5096f-d20b-11e8-a2eb-8c1645385240\", \"xaxis\": \"x2\", \"yaxis\": \"y2\"}, {\"marker\": {\"color\": \"#FEBFB3\"}, \"name\": \"Target : 0\", \"x\": [\"F\", \"M\", \"XNA\"], \"y\": [93.00067177744408, 89.85807974566671, 100.0], \"type\": \"bar\", \"uid\": \"90d50970-d20b-11e8-a928-8c1645385240\", \"xaxis\": \"x3\", \"yaxis\": \"y3\"}], {\"annotations\": [{\"font\": {\"size\": 16}, \"showarrow\": false, \"text\": \"Gender Distribution\", \"x\": 0.14444444444444446, \"xanchor\": \"center\", \"xref\": \"paper\", \"y\": 1.0, \"yanchor\": \"bottom\", \"yref\": \"paper\"}, {\"font\": {\"size\": 16}, \"showarrow\": false, \"text\": \"Gender, Target=1\", \"x\": 0.5, \"xanchor\": \"center\", \"xref\": \"paper\", \"y\": 1.0, \"yanchor\": \"bottom\", \"yref\": \"paper\"}, {\"font\": {\"size\": 16}, \"showarrow\": false, \"text\": \"Gender, Target=0\", \"x\": 0.8555555555555556, \"xanchor\": \"center\", \"xref\": \"paper\", \"y\": 1.0, \"yanchor\": \"bottom\", \"yref\": \"paper\"}], \"xaxis\": {\"anchor\": \"y\", \"domain\": [0.0, 0.2888888888888889]}, \"yaxis\": {\"anchor\": \"x\", \"domain\": [0.0, 1.0]}, \"xaxis2\": {\"anchor\": \"y2\", \"domain\": [0.35555555555555557, 0.6444444444444445]}, \"yaxis2\": {\"anchor\": \"x2\", \"domain\": [0.0, 1.0]}, \"xaxis3\": {\"anchor\": \"y3\", \"domain\": [0.7111111111111111, 1.0]}, \"yaxis3\": {\"anchor\": \"x3\", \"domain\": [0.0, 1.0]}, \"margin\": {\"l\": 50}, \"height\": 350, \"showlegend\": false}, {\"showLink\": true, \"linkText\": \"Export to plot.ly\"})});</script>"
      ],
      "text/vnd.plotly.v1+html": [
       "<div id=\"45b4fda1-d66a-4f9b-9f68-a2d130357c28\" style=\"height: 350px; width: 100%;\" class=\"plotly-graph-div\"></div><script type=\"text/javascript\">require([\"plotly\"], function(Plotly) { window.PLOTLYENV=window.PLOTLYENV || {};window.PLOTLYENV.BASE_URL=\"https://plot.ly\";Plotly.newPlot(\"45b4fda1-d66a-4f9b-9f68-a2d130357c28\", [{\"marker\": {\"color\": \"#f975ae\"}, \"orientation\": \"h\", \"x\": [4, 105059, 202448], \"y\": [\"XNA\", \"M\", \"F\"], \"type\": \"bar\", \"uid\": \"90d5096e-d20b-11e8-8ea3-8c1645385240\", \"xaxis\": \"x\", \"yaxis\": \"y\"}, {\"marker\": {\"color\": \"#96D38C\"}, \"name\": \"Target : 1\", \"x\": [\"F\", \"M\"], \"y\": [6.999328222555915, 10.141920254333279], \"type\": \"bar\", \"uid\": \"90d5096f-d20b-11e8-a2eb-8c1645385240\", \"xaxis\": \"x2\", \"yaxis\": \"y2\"}, {\"marker\": {\"color\": \"#FEBFB3\"}, \"name\": \"Target : 0\", \"x\": [\"F\", \"M\", \"XNA\"], \"y\": [93.00067177744408, 89.85807974566671, 100.0], \"type\": \"bar\", \"uid\": \"90d50970-d20b-11e8-a928-8c1645385240\", \"xaxis\": \"x3\", \"yaxis\": \"y3\"}], {\"annotations\": [{\"font\": {\"size\": 16}, \"showarrow\": false, \"text\": \"Gender Distribution\", \"x\": 0.14444444444444446, \"xanchor\": \"center\", \"xref\": \"paper\", \"y\": 1.0, \"yanchor\": \"bottom\", \"yref\": \"paper\"}, {\"font\": {\"size\": 16}, \"showarrow\": false, \"text\": \"Gender, Target=1\", \"x\": 0.5, \"xanchor\": \"center\", \"xref\": \"paper\", \"y\": 1.0, \"yanchor\": \"bottom\", \"yref\": \"paper\"}, {\"font\": {\"size\": 16}, \"showarrow\": false, \"text\": \"Gender, Target=0\", \"x\": 0.8555555555555556, \"xanchor\": \"center\", \"xref\": \"paper\", \"y\": 1.0, \"yanchor\": \"bottom\", \"yref\": \"paper\"}], \"xaxis\": {\"anchor\": \"y\", \"domain\": [0.0, 0.2888888888888889]}, \"yaxis\": {\"anchor\": \"x\", \"domain\": [0.0, 1.0]}, \"xaxis2\": {\"anchor\": \"y2\", \"domain\": [0.35555555555555557, 0.6444444444444445]}, \"yaxis2\": {\"anchor\": \"x2\", \"domain\": [0.0, 1.0]}, \"xaxis3\": {\"anchor\": \"y3\", \"domain\": [0.7111111111111111, 1.0]}, \"yaxis3\": {\"anchor\": \"x3\", \"domain\": [0.0, 1.0]}, \"margin\": {\"l\": 50}, \"height\": 350, \"showlegend\": false}, {\"showLink\": true, \"linkText\": \"Export to plot.ly\"})});</script>"
      ]
     },
     "metadata": {},
     "output_type": "display_data"
    }
   ],
   "source": [
    "tr0 = bar_hor(app_train, \"CODE_GENDER\", \"Distribution of CODE_GENDER Variable\" ,\"#f975ae\", w=700, lm=100, return_trace= True)\n",
    "tr1, tr2 = gp('CODE_GENDER', 'Distribution of Target with Applicant Gender')\n",
    "\n",
    "fig = tools.make_subplots(rows=1, cols=3, print_grid=False, subplot_titles = [\"Gender Distribution\" , \"Gender, Target=1\" ,\"Gender, Target=0\"])\n",
    "fig.append_trace(tr0, 1, 1);\n",
    "fig.append_trace(tr1, 1, 2);\n",
    "fig.append_trace(tr2, 1, 3);\n",
    "fig['layout'].update(height=350, showlegend=False, margin=dict(l=50));\n",
    "iplot(fig);"
   ]
  },
  {
   "cell_type": "code",
   "execution_count": 12,
   "metadata": {},
   "outputs": [
    {
     "data": {
      "application/vnd.plotly.v1+json": {
       "data": [
        {
         "marker": {
          "color": "#f975ae"
         },
         "orientation": "h",
         "type": "bar",
         "uid": "e1e0e69e-d20b-11e8-b421-8c1645385240",
         "x": [
          2,
          16088,
          19770,
          29775,
          45444,
          196432
         ],
         "xaxis": "x",
         "y": [
          "Unknown",
          "Widow",
          "Separated",
          "Civil marriage",
          "Single / not married",
          "Married"
         ],
         "yaxis": "y"
        },
        {
         "marker": {
          "color": "#96D38C"
         },
         "name": "Target : 1",
         "type": "bar",
         "uid": "e1e0e69f-d20b-11e8-9564-8c1645385240",
         "x": [
          "Married",
          "Single / not married",
          "Civil marriage",
          "Separated",
          "Widow"
         ],
         "xaxis": "x2",
         "y": [
          7.559868045939562,
          9.80767538068832,
          9.944584382871536,
          8.19423368740516,
          5.824216807558429
         ],
         "yaxis": "y2"
        },
        {
         "marker": {
          "color": "#FEBFB3"
         },
         "name": "Target : 0",
         "type": "bar",
         "uid": "e1e0e6a0-d20b-11e8-b9d9-8c1645385240",
         "x": [
          "Married",
          "Single / not married",
          "Civil marriage",
          "Separated",
          "Widow",
          "Unknown"
         ],
         "xaxis": "x3",
         "y": [
          92.44013195406043,
          90.19232461931168,
          90.05541561712846,
          91.80576631259484,
          94.17578319244157,
          100
         ],
         "yaxis": "y3"
        }
       ],
       "layout": {
        "annotations": [
         {
          "font": {
           "size": 16
          },
          "showarrow": false,
          "text": "Family Status Distribution",
          "x": 0.14444444444444446,
          "xanchor": "center",
          "xref": "paper",
          "y": 1,
          "yanchor": "bottom",
          "yref": "paper"
         },
         {
          "font": {
           "size": 16
          },
          "showarrow": false,
          "text": "Family Status, Target = 1",
          "x": 0.5,
          "xanchor": "center",
          "xref": "paper",
          "y": 1,
          "yanchor": "bottom",
          "yref": "paper"
         },
         {
          "font": {
           "size": 16
          },
          "showarrow": false,
          "text": "Family Status, Target = 0",
          "x": 0.8555555555555556,
          "xanchor": "center",
          "xref": "paper",
          "y": 1,
          "yanchor": "bottom",
          "yref": "paper"
         }
        ],
        "height": 350,
        "margin": {
         "l": 120
        },
        "showlegend": false,
        "xaxis": {
         "anchor": "y",
         "domain": [
          0,
          0.2888888888888889
         ]
        },
        "xaxis2": {
         "anchor": "y2",
         "domain": [
          0.35555555555555557,
          0.6444444444444445
         ]
        },
        "xaxis3": {
         "anchor": "y3",
         "domain": [
          0.7111111111111111,
          1
         ]
        },
        "yaxis": {
         "anchor": "x",
         "domain": [
          0,
          1
         ]
        },
        "yaxis2": {
         "anchor": "x2",
         "domain": [
          0,
          1
         ]
        },
        "yaxis3": {
         "anchor": "x3",
         "domain": [
          0,
          1
         ]
        }
       }
      },
      "text/html": [
       "<div id=\"f3422bca-5856-4f1a-90d5-81de68bdede0\" style=\"height: 350px; width: 100%;\" class=\"plotly-graph-div\"></div><script type=\"text/javascript\">require([\"plotly\"], function(Plotly) { window.PLOTLYENV=window.PLOTLYENV || {};window.PLOTLYENV.BASE_URL=\"https://plot.ly\";Plotly.newPlot(\"f3422bca-5856-4f1a-90d5-81de68bdede0\", [{\"marker\": {\"color\": \"#f975ae\"}, \"orientation\": \"h\", \"x\": [2, 16088, 19770, 29775, 45444, 196432], \"y\": [\"Unknown\", \"Widow\", \"Separated\", \"Civil marriage\", \"Single / not married\", \"Married\"], \"type\": \"bar\", \"uid\": \"e1e0e69e-d20b-11e8-b421-8c1645385240\", \"xaxis\": \"x\", \"yaxis\": \"y\"}, {\"marker\": {\"color\": \"#96D38C\"}, \"name\": \"Target : 1\", \"x\": [\"Married\", \"Single / not married\", \"Civil marriage\", \"Separated\", \"Widow\"], \"y\": [7.559868045939562, 9.80767538068832, 9.944584382871536, 8.19423368740516, 5.824216807558429], \"type\": \"bar\", \"uid\": \"e1e0e69f-d20b-11e8-9564-8c1645385240\", \"xaxis\": \"x2\", \"yaxis\": \"y2\"}, {\"marker\": {\"color\": \"#FEBFB3\"}, \"name\": \"Target : 0\", \"x\": [\"Married\", \"Single / not married\", \"Civil marriage\", \"Separated\", \"Widow\", \"Unknown\"], \"y\": [92.44013195406043, 90.19232461931168, 90.05541561712846, 91.80576631259484, 94.17578319244157, 100.0], \"type\": \"bar\", \"uid\": \"e1e0e6a0-d20b-11e8-b9d9-8c1645385240\", \"xaxis\": \"x3\", \"yaxis\": \"y3\"}], {\"annotations\": [{\"font\": {\"size\": 16}, \"showarrow\": false, \"text\": \"Family Status Distribution\", \"x\": 0.14444444444444446, \"xanchor\": \"center\", \"xref\": \"paper\", \"y\": 1.0, \"yanchor\": \"bottom\", \"yref\": \"paper\"}, {\"font\": {\"size\": 16}, \"showarrow\": false, \"text\": \"Family Status, Target = 1\", \"x\": 0.5, \"xanchor\": \"center\", \"xref\": \"paper\", \"y\": 1.0, \"yanchor\": \"bottom\", \"yref\": \"paper\"}, {\"font\": {\"size\": 16}, \"showarrow\": false, \"text\": \"Family Status, Target = 0\", \"x\": 0.8555555555555556, \"xanchor\": \"center\", \"xref\": \"paper\", \"y\": 1.0, \"yanchor\": \"bottom\", \"yref\": \"paper\"}], \"xaxis\": {\"anchor\": \"y\", \"domain\": [0.0, 0.2888888888888889]}, \"yaxis\": {\"anchor\": \"x\", \"domain\": [0.0, 1.0]}, \"xaxis2\": {\"anchor\": \"y2\", \"domain\": [0.35555555555555557, 0.6444444444444445]}, \"yaxis2\": {\"anchor\": \"x2\", \"domain\": [0.0, 1.0]}, \"xaxis3\": {\"anchor\": \"y3\", \"domain\": [0.7111111111111111, 1.0]}, \"yaxis3\": {\"anchor\": \"x3\", \"domain\": [0.0, 1.0]}, \"margin\": {\"l\": 120}, \"height\": 350, \"showlegend\": false}, {\"showLink\": true, \"linkText\": \"Export to plot.ly\"})});</script>"
      ],
      "text/vnd.plotly.v1+html": [
       "<div id=\"f3422bca-5856-4f1a-90d5-81de68bdede0\" style=\"height: 350px; width: 100%;\" class=\"plotly-graph-div\"></div><script type=\"text/javascript\">require([\"plotly\"], function(Plotly) { window.PLOTLYENV=window.PLOTLYENV || {};window.PLOTLYENV.BASE_URL=\"https://plot.ly\";Plotly.newPlot(\"f3422bca-5856-4f1a-90d5-81de68bdede0\", [{\"marker\": {\"color\": \"#f975ae\"}, \"orientation\": \"h\", \"x\": [2, 16088, 19770, 29775, 45444, 196432], \"y\": [\"Unknown\", \"Widow\", \"Separated\", \"Civil marriage\", \"Single / not married\", \"Married\"], \"type\": \"bar\", \"uid\": \"e1e0e69e-d20b-11e8-b421-8c1645385240\", \"xaxis\": \"x\", \"yaxis\": \"y\"}, {\"marker\": {\"color\": \"#96D38C\"}, \"name\": \"Target : 1\", \"x\": [\"Married\", \"Single / not married\", \"Civil marriage\", \"Separated\", \"Widow\"], \"y\": [7.559868045939562, 9.80767538068832, 9.944584382871536, 8.19423368740516, 5.824216807558429], \"type\": \"bar\", \"uid\": \"e1e0e69f-d20b-11e8-9564-8c1645385240\", \"xaxis\": \"x2\", \"yaxis\": \"y2\"}, {\"marker\": {\"color\": \"#FEBFB3\"}, \"name\": \"Target : 0\", \"x\": [\"Married\", \"Single / not married\", \"Civil marriage\", \"Separated\", \"Widow\", \"Unknown\"], \"y\": [92.44013195406043, 90.19232461931168, 90.05541561712846, 91.80576631259484, 94.17578319244157, 100.0], \"type\": \"bar\", \"uid\": \"e1e0e6a0-d20b-11e8-b9d9-8c1645385240\", \"xaxis\": \"x3\", \"yaxis\": \"y3\"}], {\"annotations\": [{\"font\": {\"size\": 16}, \"showarrow\": false, \"text\": \"Family Status Distribution\", \"x\": 0.14444444444444446, \"xanchor\": \"center\", \"xref\": \"paper\", \"y\": 1.0, \"yanchor\": \"bottom\", \"yref\": \"paper\"}, {\"font\": {\"size\": 16}, \"showarrow\": false, \"text\": \"Family Status, Target = 1\", \"x\": 0.5, \"xanchor\": \"center\", \"xref\": \"paper\", \"y\": 1.0, \"yanchor\": \"bottom\", \"yref\": \"paper\"}, {\"font\": {\"size\": 16}, \"showarrow\": false, \"text\": \"Family Status, Target = 0\", \"x\": 0.8555555555555556, \"xanchor\": \"center\", \"xref\": \"paper\", \"y\": 1.0, \"yanchor\": \"bottom\", \"yref\": \"paper\"}], \"xaxis\": {\"anchor\": \"y\", \"domain\": [0.0, 0.2888888888888889]}, \"yaxis\": {\"anchor\": \"x\", \"domain\": [0.0, 1.0]}, \"xaxis2\": {\"anchor\": \"y2\", \"domain\": [0.35555555555555557, 0.6444444444444445]}, \"yaxis2\": {\"anchor\": \"x2\", \"domain\": [0.0, 1.0]}, \"xaxis3\": {\"anchor\": \"y3\", \"domain\": [0.7111111111111111, 1.0]}, \"yaxis3\": {\"anchor\": \"x3\", \"domain\": [0.0, 1.0]}, \"margin\": {\"l\": 120}, \"height\": 350, \"showlegend\": false}, {\"showLink\": true, \"linkText\": \"Export to plot.ly\"})});</script>"
      ]
     },
     "metadata": {},
     "output_type": "display_data"
    }
   ],
   "source": [
    "tr0 = bar_hor(app_train, \"NAME_FAMILY_STATUS\", \"Distribution of CODE_GENDER Variable\" ,\"#f975ae\", w=700, lm=100, return_trace= True)\n",
    "tr1, tr2 = gp('NAME_FAMILY_STATUS', 'Distribution of Target with Applicant Gender')\n",
    "\n",
    "fig = tools.make_subplots(rows=1, cols=3, print_grid=False, subplot_titles = [\"Family Status Distribution\" , \"Family Status, Target = 1\" ,\"Family Status, Target = 0\"])\n",
    "fig.append_trace(tr0, 1, 1);\n",
    "fig.append_trace(tr1, 1, 2);\n",
    "fig.append_trace(tr2, 1, 3);\n",
    "fig['layout'].update(height=350, showlegend=False, margin=dict(l=120));\n",
    "iplot(fig);"
   ]
  },
  {
   "cell_type": "code",
   "execution_count": 15,
   "metadata": {},
   "outputs": [
    {
     "data": {
      "application/vnd.plotly.v1+json": {
       "data": [
        {
         "labels": [
          "Y",
          "N"
         ],
         "marker": {
          "colors": [
           "#96D38C",
           "#FEBFB3"
          ],
          "line": {
           "color": "#fff",
           "width": 2
          }
         },
         "textfont": {
          "size": 12
         },
         "type": "pie",
         "uid": "f9191b36-d20b-11e8-b80f-8c1645385240",
         "values": [
          213312,
          94199
         ]
        }
       ],
       "layout": {
        "height": 400,
        "title": "Applicants Owning Real Estate"
       }
      },
      "text/html": [
       "<div id=\"ae7ebabf-2b91-4b83-a385-6c9b0f14a794\" style=\"height: 400px; width: 100%;\" class=\"plotly-graph-div\"></div><script type=\"text/javascript\">require([\"plotly\"], function(Plotly) { window.PLOTLYENV=window.PLOTLYENV || {};window.PLOTLYENV.BASE_URL=\"https://plot.ly\";Plotly.newPlot(\"ae7ebabf-2b91-4b83-a385-6c9b0f14a794\", [{\"labels\": [\"Y\", \"N\"], \"marker\": {\"colors\": [\"#96D38C\", \"#FEBFB3\"], \"line\": {\"color\": \"#fff\", \"width\": 2}}, \"textfont\": {\"size\": 12}, \"values\": [213312, 94199], \"type\": \"pie\", \"uid\": \"f9191b36-d20b-11e8-b80f-8c1645385240\"}], {\"height\": 400, \"title\": \"Applicants Owning Real Estate\"}, {\"showLink\": true, \"linkText\": \"Export to plot.ly\"})});</script>"
      ],
      "text/vnd.plotly.v1+html": [
       "<div id=\"ae7ebabf-2b91-4b83-a385-6c9b0f14a794\" style=\"height: 400px; width: 100%;\" class=\"plotly-graph-div\"></div><script type=\"text/javascript\">require([\"plotly\"], function(Plotly) { window.PLOTLYENV=window.PLOTLYENV || {};window.PLOTLYENV.BASE_URL=\"https://plot.ly\";Plotly.newPlot(\"ae7ebabf-2b91-4b83-a385-6c9b0f14a794\", [{\"labels\": [\"Y\", \"N\"], \"marker\": {\"colors\": [\"#96D38C\", \"#FEBFB3\"], \"line\": {\"color\": \"#fff\", \"width\": 2}}, \"textfont\": {\"size\": 12}, \"values\": [213312, 94199], \"type\": \"pie\", \"uid\": \"f9191b36-d20b-11e8-b80f-8c1645385240\"}], {\"height\": 400, \"title\": \"Applicants Owning Real Estate\"}, {\"showLink\": true, \"linkText\": \"Export to plot.ly\"})});</script>"
      ]
     },
     "metadata": {},
     "output_type": "display_data"
    },
    {
     "data": {
      "application/vnd.plotly.v1+json": {
       "data": [
        {
         "labels": [
          "N",
          "Y"
         ],
         "marker": {
          "colors": [
           "#FEBFB3",
           "#96D38C"
          ],
          "line": {
           "color": "#fff",
           "width": 2
          }
         },
         "textfont": {
          "size": 12
         },
         "type": "pie",
         "uid": "f9205f2e-d20b-11e8-89f8-8c1645385240",
         "values": [
          202924,
          104587
         ]
        }
       ],
       "layout": {
        "height": 400,
        "title": "Applicants Owning Car"
       }
      },
      "text/html": [
       "<div id=\"e88cd592-21b2-4f8d-b9f1-13ee4d7890fd\" style=\"height: 400px; width: 100%;\" class=\"plotly-graph-div\"></div><script type=\"text/javascript\">require([\"plotly\"], function(Plotly) { window.PLOTLYENV=window.PLOTLYENV || {};window.PLOTLYENV.BASE_URL=\"https://plot.ly\";Plotly.newPlot(\"e88cd592-21b2-4f8d-b9f1-13ee4d7890fd\", [{\"labels\": [\"N\", \"Y\"], \"marker\": {\"colors\": [\"#FEBFB3\", \"#96D38C\"], \"line\": {\"color\": \"#fff\", \"width\": 2}}, \"textfont\": {\"size\": 12}, \"values\": [202924, 104587], \"type\": \"pie\", \"uid\": \"f9205f2e-d20b-11e8-89f8-8c1645385240\"}], {\"height\": 400, \"title\": \"Applicants Owning Car\"}, {\"showLink\": true, \"linkText\": \"Export to plot.ly\"})});</script>"
      ],
      "text/vnd.plotly.v1+html": [
       "<div id=\"e88cd592-21b2-4f8d-b9f1-13ee4d7890fd\" style=\"height: 400px; width: 100%;\" class=\"plotly-graph-div\"></div><script type=\"text/javascript\">require([\"plotly\"], function(Plotly) { window.PLOTLYENV=window.PLOTLYENV || {};window.PLOTLYENV.BASE_URL=\"https://plot.ly\";Plotly.newPlot(\"e88cd592-21b2-4f8d-b9f1-13ee4d7890fd\", [{\"labels\": [\"N\", \"Y\"], \"marker\": {\"colors\": [\"#FEBFB3\", \"#96D38C\"], \"line\": {\"color\": \"#fff\", \"width\": 2}}, \"textfont\": {\"size\": 12}, \"values\": [202924, 104587], \"type\": \"pie\", \"uid\": \"f9205f2e-d20b-11e8-89f8-8c1645385240\"}], {\"height\": 400, \"title\": \"Applicants Owning Car\"}, {\"showLink\": true, \"linkText\": \"Export to plot.ly\"})});</script>"
      ]
     },
     "metadata": {},
     "output_type": "display_data"
    },
    {
     "data": {
      "application/vnd.plotly.v1+json": {
       "data": [
        {
         "marker": {
          "color": "#96D38C"
         },
         "name": "Target : 1",
         "type": "bar",
         "uid": "f972d114-d20b-11e8-9076-8c1645385240",
         "x": [
          "Y",
          "N"
         ],
         "xaxis": "x",
         "y": [
          7.961577407740774,
          8.324929139375152
         ],
         "yaxis": "y"
        },
        {
         "marker": {
          "color": "#96D38C"
         },
         "name": "Target : 1",
         "type": "bar",
         "uid": "f9731f06-d20b-11e8-a3c3-8c1645385240",
         "x": [
          "N",
          "Y"
         ],
         "xaxis": "x2",
         "y": [
          8.500226685852832,
          7.243730100299272
         ],
         "yaxis": "y2"
        }
       ],
       "layout": {
        "annotations": [
         {
          "font": {
           "size": 16
          },
          "showarrow": false,
          "text": "% Applicants with RealEstate and Target = 1",
          "x": 0.225,
          "xanchor": "center",
          "xref": "paper",
          "y": 1,
          "yanchor": "bottom",
          "yref": "paper"
         },
         {
          "font": {
           "size": 16
          },
          "showarrow": false,
          "text": "% Applicants with Car and Target = 1",
          "x": 0.775,
          "xanchor": "center",
          "xref": "paper",
          "y": 1,
          "yanchor": "bottom",
          "yref": "paper"
         }
        ],
        "height": 350,
        "margin": {
         "l": 120
        },
        "showlegend": false,
        "xaxis": {
         "anchor": "y",
         "domain": [
          0,
          0.45
         ]
        },
        "xaxis2": {
         "anchor": "y2",
         "domain": [
          0.55,
          1
         ]
        },
        "yaxis": {
         "anchor": "x",
         "domain": [
          0,
          1
         ]
        },
        "yaxis2": {
         "anchor": "x2",
         "domain": [
          0,
          1
         ]
        }
       }
      },
      "text/html": [
       "<div id=\"3a086ad9-1276-4a7a-8ab4-e9db9c1efcfa\" style=\"height: 350px; width: 100%;\" class=\"plotly-graph-div\"></div><script type=\"text/javascript\">require([\"plotly\"], function(Plotly) { window.PLOTLYENV=window.PLOTLYENV || {};window.PLOTLYENV.BASE_URL=\"https://plot.ly\";Plotly.newPlot(\"3a086ad9-1276-4a7a-8ab4-e9db9c1efcfa\", [{\"marker\": {\"color\": \"#96D38C\"}, \"name\": \"Target : 1\", \"x\": [\"Y\", \"N\"], \"y\": [7.961577407740774, 8.324929139375152], \"type\": \"bar\", \"uid\": \"f972d114-d20b-11e8-9076-8c1645385240\", \"xaxis\": \"x\", \"yaxis\": \"y\"}, {\"marker\": {\"color\": \"#96D38C\"}, \"name\": \"Target : 1\", \"x\": [\"N\", \"Y\"], \"y\": [8.500226685852832, 7.243730100299272], \"type\": \"bar\", \"uid\": \"f9731f06-d20b-11e8-a3c3-8c1645385240\", \"xaxis\": \"x2\", \"yaxis\": \"y2\"}], {\"annotations\": [{\"font\": {\"size\": 16}, \"showarrow\": false, \"text\": \"% Applicants with RealEstate and Target = 1\", \"x\": 0.225, \"xanchor\": \"center\", \"xref\": \"paper\", \"y\": 1.0, \"yanchor\": \"bottom\", \"yref\": \"paper\"}, {\"font\": {\"size\": 16}, \"showarrow\": false, \"text\": \"% Applicants with Car and Target = 1\", \"x\": 0.775, \"xanchor\": \"center\", \"xref\": \"paper\", \"y\": 1.0, \"yanchor\": \"bottom\", \"yref\": \"paper\"}], \"xaxis\": {\"anchor\": \"y\", \"domain\": [0.0, 0.45]}, \"yaxis\": {\"anchor\": \"x\", \"domain\": [0.0, 1.0]}, \"xaxis2\": {\"anchor\": \"y2\", \"domain\": [0.55, 1.0]}, \"yaxis2\": {\"anchor\": \"x2\", \"domain\": [0.0, 1.0]}, \"margin\": {\"l\": 120}, \"height\": 350, \"showlegend\": false}, {\"showLink\": true, \"linkText\": \"Export to plot.ly\"})});</script>"
      ],
      "text/vnd.plotly.v1+html": [
       "<div id=\"3a086ad9-1276-4a7a-8ab4-e9db9c1efcfa\" style=\"height: 350px; width: 100%;\" class=\"plotly-graph-div\"></div><script type=\"text/javascript\">require([\"plotly\"], function(Plotly) { window.PLOTLYENV=window.PLOTLYENV || {};window.PLOTLYENV.BASE_URL=\"https://plot.ly\";Plotly.newPlot(\"3a086ad9-1276-4a7a-8ab4-e9db9c1efcfa\", [{\"marker\": {\"color\": \"#96D38C\"}, \"name\": \"Target : 1\", \"x\": [\"Y\", \"N\"], \"y\": [7.961577407740774, 8.324929139375152], \"type\": \"bar\", \"uid\": \"f972d114-d20b-11e8-9076-8c1645385240\", \"xaxis\": \"x\", \"yaxis\": \"y\"}, {\"marker\": {\"color\": \"#96D38C\"}, \"name\": \"Target : 1\", \"x\": [\"N\", \"Y\"], \"y\": [8.500226685852832, 7.243730100299272], \"type\": \"bar\", \"uid\": \"f9731f06-d20b-11e8-a3c3-8c1645385240\", \"xaxis\": \"x2\", \"yaxis\": \"y2\"}], {\"annotations\": [{\"font\": {\"size\": 16}, \"showarrow\": false, \"text\": \"% Applicants with RealEstate and Target = 1\", \"x\": 0.225, \"xanchor\": \"center\", \"xref\": \"paper\", \"y\": 1.0, \"yanchor\": \"bottom\", \"yref\": \"paper\"}, {\"font\": {\"size\": 16}, \"showarrow\": false, \"text\": \"% Applicants with Car and Target = 1\", \"x\": 0.775, \"xanchor\": \"center\", \"xref\": \"paper\", \"y\": 1.0, \"yanchor\": \"bottom\", \"yref\": \"paper\"}], \"xaxis\": {\"anchor\": \"y\", \"domain\": [0.0, 0.45]}, \"yaxis\": {\"anchor\": \"x\", \"domain\": [0.0, 1.0]}, \"xaxis2\": {\"anchor\": \"y2\", \"domain\": [0.55, 1.0]}, \"yaxis2\": {\"anchor\": \"x2\", \"domain\": [0.0, 1.0]}, \"margin\": {\"l\": 120}, \"height\": 350, \"showlegend\": false}, {\"showLink\": true, \"linkText\": \"Export to plot.ly\"})});</script>"
      ]
     },
     "metadata": {},
     "output_type": "display_data"
    }
   ],
   "source": [
    "## real estate \n",
    "t = app_train['FLAG_OWN_REALTY'].value_counts()\n",
    "labels = t.index\n",
    "values = t.values\n",
    "colors = ['#96D38C','#FEBFB3']\n",
    "trace = go.Pie(labels=labels, values=values,\n",
    "#                hoverinfo='', textinfo='',\n",
    "               textfont=dict(size=12),\n",
    "               marker=dict(colors=colors,\n",
    "                           line=dict(color='#fff', width=2)))\n",
    "layout = go.Layout(title='Applicants Owning Real Estate', height=400)\n",
    "fig = go.Figure(data=[trace], layout=layout)\n",
    "iplot(fig)\n",
    "\n",
    "\n",
    "t = app_train['FLAG_OWN_CAR'].value_counts()\n",
    "labels = t.index\n",
    "values = t.values\n",
    "colors = ['#FEBFB3','#96D38C']\n",
    "trace = go.Pie(labels=labels, values=values,\n",
    "#                hoverinfo='', textinfo='',\n",
    "               textfont=dict(size=12),\n",
    "               marker=dict(colors=colors,\n",
    "                           line=dict(color='#fff', width=2)))\n",
    "layout = go.Layout(title='Applicants Owning Car', height=400)\n",
    "fig = go.Figure(data=[trace], layout=layout)\n",
    "iplot(fig)\n",
    "\n",
    "\n",
    "tr1, tr2 = gp('FLAG_OWN_REALTY', 'Applicants Owning Real Estate wrt Target Variable')\n",
    "tr3, tr4 = gp('FLAG_OWN_CAR', 'Applicants Owning Car wrt Target Variable')\n",
    "fig = tools.make_subplots(rows=1, cols=2, print_grid=False, \n",
    "                          subplot_titles = [\"% Applicants with RealEstate and Target = 1\", \"% Applicants with Car and Target = 1\"])\n",
    "fig.append_trace(tr1, 1, 1);\n",
    "fig.append_trace(tr3, 1, 2);\n",
    "fig['layout'].update(height=350, showlegend=False, margin=dict(l=120));\n",
    "iplot(fig);"
   ]
  },
  {
   "cell_type": "code",
   "execution_count": 16,
   "metadata": {},
   "outputs": [
    {
     "data": {
      "application/vnd.plotly.v1+json": {
       "data": [
        {
         "marker": {
          "color": "#f975ae"
         },
         "orientation": "h",
         "type": "bar",
         "uid": "0418538c-d20c-11e8-92d4-8c1645385240",
         "x": [
          271,
          866,
          1770,
          3267,
          11370,
          40149,
          248526
         ],
         "xaxis": "x",
         "y": [
          "Group of people",
          "Other_A",
          "Other_B",
          "Children",
          "Spouse, partner",
          "Family",
          "Unaccompanied"
         ],
         "yaxis": "y"
        },
        {
         "marker": {
          "color": "#f975ae"
         },
         "orientation": "h",
         "type": "bar",
         "uid": "0418538d-d20c-11e8-b5f7-8c1645385240",
         "x": [
          5,
          10,
          18,
          22,
          21703,
          55362,
          71617,
          158774
         ],
         "xaxis": "x2",
         "y": [
          "Maternity leave",
          "Businessman",
          "Student",
          "Unemployed",
          "State servant",
          "Pensioner",
          "Commercial associate",
          "Working"
         ],
         "yaxis": "y2"
        }
       ],
       "layout": {
        "annotations": [
         {
          "font": {
           "size": 16
          },
          "showarrow": false,
          "text": "Applicants Suite Type",
          "x": 0.225,
          "xanchor": "center",
          "xref": "paper",
          "y": 1,
          "yanchor": "bottom",
          "yref": "paper"
         },
         {
          "font": {
           "size": 16
          },
          "showarrow": false,
          "text": "Applicants Income Type",
          "x": 0.775,
          "xanchor": "center",
          "xref": "paper",
          "y": 1,
          "yanchor": "bottom",
          "yref": "paper"
         }
        ],
        "height": 400,
        "margin": {
         "l": 100
        },
        "showlegend": false,
        "xaxis": {
         "anchor": "y",
         "domain": [
          0,
          0.45
         ]
        },
        "xaxis2": {
         "anchor": "y2",
         "domain": [
          0.55,
          1
         ]
        },
        "yaxis": {
         "anchor": "x",
         "domain": [
          0,
          1
         ]
        },
        "yaxis2": {
         "anchor": "x2",
         "domain": [
          0,
          1
         ]
        }
       }
      },
      "text/html": [
       "<div id=\"2a19d052-46d0-4d64-b2cc-deb051f22328\" style=\"height: 400px; width: 100%;\" class=\"plotly-graph-div\"></div><script type=\"text/javascript\">require([\"plotly\"], function(Plotly) { window.PLOTLYENV=window.PLOTLYENV || {};window.PLOTLYENV.BASE_URL=\"https://plot.ly\";Plotly.newPlot(\"2a19d052-46d0-4d64-b2cc-deb051f22328\", [{\"marker\": {\"color\": \"#f975ae\"}, \"orientation\": \"h\", \"x\": [271, 866, 1770, 3267, 11370, 40149, 248526], \"y\": [\"Group of people\", \"Other_A\", \"Other_B\", \"Children\", \"Spouse, partner\", \"Family\", \"Unaccompanied\"], \"type\": \"bar\", \"uid\": \"0418538c-d20c-11e8-92d4-8c1645385240\", \"xaxis\": \"x\", \"yaxis\": \"y\"}, {\"marker\": {\"color\": \"#f975ae\"}, \"orientation\": \"h\", \"x\": [5, 10, 18, 22, 21703, 55362, 71617, 158774], \"y\": [\"Maternity leave\", \"Businessman\", \"Student\", \"Unemployed\", \"State servant\", \"Pensioner\", \"Commercial associate\", \"Working\"], \"type\": \"bar\", \"uid\": \"0418538d-d20c-11e8-b5f7-8c1645385240\", \"xaxis\": \"x2\", \"yaxis\": \"y2\"}], {\"annotations\": [{\"font\": {\"size\": 16}, \"showarrow\": false, \"text\": \"Applicants Suite Type\", \"x\": 0.225, \"xanchor\": \"center\", \"xref\": \"paper\", \"y\": 1.0, \"yanchor\": \"bottom\", \"yref\": \"paper\"}, {\"font\": {\"size\": 16}, \"showarrow\": false, \"text\": \"Applicants Income Type\", \"x\": 0.775, \"xanchor\": \"center\", \"xref\": \"paper\", \"y\": 1.0, \"yanchor\": \"bottom\", \"yref\": \"paper\"}], \"xaxis\": {\"anchor\": \"y\", \"domain\": [0.0, 0.45]}, \"yaxis\": {\"anchor\": \"x\", \"domain\": [0.0, 1.0]}, \"xaxis2\": {\"anchor\": \"y2\", \"domain\": [0.55, 1.0]}, \"yaxis2\": {\"anchor\": \"x2\", \"domain\": [0.0, 1.0]}, \"margin\": {\"l\": 100}, \"height\": 400, \"showlegend\": false}, {\"showLink\": true, \"linkText\": \"Export to plot.ly\"})});</script>"
      ],
      "text/vnd.plotly.v1+html": [
       "<div id=\"2a19d052-46d0-4d64-b2cc-deb051f22328\" style=\"height: 400px; width: 100%;\" class=\"plotly-graph-div\"></div><script type=\"text/javascript\">require([\"plotly\"], function(Plotly) { window.PLOTLYENV=window.PLOTLYENV || {};window.PLOTLYENV.BASE_URL=\"https://plot.ly\";Plotly.newPlot(\"2a19d052-46d0-4d64-b2cc-deb051f22328\", [{\"marker\": {\"color\": \"#f975ae\"}, \"orientation\": \"h\", \"x\": [271, 866, 1770, 3267, 11370, 40149, 248526], \"y\": [\"Group of people\", \"Other_A\", \"Other_B\", \"Children\", \"Spouse, partner\", \"Family\", \"Unaccompanied\"], \"type\": \"bar\", \"uid\": \"0418538c-d20c-11e8-92d4-8c1645385240\", \"xaxis\": \"x\", \"yaxis\": \"y\"}, {\"marker\": {\"color\": \"#f975ae\"}, \"orientation\": \"h\", \"x\": [5, 10, 18, 22, 21703, 55362, 71617, 158774], \"y\": [\"Maternity leave\", \"Businessman\", \"Student\", \"Unemployed\", \"State servant\", \"Pensioner\", \"Commercial associate\", \"Working\"], \"type\": \"bar\", \"uid\": \"0418538d-d20c-11e8-b5f7-8c1645385240\", \"xaxis\": \"x2\", \"yaxis\": \"y2\"}], {\"annotations\": [{\"font\": {\"size\": 16}, \"showarrow\": false, \"text\": \"Applicants Suite Type\", \"x\": 0.225, \"xanchor\": \"center\", \"xref\": \"paper\", \"y\": 1.0, \"yanchor\": \"bottom\", \"yref\": \"paper\"}, {\"font\": {\"size\": 16}, \"showarrow\": false, \"text\": \"Applicants Income Type\", \"x\": 0.775, \"xanchor\": \"center\", \"xref\": \"paper\", \"y\": 1.0, \"yanchor\": \"bottom\", \"yref\": \"paper\"}], \"xaxis\": {\"anchor\": \"y\", \"domain\": [0.0, 0.45]}, \"yaxis\": {\"anchor\": \"x\", \"domain\": [0.0, 1.0]}, \"xaxis2\": {\"anchor\": \"y2\", \"domain\": [0.55, 1.0]}, \"yaxis2\": {\"anchor\": \"x2\", \"domain\": [0.0, 1.0]}, \"margin\": {\"l\": 100}, \"height\": 400, \"showlegend\": false}, {\"showLink\": true, \"linkText\": \"Export to plot.ly\"})});</script>"
      ]
     },
     "metadata": {},
     "output_type": "display_data"
    }
   ],
   "source": [
    "tr0 = bar_hor(app_train, \"NAME_TYPE_SUITE\", \"Distribution of CODE_GENDER Variable\" ,\"#f975ae\", w=700, lm=100, return_trace= True)\n",
    "tr1 = bar_hor(app_train, \"NAME_INCOME_TYPE\", \"Distribution of CODE_GENDER Variable\" ,\"#f975ae\", w=700, lm=100, return_trace= True)\n",
    "\n",
    "fig = tools.make_subplots(rows=1, cols=2, print_grid=False, subplot_titles = ['Applicants Suite Type' , 'Applicants Income Type'])\n",
    "fig.append_trace(tr0, 1, 1);\n",
    "fig.append_trace(tr1, 1, 2);\n",
    "fig['layout'].update(height=400, showlegend=False, margin=dict(l=100));\n",
    "iplot(fig);"
   ]
  },
  {
   "cell_type": "code",
   "execution_count": 17,
   "metadata": {},
   "outputs": [
    {
     "data": {
      "application/vnd.plotly.v1+json": {
       "data": [
        {
         "marker": {
          "color": "#96D38C"
         },
         "name": "Target : 1",
         "type": "bar",
         "uid": "0a655758-d20c-11e8-83ca-8c1645385240",
         "x": [
          "Unaccompanied",
          "Family",
          "Spouse, partner",
          "Children",
          "Other_B",
          "Other_A",
          "Group of people"
         ],
         "xaxis": "x",
         "y": [
          8.183047246565751,
          7.494582679518793,
          7.871591908531222,
          7.376798285889195,
          9.830508474576272,
          8.775981524249422,
          8.487084870848708
         ],
         "yaxis": "y"
        },
        {
         "marker": {
          "color": "#FEBFB3"
         },
         "name": "Target : 0",
         "type": "bar",
         "uid": "0a655759-d20c-11e8-a12f-8c1645385240",
         "x": [
          "Unaccompanied",
          "Family",
          "Spouse, partner",
          "Children",
          "Other_B",
          "Other_A",
          "Group of people"
         ],
         "xaxis": "x2",
         "y": [
          91.81695275343425,
          92.50541732048121,
          92.12840809146877,
          92.6232017141108,
          90.16949152542372,
          91.22401847575058,
          91.5129151291513
         ],
         "yaxis": "y2"
        }
       ],
       "layout": {
        "annotations": [
         {
          "font": {
           "size": 16
          },
          "showarrow": false,
          "text": "Applicants Type Suites distribution when Target = 1",
          "x": 0.225,
          "xanchor": "center",
          "xref": "paper",
          "y": 1,
          "yanchor": "bottom",
          "yref": "paper"
         },
         {
          "font": {
           "size": 16
          },
          "showarrow": false,
          "text": "Applicants Type Suites distribution when Target = 0",
          "x": 0.775,
          "xanchor": "center",
          "xref": "paper",
          "y": 1,
          "yanchor": "bottom",
          "yref": "paper"
         }
        ],
        "height": 350,
        "margin": {
         "l": 120
        },
        "showlegend": false,
        "xaxis": {
         "anchor": "y",
         "domain": [
          0,
          0.45
         ]
        },
        "xaxis2": {
         "anchor": "y2",
         "domain": [
          0.55,
          1
         ]
        },
        "yaxis": {
         "anchor": "x",
         "domain": [
          0,
          1
         ]
        },
        "yaxis2": {
         "anchor": "x2",
         "domain": [
          0,
          1
         ]
        }
       }
      },
      "text/html": [
       "<div id=\"8f35a27d-23f5-41f7-b8b1-457765e1a1c5\" style=\"height: 350px; width: 100%;\" class=\"plotly-graph-div\"></div><script type=\"text/javascript\">require([\"plotly\"], function(Plotly) { window.PLOTLYENV=window.PLOTLYENV || {};window.PLOTLYENV.BASE_URL=\"https://plot.ly\";Plotly.newPlot(\"8f35a27d-23f5-41f7-b8b1-457765e1a1c5\", [{\"marker\": {\"color\": \"#96D38C\"}, \"name\": \"Target : 1\", \"x\": [\"Unaccompanied\", \"Family\", \"Spouse, partner\", \"Children\", \"Other_B\", \"Other_A\", \"Group of people\"], \"y\": [8.183047246565751, 7.494582679518793, 7.871591908531222, 7.376798285889195, 9.830508474576272, 8.775981524249422, 8.487084870848708], \"type\": \"bar\", \"uid\": \"0a655758-d20c-11e8-83ca-8c1645385240\", \"xaxis\": \"x\", \"yaxis\": \"y\"}, {\"marker\": {\"color\": \"#FEBFB3\"}, \"name\": \"Target : 0\", \"x\": [\"Unaccompanied\", \"Family\", \"Spouse, partner\", \"Children\", \"Other_B\", \"Other_A\", \"Group of people\"], \"y\": [91.81695275343425, 92.50541732048121, 92.12840809146877, 92.6232017141108, 90.16949152542372, 91.22401847575058, 91.5129151291513], \"type\": \"bar\", \"uid\": \"0a655759-d20c-11e8-a12f-8c1645385240\", \"xaxis\": \"x2\", \"yaxis\": \"y2\"}], {\"annotations\": [{\"font\": {\"size\": 16}, \"showarrow\": false, \"text\": \"Applicants Type Suites distribution when Target = 1\", \"x\": 0.225, \"xanchor\": \"center\", \"xref\": \"paper\", \"y\": 1.0, \"yanchor\": \"bottom\", \"yref\": \"paper\"}, {\"font\": {\"size\": 16}, \"showarrow\": false, \"text\": \"Applicants Type Suites distribution when Target = 0\", \"x\": 0.775, \"xanchor\": \"center\", \"xref\": \"paper\", \"y\": 1.0, \"yanchor\": \"bottom\", \"yref\": \"paper\"}], \"xaxis\": {\"anchor\": \"y\", \"domain\": [0.0, 0.45]}, \"yaxis\": {\"anchor\": \"x\", \"domain\": [0.0, 1.0]}, \"xaxis2\": {\"anchor\": \"y2\", \"domain\": [0.55, 1.0]}, \"yaxis2\": {\"anchor\": \"x2\", \"domain\": [0.0, 1.0]}, \"margin\": {\"l\": 120}, \"height\": 350, \"showlegend\": false}, {\"showLink\": true, \"linkText\": \"Export to plot.ly\"})});</script>"
      ],
      "text/vnd.plotly.v1+html": [
       "<div id=\"8f35a27d-23f5-41f7-b8b1-457765e1a1c5\" style=\"height: 350px; width: 100%;\" class=\"plotly-graph-div\"></div><script type=\"text/javascript\">require([\"plotly\"], function(Plotly) { window.PLOTLYENV=window.PLOTLYENV || {};window.PLOTLYENV.BASE_URL=\"https://plot.ly\";Plotly.newPlot(\"8f35a27d-23f5-41f7-b8b1-457765e1a1c5\", [{\"marker\": {\"color\": \"#96D38C\"}, \"name\": \"Target : 1\", \"x\": [\"Unaccompanied\", \"Family\", \"Spouse, partner\", \"Children\", \"Other_B\", \"Other_A\", \"Group of people\"], \"y\": [8.183047246565751, 7.494582679518793, 7.871591908531222, 7.376798285889195, 9.830508474576272, 8.775981524249422, 8.487084870848708], \"type\": \"bar\", \"uid\": \"0a655758-d20c-11e8-83ca-8c1645385240\", \"xaxis\": \"x\", \"yaxis\": \"y\"}, {\"marker\": {\"color\": \"#FEBFB3\"}, \"name\": \"Target : 0\", \"x\": [\"Unaccompanied\", \"Family\", \"Spouse, partner\", \"Children\", \"Other_B\", \"Other_A\", \"Group of people\"], \"y\": [91.81695275343425, 92.50541732048121, 92.12840809146877, 92.6232017141108, 90.16949152542372, 91.22401847575058, 91.5129151291513], \"type\": \"bar\", \"uid\": \"0a655759-d20c-11e8-a12f-8c1645385240\", \"xaxis\": \"x2\", \"yaxis\": \"y2\"}], {\"annotations\": [{\"font\": {\"size\": 16}, \"showarrow\": false, \"text\": \"Applicants Type Suites distribution when Target = 1\", \"x\": 0.225, \"xanchor\": \"center\", \"xref\": \"paper\", \"y\": 1.0, \"yanchor\": \"bottom\", \"yref\": \"paper\"}, {\"font\": {\"size\": 16}, \"showarrow\": false, \"text\": \"Applicants Type Suites distribution when Target = 0\", \"x\": 0.775, \"xanchor\": \"center\", \"xref\": \"paper\", \"y\": 1.0, \"yanchor\": \"bottom\", \"yref\": \"paper\"}], \"xaxis\": {\"anchor\": \"y\", \"domain\": [0.0, 0.45]}, \"yaxis\": {\"anchor\": \"x\", \"domain\": [0.0, 1.0]}, \"xaxis2\": {\"anchor\": \"y2\", \"domain\": [0.55, 1.0]}, \"yaxis2\": {\"anchor\": \"x2\", \"domain\": [0.0, 1.0]}, \"margin\": {\"l\": 120}, \"height\": 350, \"showlegend\": false}, {\"showLink\": true, \"linkText\": \"Export to plot.ly\"})});</script>"
      ]
     },
     "metadata": {},
     "output_type": "display_data"
    },
    {
     "data": {
      "application/vnd.plotly.v1+json": {
       "data": [
        {
         "marker": {
          "color": "#96D38C"
         },
         "name": "Target : 1",
         "type": "bar",
         "uid": "0a9c19b0-d20c-11e8-9599-8c1645385240",
         "x": [
          "Working",
          "Commercial associate",
          "Pensioner",
          "State servant",
          "Unemployed",
          "Maternity leave"
         ],
         "xaxis": "x",
         "y": [
          9.588471664126368,
          7.484256531270509,
          5.386366099490625,
          5.754964751416855,
          36.36363636363637,
          40
         ],
         "yaxis": "y"
        },
        {
         "marker": {
          "color": "#FEBFB3"
         },
         "name": "Target : 0",
         "type": "bar",
         "uid": "0a9c8e86-d20c-11e8-82dd-8c1645385240",
         "x": [
          "Working",
          "Commercial associate",
          "Pensioner",
          "State servant",
          "Student",
          "Unemployed",
          "Businessman",
          "Maternity leave"
         ],
         "xaxis": "x2",
         "y": [
          90.41152833587363,
          92.5157434687295,
          94.61363390050937,
          94.24503524858315,
          100,
          63.63636363636363,
          100,
          60
         ],
         "yaxis": "y2"
        }
       ],
       "layout": {
        "annotations": [
         {
          "font": {
           "size": 16
          },
          "showarrow": false,
          "text": "Applicants Income Types when Target = 1",
          "x": 0.225,
          "xanchor": "center",
          "xref": "paper",
          "y": 1,
          "yanchor": "bottom",
          "yref": "paper"
         },
         {
          "font": {
           "size": 16
          },
          "showarrow": false,
          "text": "Applicants Income Type When Target = 0",
          "x": 0.775,
          "xanchor": "center",
          "xref": "paper",
          "y": 1,
          "yanchor": "bottom",
          "yref": "paper"
         }
        ],
        "height": 350,
        "margin": {
         "l": 120
        },
        "showlegend": false,
        "xaxis": {
         "anchor": "y",
         "domain": [
          0,
          0.45
         ]
        },
        "xaxis2": {
         "anchor": "y2",
         "domain": [
          0.55,
          1
         ]
        },
        "yaxis": {
         "anchor": "x",
         "domain": [
          0,
          1
         ]
        },
        "yaxis2": {
         "anchor": "x2",
         "domain": [
          0,
          1
         ]
        }
       }
      },
      "text/html": [
       "<div id=\"6917fc88-2c27-4d08-be3a-fc5e55e2ba03\" style=\"height: 350px; width: 100%;\" class=\"plotly-graph-div\"></div><script type=\"text/javascript\">require([\"plotly\"], function(Plotly) { window.PLOTLYENV=window.PLOTLYENV || {};window.PLOTLYENV.BASE_URL=\"https://plot.ly\";Plotly.newPlot(\"6917fc88-2c27-4d08-be3a-fc5e55e2ba03\", [{\"marker\": {\"color\": \"#96D38C\"}, \"name\": \"Target : 1\", \"x\": [\"Working\", \"Commercial associate\", \"Pensioner\", \"State servant\", \"Unemployed\", \"Maternity leave\"], \"y\": [9.588471664126368, 7.484256531270509, 5.386366099490625, 5.754964751416855, 36.36363636363637, 40.0], \"type\": \"bar\", \"uid\": \"0a9c19b0-d20c-11e8-9599-8c1645385240\", \"xaxis\": \"x\", \"yaxis\": \"y\"}, {\"marker\": {\"color\": \"#FEBFB3\"}, \"name\": \"Target : 0\", \"x\": [\"Working\", \"Commercial associate\", \"Pensioner\", \"State servant\", \"Student\", \"Unemployed\", \"Businessman\", \"Maternity leave\"], \"y\": [90.41152833587363, 92.5157434687295, 94.61363390050937, 94.24503524858315, 100.0, 63.63636363636363, 100.0, 60.0], \"type\": \"bar\", \"uid\": \"0a9c8e86-d20c-11e8-82dd-8c1645385240\", \"xaxis\": \"x2\", \"yaxis\": \"y2\"}], {\"annotations\": [{\"font\": {\"size\": 16}, \"showarrow\": false, \"text\": \"Applicants Income Types when Target = 1\", \"x\": 0.225, \"xanchor\": \"center\", \"xref\": \"paper\", \"y\": 1.0, \"yanchor\": \"bottom\", \"yref\": \"paper\"}, {\"font\": {\"size\": 16}, \"showarrow\": false, \"text\": \"Applicants Income Type When Target = 0\", \"x\": 0.775, \"xanchor\": \"center\", \"xref\": \"paper\", \"y\": 1.0, \"yanchor\": \"bottom\", \"yref\": \"paper\"}], \"xaxis\": {\"anchor\": \"y\", \"domain\": [0.0, 0.45]}, \"yaxis\": {\"anchor\": \"x\", \"domain\": [0.0, 1.0]}, \"xaxis2\": {\"anchor\": \"y2\", \"domain\": [0.55, 1.0]}, \"yaxis2\": {\"anchor\": \"x2\", \"domain\": [0.0, 1.0]}, \"margin\": {\"l\": 120}, \"height\": 350, \"showlegend\": false}, {\"showLink\": true, \"linkText\": \"Export to plot.ly\"})});</script>"
      ],
      "text/vnd.plotly.v1+html": [
       "<div id=\"6917fc88-2c27-4d08-be3a-fc5e55e2ba03\" style=\"height: 350px; width: 100%;\" class=\"plotly-graph-div\"></div><script type=\"text/javascript\">require([\"plotly\"], function(Plotly) { window.PLOTLYENV=window.PLOTLYENV || {};window.PLOTLYENV.BASE_URL=\"https://plot.ly\";Plotly.newPlot(\"6917fc88-2c27-4d08-be3a-fc5e55e2ba03\", [{\"marker\": {\"color\": \"#96D38C\"}, \"name\": \"Target : 1\", \"x\": [\"Working\", \"Commercial associate\", \"Pensioner\", \"State servant\", \"Unemployed\", \"Maternity leave\"], \"y\": [9.588471664126368, 7.484256531270509, 5.386366099490625, 5.754964751416855, 36.36363636363637, 40.0], \"type\": \"bar\", \"uid\": \"0a9c19b0-d20c-11e8-9599-8c1645385240\", \"xaxis\": \"x\", \"yaxis\": \"y\"}, {\"marker\": {\"color\": \"#FEBFB3\"}, \"name\": \"Target : 0\", \"x\": [\"Working\", \"Commercial associate\", \"Pensioner\", \"State servant\", \"Student\", \"Unemployed\", \"Businessman\", \"Maternity leave\"], \"y\": [90.41152833587363, 92.5157434687295, 94.61363390050937, 94.24503524858315, 100.0, 63.63636363636363, 100.0, 60.0], \"type\": \"bar\", \"uid\": \"0a9c8e86-d20c-11e8-82dd-8c1645385240\", \"xaxis\": \"x2\", \"yaxis\": \"y2\"}], {\"annotations\": [{\"font\": {\"size\": 16}, \"showarrow\": false, \"text\": \"Applicants Income Types when Target = 1\", \"x\": 0.225, \"xanchor\": \"center\", \"xref\": \"paper\", \"y\": 1.0, \"yanchor\": \"bottom\", \"yref\": \"paper\"}, {\"font\": {\"size\": 16}, \"showarrow\": false, \"text\": \"Applicants Income Type When Target = 0\", \"x\": 0.775, \"xanchor\": \"center\", \"xref\": \"paper\", \"y\": 1.0, \"yanchor\": \"bottom\", \"yref\": \"paper\"}], \"xaxis\": {\"anchor\": \"y\", \"domain\": [0.0, 0.45]}, \"yaxis\": {\"anchor\": \"x\", \"domain\": [0.0, 1.0]}, \"xaxis2\": {\"anchor\": \"y2\", \"domain\": [0.55, 1.0]}, \"yaxis2\": {\"anchor\": \"x2\", \"domain\": [0.0, 1.0]}, \"margin\": {\"l\": 120}, \"height\": 350, \"showlegend\": false}, {\"showLink\": true, \"linkText\": \"Export to plot.ly\"})});</script>"
      ]
     },
     "metadata": {},
     "output_type": "display_data"
    }
   ],
   "source": [
    "tr1, tr2 = gp('NAME_TYPE_SUITE', 'Applicants Type Suites which repayed the loan')\n",
    "fig = tools.make_subplots(rows=1, cols=2, print_grid=False, \n",
    "                          subplot_titles = [\"Applicants Type Suites distribution when Target = 1\", \"Applicants Type Suites distribution when Target = 0\"])\n",
    "fig.append_trace(tr1, 1, 1);\n",
    "fig.append_trace(tr2, 1, 2);\n",
    "fig['layout'].update(height=350, showlegend=False, margin=dict(l=120));\n",
    "iplot(fig);\n",
    "\n",
    "\n",
    "tr1, tr2 = gp('NAME_INCOME_TYPE', 'Applicants Income Types which repayed the loan')\n",
    "fig = tools.make_subplots(rows=1, cols=2, print_grid=False, \n",
    "                          subplot_titles = [\"Applicants Income Types when Target = 1\", \"Applicants Income Type When Target = 0\"])\n",
    "fig.append_trace(tr1, 1, 1);\n",
    "fig.append_trace(tr2, 1, 2);\n",
    "fig['layout'].update(height=350, showlegend=False, margin=dict(l=120));\n",
    "iplot(fig);"
   ]
  },
  {
   "cell_type": "code",
   "execution_count": 19,
   "metadata": {},
   "outputs": [
    {
     "data": {
      "application/vnd.plotly.v1+json": {
       "data": [
        {
         "labels": [
          "Cash loans",
          "Revolving loans"
         ],
         "marker": {
          "colors": [
           "#FEBFB3",
           "#96D38C"
          ],
          "line": {
           "color": "#fff",
           "width": 2
          }
         },
         "textfont": {
          "size": 12
         },
         "type": "pie",
         "uid": "12db34fa-d20c-11e8-811e-8c1645385240",
         "values": [
          278232,
          29279
         ]
        }
       ],
       "layout": {
        "height": 400,
        "title": "Applicants Contract Type"
       }
      },
      "text/html": [
       "<div id=\"16503c04-fb91-4a77-81e6-dafcd6a86f97\" style=\"height: 400px; width: 100%;\" class=\"plotly-graph-div\"></div><script type=\"text/javascript\">require([\"plotly\"], function(Plotly) { window.PLOTLYENV=window.PLOTLYENV || {};window.PLOTLYENV.BASE_URL=\"https://plot.ly\";Plotly.newPlot(\"16503c04-fb91-4a77-81e6-dafcd6a86f97\", [{\"labels\": [\"Cash loans\", \"Revolving loans\"], \"marker\": {\"colors\": [\"#FEBFB3\", \"#96D38C\"], \"line\": {\"color\": \"#fff\", \"width\": 2}}, \"textfont\": {\"size\": 12}, \"values\": [278232, 29279], \"type\": \"pie\", \"uid\": \"12db34fa-d20c-11e8-811e-8c1645385240\"}], {\"height\": 400, \"title\": \"Applicants Contract Type\"}, {\"showLink\": true, \"linkText\": \"Export to plot.ly\"})});</script>"
      ],
      "text/vnd.plotly.v1+html": [
       "<div id=\"16503c04-fb91-4a77-81e6-dafcd6a86f97\" style=\"height: 400px; width: 100%;\" class=\"plotly-graph-div\"></div><script type=\"text/javascript\">require([\"plotly\"], function(Plotly) { window.PLOTLYENV=window.PLOTLYENV || {};window.PLOTLYENV.BASE_URL=\"https://plot.ly\";Plotly.newPlot(\"16503c04-fb91-4a77-81e6-dafcd6a86f97\", [{\"labels\": [\"Cash loans\", \"Revolving loans\"], \"marker\": {\"colors\": [\"#FEBFB3\", \"#96D38C\"], \"line\": {\"color\": \"#fff\", \"width\": 2}}, \"textfont\": {\"size\": 12}, \"values\": [278232, 29279], \"type\": \"pie\", \"uid\": \"12db34fa-d20c-11e8-811e-8c1645385240\"}], {\"height\": 400, \"title\": \"Applicants Contract Type\"}, {\"showLink\": true, \"linkText\": \"Export to plot.ly\"})});</script>"
      ]
     },
     "metadata": {},
     "output_type": "display_data"
    }
   ],
   "source": [
    "t = app_train['NAME_CONTRACT_TYPE'].value_counts()\n",
    "labels = t.index\n",
    "values = t.values\n",
    "colors = ['#FEBFB3','#96D38C']\n",
    "trace = go.Pie(labels=labels, values=values,\n",
    "#                hoverinfo='', textinfo='',\n",
    "               textfont=dict(size=12),\n",
    "               marker=dict(colors=colors,\n",
    "                           line=dict(color='#fff', width=2)))\n",
    "layout = go.Layout(title='Applicants Contract Type', height=400)\n",
    "fig = go.Figure(data=[trace], layout=layout)\n",
    "iplot(fig)"
   ]
  },
  {
   "cell_type": "code",
   "execution_count": 20,
   "metadata": {},
   "outputs": [
    {
     "data": {
      "application/vnd.plotly.v1+json": {
       "data": [
        {
         "marker": {
          "color": "#f975ae"
         },
         "orientation": "h",
         "type": "bar",
         "uid": "1934dc70-d20c-11e8-abd8-8c1645385240",
         "x": [
          164,
          3816,
          10277,
          74863,
          218391
         ],
         "xaxis": "x",
         "y": [
          "Academic degree",
          "Lower secondary",
          "Incomplete higher",
          "Higher education",
          "Secondary / secondary special"
         ],
         "yaxis": "y"
        },
        {
         "marker": {
          "color": "#f975ae"
         },
         "orientation": "h",
         "type": "bar",
         "uid": "1934dc71-d20c-11e8-855c-8c1645385240",
         "x": [
          1122,
          2617,
          4881,
          11183,
          14840,
          272868
         ],
         "xaxis": "x2",
         "y": [
          "Co-op apartment",
          "Office apartment",
          "Rented apartment",
          "Municipal apartment",
          "With parents",
          "House / apartment"
         ],
         "yaxis": "y2"
        }
       ],
       "layout": {
        "annotations": [
         {
          "font": {
           "size": 16
          },
          "showarrow": false,
          "text": "Applicants Education Type",
          "x": 0.225,
          "xanchor": "center",
          "xref": "paper",
          "y": 1,
          "yanchor": "bottom",
          "yref": "paper"
         },
         {
          "font": {
           "size": 16
          },
          "showarrow": false,
          "text": "Applicants Housing Type",
          "x": 0.775,
          "xanchor": "center",
          "xref": "paper",
          "y": 1,
          "yanchor": "bottom",
          "yref": "paper"
         }
        ],
        "height": 400,
        "margin": {
         "l": 100
        },
        "showlegend": false,
        "xaxis": {
         "anchor": "y",
         "domain": [
          0,
          0.45
         ]
        },
        "xaxis2": {
         "anchor": "y2",
         "domain": [
          0.55,
          1
         ]
        },
        "yaxis": {
         "anchor": "x",
         "domain": [
          0,
          1
         ]
        },
        "yaxis2": {
         "anchor": "x2",
         "domain": [
          0,
          1
         ]
        }
       }
      },
      "text/html": [
       "<div id=\"f3503ef9-6c05-4026-a07d-b4caa2cd9009\" style=\"height: 400px; width: 100%;\" class=\"plotly-graph-div\"></div><script type=\"text/javascript\">require([\"plotly\"], function(Plotly) { window.PLOTLYENV=window.PLOTLYENV || {};window.PLOTLYENV.BASE_URL=\"https://plot.ly\";Plotly.newPlot(\"f3503ef9-6c05-4026-a07d-b4caa2cd9009\", [{\"marker\": {\"color\": \"#f975ae\"}, \"orientation\": \"h\", \"x\": [164, 3816, 10277, 74863, 218391], \"y\": [\"Academic degree\", \"Lower secondary\", \"Incomplete higher\", \"Higher education\", \"Secondary / secondary special\"], \"type\": \"bar\", \"uid\": \"1934dc70-d20c-11e8-abd8-8c1645385240\", \"xaxis\": \"x\", \"yaxis\": \"y\"}, {\"marker\": {\"color\": \"#f975ae\"}, \"orientation\": \"h\", \"x\": [1122, 2617, 4881, 11183, 14840, 272868], \"y\": [\"Co-op apartment\", \"Office apartment\", \"Rented apartment\", \"Municipal apartment\", \"With parents\", \"House / apartment\"], \"type\": \"bar\", \"uid\": \"1934dc71-d20c-11e8-855c-8c1645385240\", \"xaxis\": \"x2\", \"yaxis\": \"y2\"}], {\"annotations\": [{\"font\": {\"size\": 16}, \"showarrow\": false, \"text\": \"Applicants Education Type\", \"x\": 0.225, \"xanchor\": \"center\", \"xref\": \"paper\", \"y\": 1.0, \"yanchor\": \"bottom\", \"yref\": \"paper\"}, {\"font\": {\"size\": 16}, \"showarrow\": false, \"text\": \"Applicants Housing Type\", \"x\": 0.775, \"xanchor\": \"center\", \"xref\": \"paper\", \"y\": 1.0, \"yanchor\": \"bottom\", \"yref\": \"paper\"}], \"xaxis\": {\"anchor\": \"y\", \"domain\": [0.0, 0.45]}, \"yaxis\": {\"anchor\": \"x\", \"domain\": [0.0, 1.0]}, \"xaxis2\": {\"anchor\": \"y2\", \"domain\": [0.55, 1.0]}, \"yaxis2\": {\"anchor\": \"x2\", \"domain\": [0.0, 1.0]}, \"margin\": {\"l\": 100}, \"height\": 400, \"showlegend\": false}, {\"showLink\": true, \"linkText\": \"Export to plot.ly\"})});</script>"
      ],
      "text/vnd.plotly.v1+html": [
       "<div id=\"f3503ef9-6c05-4026-a07d-b4caa2cd9009\" style=\"height: 400px; width: 100%;\" class=\"plotly-graph-div\"></div><script type=\"text/javascript\">require([\"plotly\"], function(Plotly) { window.PLOTLYENV=window.PLOTLYENV || {};window.PLOTLYENV.BASE_URL=\"https://plot.ly\";Plotly.newPlot(\"f3503ef9-6c05-4026-a07d-b4caa2cd9009\", [{\"marker\": {\"color\": \"#f975ae\"}, \"orientation\": \"h\", \"x\": [164, 3816, 10277, 74863, 218391], \"y\": [\"Academic degree\", \"Lower secondary\", \"Incomplete higher\", \"Higher education\", \"Secondary / secondary special\"], \"type\": \"bar\", \"uid\": \"1934dc70-d20c-11e8-abd8-8c1645385240\", \"xaxis\": \"x\", \"yaxis\": \"y\"}, {\"marker\": {\"color\": \"#f975ae\"}, \"orientation\": \"h\", \"x\": [1122, 2617, 4881, 11183, 14840, 272868], \"y\": [\"Co-op apartment\", \"Office apartment\", \"Rented apartment\", \"Municipal apartment\", \"With parents\", \"House / apartment\"], \"type\": \"bar\", \"uid\": \"1934dc71-d20c-11e8-855c-8c1645385240\", \"xaxis\": \"x2\", \"yaxis\": \"y2\"}], {\"annotations\": [{\"font\": {\"size\": 16}, \"showarrow\": false, \"text\": \"Applicants Education Type\", \"x\": 0.225, \"xanchor\": \"center\", \"xref\": \"paper\", \"y\": 1.0, \"yanchor\": \"bottom\", \"yref\": \"paper\"}, {\"font\": {\"size\": 16}, \"showarrow\": false, \"text\": \"Applicants Housing Type\", \"x\": 0.775, \"xanchor\": \"center\", \"xref\": \"paper\", \"y\": 1.0, \"yanchor\": \"bottom\", \"yref\": \"paper\"}], \"xaxis\": {\"anchor\": \"y\", \"domain\": [0.0, 0.45]}, \"yaxis\": {\"anchor\": \"x\", \"domain\": [0.0, 1.0]}, \"xaxis2\": {\"anchor\": \"y2\", \"domain\": [0.55, 1.0]}, \"yaxis2\": {\"anchor\": \"x2\", \"domain\": [0.0, 1.0]}, \"margin\": {\"l\": 100}, \"height\": 400, \"showlegend\": false}, {\"showLink\": true, \"linkText\": \"Export to plot.ly\"})});</script>"
      ]
     },
     "metadata": {},
     "output_type": "display_data"
    },
    {
     "data": {
      "application/vnd.plotly.v1+json": {
       "data": [
        {
         "marker": {
          "color": "#96D38C"
         },
         "name": "Target : 1",
         "type": "bar",
         "uid": "19897d1a-d20c-11e8-a268-8c1645385240",
         "x": [
          "Secondary / secondary special",
          "Higher education",
          "Incomplete higher",
          "Lower secondary",
          "Academic degree"
         ],
         "xaxis": "x",
         "y": [
          8.939928843221562,
          5.355115344028425,
          8.484966429891992,
          10.927672955974844,
          1.829268292682927
         ],
         "yaxis": "y"
        },
        {
         "marker": {
          "color": "#96D38C"
         },
         "name": "Target : 1",
         "type": "bar",
         "uid": "1989f1fa-d20c-11e8-aebd-8c1645385240",
         "x": [
          "House / apartment",
          "With parents",
          "Municipal apartment",
          "Rented apartment",
          "Office apartment",
          "Co-op apartment"
         ],
         "xaxis": "x2",
         "y": [
          7.795710746588094,
          11.69811320754717,
          8.53974783153,
          12.313050604384348,
          6.572411157814291,
          7.932263814616756
         ],
         "yaxis": "y2"
        }
       ],
       "layout": {
        "annotations": [
         {
          "font": {
           "size": 16
          },
          "showarrow": false,
          "text": "Applicants Education Types, Target=1",
          "x": 0.225,
          "xanchor": "center",
          "xref": "paper",
          "y": 1,
          "yanchor": "bottom",
          "yref": "paper"
         },
         {
          "font": {
           "size": 16
          },
          "showarrow": false,
          "text": "Applicants Housing Type, Target=1",
          "x": 0.775,
          "xanchor": "center",
          "xref": "paper",
          "y": 1,
          "yanchor": "bottom",
          "yref": "paper"
         }
        ],
        "height": 350,
        "margin": {
         "l": 30
        },
        "showlegend": false,
        "xaxis": {
         "anchor": "y",
         "domain": [
          0,
          0.45
         ]
        },
        "xaxis2": {
         "anchor": "y2",
         "domain": [
          0.55,
          1
         ]
        },
        "yaxis": {
         "anchor": "x",
         "domain": [
          0,
          1
         ]
        },
        "yaxis2": {
         "anchor": "x2",
         "domain": [
          0,
          1
         ]
        }
       }
      },
      "text/html": [
       "<div id=\"7cce17ac-14d0-4793-8972-a02e60186067\" style=\"height: 350px; width: 100%;\" class=\"plotly-graph-div\"></div><script type=\"text/javascript\">require([\"plotly\"], function(Plotly) { window.PLOTLYENV=window.PLOTLYENV || {};window.PLOTLYENV.BASE_URL=\"https://plot.ly\";Plotly.newPlot(\"7cce17ac-14d0-4793-8972-a02e60186067\", [{\"marker\": {\"color\": \"#96D38C\"}, \"name\": \"Target : 1\", \"x\": [\"Secondary / secondary special\", \"Higher education\", \"Incomplete higher\", \"Lower secondary\", \"Academic degree\"], \"y\": [8.939928843221562, 5.355115344028425, 8.484966429891992, 10.927672955974844, 1.829268292682927], \"type\": \"bar\", \"uid\": \"19897d1a-d20c-11e8-a268-8c1645385240\", \"xaxis\": \"x\", \"yaxis\": \"y\"}, {\"marker\": {\"color\": \"#96D38C\"}, \"name\": \"Target : 1\", \"x\": [\"House / apartment\", \"With parents\", \"Municipal apartment\", \"Rented apartment\", \"Office apartment\", \"Co-op apartment\"], \"y\": [7.795710746588094, 11.69811320754717, 8.53974783153, 12.313050604384348, 6.572411157814291, 7.932263814616756], \"type\": \"bar\", \"uid\": \"1989f1fa-d20c-11e8-aebd-8c1645385240\", \"xaxis\": \"x2\", \"yaxis\": \"y2\"}], {\"annotations\": [{\"font\": {\"size\": 16}, \"showarrow\": false, \"text\": \"Applicants Education Types, Target=1\", \"x\": 0.225, \"xanchor\": \"center\", \"xref\": \"paper\", \"y\": 1.0, \"yanchor\": \"bottom\", \"yref\": \"paper\"}, {\"font\": {\"size\": 16}, \"showarrow\": false, \"text\": \"Applicants Housing Type, Target=1\", \"x\": 0.775, \"xanchor\": \"center\", \"xref\": \"paper\", \"y\": 1.0, \"yanchor\": \"bottom\", \"yref\": \"paper\"}], \"xaxis\": {\"anchor\": \"y\", \"domain\": [0.0, 0.45]}, \"yaxis\": {\"anchor\": \"x\", \"domain\": [0.0, 1.0]}, \"xaxis2\": {\"anchor\": \"y2\", \"domain\": [0.55, 1.0]}, \"yaxis2\": {\"anchor\": \"x2\", \"domain\": [0.0, 1.0]}, \"margin\": {\"l\": 30}, \"height\": 350, \"showlegend\": false}, {\"showLink\": true, \"linkText\": \"Export to plot.ly\"})});</script>"
      ],
      "text/vnd.plotly.v1+html": [
       "<div id=\"7cce17ac-14d0-4793-8972-a02e60186067\" style=\"height: 350px; width: 100%;\" class=\"plotly-graph-div\"></div><script type=\"text/javascript\">require([\"plotly\"], function(Plotly) { window.PLOTLYENV=window.PLOTLYENV || {};window.PLOTLYENV.BASE_URL=\"https://plot.ly\";Plotly.newPlot(\"7cce17ac-14d0-4793-8972-a02e60186067\", [{\"marker\": {\"color\": \"#96D38C\"}, \"name\": \"Target : 1\", \"x\": [\"Secondary / secondary special\", \"Higher education\", \"Incomplete higher\", \"Lower secondary\", \"Academic degree\"], \"y\": [8.939928843221562, 5.355115344028425, 8.484966429891992, 10.927672955974844, 1.829268292682927], \"type\": \"bar\", \"uid\": \"19897d1a-d20c-11e8-a268-8c1645385240\", \"xaxis\": \"x\", \"yaxis\": \"y\"}, {\"marker\": {\"color\": \"#96D38C\"}, \"name\": \"Target : 1\", \"x\": [\"House / apartment\", \"With parents\", \"Municipal apartment\", \"Rented apartment\", \"Office apartment\", \"Co-op apartment\"], \"y\": [7.795710746588094, 11.69811320754717, 8.53974783153, 12.313050604384348, 6.572411157814291, 7.932263814616756], \"type\": \"bar\", \"uid\": \"1989f1fa-d20c-11e8-aebd-8c1645385240\", \"xaxis\": \"x2\", \"yaxis\": \"y2\"}], {\"annotations\": [{\"font\": {\"size\": 16}, \"showarrow\": false, \"text\": \"Applicants Education Types, Target=1\", \"x\": 0.225, \"xanchor\": \"center\", \"xref\": \"paper\", \"y\": 1.0, \"yanchor\": \"bottom\", \"yref\": \"paper\"}, {\"font\": {\"size\": 16}, \"showarrow\": false, \"text\": \"Applicants Housing Type, Target=1\", \"x\": 0.775, \"xanchor\": \"center\", \"xref\": \"paper\", \"y\": 1.0, \"yanchor\": \"bottom\", \"yref\": \"paper\"}], \"xaxis\": {\"anchor\": \"y\", \"domain\": [0.0, 0.45]}, \"yaxis\": {\"anchor\": \"x\", \"domain\": [0.0, 1.0]}, \"xaxis2\": {\"anchor\": \"y2\", \"domain\": [0.55, 1.0]}, \"yaxis2\": {\"anchor\": \"x2\", \"domain\": [0.0, 1.0]}, \"margin\": {\"l\": 30}, \"height\": 350, \"showlegend\": false}, {\"showLink\": true, \"linkText\": \"Export to plot.ly\"})});</script>"
      ]
     },
     "metadata": {},
     "output_type": "display_data"
    }
   ],
   "source": [
    "tr1 = bar_hor(app_train, \"NAME_EDUCATION_TYPE\", \"Distribution of \" ,\"#f975ae\", w=700, lm=100, return_trace= True)\n",
    "tr2 = bar_hor(app_train, \"NAME_HOUSING_TYPE\", \"Distribution of \" ,\"#f975ae\", w=700, lm=100, return_trace = True)\n",
    "\n",
    "fig = tools.make_subplots(rows=1, cols=2, print_grid=False, subplot_titles = ['Applicants Education Type', 'Applicants Housing Type' ])\n",
    "fig.append_trace(tr1, 1, 1);\n",
    "fig.append_trace(tr2, 1, 2);\n",
    "fig['layout'].update(height=400, showlegend=False, margin=dict(l=100));\n",
    "iplot(fig);\n",
    "\n",
    "\n",
    "tr1, tr2 = gp('NAME_EDUCATION_TYPE', 'Applicants Income Types which repayed the loan')\n",
    "tr3, tr4 = gp('NAME_HOUSING_TYPE', 'Applicants Income Types which repayed the loan')\n",
    "fig = tools.make_subplots(rows=1, cols=2, print_grid=False, \n",
    "                          subplot_titles = [\"Applicants Education Types, Target=1\", \"Applicants Housing Type, Target=1\"])\n",
    "fig.append_trace(tr1, 1, 1);\n",
    "fig.append_trace(tr3, 1, 2);\n",
    "fig['layout'].update(height=350, showlegend=False, margin=dict(l=30));\n",
    "iplot(fig);"
   ]
  },
  {
   "cell_type": "code",
   "execution_count": 21,
   "metadata": {},
   "outputs": [
    {
     "data": {
      "application/vnd.plotly.v1+json": {
       "data": [
        {
         "marker": {
          "color": "#f975ae"
         },
         "orientation": "h",
         "type": "bar",
         "uid": "1efa0e7a-d20c-11e8-87b6-8c1645385240",
         "x": [
          24,
          49,
          64,
          67,
          85,
          109,
          112,
          201,
          260,
          305,
          317,
          348,
          369,
          379,
          396,
          429,
          458,
          560,
          577,
          597,
          599,
          631,
          877,
          950,
          966,
          1039,
          1187,
          1307,
          1327,
          1575,
          1811,
          1900,
          1974,
          2157,
          2204,
          2341,
          2454,
          2507,
          2634,
          2704,
          2958,
          3247,
          3278,
          3368,
          3492,
          5398,
          5984,
          6721,
          6880,
          7831,
          8893,
          10404,
          10553,
          11193,
          16683,
          38412,
          55374,
          67992
         ],
         "xaxis": "x",
         "y": [
          "Industry: type 8",
          "Trade: type 5",
          "Trade: type 4",
          "Industry: type 13",
          "Religion",
          "Industry: type 10",
          "Industry: type 6",
          "Transport: type 1",
          "Cleaning",
          "Legal Services",
          "Mobile",
          "Trade: type 1",
          "Industry: type 12",
          "Culture",
          "Realtor",
          "Advertising",
          "Industry: type 2",
          "Emergency",
          "Telecom",
          "Insurance",
          "Industry: type 5",
          "Trade: type 6",
          "Industry: type 4",
          "Electricity",
          "Hotel",
          "Industry: type 1",
          "Transport: type 3",
          "Industry: type 7",
          "University",
          "Services",
          "Restaurant",
          "Trade: type 2",
          "Security Ministries",
          "Postal",
          "Transport: type 2",
          "Police",
          "Agriculture",
          "Bank",
          "Military",
          "Industry: type 11",
          "Housing",
          "Security",
          "Industry: type 3",
          "Industry: type 9",
          "Trade: type 3",
          "Transport: type 4",
          "Business Entity Type 1",
          "Construction",
          "Kindergarten",
          "Trade: type 7",
          "School",
          "Government",
          "Business Entity Type 2",
          "Medicine",
          "Other",
          "Self-employed",
          "XNA",
          "Business Entity Type 3"
         ],
         "yaxis": "y"
        },
        {
         "marker": {
          "color": "#f975ae"
         },
         "orientation": "h",
         "type": "bar",
         "uid": "1efa0e7b-d20c-11e8-a544-8c1645385240",
         "x": [
          526,
          563,
          751,
          1305,
          1348,
          2093,
          2652,
          4653,
          5946,
          6721,
          8537,
          9813,
          11380,
          18603,
          21371,
          27570,
          32102,
          55186
         ],
         "xaxis": "x2",
         "y": [
          "IT staff",
          "HR staff",
          "Realty agents",
          "Secretaries",
          "Waiters/barmen staff",
          "Low-skill Laborers",
          "Private service staff",
          "Cleaning staff",
          "Cooking staff",
          "Security staff",
          "Medicine staff",
          "Accountants",
          "High skill tech staff",
          "Drivers",
          "Managers",
          "Core staff",
          "Sales staff",
          "Laborers"
         ],
         "yaxis": "y2"
        }
       ],
       "layout": {
        "annotations": [
         {
          "font": {
           "size": 16
          },
          "showarrow": false,
          "text": "Applicants Organization Type",
          "x": 0.225,
          "xanchor": "center",
          "xref": "paper",
          "y": 1,
          "yanchor": "bottom",
          "yref": "paper"
         },
         {
          "font": {
           "size": 16
          },
          "showarrow": false,
          "text": "Applicants Occupation Type",
          "x": 0.775,
          "xanchor": "center",
          "xref": "paper",
          "y": 1,
          "yanchor": "bottom",
          "yref": "paper"
         }
        ],
        "height": 600,
        "margin": {
         "l": 150
        },
        "showlegend": false,
        "xaxis": {
         "anchor": "y",
         "domain": [
          0,
          0.45
         ]
        },
        "xaxis2": {
         "anchor": "y2",
         "domain": [
          0.55,
          1
         ]
        },
        "yaxis": {
         "anchor": "x",
         "domain": [
          0,
          1
         ]
        },
        "yaxis2": {
         "anchor": "x2",
         "domain": [
          0,
          1
         ]
        }
       }
      },
      "text/html": [
       "<div id=\"1e37260e-16bf-431d-a137-d184bbaa162f\" style=\"height: 600px; width: 100%;\" class=\"plotly-graph-div\"></div><script type=\"text/javascript\">require([\"plotly\"], function(Plotly) { window.PLOTLYENV=window.PLOTLYENV || {};window.PLOTLYENV.BASE_URL=\"https://plot.ly\";Plotly.newPlot(\"1e37260e-16bf-431d-a137-d184bbaa162f\", [{\"marker\": {\"color\": \"#f975ae\"}, \"orientation\": \"h\", \"x\": [24, 49, 64, 67, 85, 109, 112, 201, 260, 305, 317, 348, 369, 379, 396, 429, 458, 560, 577, 597, 599, 631, 877, 950, 966, 1039, 1187, 1307, 1327, 1575, 1811, 1900, 1974, 2157, 2204, 2341, 2454, 2507, 2634, 2704, 2958, 3247, 3278, 3368, 3492, 5398, 5984, 6721, 6880, 7831, 8893, 10404, 10553, 11193, 16683, 38412, 55374, 67992], \"y\": [\"Industry: type 8\", \"Trade: type 5\", \"Trade: type 4\", \"Industry: type 13\", \"Religion\", \"Industry: type 10\", \"Industry: type 6\", \"Transport: type 1\", \"Cleaning\", \"Legal Services\", \"Mobile\", \"Trade: type 1\", \"Industry: type 12\", \"Culture\", \"Realtor\", \"Advertising\", \"Industry: type 2\", \"Emergency\", \"Telecom\", \"Insurance\", \"Industry: type 5\", \"Trade: type 6\", \"Industry: type 4\", \"Electricity\", \"Hotel\", \"Industry: type 1\", \"Transport: type 3\", \"Industry: type 7\", \"University\", \"Services\", \"Restaurant\", \"Trade: type 2\", \"Security Ministries\", \"Postal\", \"Transport: type 2\", \"Police\", \"Agriculture\", \"Bank\", \"Military\", \"Industry: type 11\", \"Housing\", \"Security\", \"Industry: type 3\", \"Industry: type 9\", \"Trade: type 3\", \"Transport: type 4\", \"Business Entity Type 1\", \"Construction\", \"Kindergarten\", \"Trade: type 7\", \"School\", \"Government\", \"Business Entity Type 2\", \"Medicine\", \"Other\", \"Self-employed\", \"XNA\", \"Business Entity Type 3\"], \"type\": \"bar\", \"uid\": \"1efa0e7a-d20c-11e8-87b6-8c1645385240\", \"xaxis\": \"x\", \"yaxis\": \"y\"}, {\"marker\": {\"color\": \"#f975ae\"}, \"orientation\": \"h\", \"x\": [526, 563, 751, 1305, 1348, 2093, 2652, 4653, 5946, 6721, 8537, 9813, 11380, 18603, 21371, 27570, 32102, 55186], \"y\": [\"IT staff\", \"HR staff\", \"Realty agents\", \"Secretaries\", \"Waiters/barmen staff\", \"Low-skill Laborers\", \"Private service staff\", \"Cleaning staff\", \"Cooking staff\", \"Security staff\", \"Medicine staff\", \"Accountants\", \"High skill tech staff\", \"Drivers\", \"Managers\", \"Core staff\", \"Sales staff\", \"Laborers\"], \"type\": \"bar\", \"uid\": \"1efa0e7b-d20c-11e8-a544-8c1645385240\", \"xaxis\": \"x2\", \"yaxis\": \"y2\"}], {\"annotations\": [{\"font\": {\"size\": 16}, \"showarrow\": false, \"text\": \"Applicants Organization Type\", \"x\": 0.225, \"xanchor\": \"center\", \"xref\": \"paper\", \"y\": 1.0, \"yanchor\": \"bottom\", \"yref\": \"paper\"}, {\"font\": {\"size\": 16}, \"showarrow\": false, \"text\": \"Applicants Occupation Type\", \"x\": 0.775, \"xanchor\": \"center\", \"xref\": \"paper\", \"y\": 1.0, \"yanchor\": \"bottom\", \"yref\": \"paper\"}], \"xaxis\": {\"anchor\": \"y\", \"domain\": [0.0, 0.45]}, \"yaxis\": {\"anchor\": \"x\", \"domain\": [0.0, 1.0]}, \"xaxis2\": {\"anchor\": \"y2\", \"domain\": [0.55, 1.0]}, \"yaxis2\": {\"anchor\": \"x2\", \"domain\": [0.0, 1.0]}, \"margin\": {\"l\": 150}, \"height\": 600, \"showlegend\": false}, {\"showLink\": true, \"linkText\": \"Export to plot.ly\"})});</script>"
      ],
      "text/vnd.plotly.v1+html": [
       "<div id=\"1e37260e-16bf-431d-a137-d184bbaa162f\" style=\"height: 600px; width: 100%;\" class=\"plotly-graph-div\"></div><script type=\"text/javascript\">require([\"plotly\"], function(Plotly) { window.PLOTLYENV=window.PLOTLYENV || {};window.PLOTLYENV.BASE_URL=\"https://plot.ly\";Plotly.newPlot(\"1e37260e-16bf-431d-a137-d184bbaa162f\", [{\"marker\": {\"color\": \"#f975ae\"}, \"orientation\": \"h\", \"x\": [24, 49, 64, 67, 85, 109, 112, 201, 260, 305, 317, 348, 369, 379, 396, 429, 458, 560, 577, 597, 599, 631, 877, 950, 966, 1039, 1187, 1307, 1327, 1575, 1811, 1900, 1974, 2157, 2204, 2341, 2454, 2507, 2634, 2704, 2958, 3247, 3278, 3368, 3492, 5398, 5984, 6721, 6880, 7831, 8893, 10404, 10553, 11193, 16683, 38412, 55374, 67992], \"y\": [\"Industry: type 8\", \"Trade: type 5\", \"Trade: type 4\", \"Industry: type 13\", \"Religion\", \"Industry: type 10\", \"Industry: type 6\", \"Transport: type 1\", \"Cleaning\", \"Legal Services\", \"Mobile\", \"Trade: type 1\", \"Industry: type 12\", \"Culture\", \"Realtor\", \"Advertising\", \"Industry: type 2\", \"Emergency\", \"Telecom\", \"Insurance\", \"Industry: type 5\", \"Trade: type 6\", \"Industry: type 4\", \"Electricity\", \"Hotel\", \"Industry: type 1\", \"Transport: type 3\", \"Industry: type 7\", \"University\", \"Services\", \"Restaurant\", \"Trade: type 2\", \"Security Ministries\", \"Postal\", \"Transport: type 2\", \"Police\", \"Agriculture\", \"Bank\", \"Military\", \"Industry: type 11\", \"Housing\", \"Security\", \"Industry: type 3\", \"Industry: type 9\", \"Trade: type 3\", \"Transport: type 4\", \"Business Entity Type 1\", \"Construction\", \"Kindergarten\", \"Trade: type 7\", \"School\", \"Government\", \"Business Entity Type 2\", \"Medicine\", \"Other\", \"Self-employed\", \"XNA\", \"Business Entity Type 3\"], \"type\": \"bar\", \"uid\": \"1efa0e7a-d20c-11e8-87b6-8c1645385240\", \"xaxis\": \"x\", \"yaxis\": \"y\"}, {\"marker\": {\"color\": \"#f975ae\"}, \"orientation\": \"h\", \"x\": [526, 563, 751, 1305, 1348, 2093, 2652, 4653, 5946, 6721, 8537, 9813, 11380, 18603, 21371, 27570, 32102, 55186], \"y\": [\"IT staff\", \"HR staff\", \"Realty agents\", \"Secretaries\", \"Waiters/barmen staff\", \"Low-skill Laborers\", \"Private service staff\", \"Cleaning staff\", \"Cooking staff\", \"Security staff\", \"Medicine staff\", \"Accountants\", \"High skill tech staff\", \"Drivers\", \"Managers\", \"Core staff\", \"Sales staff\", \"Laborers\"], \"type\": \"bar\", \"uid\": \"1efa0e7b-d20c-11e8-a544-8c1645385240\", \"xaxis\": \"x2\", \"yaxis\": \"y2\"}], {\"annotations\": [{\"font\": {\"size\": 16}, \"showarrow\": false, \"text\": \"Applicants Organization Type\", \"x\": 0.225, \"xanchor\": \"center\", \"xref\": \"paper\", \"y\": 1.0, \"yanchor\": \"bottom\", \"yref\": \"paper\"}, {\"font\": {\"size\": 16}, \"showarrow\": false, \"text\": \"Applicants Occupation Type\", \"x\": 0.775, \"xanchor\": \"center\", \"xref\": \"paper\", \"y\": 1.0, \"yanchor\": \"bottom\", \"yref\": \"paper\"}], \"xaxis\": {\"anchor\": \"y\", \"domain\": [0.0, 0.45]}, \"yaxis\": {\"anchor\": \"x\", \"domain\": [0.0, 1.0]}, \"xaxis2\": {\"anchor\": \"y2\", \"domain\": [0.55, 1.0]}, \"yaxis2\": {\"anchor\": \"x2\", \"domain\": [0.0, 1.0]}, \"margin\": {\"l\": 150}, \"height\": 600, \"showlegend\": false}, {\"showLink\": true, \"linkText\": \"Export to plot.ly\"})});</script>"
      ]
     },
     "metadata": {},
     "output_type": "display_data"
    }
   ],
   "source": [
    "tr1 = bar_hor(app_train, \"ORGANIZATION_TYPE\", \"Distribution of \" ,\"#f975ae\", w=700, lm=100, return_trace= True)\n",
    "tr2 = bar_hor(app_train, \"OCCUPATION_TYPE\", \"Distribution of \" ,\"#f975ae\", w=700, lm=100, return_trace = True)\n",
    "fig = tools.make_subplots(rows=1, cols=2, print_grid=False, subplot_titles = ['Applicants Organization Type', 'Applicants Occupation Type' ])\n",
    "fig.append_trace(tr1, 1, 1);\n",
    "fig.append_trace(tr2, 1, 2);\n",
    "fig['layout'].update(height=600, showlegend=False, margin=dict(l=150));\n",
    "iplot(fig);"
   ]
  },
  {
   "cell_type": "code",
   "execution_count": 22,
   "metadata": {},
   "outputs": [
    {
     "data": {
      "application/vnd.plotly.v1+json": {
       "data": [
        {
         "marker": {
          "color": "#96D38C"
         },
         "name": "Target : 1",
         "type": "bar",
         "uid": "2471162e-d20c-11e8-a867-8c1645385240",
         "x": [
          "Business Entity Type 3",
          "Self-employed",
          "XNA",
          "Other",
          "Business Entity Type 2",
          "Construction",
          "Trade: type 7",
          "Medicine",
          "Government",
          "School",
          "Transport: type 4",
          "Business Entity Type 1",
          "Kindergarten",
          "Trade: type 3",
          "Industry: type 3",
          "Security",
          "Agriculture",
          "Housing",
          "Industry: type 11",
          "Industry: type 9",
          "Restaurant",
          "Transport: type 3",
          "Postal",
          "Transport: type 2",
          "Military",
          "Trade: type 2",
          "Bank",
          "Police",
          "Industry: type 1",
          "Industry: type 7",
          "Services",
          "Security Ministries",
          "Industry: type 4",
          "University",
          "Electricity",
          "Hotel",
          "Telecom",
          "Realtor",
          "Industry: type 5",
          "Emergency",
          "Advertising",
          "Insurance",
          "Industry: type 2",
          "Trade: type 1",
          "Cleaning",
          "Mobile",
          "Trade: type 6",
          "Legal Services",
          "Culture",
          "Industry: type 12",
          "Transport: type 1",
          "Industry: type 13",
          "Industry: type 6",
          "Industry: type 10",
          "Religion",
          "Industry: type 8",
          "Trade: type 5",
          "Trade: type 4"
         ],
         "xaxis": "x",
         "y": [
          9.299623485115896,
          10.173903988336978,
          5.399646043269405,
          7.642510339866931,
          8.528380555292333,
          11.679809552149978,
          9.44962329204444,
          6.584472438130975,
          6.978085351787774,
          5.914764421455077,
          9.28121526491293,
          8.13836898395722,
          7.034883720930233,
          10.337915234822452,
          10.616229408175716,
          9.978441638435479,
          10.472697636511818,
          7.944557133198106,
          8.653846153846153,
          6.680522565320665,
          11.706239646604086,
          15.754001684919967,
          8.437644877144182,
          7.80399274047187,
          5.125284738041002,
          7,
          5.1854806541683285,
          4.997864160615122,
          11.068334937439847,
          8.033664881407804,
          6.603174603174603,
          4.86322188449848,
          10.148232611174459,
          4.898266767143934,
          6.631578947368421,
          6.418219461697722,
          7.625649913344887,
          10.606060606060606,
          6.844741235392321,
          7.142857142857143,
          8.158508158508159,
          5.695142378559464,
          7.205240174672489,
          8.908045977011493,
          11.153846153846153,
          9.14826498422713,
          4.595879556259905,
          7.868852459016393,
          5.54089709762533,
          3.794037940379404,
          4.477611940298507,
          13.432835820895523,
          7.142857142857143,
          6.422018348623853,
          5.882352941176471,
          12.5,
          6.122448979591836,
          3.125
         ],
         "yaxis": "y"
        },
        {
         "marker": {
          "color": "#96D38C"
         },
         "name": "Target : 1",
         "type": "bar",
         "uid": "2471162f-d20c-11e8-9774-8c1645385240",
         "x": [
          "Laborers",
          "Sales staff",
          "Drivers",
          "Core staff",
          "Managers",
          "Security staff",
          "High skill tech staff",
          "Cooking staff",
          "Medicine staff",
          "Accountants",
          "Cleaning staff",
          "Low-skill Laborers",
          "Private service staff",
          "Waiters/barmen staff",
          "Secretaries",
          "Realty agents",
          "HR staff",
          "IT staff"
         ],
         "xaxis": "x2",
         "y": [
          10.578769977892945,
          9.63179864182917,
          11.326130194054722,
          6.303953572723976,
          6.214028356183613,
          10.74244904032138,
          6.1599297012302285,
          10.443995963673057,
          6.700245988052009,
          4.830327117089575,
          9.606705351386202,
          17.152412804586717,
          6.5987933634992455,
          11.275964391691394,
          7.049808429118774,
          7.856191744340879,
          6.394316163410302,
          6.4638783269961975
         ],
         "yaxis": "y2"
        }
       ],
       "layout": {
        "annotations": [
         {
          "font": {
           "size": 16
          },
          "showarrow": false,
          "text": "Applicants Organization Types - Repayed",
          "x": 0.225,
          "xanchor": "center",
          "xref": "paper",
          "y": 1,
          "yanchor": "bottom",
          "yref": "paper"
         },
         {
          "font": {
           "size": 16
          },
          "showarrow": false,
          "text": "Applicants Occupation Type - Repayed",
          "x": 0.775,
          "xanchor": "center",
          "xref": "paper",
          "y": 1,
          "yanchor": "bottom",
          "yref": "paper"
         }
        ],
        "height": 350,
        "margin": {
         "l": 120
        },
        "showlegend": false,
        "xaxis": {
         "anchor": "y",
         "domain": [
          0,
          0.45
         ]
        },
        "xaxis2": {
         "anchor": "y2",
         "domain": [
          0.55,
          1
         ]
        },
        "yaxis": {
         "anchor": "x",
         "domain": [
          0,
          1
         ]
        },
        "yaxis2": {
         "anchor": "x2",
         "domain": [
          0,
          1
         ]
        }
       }
      },
      "text/html": [
       "<div id=\"92a4b566-e2a6-484b-a274-ee5bc4492bb2\" style=\"height: 350px; width: 100%;\" class=\"plotly-graph-div\"></div><script type=\"text/javascript\">require([\"plotly\"], function(Plotly) { window.PLOTLYENV=window.PLOTLYENV || {};window.PLOTLYENV.BASE_URL=\"https://plot.ly\";Plotly.newPlot(\"92a4b566-e2a6-484b-a274-ee5bc4492bb2\", [{\"marker\": {\"color\": \"#96D38C\"}, \"name\": \"Target : 1\", \"x\": [\"Business Entity Type 3\", \"Self-employed\", \"XNA\", \"Other\", \"Business Entity Type 2\", \"Construction\", \"Trade: type 7\", \"Medicine\", \"Government\", \"School\", \"Transport: type 4\", \"Business Entity Type 1\", \"Kindergarten\", \"Trade: type 3\", \"Industry: type 3\", \"Security\", \"Agriculture\", \"Housing\", \"Industry: type 11\", \"Industry: type 9\", \"Restaurant\", \"Transport: type 3\", \"Postal\", \"Transport: type 2\", \"Military\", \"Trade: type 2\", \"Bank\", \"Police\", \"Industry: type 1\", \"Industry: type 7\", \"Services\", \"Security Ministries\", \"Industry: type 4\", \"University\", \"Electricity\", \"Hotel\", \"Telecom\", \"Realtor\", \"Industry: type 5\", \"Emergency\", \"Advertising\", \"Insurance\", \"Industry: type 2\", \"Trade: type 1\", \"Cleaning\", \"Mobile\", \"Trade: type 6\", \"Legal Services\", \"Culture\", \"Industry: type 12\", \"Transport: type 1\", \"Industry: type 13\", \"Industry: type 6\", \"Industry: type 10\", \"Religion\", \"Industry: type 8\", \"Trade: type 5\", \"Trade: type 4\"], \"y\": [9.299623485115896, 10.173903988336978, 5.399646043269405, 7.642510339866931, 8.528380555292333, 11.679809552149978, 9.44962329204444, 6.584472438130975, 6.978085351787774, 5.914764421455077, 9.28121526491293, 8.13836898395722, 7.034883720930233, 10.337915234822452, 10.616229408175716, 9.978441638435479, 10.472697636511818, 7.944557133198106, 8.653846153846153, 6.680522565320665, 11.706239646604086, 15.754001684919967, 8.437644877144182, 7.80399274047187, 5.125284738041002, 7.0, 5.1854806541683285, 4.997864160615122, 11.068334937439847, 8.033664881407804, 6.603174603174603, 4.86322188449848, 10.148232611174459, 4.898266767143934, 6.631578947368421, 6.418219461697722, 7.625649913344887, 10.606060606060606, 6.844741235392321, 7.142857142857143, 8.158508158508159, 5.695142378559464, 7.205240174672489, 8.908045977011493, 11.153846153846153, 9.14826498422713, 4.595879556259905, 7.868852459016393, 5.54089709762533, 3.794037940379404, 4.477611940298507, 13.432835820895523, 7.142857142857143, 6.422018348623853, 5.882352941176471, 12.5, 6.122448979591836, 3.125], \"type\": \"bar\", \"uid\": \"2471162e-d20c-11e8-a867-8c1645385240\", \"xaxis\": \"x\", \"yaxis\": \"y\"}, {\"marker\": {\"color\": \"#96D38C\"}, \"name\": \"Target : 1\", \"x\": [\"Laborers\", \"Sales staff\", \"Drivers\", \"Core staff\", \"Managers\", \"Security staff\", \"High skill tech staff\", \"Cooking staff\", \"Medicine staff\", \"Accountants\", \"Cleaning staff\", \"Low-skill Laborers\", \"Private service staff\", \"Waiters/barmen staff\", \"Secretaries\", \"Realty agents\", \"HR staff\", \"IT staff\"], \"y\": [10.578769977892945, 9.63179864182917, 11.326130194054722, 6.303953572723976, 6.214028356183613, 10.74244904032138, 6.1599297012302285, 10.443995963673057, 6.700245988052009, 4.830327117089575, 9.606705351386202, 17.152412804586717, 6.5987933634992455, 11.275964391691394, 7.049808429118774, 7.856191744340879, 6.394316163410302, 6.4638783269961975], \"type\": \"bar\", \"uid\": \"2471162f-d20c-11e8-9774-8c1645385240\", \"xaxis\": \"x2\", \"yaxis\": \"y2\"}], {\"annotations\": [{\"font\": {\"size\": 16}, \"showarrow\": false, \"text\": \"Applicants Organization Types - Repayed\", \"x\": 0.225, \"xanchor\": \"center\", \"xref\": \"paper\", \"y\": 1.0, \"yanchor\": \"bottom\", \"yref\": \"paper\"}, {\"font\": {\"size\": 16}, \"showarrow\": false, \"text\": \"Applicants Occupation Type - Repayed\", \"x\": 0.775, \"xanchor\": \"center\", \"xref\": \"paper\", \"y\": 1.0, \"yanchor\": \"bottom\", \"yref\": \"paper\"}], \"xaxis\": {\"anchor\": \"y\", \"domain\": [0.0, 0.45]}, \"yaxis\": {\"anchor\": \"x\", \"domain\": [0.0, 1.0]}, \"xaxis2\": {\"anchor\": \"y2\", \"domain\": [0.55, 1.0]}, \"yaxis2\": {\"anchor\": \"x2\", \"domain\": [0.0, 1.0]}, \"margin\": {\"l\": 120}, \"height\": 350, \"showlegend\": false}, {\"showLink\": true, \"linkText\": \"Export to plot.ly\"})});</script>"
      ],
      "text/vnd.plotly.v1+html": [
       "<div id=\"92a4b566-e2a6-484b-a274-ee5bc4492bb2\" style=\"height: 350px; width: 100%;\" class=\"plotly-graph-div\"></div><script type=\"text/javascript\">require([\"plotly\"], function(Plotly) { window.PLOTLYENV=window.PLOTLYENV || {};window.PLOTLYENV.BASE_URL=\"https://plot.ly\";Plotly.newPlot(\"92a4b566-e2a6-484b-a274-ee5bc4492bb2\", [{\"marker\": {\"color\": \"#96D38C\"}, \"name\": \"Target : 1\", \"x\": [\"Business Entity Type 3\", \"Self-employed\", \"XNA\", \"Other\", \"Business Entity Type 2\", \"Construction\", \"Trade: type 7\", \"Medicine\", \"Government\", \"School\", \"Transport: type 4\", \"Business Entity Type 1\", \"Kindergarten\", \"Trade: type 3\", \"Industry: type 3\", \"Security\", \"Agriculture\", \"Housing\", \"Industry: type 11\", \"Industry: type 9\", \"Restaurant\", \"Transport: type 3\", \"Postal\", \"Transport: type 2\", \"Military\", \"Trade: type 2\", \"Bank\", \"Police\", \"Industry: type 1\", \"Industry: type 7\", \"Services\", \"Security Ministries\", \"Industry: type 4\", \"University\", \"Electricity\", \"Hotel\", \"Telecom\", \"Realtor\", \"Industry: type 5\", \"Emergency\", \"Advertising\", \"Insurance\", \"Industry: type 2\", \"Trade: type 1\", \"Cleaning\", \"Mobile\", \"Trade: type 6\", \"Legal Services\", \"Culture\", \"Industry: type 12\", \"Transport: type 1\", \"Industry: type 13\", \"Industry: type 6\", \"Industry: type 10\", \"Religion\", \"Industry: type 8\", \"Trade: type 5\", \"Trade: type 4\"], \"y\": [9.299623485115896, 10.173903988336978, 5.399646043269405, 7.642510339866931, 8.528380555292333, 11.679809552149978, 9.44962329204444, 6.584472438130975, 6.978085351787774, 5.914764421455077, 9.28121526491293, 8.13836898395722, 7.034883720930233, 10.337915234822452, 10.616229408175716, 9.978441638435479, 10.472697636511818, 7.944557133198106, 8.653846153846153, 6.680522565320665, 11.706239646604086, 15.754001684919967, 8.437644877144182, 7.80399274047187, 5.125284738041002, 7.0, 5.1854806541683285, 4.997864160615122, 11.068334937439847, 8.033664881407804, 6.603174603174603, 4.86322188449848, 10.148232611174459, 4.898266767143934, 6.631578947368421, 6.418219461697722, 7.625649913344887, 10.606060606060606, 6.844741235392321, 7.142857142857143, 8.158508158508159, 5.695142378559464, 7.205240174672489, 8.908045977011493, 11.153846153846153, 9.14826498422713, 4.595879556259905, 7.868852459016393, 5.54089709762533, 3.794037940379404, 4.477611940298507, 13.432835820895523, 7.142857142857143, 6.422018348623853, 5.882352941176471, 12.5, 6.122448979591836, 3.125], \"type\": \"bar\", \"uid\": \"2471162e-d20c-11e8-a867-8c1645385240\", \"xaxis\": \"x\", \"yaxis\": \"y\"}, {\"marker\": {\"color\": \"#96D38C\"}, \"name\": \"Target : 1\", \"x\": [\"Laborers\", \"Sales staff\", \"Drivers\", \"Core staff\", \"Managers\", \"Security staff\", \"High skill tech staff\", \"Cooking staff\", \"Medicine staff\", \"Accountants\", \"Cleaning staff\", \"Low-skill Laborers\", \"Private service staff\", \"Waiters/barmen staff\", \"Secretaries\", \"Realty agents\", \"HR staff\", \"IT staff\"], \"y\": [10.578769977892945, 9.63179864182917, 11.326130194054722, 6.303953572723976, 6.214028356183613, 10.74244904032138, 6.1599297012302285, 10.443995963673057, 6.700245988052009, 4.830327117089575, 9.606705351386202, 17.152412804586717, 6.5987933634992455, 11.275964391691394, 7.049808429118774, 7.856191744340879, 6.394316163410302, 6.4638783269961975], \"type\": \"bar\", \"uid\": \"2471162f-d20c-11e8-9774-8c1645385240\", \"xaxis\": \"x2\", \"yaxis\": \"y2\"}], {\"annotations\": [{\"font\": {\"size\": 16}, \"showarrow\": false, \"text\": \"Applicants Organization Types - Repayed\", \"x\": 0.225, \"xanchor\": \"center\", \"xref\": \"paper\", \"y\": 1.0, \"yanchor\": \"bottom\", \"yref\": \"paper\"}, {\"font\": {\"size\": 16}, \"showarrow\": false, \"text\": \"Applicants Occupation Type - Repayed\", \"x\": 0.775, \"xanchor\": \"center\", \"xref\": \"paper\", \"y\": 1.0, \"yanchor\": \"bottom\", \"yref\": \"paper\"}], \"xaxis\": {\"anchor\": \"y\", \"domain\": [0.0, 0.45]}, \"yaxis\": {\"anchor\": \"x\", \"domain\": [0.0, 1.0]}, \"xaxis2\": {\"anchor\": \"y2\", \"domain\": [0.55, 1.0]}, \"yaxis2\": {\"anchor\": \"x2\", \"domain\": [0.0, 1.0]}, \"margin\": {\"l\": 120}, \"height\": 350, \"showlegend\": false}, {\"showLink\": true, \"linkText\": \"Export to plot.ly\"})});</script>"
      ]
     },
     "metadata": {},
     "output_type": "display_data"
    }
   ],
   "source": [
    "tr1, tr2 = gp('ORGANIZATION_TYPE', 'Applicants Income Types which repayed the loan')\n",
    "tr3, tr4 = gp('OCCUPATION_TYPE', 'Applicants Income Types which repayed the loan')\n",
    "fig = tools.make_subplots(rows=1, cols=2, print_grid=False, \n",
    "                          subplot_titles = [\"Applicants Organization Types - Repayed\", \"Applicants Occupation Type - Repayed\"])\n",
    "fig.append_trace(tr1, 1, 1);\n",
    "fig.append_trace(tr3, 1, 2);\n",
    "fig['layout'].update(height=350, showlegend=False, margin=dict(l=120));\n",
    "iplot(fig);"
   ]
  },
  {
   "cell_type": "code",
   "execution_count": 23,
   "metadata": {},
   "outputs": [
    {
     "data": {
      "application/vnd.plotly.v1+json": {
       "data": [
        {
         "marker": {
          "color": "#a4c5f9"
         },
         "orientation": "h",
         "type": "bar",
         "uid": "28acc4c8-d20c-11e8-a1d5-8c1645385240",
         "x": [
          1212,
          1499,
          150503
         ],
         "xaxis": "x",
         "y": [
          "terraced house",
          "specific housing",
          "block of flats"
         ],
         "yaxis": "y"
        },
        {
         "marker": {
          "color": "#a4c5f9"
         },
         "orientation": "h",
         "type": "bar",
         "uid": "28ad39a2-d20c-11e8-af0a-8c1645385240",
         "x": [
          1625,
          1779,
          2296,
          5362,
          9253,
          64815,
          66040
         ],
         "xaxis": "x2",
         "y": [
          "Others",
          "Monolithic",
          "Mixed",
          "Wooden",
          "Block",
          "Stone, brick",
          "Panel"
         ],
         "yaxis": "y2"
        }
       ],
       "layout": {
        "annotations": [
         {
          "font": {
           "size": 16
          },
          "showarrow": false,
          "text": "House Type",
          "x": 0.225,
          "xanchor": "center",
          "xref": "paper",
          "y": 1,
          "yanchor": "bottom",
          "yref": "paper"
         },
         {
          "font": {
           "size": 16
          },
          "showarrow": false,
          "text": "Walls Material",
          "x": 0.775,
          "xanchor": "center",
          "xref": "paper",
          "y": 1,
          "yanchor": "bottom",
          "yref": "paper"
         }
        ],
        "height": 400,
        "margin": {
         "l": 100
        },
        "showlegend": false,
        "xaxis": {
         "anchor": "y",
         "domain": [
          0,
          0.45
         ]
        },
        "xaxis2": {
         "anchor": "y2",
         "domain": [
          0.55,
          1
         ]
        },
        "yaxis": {
         "anchor": "x",
         "domain": [
          0,
          1
         ]
        },
        "yaxis2": {
         "anchor": "x2",
         "domain": [
          0,
          1
         ]
        }
       }
      },
      "text/html": [
       "<div id=\"7563c9ef-ddaf-4ba4-9055-44d42111597c\" style=\"height: 400px; width: 100%;\" class=\"plotly-graph-div\"></div><script type=\"text/javascript\">require([\"plotly\"], function(Plotly) { window.PLOTLYENV=window.PLOTLYENV || {};window.PLOTLYENV.BASE_URL=\"https://plot.ly\";Plotly.newPlot(\"7563c9ef-ddaf-4ba4-9055-44d42111597c\", [{\"marker\": {\"color\": \"#a4c5f9\"}, \"orientation\": \"h\", \"x\": [1212, 1499, 150503], \"y\": [\"terraced house\", \"specific housing\", \"block of flats\"], \"type\": \"bar\", \"uid\": \"28acc4c8-d20c-11e8-a1d5-8c1645385240\", \"xaxis\": \"x\", \"yaxis\": \"y\"}, {\"marker\": {\"color\": \"#a4c5f9\"}, \"orientation\": \"h\", \"x\": [1625, 1779, 2296, 5362, 9253, 64815, 66040], \"y\": [\"Others\", \"Monolithic\", \"Mixed\", \"Wooden\", \"Block\", \"Stone, brick\", \"Panel\"], \"type\": \"bar\", \"uid\": \"28ad39a2-d20c-11e8-af0a-8c1645385240\", \"xaxis\": \"x2\", \"yaxis\": \"y2\"}], {\"annotations\": [{\"font\": {\"size\": 16}, \"showarrow\": false, \"text\": \"House Type\", \"x\": 0.225, \"xanchor\": \"center\", \"xref\": \"paper\", \"y\": 1.0, \"yanchor\": \"bottom\", \"yref\": \"paper\"}, {\"font\": {\"size\": 16}, \"showarrow\": false, \"text\": \"Walls Material\", \"x\": 0.775, \"xanchor\": \"center\", \"xref\": \"paper\", \"y\": 1.0, \"yanchor\": \"bottom\", \"yref\": \"paper\"}], \"xaxis\": {\"anchor\": \"y\", \"domain\": [0.0, 0.45]}, \"yaxis\": {\"anchor\": \"x\", \"domain\": [0.0, 1.0]}, \"xaxis2\": {\"anchor\": \"y2\", \"domain\": [0.55, 1.0]}, \"yaxis2\": {\"anchor\": \"x2\", \"domain\": [0.0, 1.0]}, \"margin\": {\"l\": 100}, \"height\": 400, \"showlegend\": false}, {\"showLink\": true, \"linkText\": \"Export to plot.ly\"})});</script>"
      ],
      "text/vnd.plotly.v1+html": [
       "<div id=\"7563c9ef-ddaf-4ba4-9055-44d42111597c\" style=\"height: 400px; width: 100%;\" class=\"plotly-graph-div\"></div><script type=\"text/javascript\">require([\"plotly\"], function(Plotly) { window.PLOTLYENV=window.PLOTLYENV || {};window.PLOTLYENV.BASE_URL=\"https://plot.ly\";Plotly.newPlot(\"7563c9ef-ddaf-4ba4-9055-44d42111597c\", [{\"marker\": {\"color\": \"#a4c5f9\"}, \"orientation\": \"h\", \"x\": [1212, 1499, 150503], \"y\": [\"terraced house\", \"specific housing\", \"block of flats\"], \"type\": \"bar\", \"uid\": \"28acc4c8-d20c-11e8-a1d5-8c1645385240\", \"xaxis\": \"x\", \"yaxis\": \"y\"}, {\"marker\": {\"color\": \"#a4c5f9\"}, \"orientation\": \"h\", \"x\": [1625, 1779, 2296, 5362, 9253, 64815, 66040], \"y\": [\"Others\", \"Monolithic\", \"Mixed\", \"Wooden\", \"Block\", \"Stone, brick\", \"Panel\"], \"type\": \"bar\", \"uid\": \"28ad39a2-d20c-11e8-af0a-8c1645385240\", \"xaxis\": \"x2\", \"yaxis\": \"y2\"}], {\"annotations\": [{\"font\": {\"size\": 16}, \"showarrow\": false, \"text\": \"House Type\", \"x\": 0.225, \"xanchor\": \"center\", \"xref\": \"paper\", \"y\": 1.0, \"yanchor\": \"bottom\", \"yref\": \"paper\"}, {\"font\": {\"size\": 16}, \"showarrow\": false, \"text\": \"Walls Material\", \"x\": 0.775, \"xanchor\": \"center\", \"xref\": \"paper\", \"y\": 1.0, \"yanchor\": \"bottom\", \"yref\": \"paper\"}], \"xaxis\": {\"anchor\": \"y\", \"domain\": [0.0, 0.45]}, \"yaxis\": {\"anchor\": \"x\", \"domain\": [0.0, 1.0]}, \"xaxis2\": {\"anchor\": \"y2\", \"domain\": [0.55, 1.0]}, \"yaxis2\": {\"anchor\": \"x2\", \"domain\": [0.0, 1.0]}, \"margin\": {\"l\": 100}, \"height\": 400, \"showlegend\": false}, {\"showLink\": true, \"linkText\": \"Export to plot.ly\"})});</script>"
      ]
     },
     "metadata": {},
     "output_type": "display_data"
    }
   ],
   "source": [
    "tr1 = bar_hor(app_train, \"FONDKAPREMONT_MODE\", \"Distribution of FLAG_OWN_REALTY\" ,\"#639af2\", w=700, lm=100, return_trace= True)\n",
    "tr2 = bar_hor(app_train, \"WALLSMATERIAL_MODE\", \"Distribution of FLAG_OWN_CAR\" ,\"#a4c5f9\", w=700, lm=100, return_trace = True)\n",
    "tr1 = bar_hor(app_train, \"HOUSETYPE_MODE\", \"Distribution of FLAG_OWN_CAR\" ,\"#a4c5f9\", w=700, lm=100, return_trace = True)\n",
    "\n",
    "fig = tools.make_subplots(rows=1, cols=2, print_grid=False, subplot_titles = [ 'House Type', 'Walls Material'])\n",
    "fig.append_trace(tr1, 1, 1);\n",
    "fig.append_trace(tr2, 1, 2);\n",
    "# fig.append_trace(tr3, 1, 3);\n",
    "\n",
    "fig['layout'].update(height=400, showlegend=False, margin=dict(l=100));\n",
    "iplot(fig);"
   ]
  },
  {
   "cell_type": "code",
   "execution_count": 24,
   "metadata": {},
   "outputs": [
    {
     "data": {
      "application/vnd.plotly.v1+json": {
       "data": [
        {
         "marker": {
          "color": "#96D38C"
         },
         "name": "Target : 1",
         "type": "bar",
         "uid": "2d6b067e-d20c-11e8-8b4e-8c1645385240",
         "x": [
          "block of flats",
          "specific housing",
          "terraced house"
         ],
         "xaxis": "x",
         "y": [
          6.943383188374982,
          10.140093395597065,
          8.498349834983498
         ],
         "yaxis": "y"
        },
        {
         "marker": {
          "color": "#96D38C"
         },
         "name": "Target : 1",
         "type": "bar",
         "uid": "2d6b067f-d20c-11e8-8913-8c1645385240",
         "x": [
          "Stone, brick",
          "Panel",
          "Block",
          "Wooden",
          "Mixed",
          "Others",
          "Monolithic"
         ],
         "xaxis": "x2",
         "y": [
          7.405693126591067,
          6.347668079951545,
          7.024748730141575,
          9.697873927638941,
          7.534843205574913,
          8.307692307692308,
          4.721753794266442
         ],
         "yaxis": "y2"
        }
       ],
       "layout": {
        "annotations": [
         {
          "font": {
           "size": 16
          },
          "showarrow": false,
          "text": "HouseTypes - Repayed",
          "x": 0.225,
          "xanchor": "center",
          "xref": "paper",
          "y": 1,
          "yanchor": "bottom",
          "yref": "paper"
         },
         {
          "font": {
           "size": 16
          },
          "showarrow": false,
          "text": "WallsMaterial - Repayed",
          "x": 0.775,
          "xanchor": "center",
          "xref": "paper",
          "y": 1,
          "yanchor": "bottom",
          "yref": "paper"
         }
        ],
        "height": 350,
        "margin": {
         "l": 120
        },
        "showlegend": false,
        "xaxis": {
         "anchor": "y",
         "domain": [
          0,
          0.45
         ]
        },
        "xaxis2": {
         "anchor": "y2",
         "domain": [
          0.55,
          1
         ]
        },
        "yaxis": {
         "anchor": "x",
         "domain": [
          0,
          1
         ]
        },
        "yaxis2": {
         "anchor": "x2",
         "domain": [
          0,
          1
         ]
        }
       }
      },
      "text/html": [
       "<div id=\"06df0cde-c2f5-4849-96c7-00b123c668e7\" style=\"height: 350px; width: 100%;\" class=\"plotly-graph-div\"></div><script type=\"text/javascript\">require([\"plotly\"], function(Plotly) { window.PLOTLYENV=window.PLOTLYENV || {};window.PLOTLYENV.BASE_URL=\"https://plot.ly\";Plotly.newPlot(\"06df0cde-c2f5-4849-96c7-00b123c668e7\", [{\"marker\": {\"color\": \"#96D38C\"}, \"name\": \"Target : 1\", \"x\": [\"block of flats\", \"specific housing\", \"terraced house\"], \"y\": [6.943383188374982, 10.140093395597065, 8.498349834983498], \"type\": \"bar\", \"uid\": \"2d6b067e-d20c-11e8-8b4e-8c1645385240\", \"xaxis\": \"x\", \"yaxis\": \"y\"}, {\"marker\": {\"color\": \"#96D38C\"}, \"name\": \"Target : 1\", \"x\": [\"Stone, brick\", \"Panel\", \"Block\", \"Wooden\", \"Mixed\", \"Others\", \"Monolithic\"], \"y\": [7.405693126591067, 6.347668079951545, 7.024748730141575, 9.697873927638941, 7.534843205574913, 8.307692307692308, 4.721753794266442], \"type\": \"bar\", \"uid\": \"2d6b067f-d20c-11e8-8913-8c1645385240\", \"xaxis\": \"x2\", \"yaxis\": \"y2\"}], {\"annotations\": [{\"font\": {\"size\": 16}, \"showarrow\": false, \"text\": \"HouseTypes - Repayed\", \"x\": 0.225, \"xanchor\": \"center\", \"xref\": \"paper\", \"y\": 1.0, \"yanchor\": \"bottom\", \"yref\": \"paper\"}, {\"font\": {\"size\": 16}, \"showarrow\": false, \"text\": \"WallsMaterial - Repayed\", \"x\": 0.775, \"xanchor\": \"center\", \"xref\": \"paper\", \"y\": 1.0, \"yanchor\": \"bottom\", \"yref\": \"paper\"}], \"xaxis\": {\"anchor\": \"y\", \"domain\": [0.0, 0.45]}, \"yaxis\": {\"anchor\": \"x\", \"domain\": [0.0, 1.0]}, \"xaxis2\": {\"anchor\": \"y2\", \"domain\": [0.55, 1.0]}, \"yaxis2\": {\"anchor\": \"x2\", \"domain\": [0.0, 1.0]}, \"margin\": {\"l\": 120}, \"height\": 350, \"showlegend\": false}, {\"showLink\": true, \"linkText\": \"Export to plot.ly\"})});</script>"
      ],
      "text/vnd.plotly.v1+html": [
       "<div id=\"06df0cde-c2f5-4849-96c7-00b123c668e7\" style=\"height: 350px; width: 100%;\" class=\"plotly-graph-div\"></div><script type=\"text/javascript\">require([\"plotly\"], function(Plotly) { window.PLOTLYENV=window.PLOTLYENV || {};window.PLOTLYENV.BASE_URL=\"https://plot.ly\";Plotly.newPlot(\"06df0cde-c2f5-4849-96c7-00b123c668e7\", [{\"marker\": {\"color\": \"#96D38C\"}, \"name\": \"Target : 1\", \"x\": [\"block of flats\", \"specific housing\", \"terraced house\"], \"y\": [6.943383188374982, 10.140093395597065, 8.498349834983498], \"type\": \"bar\", \"uid\": \"2d6b067e-d20c-11e8-8b4e-8c1645385240\", \"xaxis\": \"x\", \"yaxis\": \"y\"}, {\"marker\": {\"color\": \"#96D38C\"}, \"name\": \"Target : 1\", \"x\": [\"Stone, brick\", \"Panel\", \"Block\", \"Wooden\", \"Mixed\", \"Others\", \"Monolithic\"], \"y\": [7.405693126591067, 6.347668079951545, 7.024748730141575, 9.697873927638941, 7.534843205574913, 8.307692307692308, 4.721753794266442], \"type\": \"bar\", \"uid\": \"2d6b067f-d20c-11e8-8913-8c1645385240\", \"xaxis\": \"x2\", \"yaxis\": \"y2\"}], {\"annotations\": [{\"font\": {\"size\": 16}, \"showarrow\": false, \"text\": \"HouseTypes - Repayed\", \"x\": 0.225, \"xanchor\": \"center\", \"xref\": \"paper\", \"y\": 1.0, \"yanchor\": \"bottom\", \"yref\": \"paper\"}, {\"font\": {\"size\": 16}, \"showarrow\": false, \"text\": \"WallsMaterial - Repayed\", \"x\": 0.775, \"xanchor\": \"center\", \"xref\": \"paper\", \"y\": 1.0, \"yanchor\": \"bottom\", \"yref\": \"paper\"}], \"xaxis\": {\"anchor\": \"y\", \"domain\": [0.0, 0.45]}, \"yaxis\": {\"anchor\": \"x\", \"domain\": [0.0, 1.0]}, \"xaxis2\": {\"anchor\": \"y2\", \"domain\": [0.55, 1.0]}, \"yaxis2\": {\"anchor\": \"x2\", \"domain\": [0.0, 1.0]}, \"margin\": {\"l\": 120}, \"height\": 350, \"showlegend\": false}, {\"showLink\": true, \"linkText\": \"Export to plot.ly\"})});</script>"
      ]
     },
     "metadata": {},
     "output_type": "display_data"
    }
   ],
   "source": [
    "tr1, tr2 = gp('HOUSETYPE_MODE', 'Applicants Income Types which repayed the loan')\n",
    "tr3, tr4 = gp('WALLSMATERIAL_MODE', 'Applicants Income Types which repayed the loan')\n",
    "fig = tools.make_subplots(rows=1, cols=2, print_grid=False, subplot_titles = [\"HouseTypes - Repayed\", \"WallsMaterial - Repayed\"])\n",
    "fig.append_trace(tr1, 1, 1);\n",
    "fig.append_trace(tr3, 1, 2);\n",
    "fig['layout'].update(height=350, showlegend=False, margin=dict(l=120));\n",
    "iplot(fig);"
   ]
  },
  {
   "cell_type": "code",
   "execution_count": 25,
   "metadata": {},
   "outputs": [
    {
     "data": {
      "image/png": "[encoded data removed]",
      "text/plain": [
       "<Figure size 864x360 with 1 Axes>"
      ]
     },
     "metadata": {},
     "output_type": "display_data"
    }
   ],
   "source": [
    "plt.figure(figsize=(12,5))\n",
    "plt.title(\"Distribution of AMT_CREDIT\")\n",
    "ax = sns.distplot(app_train[\"AMT_CREDIT\"])"
   ]
  },
  {
   "cell_type": "code",
   "execution_count": 26,
   "metadata": {},
   "outputs": [
    {
     "data": {
      "image/png": "[encoded data removed]",
      "text/plain": [
       "<Figure size 864x360 with 1 Axes>"
      ]
     },
     "metadata": {},
     "output_type": "display_data"
    }
   ],
   "source": [
    "plt.figure(figsize=(12,5))\n",
    "plt.title(\"Distribution of AMT_ANNUITY\")\n",
    "ax = sns.distplot(app_train[\"AMT_ANNUITY\"].dropna())"
   ]
  },
  {
   "cell_type": "code",
   "execution_count": 27,
   "metadata": {},
   "outputs": [
    {
     "data": {
      "image/png": "[encoded data removed]",
      "text/plain": [
       "<Figure size 864x360 with 1 Axes>"
      ]
     },
     "metadata": {},
     "output_type": "display_data"
    }
   ],
   "source": [
    "plt.figure(figsize=(12,5))\n",
    "plt.title(\"Distribution of AMT_GOODS_PRICE\")\n",
    "ax = sns.distplot(app_train[\"AMT_GOODS_PRICE\"].dropna())"
   ]
  },
  {
   "cell_type": "code",
   "execution_count": 28,
   "metadata": {},
   "outputs": [
    {
     "data": {
      "image/png": "[encoded data removed]",
      "text/plain": [
       "<Figure size 864x360 with 1 Axes>"
      ]
     },
     "metadata": {},
     "output_type": "display_data"
    }
   ],
   "source": [
    "plt.figure(figsize=(12,5))\n",
    "plt.title(\"Distribution of REGION_POPULATION_RELATIVE\")\n",
    "ax = sns.distplot(app_train[\"REGION_POPULATION_RELATIVE\"])"
   ]
  },
  {
   "cell_type": "code",
   "execution_count": 29,
   "metadata": {},
   "outputs": [
    {
     "data": {
      "image/png": "[encoded data removed]",
      "text/plain": [
       "<Figure size 864x360 with 1 Axes>"
      ]
     },
     "metadata": {},
     "output_type": "display_data"
    }
   ],
   "source": [
    "plt.figure(figsize=(12,5))\n",
    "plt.title(\"Distribution of DAYS_BIRTH\")\n",
    "ax = sns.distplot(app_train[\"DAYS_BIRTH\"])"
   ]
  },
  {
   "cell_type": "code",
   "execution_count": 30,
   "metadata": {},
   "outputs": [
    {
     "data": {
      "image/png": "[encoded data removed]",
      "text/plain": [
       "<Figure size 864x360 with 1 Axes>"
      ]
     },
     "metadata": {},
     "output_type": "display_data"
    }
   ],
   "source": [
    "plt.figure(figsize=(12,5))\n",
    "plt.title(\"Distribution of DAYS_EMPLOYED\")\n",
    "ax = sns.distplot(app_train[\"DAYS_EMPLOYED\"])"
   ]
  },
  {
   "cell_type": "code",
   "execution_count": 31,
   "metadata": {},
   "outputs": [
    {
     "data": {
      "image/png": "[encoded data removed]",
      "text/plain": [
       "<Figure size 864x360 with 1 Axes>"
      ]
     },
     "metadata": {},
     "output_type": "display_data"
    }
   ],
   "source": [
    "plt.figure(figsize=(12,5))\n",
    "plt.title(\"Distribution of DAYS_REGISTRATION\")\n",
    "ax = sns.distplot(app_train[\"DAYS_REGISTRATION\"])"
   ]
  },
  {
   "cell_type": "code",
   "execution_count": 33,
   "metadata": {},
   "outputs": [
    {
     "data": {
      "image/png": "[encoded data removed]",
      "text/plain": [
       "<Figure size 864x360 with 1 Axes>"
      ]
     },
     "metadata": {},
     "output_type": "display_data"
    }
   ],
   "source": [
    "t = app_train[\"CNT_FAM_MEMBERS\"].value_counts()\n",
    "t1 = pd.DataFrame()\n",
    "t1['x'] = t.index \n",
    "t1['y'] = t.values \n",
    "\n",
    "plt.figure(figsize=(12,5));\n",
    "plt.title(\"Distribution of Applicant's Family Members Count\");\n",
    "ax = sns.barplot(data=t1, x=\"x\", y=\"y\", color=\"#f975ae\");\n",
    "ax.spines['right'].set_visible(False);\n",
    "ax.spines['top'].set_visible(False);\n",
    "\n",
    "ax.set_ylabel('');    \n",
    "ax.set_xlabel('');"
   ]
  },
  {
   "cell_type": "code",
   "execution_count": 34,
   "metadata": {},
   "outputs": [
    {
     "data": {
      "image/png": "[encoded data removed]",
      "text/plain": [
       "<Figure size 864x360 with 1 Axes>"
      ]
     },
     "metadata": {},
     "output_type": "display_data"
    }
   ],
   "source": [
    "t = app_train[\"CNT_CHILDREN\"].value_counts()\n",
    "t1 = pd.DataFrame()\n",
    "t1['x'] = t.index \n",
    "t1['y'] = t.values \n",
    "\n",
    "plt.figure(figsize=(12,5));\n",
    "plt.title(\"Distribution of Applicant's Number of Children\");\n",
    "ax = sns.barplot(data=t1, x=\"x\", y=\"y\", color=\"#f975ae\");\n",
    "ax.spines['right'].set_visible(False);\n",
    "ax.spines['top'].set_visible(False);\n",
    "\n",
    "ax.set_ylabel('');    \n",
    "ax.set_xlabel('');"
   ]
  },
  {
   "cell_type": "markdown",
   "metadata": {},
   "source": [
    "# missing value process"
   ]
  },
  {
   "cell_type": "code",
   "execution_count": 38,
   "metadata": {},
   "outputs": [],
   "source": [
    "# checking missing data\n",
    "total = app_train.isnull().sum().sort_values(ascending = False)\n",
    "percent = (app_train.isnull().sum()/app_train.isnull().count()*100).sort_values(ascending = False)\n",
    "missing_application_train_data  = pd.concat([total, percent], axis=1, keys=['Total', 'Percent'])\n",
    "missing_application_train_data.head(20);"
   ]
  },
  {
   "cell_type": "code",
   "execution_count": 103,
   "metadata": {
    "collapsed": true
   },
   "outputs": [
    {
     "data": {
      "image/png": "[encoded data removed]",
      "text/plain": [
       "<Figure size 720x1080 with 1 Axes>"
      ]
     },
     "metadata": {},
     "output_type": "display_data"
    }
   ],
   "source": [
    "a = missing_application_train_data[missing_application_train_data['Percent']!=0]\n",
    "a = a[a.index != 'EXT_SOURCE_1']\n",
    "a = a[a.index != 'EXT_SOURCE_2']\n",
    "a = a[a.index != 'EXT_SOURCE_3']\n",
    "plt.rcParams[\"figure.figsize\"] = (10,15)\n",
    "ax.set_xlim([0, 100])\n",
    "plt.barh(a.index, a['Percent']);"
   ]
  },
  {
   "cell_type": "markdown",
   "metadata": {},
   "source": [
    "# Read in Data"
   ]
  },
  {
   "cell_type": "raw",
   "metadata": {},
   "source": [
    "all = [var for var in globals() if var[0] != \"_\"]\n",
    "for var in all:\n",
    "    del globals()[var]"
   ]
  },
  {
   "cell_type": "code",
   "execution_count": 249,
   "metadata": {},
   "outputs": [],
   "source": [
    "import pandas as pd\n",
    "import numpy as np\n",
    "from scipy.stats import skew\n",
    "import xgboost as xgb\n",
    "from sklearn.cross_validation import KFold\n",
    "from sklearn.cross_validation import train_test_split\n",
    "from sklearn.ensemble import ExtraTreesClassifier\n",
    "from sklearn.ensemble import RandomForestClassifier\n",
    "from sklearn.metrics import mean_squared_error\n",
    "from sklearn.linear_model import LogisticRegression\n",
    "from math import sqrt\n",
    "from sklearn.metrics import roc_auc_score\n",
    "from sklearn.model_selection import KFold\n",
    "from catboost import CatBoostClassifier\n",
    "from lightgbm import LGBMClassifier\n",
    "import gc\n",
    "\n",
    "NFOLDS = 3\n",
    "SEED = 0\n",
    "NROWS = None\n",
    "\n",
    "data = pd.read_csv('D:/서울대 강의자료/고급빅데이터/final data//application_train.csv', engine = 'python')\n",
    "# test = pd.read_csv('D:/서울대 강의자료/고급빅데이터/final data//application_test.csv', engine = 'python')\n",
    "\n",
    "# print('%-55s | %7s | %10s | %10s | %10s' \n",
    "#       % ('FEATURES', 'TYPE', 'NB VALUES', 'NB NaNS', 'NaNs (%)'))\n",
    "# for f_ in data: # .dtypes\n",
    "#     print(\"%-55s | %7s | %10s | %10s |    %5.2f\"\n",
    "#           % (f_, str(data[f_].dtype), \n",
    "#              str(len(data[f_].value_counts(dropna=False))), \n",
    "#              str(data[f_].isnull().sum()),\n",
    "#              100 * data[f_].isnull().sum() / data.shape[0]\n",
    "#             )\n",
    "#          )"
   ]
  },
  {
   "cell_type": "raw",
   "metadata": {},
   "source": [
    "pd.set_option('display.large_repr', 'truncate')\n",
    "pd.set_option('display.max_columns', 0)"
   ]
  },
  {
   "cell_type": "code",
   "execution_count": 250,
   "metadata": {},
   "outputs": [],
   "source": [
    "categorical_feats = [\n",
    "    f for f in data.columns if data[f].dtype == 'object'\n",
    "]\n",
    "for f_ in categorical_feats:\n",
    "    data[f_], indexer = pd.factorize(data[f_])\n",
    "#     test[f_] = indexer.get_indexer(test[f_])\n",
    "    \n",
    "gc.enable()"
   ]
  },
  {
   "cell_type": "code",
   "execution_count": 251,
   "metadata": {},
   "outputs": [],
   "source": [
    "data = data.fillna(0)"
   ]
  },
  {
   "cell_type": "code",
   "execution_count": 333,
   "metadata": {},
   "outputs": [],
   "source": [
    "train, test = train_test_split(data, train_size = 0.9)"
   ]
  },
  {
   "cell_type": "code",
   "execution_count": 334,
   "metadata": {},
   "outputs": [],
   "source": [
    "y_train = train['TARGET']\n",
    "y_test = test['TARGET']\n",
    "del train['TARGET']\n",
    "del test['TARGET']"
   ]
  },
  {
   "cell_type": "code",
   "execution_count": 335,
   "metadata": {},
   "outputs": [],
   "source": [
    "x_train = train\n",
    "x_test = test\n",
    "ntrain = x_train.shape[0]\n",
    "ntest = x_test.shape[0]"
   ]
  },
  {
   "cell_type": "code",
   "execution_count": 336,
   "metadata": {},
   "outputs": [
    {
     "data": {
      "text/plain": [
       "((30752,), (276759,))"
      ]
     },
     "execution_count": 336,
     "metadata": {},
     "output_type": "execute_result"
    }
   ],
   "source": [
    "y_test.shape, y_train.shape"
   ]
  },
  {
   "cell_type": "code",
   "execution_count": 376,
   "metadata": {},
   "outputs": [],
   "source": [
    "# excluded_feats = ['SK_ID_CURR']\n",
    "# features = [f_ for f_ in x_train.columns if f_ not in excluded_feats]\n",
    "\n",
    "# x_train = train[features]\n",
    "# x_test = test[features]\n",
    "\n",
    "x_train=x_train.reset_index()\n",
    "x_test=x_test.reset_index()\n",
    "y_train=y_train.reset_index()\n",
    "y_test=y_test.reset_index()"
   ]
  },
  {
   "cell_type": "code",
   "execution_count": 338,
   "metadata": {},
   "outputs": [],
   "source": [
    "excluded_feats = [\"SK_ID_CURR\"]\n",
    "features = [f for f in train.columns if f not in excluded_feats]"
   ]
  },
  {
   "cell_type": "code",
   "execution_count": 361,
   "metadata": {},
   "outputs": [],
   "source": [
    "folds = KFold(n_splits = 4, shuffle=True, random_state=SEED)\n",
    "oof_preds = np.zeros(train.shape[0])\n",
    "sub_preds = np.zeros(test.shape[0])\n",
    "pred = np.zeros(test.shape[0])"
   ]
  },
  {
   "cell_type": "code",
   "execution_count": 341,
   "metadata": {},
   "outputs": [],
   "source": [
    "from xgboost import XGBClassifier"
   ]
  },
  {
   "cell_type": "code",
   "execution_count": 360,
   "metadata": {
    "collapsed": true
   },
   "outputs": [
    {
     "name": "stdout",
     "output_type": "stream",
     "text": [
      "[0]\tvalidation_0-auc:0.69505\tvalidation_1-auc:0.67867\n",
      "Multiple eval metrics have been passed: 'validation_1-auc' will be used for early stopping.\n",
      "\n",
      "Will train until validation_1-auc hasn't improved in 30 rounds.\n",
      "[10]\tvalidation_0-auc:0.767853\tvalidation_1-auc:0.740979\n",
      "[20]\tvalidation_0-auc:0.777537\tvalidation_1-auc:0.743754\n",
      "[30]\tvalidation_0-auc:0.784874\tvalidation_1-auc:0.745818\n",
      "[40]\tvalidation_0-auc:0.795094\tvalidation_1-auc:0.748363\n",
      "[50]\tvalidation_0-auc:0.802997\tvalidation_1-auc:0.75107\n",
      "[60]\tvalidation_0-auc:0.809094\tvalidation_1-auc:0.752432\n",
      "[70]\tvalidation_0-auc:0.813637\tvalidation_1-auc:0.753033\n",
      "[80]\tvalidation_0-auc:0.818433\tvalidation_1-auc:0.753896\n",
      "[90]\tvalidation_0-auc:0.822797\tvalidation_1-auc:0.754081\n",
      "[99]\tvalidation_0-auc:0.826543\tvalidation_1-auc:0.75456\n",
      "Fold  1 AUC : 0.754560\n"
     ]
    },
    {
     "ename": "NameError",
     "evalue": "name 'pred' is not defined",
     "output_type": "error",
     "traceback": [
      "\u001b[1;31m---------------------------------------------------------------------------\u001b[0m",
      "\u001b[1;31mNameError\u001b[0m                                 Traceback (most recent call last)",
      "\u001b[1;32m<ipython-input-360-528017bde53e>\u001b[0m in \u001b[0;36m<module>\u001b[1;34m()\u001b[0m\n\u001b[0;32m     27\u001b[0m     \u001b[0mprint\u001b[0m\u001b[1;33m(\u001b[0m\u001b[1;34m\"Fold %2d AUC : %.6f\"\u001b[0m \u001b[1;33m%\u001b[0m\u001b[1;33m(\u001b[0m\u001b[0mn_fold\u001b[0m \u001b[1;33m+\u001b[0m \u001b[1;36m1\u001b[0m\u001b[1;33m,\u001b[0m \u001b[0mroc_auc_score\u001b[0m\u001b[1;33m(\u001b[0m\u001b[0mval_y\u001b[0m\u001b[1;33m,\u001b[0m \u001b[0moof_preds\u001b[0m\u001b[1;33m[\u001b[0m\u001b[0mval_idx\u001b[0m\u001b[1;33m]\u001b[0m\u001b[1;33m)\u001b[0m\u001b[1;33m)\u001b[0m\u001b[1;33m)\u001b[0m\u001b[1;33m\u001b[0m\u001b[0m\n\u001b[0;32m     28\u001b[0m \u001b[1;33m\u001b[0m\u001b[0m\n\u001b[1;32m---> 29\u001b[1;33m     \u001b[0mpred\u001b[0m\u001b[1;33m[\u001b[0m\u001b[0mval_idx\u001b[0m\u001b[1;33m]\u001b[0m \u001b[1;33m=\u001b[0m \u001b[0mclf\u001b[0m\u001b[1;33m.\u001b[0m\u001b[0mpredict_proba\u001b[0m\u001b[1;33m(\u001b[0m\u001b[0mx_test\u001b[0m\u001b[1;33m[\u001b[0m\u001b[0mfeatures\u001b[0m\u001b[1;33m]\u001b[0m\u001b[1;33m)\u001b[0m\u001b[1;33m[\u001b[0m\u001b[1;33m:\u001b[0m\u001b[1;33m,\u001b[0m \u001b[1;36m1\u001b[0m\u001b[1;33m]\u001b[0m\u001b[1;33m\u001b[0m\u001b[0m\n\u001b[0m\u001b[0;32m     30\u001b[0m     \u001b[0mprint\u001b[0m\u001b[1;33m(\u001b[0m\u001b[1;34m\"Fold %2d AUC : %.6f\"\u001b[0m \u001b[1;33m%\u001b[0m\u001b[1;33m(\u001b[0m\u001b[0mn_fold\u001b[0m \u001b[1;33m+\u001b[0m \u001b[1;36m1\u001b[0m\u001b[1;33m,\u001b[0m \u001b[0mroc_auc_score\u001b[0m\u001b[1;33m(\u001b[0m\u001b[0my_test\u001b[0m\u001b[1;33m,\u001b[0m \u001b[0mpred\u001b[0m\u001b[1;33m[\u001b[0m\u001b[0mval_idx\u001b[0m\u001b[1;33m]\u001b[0m\u001b[1;33m)\u001b[0m\u001b[1;33m)\u001b[0m\u001b[1;33m)\u001b[0m\u001b[1;33m\u001b[0m\u001b[0m\n\u001b[0;32m     31\u001b[0m \u001b[1;33m\u001b[0m\u001b[0m\n",
      "\u001b[1;31mNameError\u001b[0m: name 'pred' is not defined"
     ]
    }
   ],
   "source": [
    "for n_fold, (trn_idx, val_idx) in enumerate(folds.split(x_train)):\n",
    "    trn_x, trn_y = x_train[features].iloc[trn_idx], y_train.iloc[trn_idx]\n",
    "    val_x, val_y = x_train[features].iloc[val_idx], y_train.iloc[val_idx]\n",
    "    \n",
    "    clf = XGBClassifier(\n",
    "        objective=\"binary:logistic\",\n",
    "        booster=\"gbtree\",\n",
    "        eval_metric = \"auc\",\n",
    "        nthread = 4,\n",
    "        eta = 0.05,\n",
    "        gamma = 0,\n",
    "        max_depth = 8,\n",
    "        subsample=0.7,\n",
    "        colsample_bytree = 0.7,\n",
    "        colsample_bylevel = 0.675,\n",
    "        min_child_weight = 22,\n",
    "        alpha = 0,\n",
    "        random_state = 42,\n",
    "        nrounds = 2000\n",
    "    )\n",
    "    \n",
    "    clf.fit(trn_x, trn_y, eval_set=[(trn_x, trn_y), (val_x, val_y)], verbose=10, early_stopping_rounds=30)\n",
    "    \n",
    "    oof_preds[val_idx] = clf.predict_proba(val_x)[:, 1]\n",
    "    sub_preds += clf.predict_proba(test[features])[:, 1] / folds.n_splits\n",
    "    \n",
    "    print(\"Fold %2d AUC : %.6f\" %(n_fold + 1, roc_auc_score(val_y, oof_preds[val_idx])))\n",
    "    \n",
    "    del clf, trn_x, trn_y, val_x, val_y\n",
    "    \n",
    "    gc.collect()"
   ]
  },
  {
   "cell_type": "code",
   "execution_count": 382,
   "metadata": {},
   "outputs": [
    {
     "ename": "IndexError",
     "evalue": "list index out of range",
     "output_type": "error",
     "traceback": [
      "\u001b[1;31m---------------------------------------------------------------------------\u001b[0m",
      "\u001b[1;31mIndexError\u001b[0m                                Traceback (most recent call last)",
      "\u001b[1;32m<ipython-input-382-9a53d41c9353>\u001b[0m in \u001b[0;36m<module>\u001b[1;34m()\u001b[0m\n\u001b[0;32m     16\u001b[0m     )\n\u001b[0;32m     17\u001b[0m \u001b[1;33m\u001b[0m\u001b[0m\n\u001b[1;32m---> 18\u001b[1;33m \u001b[0mclf\u001b[0m\u001b[1;33m.\u001b[0m\u001b[0mfit\u001b[0m\u001b[1;33m(\u001b[0m\u001b[0mx_train\u001b[0m\u001b[1;33m[\u001b[0m\u001b[0mfeatures\u001b[0m\u001b[1;33m]\u001b[0m\u001b[1;33m,\u001b[0m \u001b[0my_train\u001b[0m\u001b[1;33m,\u001b[0m \u001b[0mverbose\u001b[0m\u001b[1;33m=\u001b[0m\u001b[1;36m10\u001b[0m\u001b[1;33m,\u001b[0m \u001b[0mearly_stopping_rounds\u001b[0m\u001b[1;33m=\u001b[0m\u001b[1;36m30\u001b[0m\u001b[1;33m)\u001b[0m\u001b[1;33m\u001b[0m\u001b[0m\n\u001b[0m",
      "\u001b[1;32mC:\\tools\\Anaconda3\\lib\\site-packages\\xgboost\\sklearn.py\u001b[0m in \u001b[0;36mfit\u001b[1;34m(self, X, y, sample_weight, eval_set, eval_metric, early_stopping_rounds, verbose, xgb_model, sample_weight_eval_set)\u001b[0m\n\u001b[0;32m    545\u001b[0m                               \u001b[0mearly_stopping_rounds\u001b[0m\u001b[1;33m=\u001b[0m\u001b[0mearly_stopping_rounds\u001b[0m\u001b[1;33m,\u001b[0m\u001b[1;33m\u001b[0m\u001b[0m\n\u001b[0;32m    546\u001b[0m                               \u001b[0mevals_result\u001b[0m\u001b[1;33m=\u001b[0m\u001b[0mevals_result\u001b[0m\u001b[1;33m,\u001b[0m \u001b[0mobj\u001b[0m\u001b[1;33m=\u001b[0m\u001b[0mobj\u001b[0m\u001b[1;33m,\u001b[0m \u001b[0mfeval\u001b[0m\u001b[1;33m=\u001b[0m\u001b[0mfeval\u001b[0m\u001b[1;33m,\u001b[0m\u001b[1;33m\u001b[0m\u001b[0m\n\u001b[1;32m--> 547\u001b[1;33m                               verbose_eval=verbose, xgb_model=None)\n\u001b[0m\u001b[0;32m    548\u001b[0m \u001b[1;33m\u001b[0m\u001b[0m\n\u001b[0;32m    549\u001b[0m         \u001b[0mself\u001b[0m\u001b[1;33m.\u001b[0m\u001b[0mobjective\u001b[0m \u001b[1;33m=\u001b[0m \u001b[0mxgb_options\u001b[0m\u001b[1;33m[\u001b[0m\u001b[1;34m\"objective\"\u001b[0m\u001b[1;33m]\u001b[0m\u001b[1;33m\u001b[0m\u001b[0m\n",
      "\u001b[1;32mC:\\tools\\Anaconda3\\lib\\site-packages\\xgboost\\training.py\u001b[0m in \u001b[0;36mtrain\u001b[1;34m(params, dtrain, num_boost_round, evals, obj, feval, maximize, early_stopping_rounds, evals_result, verbose_eval, xgb_model, callbacks, learning_rates)\u001b[0m\n\u001b[0;32m    202\u001b[0m                            \u001b[0mevals\u001b[0m\u001b[1;33m=\u001b[0m\u001b[0mevals\u001b[0m\u001b[1;33m,\u001b[0m\u001b[1;33m\u001b[0m\u001b[0m\n\u001b[0;32m    203\u001b[0m                            \u001b[0mobj\u001b[0m\u001b[1;33m=\u001b[0m\u001b[0mobj\u001b[0m\u001b[1;33m,\u001b[0m \u001b[0mfeval\u001b[0m\u001b[1;33m=\u001b[0m\u001b[0mfeval\u001b[0m\u001b[1;33m,\u001b[0m\u001b[1;33m\u001b[0m\u001b[0m\n\u001b[1;32m--> 204\u001b[1;33m                            xgb_model=xgb_model, callbacks=callbacks)\n\u001b[0m\u001b[0;32m    205\u001b[0m \u001b[1;33m\u001b[0m\u001b[0m\n\u001b[0;32m    206\u001b[0m \u001b[1;33m\u001b[0m\u001b[0m\n",
      "\u001b[1;32mC:\\tools\\Anaconda3\\lib\\site-packages\\xgboost\\training.py\u001b[0m in \u001b[0;36m_train_internal\u001b[1;34m(params, dtrain, num_boost_round, evals, obj, feval, xgb_model, callbacks)\u001b[0m\n\u001b[0;32m     97\u001b[0m                                \u001b[0mend_iteration\u001b[0m\u001b[1;33m=\u001b[0m\u001b[0mnum_boost_round\u001b[0m\u001b[1;33m,\u001b[0m\u001b[1;33m\u001b[0m\u001b[0m\n\u001b[0;32m     98\u001b[0m                                \u001b[0mrank\u001b[0m\u001b[1;33m=\u001b[0m\u001b[0mrank\u001b[0m\u001b[1;33m,\u001b[0m\u001b[1;33m\u001b[0m\u001b[0m\n\u001b[1;32m---> 99\u001b[1;33m                                evaluation_result_list=evaluation_result_list))\n\u001b[0m\u001b[0;32m    100\u001b[0m         \u001b[1;32mexcept\u001b[0m \u001b[0mEarlyStopException\u001b[0m\u001b[1;33m:\u001b[0m\u001b[1;33m\u001b[0m\u001b[0m\n\u001b[0;32m    101\u001b[0m             \u001b[1;32mbreak\u001b[0m\u001b[1;33m\u001b[0m\u001b[0m\n",
      "\u001b[1;32mC:\\tools\\Anaconda3\\lib\\site-packages\\xgboost\\callback.py\u001b[0m in \u001b[0;36mcallback\u001b[1;34m(env)\u001b[0m\n\u001b[0;32m    225\u001b[0m     \u001b[1;32mdef\u001b[0m \u001b[0mcallback\u001b[0m\u001b[1;33m(\u001b[0m\u001b[0menv\u001b[0m\u001b[1;33m)\u001b[0m\u001b[1;33m:\u001b[0m\u001b[1;33m\u001b[0m\u001b[0m\n\u001b[0;32m    226\u001b[0m         \u001b[1;34m\"\"\"internal function\"\"\"\u001b[0m\u001b[1;33m\u001b[0m\u001b[0m\n\u001b[1;32m--> 227\u001b[1;33m         \u001b[0mscore\u001b[0m \u001b[1;33m=\u001b[0m \u001b[0menv\u001b[0m\u001b[1;33m.\u001b[0m\u001b[0mevaluation_result_list\u001b[0m\u001b[1;33m[\u001b[0m\u001b[1;33m-\u001b[0m\u001b[1;36m1\u001b[0m\u001b[1;33m]\u001b[0m\u001b[1;33m[\u001b[0m\u001b[1;36m1\u001b[0m\u001b[1;33m]\u001b[0m\u001b[1;33m\u001b[0m\u001b[0m\n\u001b[0m\u001b[0;32m    228\u001b[0m         \u001b[1;32mif\u001b[0m \u001b[0mlen\u001b[0m\u001b[1;33m(\u001b[0m\u001b[0mstate\u001b[0m\u001b[1;33m)\u001b[0m \u001b[1;33m==\u001b[0m \u001b[1;36m0\u001b[0m\u001b[1;33m:\u001b[0m\u001b[1;33m\u001b[0m\u001b[0m\n\u001b[0;32m    229\u001b[0m             \u001b[0minit\u001b[0m\u001b[1;33m(\u001b[0m\u001b[0menv\u001b[0m\u001b[1;33m)\u001b[0m\u001b[1;33m\u001b[0m\u001b[0m\n",
      "\u001b[1;31mIndexError\u001b[0m: list index out of range"
     ]
    }
   ],
   "source": [
    "clf = XGBClassifier(\n",
    "        objective=\"binary:logistic\",\n",
    "        booster=\"gbtree\",\n",
    "        eval_metric = \"auc\",\n",
    "        nthread = 4,\n",
    "        eta = 0.05,\n",
    "        gamma = 0,\n",
    "        max_depth = 8,\n",
    "        subsample=0.7,\n",
    "        colsample_bytree = 0.7,\n",
    "        colsample_bylevel = 0.675,\n",
    "        min_child_weight = 22,\n",
    "        alpha = 0,\n",
    "        random_state = 42,\n",
    "        nrounds = 2000\n",
    "    )\n",
    "    \n",
    "clf.fit(x_train[features], y_train, verbose=10, early_stopping_rounds=30)"
   ]
  },
  {
   "cell_type": "code",
   "execution_count": null,
   "metadata": {},
   "outputs": [],
   "source": []
  },
  {
   "cell_type": "code",
   "execution_count": null,
   "metadata": {},
   "outputs": [],
   "source": []
  },
  {
   "cell_type": "code",
   "execution_count": null,
   "metadata": {},
   "outputs": [],
   "source": []
  },
  {
   "cell_type": "code",
   "execution_count": null,
   "metadata": {},
   "outputs": [],
   "source": []
  },
  {
   "cell_type": "code",
   "execution_count": null,
   "metadata": {},
   "outputs": [],
   "source": []
  },
  {
   "cell_type": "code",
   "execution_count": null,
   "metadata": {},
   "outputs": [],
   "source": [
    "###################################\n",
    "# PLEASE DON'T DO THIS AT HOME LOL\n",
    "# Averaging factorized categorical features defeats my own reasoning\n",
    "################################### \n",
    "\n",
    "# prev_cat_features = [\n",
    "#     f_ for f_ in prev.columns if prev[f_].dtype == 'object'\n",
    "# ]\n",
    "\n",
    "# for f_ in prev_cat_features:\n",
    "#     prev[f_], _ = pd.factorize(prev[f_])\n",
    "    \n",
    "# avg_prev = prev.groupby('SK_ID_CURR').mean()\n",
    "# cnt_prev = prev[['SK_ID_CURR', 'SK_ID_PREV']].groupby('SK_ID_CURR').count()\n",
    "# avg_prev['nb_app'] = cnt_prev['SK_ID_PREV']\n",
    "# del avg_prev['SK_ID_PREV']\n",
    "\n",
    "x_train = data.merge(right=avg_prev.reset_index(), how='left', on='SK_ID_CURR')\n",
    "x_test = test.merge(right=avg_prev.reset_index(), how='left', on='SK_ID_CURR')\n",
    "\n",
    "x_train = x_train.fillna(0)\n",
    "x_test= x_test.fillna(0)\n",
    "\n",
    "ntrain = x_train.shape[0]\n",
    "ntest = x_test.shape[0]\n",
    "\n",
    "excluded_feats = ['SK_ID_CURR']\n",
    "features = [f_ for f_ in x_train.columns if f_ not in excluded_feats]\n",
    "\n",
    "x_train = x_train[features]\n",
    "x_test = x_test[features]\n",
    "\n",
    "kf = KFold(n_splits = NFOLDS, shuffle=True, random_state=SEED)\n",
    "\n",
    "# class SklearnWrapper(object):\n",
    "#     def __init__(self, clf, seed=0, params=None):\n",
    "#         params['random_state'] = seed\n",
    "#         self.clf = clf(**params)\n",
    "\n",
    "#     def train(self, x_train, y_train):\n",
    "#         self.clf.fit(x_train, y_train)\n",
    "\n",
    "#     def predict(self, x):\n",
    "#         return self.clf.predict_proba(x)[:,1]\n",
    "\n",
    "# class CatboostWrapper(object):\n",
    "#     def __init__(self, clf, seed=0, params=None):\n",
    "#         params['random_seed'] = seed\n",
    "#         self.clf = clf(**params)\n",
    "\n",
    "#     def train(self, x_train, y_train):\n",
    "#         self.clf.fit(x_train, y_train)\n",
    "\n",
    "#     def predict(self, x):\n",
    "#         return self.clf.predict_proba(x)[:,1]\n",
    "        \n",
    "# class LightGBMWrapper(object):\n",
    "#     def __init__(self, clf, seed=0, params=None):\n",
    "#         params['feature_fraction_seed'] = seed\n",
    "#         params['bagging_seed'] = seed\n",
    "#         self.clf = clf(**params)\n",
    "\n",
    "#     def train(self, x_train, y_train):\n",
    "#         self.clf.fit(x_train, y_train)\n",
    "\n",
    "#     def predict(self, x):\n",
    "#         return self.clf.predict_proba(x)[:,1]\n",
    "\n",
    "\n",
    "b\n",
    "\n",
    "\n",
    "# et_params = {\n",
    "#     'n_jobs': 16,\n",
    "#     'n_estimators': 200,\n",
    "#     'max_features': 0.5,\n",
    "#     'max_depth': 12,\n",
    "#     'min_samples_leaf': 2,\n",
    "# }\n",
    "\n",
    "# rf_params = {\n",
    "#     'n_jobs': 16,\n",
    "#     'n_estimators': 200,\n",
    "#     'max_features': 0.2,\n",
    "#     'max_depth': 12,\n",
    "#     'min_samples_leaf': 2,\n",
    "# }\n",
    "\n",
    "xgb_params = {\n",
    "    'seed': 0,\n",
    "    'colsample_bytree': 0.7,\n",
    "    'silent': 1,\n",
    "    'subsample': 0.7,\n",
    "    'learning_rate': 0.075,\n",
    "    'objective': 'binary:logistic',\n",
    "    'max_depth': 4,\n",
    "    'num_parallel_tree': 1,\n",
    "    'min_child_weight': 1,\n",
    "    'nrounds': 200\n",
    "}\n",
    "\n",
    "# catboost_params = {\n",
    "#     'iterations': 200,\n",
    "#     'learning_rate': 0.5,\n",
    "#     'depth': 3,\n",
    "#     'l2_leaf_reg': 40,\n",
    "#     'bootstrap_type': 'Bernoulli',\n",
    "#     'subsample': 0.7,\n",
    "#     'scale_pos_weight': 5,\n",
    "#     'eval_metric': 'AUC',\n",
    "#     'od_type': 'Iter',\n",
    "#     'allow_writing_files': False\n",
    "# }\n",
    "\n",
    "# lightgbm_params = {\n",
    "#     'n_estimators':200,\n",
    "#     'learning_rate':0.1,\n",
    "#     'num_leaves':123,\n",
    "#     'colsample_bytree':0.8,\n",
    "#     'subsample':0.9,\n",
    "#     'max_depth':15,\n",
    "#     'reg_alpha':0.1,\n",
    "#     'reg_lambda':0.1,\n",
    "#     'min_split_gain':0.01,\n",
    "#     'min_child_weight':2    \n",
    "# }\n",
    "\n",
    "xg = XgbWrapper(seed=SEED, params=xgb_params)\n",
    "# et = SklearnWrapper(clf=ExtraTreesClassifier, seed=SEED, params=et_params)\n",
    "# rf = SklearnWrapper(clf=RandomForestClassifier, seed=SEED, params=rf_params)\n",
    "# cb = CatboostWrapper(clf= CatBoostClassifier, seed = SEED, params=catboost_params)\n",
    "# lg = LightGBMWrapper(clf = LGBMClassifier, seed = SEED, params = lightgbm_params)\n",
    "\n",
    "xg_oof_train, xg_oof_test = get_oof(xg)\n",
    "# et_oof_train, et_oof_test = get_oof(et)\n",
    "# rf_oof_train, rf_oof_test = get_oof(rf)\n",
    "# cb_oof_train, cb_oof_test = get_oof(cb)\n",
    "\n",
    "print(\"XG-CV: {}\".format(sqrt(mean_squared_error(y_train, xg_oof_train))))\n",
    "# print(\"ET-CV: {}\".format(sqrt(mean_squared_error(y_train, et_oof_train))))\n",
    "# print(\"RF-CV: {}\".format(sqrt(mean_squared_error(y_train, rf_oof_train))))\n",
    "# print(\"RF-CV: {}\".format(sqrt(mean_squared_error(y_train, cb_oof_train))))\n",
    "\n",
    "# x_train = np.concatenate((xg_oof_train, et_oof_train, rf_oof_train, cb_oof_train), axis=1)\n",
    "# x_test = np.concatenate((xg_oof_test, et_oof_test, rf_oof_test, cb_oof_test), axis=1)\n",
    "\n",
    "# print(\"{},{}\".format(x_train.shape, x_test.shape))\n",
    "\n",
    "# logistic_regression = LogisticRegression()\n",
    "# logistic_regression.fit(x_train,y_train)\n",
    "\n",
    "# test['TARGET'] = logistic_regression.predict_proba(x_test)[:,1]\n",
    "# test[['SK_ID_CURR', 'TARGET']].to_csv('first_submission.csv', index=False, float_format='%.8f')"
   ]
  }
 ],
 "metadata": {
  "kernelspec": {
   "display_name": "Python 3",
   "language": "python",
   "name": "python3"
  },
  "language_info": {
   "codemirror_mode": {
    "name": "ipython",
    "version": 3
   },
   "file_extension": ".py",
   "mimetype": "text/x-python",
   "name": "python",
   "nbconvert_exporter": "python",
   "pygments_lexer": "ipython3",
   "version": "3.6.5"
  }
 },
 "nbformat": 4,
 "nbformat_minor": 2
}
