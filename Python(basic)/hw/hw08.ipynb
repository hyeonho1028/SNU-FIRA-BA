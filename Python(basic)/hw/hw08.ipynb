{
 "cells": [
  {
   "cell_type": "code",
   "execution_count": 1,
   "metadata": {},
   "outputs": [],
   "source": [
    "import collections"
   ]
  },
  {
   "cell_type": "code",
   "execution_count": 85,
   "metadata": {},
   "outputs": [],
   "source": [
    "def vowel(n):\n",
    "    a = n.count('a')\n",
    "    e = n.count('e')\n",
    "    i = n.count('i')\n",
    "    o = n.count('o')\n",
    "    u = n.count('u')\n",
    "\n",
    "    print('The number fo a:', a)\n",
    "    print('The number fo e:', e)\n",
    "    print('The number fo i:', i)\n",
    "    print('The number fo o:', o)\n",
    "    print('The number fo u:', u)\n",
    "    \n",
    "    m = max(a, e, i, o, u)\n",
    "    \n",
    "    if m == a:\n",
    "        max_index = 'a'\n",
    "    elif m == e:\n",
    "        max_index = 'e'\n",
    "    elif m == i:\n",
    "        max_index = 'i'\n",
    "    elif m == o:\n",
    "        max_index = 'o'\n",
    "    else:\n",
    "        max_index = 'u'\n",
    "    \n",
    "    for i in n:\n",
    "        if i == max_index:\n",
    "            i = i.upper()\n",
    "            print(i, end = \"\")\n",
    "        else:\n",
    "            print(i, end = \"\")"
   ]
  },
  {
   "cell_type": "code",
   "execution_count": 86,
   "metadata": {},
   "outputs": [
    {
     "name": "stdout",
     "output_type": "stream",
     "text": [
      "The number fo a: 3\n",
      "The number fo e: 7\n",
      "The number fo i: 6\n",
      "The number fo o: 6\n",
      "The number fo u: 0\n",
      "ThE rEgrEt aftEr not doing somEthing is biggEr than that of doing somEthing"
     ]
    }
   ],
   "source": [
    "vowel('The regret after not doing something is bigger than that of doing something')"
   ]
  },
  {
   "cell_type": "code",
   "execution_count": 5,
   "metadata": {},
   "outputs": [],
   "source": [
    "from collections import Counter\n",
    "def vowel(n):\n",
    "    counts = Counter(n)\n",
    "    m = list()\n",
    "    for i in ['a','e','i','o','u']:\n",
    "        if i in counts:\n",
    "            print('The number of {}: {}'.format(i, counts.get(i)))\n",
    "            m.append(counts.get(i))\n",
    "        else:\n",
    "            print('The number of {}: 0'.format(i))\n",
    "    else:\n",
    "        m = max(m)\n",
    "        for i in ['a','e','i','o','u']:\n",
    "            if counts.get(i) == m:\n",
    "                max_index = i    \n",
    "        \n",
    "    for i in n:\n",
    "        if i == max_index:\n",
    "            i = i.upper()\n",
    "            print(i, end = \"\")\n",
    "        else:\n",
    "            print(i, end = \"\")\n",
    "            \n",
    "    print(counts.sorted())"
   ]
  },
  {
   "cell_type": "code",
   "execution_count": 6,
   "metadata": {},
   "outputs": [
    {
     "name": "stdout",
     "output_type": "stream",
     "text": [
      "The number of a: 3\n",
      "The number of e: 7\n",
      "The number of i: 6\n",
      "The number of o: 6\n",
      "The number of u: 0\n",
      "ThE rEgrEt aftEr not doing somEthing is biggEr than that of doing somEthing"
     ]
    },
    {
     "ename": "AttributeError",
     "evalue": "'Counter' object has no attribute 'sorted'",
     "output_type": "error",
     "traceback": [
      "\u001b[1;31m---------------------------------------------------------------------------\u001b[0m",
      "\u001b[1;31mAttributeError\u001b[0m                            Traceback (most recent call last)",
      "\u001b[1;32m<ipython-input-6-4b5578c095c3>\u001b[0m in \u001b[0;36m<module>\u001b[1;34m()\u001b[0m\n\u001b[1;32m----> 1\u001b[1;33m \u001b[0mvowel\u001b[0m\u001b[1;33m(\u001b[0m\u001b[1;34m'The regret after not doing something is bigger than that of doing something'\u001b[0m\u001b[1;33m)\u001b[0m\u001b[1;33m\u001b[0m\u001b[0m\n\u001b[0m",
      "\u001b[1;32m<ipython-input-5-07d1bc4653fc>\u001b[0m in \u001b[0;36mvowel\u001b[1;34m(n)\u001b[0m\n\u001b[0;32m     22\u001b[0m             \u001b[0mprint\u001b[0m\u001b[1;33m(\u001b[0m\u001b[0mi\u001b[0m\u001b[1;33m,\u001b[0m \u001b[0mend\u001b[0m \u001b[1;33m=\u001b[0m \u001b[1;34m\"\"\u001b[0m\u001b[1;33m)\u001b[0m\u001b[1;33m\u001b[0m\u001b[0m\n\u001b[0;32m     23\u001b[0m \u001b[1;33m\u001b[0m\u001b[0m\n\u001b[1;32m---> 24\u001b[1;33m     \u001b[0mprint\u001b[0m\u001b[1;33m(\u001b[0m\u001b[0mcounts\u001b[0m\u001b[1;33m.\u001b[0m\u001b[0msorted\u001b[0m\u001b[1;33m(\u001b[0m\u001b[1;33m)\u001b[0m\u001b[1;33m)\u001b[0m\u001b[1;33m\u001b[0m\u001b[0m\n\u001b[0m",
      "\u001b[1;31mAttributeError\u001b[0m: 'Counter' object has no attribute 'sorted'"
     ]
    }
   ],
   "source": [
    "vowel('The regret after not doing something is bigger than that of doing something')"
   ]
  },
  {
   "cell_type": "code",
   "execution_count": null,
   "metadata": {},
   "outputs": [],
   "source": []
  }
 ],
 "metadata": {
  "kernelspec": {
   "display_name": "Python 3",
   "language": "python",
   "name": "python3"
  },
  "language_info": {
   "codemirror_mode": {
    "name": "ipython",
    "version": 3
   },
   "file_extension": ".py",
   "mimetype": "text/x-python",
   "name": "python",
   "nbconvert_exporter": "python",
   "pygments_lexer": "ipython3",
   "version": "3.6.5"
  }
 },
 "nbformat": 4,
 "nbformat_minor": 2
}
