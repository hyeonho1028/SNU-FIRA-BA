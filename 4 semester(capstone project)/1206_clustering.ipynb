{
 "cells": [
  {
   "cell_type": "code",
   "execution_count": 1,
   "metadata": {},
   "outputs": [],
   "source": [
    "import pandas as pd\n",
    "import numpy as np\n",
    "import folium\n",
    "from sklearn.cluster import KMeans\n",
    "from math import *\n",
    "import matplotlib.pyplot as plt"
   ]
  },
  {
   "cell_type": "markdown",
   "metadata": {},
   "source": [
    "### 데이터 로드, longitude 태평양중심"
   ]
  },
  {
   "cell_type": "code",
   "execution_count": 2,
   "metadata": {},
   "outputs": [],
   "source": [
    "data = pd.read_csv('C:/Users/renz/Downloads/1205_data.csv')\n",
    "data['LON'] = data['LON'].apply(lambda x : (x - 360) if x>0 else x )"
   ]
  },
  {
   "cell_type": "markdown",
   "metadata": {},
   "source": [
    "### MMSI3 그룹화해서 개수 보기"
   ]
  },
  {
   "cell_type": "code",
   "execution_count": 3,
   "metadata": {
    "scrolled": true
   },
   "outputs": [
    {
     "data": {
      "text/plain": [
       "MMSI3\n",
       "209087000_4_1    141\n",
       "209087000_4_2     47\n",
       "209087000_8_2     48\n",
       "209087000_8_3     39\n",
       "209087000_8_5     94\n",
       "Name: MMSI, dtype: int64"
      ]
     },
     "execution_count": 3,
     "metadata": {},
     "output_type": "execute_result"
    }
   ],
   "source": [
    "data.groupby('MMSI3').count()['MMSI'].head()"
   ]
  },
  {
   "cell_type": "markdown",
   "metadata": {},
   "source": [
    "### MMSI3 기준으로 배가 몇개인지 확인"
   ]
  },
  {
   "cell_type": "code",
   "execution_count": 4,
   "metadata": {},
   "outputs": [
    {
     "data": {
      "text/plain": [
       "2783"
      ]
     },
     "execution_count": 4,
     "metadata": {},
     "output_type": "execute_result"
    }
   ],
   "source": [
    "len(data.groupby('MMSI3').count())"
   ]
  },
  {
   "cell_type": "markdown",
   "metadata": {},
   "source": [
    "##### 배 경로 시각화(간단 코드)"
   ]
  },
  {
   "cell_type": "code",
   "execution_count": 193,
   "metadata": {
    "collapsed": true
   },
   "outputs": [
    {
     "ename": "KeyError",
     "evalue": "'the label [0] is not in the [index]'",
     "output_type": "error",
     "traceback": [
      "\u001b[1;31m---------------------------------------------------------------------------\u001b[0m",
      "\u001b[1;31mKeyError\u001b[0m                                  Traceback (most recent call last)",
      "\u001b[1;32mC:\\tools\\Anaconda3\\lib\\site-packages\\pandas\\core\\indexing.py\u001b[0m in \u001b[0;36m_validate_key\u001b[1;34m(self, key, axis)\u001b[0m\n\u001b[0;32m   1789\u001b[0m                 \u001b[1;32mif\u001b[0m \u001b[1;32mnot\u001b[0m \u001b[0max\u001b[0m\u001b[1;33m.\u001b[0m\u001b[0mcontains\u001b[0m\u001b[1;33m(\u001b[0m\u001b[0mkey\u001b[0m\u001b[1;33m)\u001b[0m\u001b[1;33m:\u001b[0m\u001b[1;33m\u001b[0m\u001b[0m\n\u001b[1;32m-> 1790\u001b[1;33m                     \u001b[0merror\u001b[0m\u001b[1;33m(\u001b[0m\u001b[1;33m)\u001b[0m\u001b[1;33m\u001b[0m\u001b[0m\n\u001b[0m\u001b[0;32m   1791\u001b[0m             \u001b[1;32mexcept\u001b[0m \u001b[0mTypeError\u001b[0m \u001b[1;32mas\u001b[0m \u001b[0me\u001b[0m\u001b[1;33m:\u001b[0m\u001b[1;33m\u001b[0m\u001b[0m\n",
      "\u001b[1;32mC:\\tools\\Anaconda3\\lib\\site-packages\\pandas\\core\\indexing.py\u001b[0m in \u001b[0;36merror\u001b[1;34m()\u001b[0m\n\u001b[0;32m   1784\u001b[0m                                .format(key=key,\n\u001b[1;32m-> 1785\u001b[1;33m                                        axis=self.obj._get_axis_name(axis)))\n\u001b[0m\u001b[0;32m   1786\u001b[0m \u001b[1;33m\u001b[0m\u001b[0m\n",
      "\u001b[1;31mKeyError\u001b[0m: 'the label [0] is not in the [index]'",
      "\nDuring handling of the above exception, another exception occurred:\n",
      "\u001b[1;31mKeyError\u001b[0m                                  Traceback (most recent call last)",
      "\u001b[1;32m<ipython-input-193-370b321d626e>\u001b[0m in \u001b[0;36m<module>\u001b[1;34m()\u001b[0m\n\u001b[0;32m      1\u001b[0m \u001b[0mdata1\u001b[0m \u001b[1;33m=\u001b[0m \u001b[0mdata\u001b[0m\u001b[1;33m[\u001b[0m\u001b[0mdata\u001b[0m\u001b[1;33m[\u001b[0m\u001b[1;34m'MMSI3'\u001b[0m\u001b[1;33m]\u001b[0m\u001b[1;33m==\u001b[0m\u001b[1;34m'636092379_83_3'\u001b[0m\u001b[1;33m]\u001b[0m\u001b[1;33m\u001b[0m\u001b[0m\n\u001b[0;32m      2\u001b[0m \u001b[0mdata1\u001b[0m \u001b[1;33m=\u001b[0m \u001b[0mdata1\u001b[0m\u001b[1;33m.\u001b[0m\u001b[0mreset_index\u001b[0m\u001b[1;33m(\u001b[0m\u001b[1;33m)\u001b[0m\u001b[1;33m\u001b[0m\u001b[0m\n\u001b[1;32m----> 3\u001b[1;33m \u001b[0mm\u001b[0m \u001b[1;33m=\u001b[0m \u001b[0mfolium\u001b[0m\u001b[1;33m.\u001b[0m\u001b[0mMap\u001b[0m\u001b[1;33m(\u001b[0m\u001b[0mlocation\u001b[0m\u001b[1;33m=\u001b[0m\u001b[1;33m[\u001b[0m\u001b[0mdata1\u001b[0m\u001b[1;33m.\u001b[0m\u001b[0mloc\u001b[0m\u001b[1;33m[\u001b[0m\u001b[1;36m0\u001b[0m\u001b[1;33m,\u001b[0m\u001b[1;34m'LAT'\u001b[0m\u001b[1;33m]\u001b[0m\u001b[1;33m,\u001b[0m \u001b[0mdata1\u001b[0m\u001b[1;33m.\u001b[0m\u001b[0mloc\u001b[0m\u001b[1;33m[\u001b[0m\u001b[1;36m0\u001b[0m\u001b[1;33m,\u001b[0m\u001b[1;34m'LON'\u001b[0m\u001b[1;33m]\u001b[0m\u001b[1;33m]\u001b[0m\u001b[1;33m,\u001b[0m \u001b[0mzoom_start\u001b[0m\u001b[1;33m=\u001b[0m\u001b[1;36m1\u001b[0m\u001b[1;33m)\u001b[0m\u001b[1;33m\u001b[0m\u001b[0m\n\u001b[0m\u001b[0;32m      4\u001b[0m \u001b[1;32mfor\u001b[0m \u001b[0mi\u001b[0m \u001b[1;32min\u001b[0m \u001b[0mrange\u001b[0m\u001b[1;33m(\u001b[0m\u001b[0mdata1\u001b[0m\u001b[1;33m.\u001b[0m\u001b[0mshape\u001b[0m\u001b[1;33m[\u001b[0m\u001b[1;36m0\u001b[0m\u001b[1;33m]\u001b[0m\u001b[1;33m)\u001b[0m\u001b[1;33m:\u001b[0m\u001b[1;33m\u001b[0m\u001b[0m\n\u001b[0;32m      5\u001b[0m     \u001b[0mfolium\u001b[0m\u001b[1;33m.\u001b[0m\u001b[0mCircleMarker\u001b[0m\u001b[1;33m(\u001b[0m\u001b[0mlocation\u001b[0m\u001b[1;33m=\u001b[0m\u001b[1;33m[\u001b[0m\u001b[0mdata1\u001b[0m\u001b[1;33m.\u001b[0m\u001b[0mloc\u001b[0m\u001b[1;33m[\u001b[0m\u001b[0mi\u001b[0m\u001b[1;33m,\u001b[0m\u001b[1;34m'LAT'\u001b[0m\u001b[1;33m]\u001b[0m\u001b[1;33m,\u001b[0m \u001b[0mdata1\u001b[0m\u001b[1;33m.\u001b[0m\u001b[0mloc\u001b[0m\u001b[1;33m[\u001b[0m\u001b[0mi\u001b[0m\u001b[1;33m,\u001b[0m\u001b[1;34m'LON'\u001b[0m\u001b[1;33m]\u001b[0m\u001b[1;33m]\u001b[0m\u001b[1;33m,\u001b[0m \u001b[0mcolor\u001b[0m \u001b[1;33m=\u001b[0m \u001b[1;34m'red'\u001b[0m\u001b[1;33m,\u001b[0m \u001b[0mradius\u001b[0m \u001b[1;33m=\u001b[0m \u001b[1;36m0.05\u001b[0m\u001b[1;33m)\u001b[0m\u001b[1;33m.\u001b[0m\u001b[0madd_to\u001b[0m\u001b[1;33m(\u001b[0m\u001b[0mm\u001b[0m\u001b[1;33m)\u001b[0m\u001b[1;33m\u001b[0m\u001b[0m\n",
      "\u001b[1;32mC:\\tools\\Anaconda3\\lib\\site-packages\\pandas\\core\\indexing.py\u001b[0m in \u001b[0;36m__getitem__\u001b[1;34m(self, key)\u001b[0m\n\u001b[0;32m   1470\u001b[0m             \u001b[1;32mexcept\u001b[0m \u001b[1;33m(\u001b[0m\u001b[0mKeyError\u001b[0m\u001b[1;33m,\u001b[0m \u001b[0mIndexError\u001b[0m\u001b[1;33m)\u001b[0m\u001b[1;33m:\u001b[0m\u001b[1;33m\u001b[0m\u001b[0m\n\u001b[0;32m   1471\u001b[0m                 \u001b[1;32mpass\u001b[0m\u001b[1;33m\u001b[0m\u001b[0m\n\u001b[1;32m-> 1472\u001b[1;33m             \u001b[1;32mreturn\u001b[0m \u001b[0mself\u001b[0m\u001b[1;33m.\u001b[0m\u001b[0m_getitem_tuple\u001b[0m\u001b[1;33m(\u001b[0m\u001b[0mkey\u001b[0m\u001b[1;33m)\u001b[0m\u001b[1;33m\u001b[0m\u001b[0m\n\u001b[0m\u001b[0;32m   1473\u001b[0m         \u001b[1;32melse\u001b[0m\u001b[1;33m:\u001b[0m\u001b[1;33m\u001b[0m\u001b[0m\n\u001b[0;32m   1474\u001b[0m             \u001b[1;31m# we by definition only have the 0th axis\u001b[0m\u001b[1;33m\u001b[0m\u001b[1;33m\u001b[0m\u001b[0m\n",
      "\u001b[1;32mC:\\tools\\Anaconda3\\lib\\site-packages\\pandas\\core\\indexing.py\u001b[0m in \u001b[0;36m_getitem_tuple\u001b[1;34m(self, tup)\u001b[0m\n\u001b[0;32m    868\u001b[0m     \u001b[1;32mdef\u001b[0m \u001b[0m_getitem_tuple\u001b[0m\u001b[1;33m(\u001b[0m\u001b[0mself\u001b[0m\u001b[1;33m,\u001b[0m \u001b[0mtup\u001b[0m\u001b[1;33m)\u001b[0m\u001b[1;33m:\u001b[0m\u001b[1;33m\u001b[0m\u001b[0m\n\u001b[0;32m    869\u001b[0m         \u001b[1;32mtry\u001b[0m\u001b[1;33m:\u001b[0m\u001b[1;33m\u001b[0m\u001b[0m\n\u001b[1;32m--> 870\u001b[1;33m             \u001b[1;32mreturn\u001b[0m \u001b[0mself\u001b[0m\u001b[1;33m.\u001b[0m\u001b[0m_getitem_lowerdim\u001b[0m\u001b[1;33m(\u001b[0m\u001b[0mtup\u001b[0m\u001b[1;33m)\u001b[0m\u001b[1;33m\u001b[0m\u001b[0m\n\u001b[0m\u001b[0;32m    871\u001b[0m         \u001b[1;32mexcept\u001b[0m \u001b[0mIndexingError\u001b[0m\u001b[1;33m:\u001b[0m\u001b[1;33m\u001b[0m\u001b[0m\n\u001b[0;32m    872\u001b[0m             \u001b[1;32mpass\u001b[0m\u001b[1;33m\u001b[0m\u001b[0m\n",
      "\u001b[1;32mC:\\tools\\Anaconda3\\lib\\site-packages\\pandas\\core\\indexing.py\u001b[0m in \u001b[0;36m_getitem_lowerdim\u001b[1;34m(self, tup)\u001b[0m\n\u001b[0;32m    996\u001b[0m         \u001b[1;32mfor\u001b[0m \u001b[0mi\u001b[0m\u001b[1;33m,\u001b[0m \u001b[0mkey\u001b[0m \u001b[1;32min\u001b[0m \u001b[0menumerate\u001b[0m\u001b[1;33m(\u001b[0m\u001b[0mtup\u001b[0m\u001b[1;33m)\u001b[0m\u001b[1;33m:\u001b[0m\u001b[1;33m\u001b[0m\u001b[0m\n\u001b[0;32m    997\u001b[0m             \u001b[1;32mif\u001b[0m \u001b[0mis_label_like\u001b[0m\u001b[1;33m(\u001b[0m\u001b[0mkey\u001b[0m\u001b[1;33m)\u001b[0m \u001b[1;32mor\u001b[0m \u001b[0misinstance\u001b[0m\u001b[1;33m(\u001b[0m\u001b[0mkey\u001b[0m\u001b[1;33m,\u001b[0m \u001b[0mtuple\u001b[0m\u001b[1;33m)\u001b[0m\u001b[1;33m:\u001b[0m\u001b[1;33m\u001b[0m\u001b[0m\n\u001b[1;32m--> 998\u001b[1;33m                 \u001b[0msection\u001b[0m \u001b[1;33m=\u001b[0m \u001b[0mself\u001b[0m\u001b[1;33m.\u001b[0m\u001b[0m_getitem_axis\u001b[0m\u001b[1;33m(\u001b[0m\u001b[0mkey\u001b[0m\u001b[1;33m,\u001b[0m \u001b[0maxis\u001b[0m\u001b[1;33m=\u001b[0m\u001b[0mi\u001b[0m\u001b[1;33m)\u001b[0m\u001b[1;33m\u001b[0m\u001b[0m\n\u001b[0m\u001b[0;32m    999\u001b[0m \u001b[1;33m\u001b[0m\u001b[0m\n\u001b[0;32m   1000\u001b[0m                 \u001b[1;31m# we have yielded a scalar ?\u001b[0m\u001b[1;33m\u001b[0m\u001b[1;33m\u001b[0m\u001b[0m\n",
      "\u001b[1;32mC:\\tools\\Anaconda3\\lib\\site-packages\\pandas\\core\\indexing.py\u001b[0m in \u001b[0;36m_getitem_axis\u001b[1;34m(self, key, axis)\u001b[0m\n\u001b[0;32m   1909\u001b[0m \u001b[1;33m\u001b[0m\u001b[0m\n\u001b[0;32m   1910\u001b[0m         \u001b[1;31m# fall thru to straight lookup\u001b[0m\u001b[1;33m\u001b[0m\u001b[1;33m\u001b[0m\u001b[0m\n\u001b[1;32m-> 1911\u001b[1;33m         \u001b[0mself\u001b[0m\u001b[1;33m.\u001b[0m\u001b[0m_validate_key\u001b[0m\u001b[1;33m(\u001b[0m\u001b[0mkey\u001b[0m\u001b[1;33m,\u001b[0m \u001b[0maxis\u001b[0m\u001b[1;33m)\u001b[0m\u001b[1;33m\u001b[0m\u001b[0m\n\u001b[0m\u001b[0;32m   1912\u001b[0m         \u001b[1;32mreturn\u001b[0m \u001b[0mself\u001b[0m\u001b[1;33m.\u001b[0m\u001b[0m_get_label\u001b[0m\u001b[1;33m(\u001b[0m\u001b[0mkey\u001b[0m\u001b[1;33m,\u001b[0m \u001b[0maxis\u001b[0m\u001b[1;33m=\u001b[0m\u001b[0maxis\u001b[0m\u001b[1;33m)\u001b[0m\u001b[1;33m\u001b[0m\u001b[0m\n\u001b[0;32m   1913\u001b[0m \u001b[1;33m\u001b[0m\u001b[0m\n",
      "\u001b[1;32mC:\\tools\\Anaconda3\\lib\\site-packages\\pandas\\core\\indexing.py\u001b[0m in \u001b[0;36m_validate_key\u001b[1;34m(self, key, axis)\u001b[0m\n\u001b[0;32m   1796\u001b[0m                 \u001b[1;32mraise\u001b[0m\u001b[1;33m\u001b[0m\u001b[0m\n\u001b[0;32m   1797\u001b[0m             \u001b[1;32mexcept\u001b[0m\u001b[1;33m:\u001b[0m\u001b[1;33m\u001b[0m\u001b[0m\n\u001b[1;32m-> 1798\u001b[1;33m                 \u001b[0merror\u001b[0m\u001b[1;33m(\u001b[0m\u001b[1;33m)\u001b[0m\u001b[1;33m\u001b[0m\u001b[0m\n\u001b[0m\u001b[0;32m   1799\u001b[0m \u001b[1;33m\u001b[0m\u001b[0m\n\u001b[0;32m   1800\u001b[0m     \u001b[1;32mdef\u001b[0m \u001b[0m_is_scalar_access\u001b[0m\u001b[1;33m(\u001b[0m\u001b[0mself\u001b[0m\u001b[1;33m,\u001b[0m \u001b[0mkey\u001b[0m\u001b[1;33m)\u001b[0m\u001b[1;33m:\u001b[0m\u001b[1;33m\u001b[0m\u001b[0m\n",
      "\u001b[1;32mC:\\tools\\Anaconda3\\lib\\site-packages\\pandas\\core\\indexing.py\u001b[0m in \u001b[0;36merror\u001b[1;34m()\u001b[0m\n\u001b[0;32m   1783\u001b[0m                 raise KeyError(u\"the label [{key}] is not in the [{axis}]\"\n\u001b[0;32m   1784\u001b[0m                                .format(key=key,\n\u001b[1;32m-> 1785\u001b[1;33m                                        axis=self.obj._get_axis_name(axis)))\n\u001b[0m\u001b[0;32m   1786\u001b[0m \u001b[1;33m\u001b[0m\u001b[0m\n\u001b[0;32m   1787\u001b[0m             \u001b[1;32mtry\u001b[0m\u001b[1;33m:\u001b[0m\u001b[1;33m\u001b[0m\u001b[0m\n",
      "\u001b[1;31mKeyError\u001b[0m: 'the label [0] is not in the [index]'"
     ]
    }
   ],
   "source": [
    "data1 = data[data['MMSI3']=='636092379_83_3']\n",
    "data1 = data1.reset_index()\n",
    "m = folium.Map(location=[data1.loc[0,'LAT'], data1.loc[0,'LON']], zoom_start=1)\n",
    "for i in range(data1.shape[0]):\n",
    "    folium.CircleMarker(location=[data1.loc[i,'LAT'], data1.loc[i,'LON']], color = 'red', radius = 0.05).add_to(m)\n",
    "m"
   ]
  },
  {
   "cell_type": "markdown",
   "metadata": {},
   "source": [
    "### train, test set 나누기"
   ]
  },
  {
   "cell_type": "code",
   "execution_count": 5,
   "metadata": {
    "scrolled": true
   },
   "outputs": [],
   "source": [
    "test = pd.concat([data, pd.DataFrame({'ETA4':data['ETA3'].apply(lambda x: x[:7].replace('-', ''))})], axis = 1).groupby('MMSI3').first().reset_index()\n",
    "test2 = test[test['ETA4'].apply(lambda x: x in ['201808', '201807'])]\n",
    "test3 = data[data['MMSI3'].isin(test2['MMSI3'])]"
   ]
  },
  {
   "cell_type": "code",
   "execution_count": 6,
   "metadata": {},
   "outputs": [],
   "source": [
    "train = data[data.MMSI3.isin(test3.MMSI3) == False] "
   ]
  },
  {
   "cell_type": "code",
   "execution_count": 7,
   "metadata": {},
   "outputs": [],
   "source": [
    "data = train"
   ]
  },
  {
   "cell_type": "markdown",
   "metadata": {},
   "source": [
    "### 도착지점에 대하여...(가장 많은 도착지점은 어떤 항구인가?)"
   ]
  },
  {
   "cell_type": "markdown",
   "metadata": {},
   "source": [
    "##### 항구가져오기"
   ]
  },
  {
   "cell_type": "code",
   "execution_count": 8,
   "metadata": {},
   "outputs": [],
   "source": [
    "port = pd.read_csv('C:/Users/renz/Downloads/DATA/PORT_MERGE_out.csv')"
   ]
  },
  {
   "cell_type": "code",
   "execution_count": 9,
   "metadata": {},
   "outputs": [],
   "source": [
    "df1 = data.groupby('MMSI3').last()\n",
    "L2 = []\n",
    "for i,j,k in zip(df1.index, df1['LAT'], df1['LON']):\n",
    "    L1 = []\n",
    "    for l1, l2 in zip(port['LAT'], port['LON']):\n",
    "        R = 6373.0 \n",
    "        lat1 = radians(j) \n",
    "        lon1 = radians(k) \n",
    "        lat2 = radians(l1) \n",
    "        lon2 = radians(l2) \n",
    "        dlon = lon2 - lon1 \n",
    "        dlat = lat2 - lat1 \n",
    "        a = sin(dlat / 2)**2 + cos(lat1) * cos(lat2) * sin(dlon / 2)**2 \n",
    "        c = 2 * atan2(sqrt(a), sqrt(1 - a)) \n",
    "        distance = R * c\n",
    "        L1.append(distance)\n",
    "    L2.append([min(L1), port.iloc[L1.index(min(L1)),0], port.iloc[L1.index(min(L1)),1], port.iloc[L1.index(min(L1)),2]])"
   ]
  },
  {
   "cell_type": "markdown",
   "metadata": {},
   "source": [
    "##### 2828개의 ship, 옆에 LAT, LON 붙이기"
   ]
  },
  {
   "cell_type": "code",
   "execution_count": 10,
   "metadata": {},
   "outputs": [
    {
     "data": {
      "text/html": [
       "<div>\n",
       "<style scoped>\n",
       "    .dataframe tbody tr th:only-of-type {\n",
       "        vertical-align: middle;\n",
       "    }\n",
       "\n",
       "    .dataframe tbody tr th {\n",
       "        vertical-align: top;\n",
       "    }\n",
       "\n",
       "    .dataframe thead th {\n",
       "        text-align: right;\n",
       "    }\n",
       "</style>\n",
       "<table border=\"1\" class=\"dataframe\">\n",
       "  <thead>\n",
       "    <tr style=\"text-align: right;\">\n",
       "      <th></th>\n",
       "      <th>index</th>\n",
       "      <th>port_id</th>\n",
       "      <th>distance</th>\n",
       "      <th>LAT</th>\n",
       "      <th>LON</th>\n",
       "    </tr>\n",
       "  </thead>\n",
       "  <tbody>\n",
       "    <tr>\n",
       "      <th>0</th>\n",
       "      <td>89</td>\n",
       "      <td>USOAK</td>\n",
       "      <td>235</td>\n",
       "      <td>37.797840</td>\n",
       "      <td>-122.286404</td>\n",
       "    </tr>\n",
       "    <tr>\n",
       "      <th>1</th>\n",
       "      <td>63</td>\n",
       "      <td>KRPUS</td>\n",
       "      <td>136</td>\n",
       "      <td>35.101620</td>\n",
       "      <td>-230.963950</td>\n",
       "    </tr>\n",
       "    <tr>\n",
       "      <th>2</th>\n",
       "      <td>88</td>\n",
       "      <td>USLGB</td>\n",
       "      <td>122</td>\n",
       "      <td>33.754929</td>\n",
       "      <td>-118.214344</td>\n",
       "    </tr>\n",
       "    <tr>\n",
       "      <th>3</th>\n",
       "      <td>52</td>\n",
       "      <td>JPSHS</td>\n",
       "      <td>118</td>\n",
       "      <td>33.937665</td>\n",
       "      <td>-229.076200</td>\n",
       "    </tr>\n",
       "    <tr>\n",
       "      <th>4</th>\n",
       "      <td>68</td>\n",
       "      <td>MXZLO</td>\n",
       "      <td>83</td>\n",
       "      <td>19.077290</td>\n",
       "      <td>-104.322500</td>\n",
       "    </tr>\n",
       "    <tr>\n",
       "      <th>5</th>\n",
       "      <td>32</td>\n",
       "      <td>CNYTN</td>\n",
       "      <td>70</td>\n",
       "      <td>22.575000</td>\n",
       "      <td>-245.723499</td>\n",
       "    </tr>\n",
       "  </tbody>\n",
       "</table>\n",
       "</div>"
      ],
      "text/plain": [
       "   index port_id  distance        LAT         LON\n",
       "0     89   USOAK       235  37.797840 -122.286404\n",
       "1     63   KRPUS       136  35.101620 -230.963950\n",
       "2     88   USLGB       122  33.754929 -118.214344\n",
       "3     52   JPSHS       118  33.937665 -229.076200\n",
       "4     68   MXZLO        83  19.077290 -104.322500\n",
       "5     32   CNYTN        70  22.575000 -245.723499"
      ]
     },
     "execution_count": 10,
     "metadata": {},
     "output_type": "execute_result"
    }
   ],
   "source": [
    "port_count = pd.DataFrame(L2, columns = ['distance', 'port_id', 'LAT', 'LON']).reset_index(drop=True).groupby('port_id').agg({'distance':'count', 'LAT':'mean', 'LON':'mean'}).reset_index().sort_values(by='distance', ascending=False)\n",
    "df2 = port_count[port_count.port_id.isin(['USOAK', 'USLGB', 'KRPUS', 'JPSHS', 'MXZLO', 'CNYTN'])].reset_index(drop=False)\n",
    "df2"
   ]
  },
  {
   "cell_type": "markdown",
   "metadata": {},
   "source": [
    "### 도착지(어떤 항구)를 기준으로 5km이내 모든 경로 가져오기"
   ]
  },
  {
   "cell_type": "code",
   "execution_count": 11,
   "metadata": {},
   "outputs": [],
   "source": [
    "def port_5km(data, lat, lon):\n",
    "    data1 = data.groupby(['MMSI3']).last()\n",
    "    L1 = []\n",
    "    \n",
    "    for i,j,k in zip(data1.index, data1['LAT'], data1['LON']):\n",
    "        R = 6373.0 \n",
    "        lat1 = radians(j) \n",
    "        lon1 = radians(k) \n",
    "        lat2 = radians(lat) \n",
    "        lon2 = radians(lon)\n",
    "        dlon = lon2 - lon1 \n",
    "        dlat = lat2 - lat1 \n",
    "        a = sin(dlat / 2)**2 + cos(lat1) * cos(lat2) * sin(dlon / 2)**2 \n",
    "        c = 2 * atan2(sqrt(a), sqrt(1 - a)) \n",
    "        distance = R * c\n",
    "        L1.append(distance)\n",
    "\n",
    "    df1 = pd.DataFrame(list(zip(data1.index, L1)), columns = ['MMSI3', 'distance'])\n",
    "    df2 = df1[df1['distance'] <= 5]['MMSI3'].tolist()\n",
    "    df3 = data[data['MMSI3'].isin(df2)].reset_index(drop=True)\n",
    "    \n",
    "    return df3"
   ]
  },
  {
   "cell_type": "code",
   "execution_count": 435,
   "metadata": {
    "scrolled": true
   },
   "outputs": [],
   "source": [
    "# 필요한 항구 정보를 넣자.\n",
    "port_id = 'USOAK'\n",
    "port_ais = port_5km(data=data, lat=df2.loc[df2.port_id.tolist().index(port_id), 'LAT'], lon=df2.loc[df2.port_id.tolist().index(port_id), 'LON'])\n",
    "# port_ais"
   ]
  },
  {
   "cell_type": "markdown",
   "metadata": {},
   "source": [
    "### port_ais를 이용하여 10분위 수 가져오기"
   ]
  },
  {
   "cell_type": "code",
   "execution_count": 436,
   "metadata": {},
   "outputs": [],
   "source": [
    "def ten_number(data):\n",
    "    L1 = list()\n",
    "    for i, j in data.groupby('MMSI3').agg({'MMSI3': 'unique', 'MMSI': 'count'}).reset_index(drop=True).apply(lambda x: (x.MMSI3[0], x.MMSI), axis=1).tolist():\n",
    "        for k in range(0, 11, 1):\n",
    "            k = k/10\n",
    "            df1 = data[data['MMSI3'] == i][['MMSI3', 'LAT', 'LON']].reset_index()\n",
    "            \n",
    "            if k == 0:\n",
    "                L2 = list()\n",
    "                L2.extend(list(df1[['MMSI3', 'LAT', 'LON']].iloc[0, :]))\n",
    "            elif 0 < k < 1:\n",
    "                L2.extend(list(df1[['LAT', 'LON']].iloc[int(round(j*k)), :]))\n",
    "            else:\n",
    "                L2.extend(list(df1[['LAT', 'LON']].iloc[-1, :]))\n",
    "        L1.append(L2)\n",
    "\n",
    "    L2 = pd.DataFrame(L1)\n",
    "    \n",
    "    \n",
    "    if pd.isnull(L2).sum().sum() != 0:\n",
    "        print('exist null...!!!!!')\n",
    "    \n",
    "    return L2"
   ]
  },
  {
   "cell_type": "code",
   "execution_count": 437,
   "metadata": {
    "scrolled": true
   },
   "outputs": [],
   "source": [
    "df3 = ten_number(port_ais)\n",
    "# df3"
   ]
  },
  {
   "cell_type": "markdown",
   "metadata": {},
   "source": [
    "### k means clustring(계층적으로....)"
   ]
  },
  {
   "cell_type": "code",
   "execution_count": 438,
   "metadata": {},
   "outputs": [],
   "source": [
    "def visualization(data, sorted_L, i):\n",
    "    print(i)\n",
    "    data3 = data\n",
    "    L = sorted_L\n",
    "    for i, j in enumerate(L):\n",
    "        data_cluster = data3[np.array(data3.iloc[:,-1:]).tolist() == j][['MMSI3', 'LAT', 'LON']]\n",
    "        L2 = data_cluster['MMSI3'].unique()\n",
    "        for k in L2:\n",
    "                plt.subplot(1, 2, i+1)\n",
    "                plt.plot(data_cluster[data_cluster['MMSI3'] == k]['LON'], data_cluster[data_cluster['MMSI3'] == k]['LAT'], \n",
    "                         'rs--', linewidth = .1, markersize = .1)\n",
    "    \n",
    "    return plt.show()"
   ]
  },
  {
   "cell_type": "code",
   "execution_count": 439,
   "metadata": {},
   "outputs": [],
   "source": [
    "def mean_test(data):\n",
    "    mean = data.describe().loc['mean',:]\n",
    "\n",
    "    L = list()\n",
    "    for i,j in zip(mean, data.columns):\n",
    "        sum = 0\n",
    "        for k in data.index:\n",
    "            sum = sum + (i-data[j][k])**2\n",
    "#             sum = sum + abs(i-data[j][k])\n",
    "        L.append(round(sum,2))\n",
    "    L1 = np.mean(L)\n",
    "    \n",
    "    return round(L1, 2)"
   ]
  },
  {
   "cell_type": "code",
   "execution_count": 582,
   "metadata": {},
   "outputs": [],
   "source": [
    "def deepen(data, ten_number_data):\n",
    "    data3 = data\n",
    "    \n",
    "    data_depth2_1 = data3[data3['cluster']==0].reset_index(drop=True)\n",
    "    data_depth2_2 = data3[data3['cluster']==1].reset_index(drop=True)\n",
    "\n",
    "    X_depth2_1 = np.array(ten_number_data[ten_number_data[0].isin(data_depth2_1['MMSI3'].unique())].iloc[:,1:])\n",
    "    X_depth2_2 = np.array(ten_number_data[ten_number_data[0].isin(data_depth2_2['MMSI3'].unique())].iloc[:,1:])\n",
    "\n",
    "    if X_depth2_1.shape[0] > 1:\n",
    "        kmeans_depth2_1 = KMeans(n_clusters=2, random_state=0).fit(X_depth2_1)\n",
    "        del data_depth2_1['cluster']\n",
    "        depth2_1 = pd.DataFrame({'MMSI3' : ten_number_data[ten_number_data[0].isin(data_depth2_1['MMSI3'].unique())].iloc[:,0].tolist(), 'cluster' : list(kmeans_depth2_1.labels_)})\n",
    "        depth2_1_mg = pd.merge(data_depth2_1, depth2_1, how='left', on=['MMSI3'])\n",
    "    else:\n",
    "        depth2_1_mg = data_depth2_1\n",
    "        \n",
    "    if X_depth2_2.shape[0] > 1:\n",
    "        kmeans_depth2_2 = KMeans(n_clusters=2, random_state=0).fit(X_depth2_2)\n",
    "        del data_depth2_2['cluster']\n",
    "        depth2_2 = pd.DataFrame({'MMSI3' : ten_number_data[ten_number_data[0].isin(data_depth2_2['MMSI3'].unique())].iloc[:,0].tolist(), 'cluster' : list(kmeans_depth2_2.labels_)})\n",
    "        depth2_2_mg = pd.merge(data_depth2_2, depth2_2, how='left', on=['MMSI3'])\n",
    "    else:\n",
    "        depth2_2_mg = data_depth2_2\n",
    "\n",
    "    return depth2_1_mg, depth2_2_mg    "
   ]
  },
  {
   "cell_type": "code",
   "execution_count": 595,
   "metadata": {},
   "outputs": [],
   "source": [
    "def input_calculate(data, ten_number_data):\n",
    "    data_depth2_1 = data[data['cluster']==0].reset_index(drop=True)\n",
    "    data_depth2_2 = data[data['cluster']==1].reset_index(drop=True)\n",
    "    \n",
    "    df1 = pd.DataFrame(ten_number_data[ten_number_data[0].isin(data_depth2_1['MMSI3'].unique())])\n",
    "    mean_result1 = mean_test(data=df1.groupby([0]).mean())\n",
    "    df2 = pd.DataFrame(ten_number_data[ten_number_data[0].isin(data_depth2_2['MMSI3'].unique())])\n",
    "    mean_result2 = mean_test(data=df2.groupby([0]).mean())\n",
    "    return mean_result1, mean_result2"
   ]
  },
  {
   "cell_type": "code",
   "execution_count": 615,
   "metadata": {},
   "outputs": [],
   "source": [
    "def kmeans_clustering(port_ais_data, ten_number_data):\n",
    "    df1 = port_ais_data\n",
    "    df2 = ten_number_data.iloc[:,1:]\n",
    "    \n",
    "    df3 = pd.DataFrame(ten_number_data[ten_number_data[0].isin(df1['MMSI3'].unique())])\n",
    "    df3.rename(columns={0:'MMSI3'}, inplace=True)\n",
    "    \n",
    "    # MMSI3가 없는 데이터로 kmeans 실행\n",
    "    kmeans = KMeans(n_clusters=2, random_state=0).fit(np.array(df2))\n",
    "    \n",
    "    df_mmsi3_cluster = pd.DataFrame({'MMSI3' : ten_number_data.loc[:,0].tolist(), 'cluster' : list(kmeans.labels_)})\n",
    "    df4 = pd.merge(df1, df_mmsi3_cluster, how='left', on=['MMSI3'])\n",
    "    \n",
    "    df5 = df4[['MMSI3', 'LAT', 'LON']]\n",
    "    for k in df4['MMSI3'].unique():\n",
    "            plt.plot(df5[df4['MMSI3'] == k]['LON'], df5[df4['MMSI3'] == k]['LAT'], 'rs--', linewidth = .1, markersize = .1)\n",
    "    plt.show()\n",
    "    \n",
    "    \n",
    "    # Depth 1\n",
    "    plt.figure(figsize=(5, 2))\n",
    "    visualization(data=df4, sorted_L=sorted(df4['cluster'].unique()), i='Depth 1')\n",
    "    \n",
    "    input_calculate1, input_calculate2 = input_calculate(data=df4, ten_number_data=ten_number_data)\n",
    "    print(\"Depth 1 1번째 편차 : {}\".format(input_calculate1))\n",
    "    print(\"Depth 1 2번째 편차 : {}\\n\".format(input_calculate2))\n",
    "    \n",
    "    if input_calculate1 > 25:\n",
    "        depth2_1_mg, depth2_2_mg = deepen(data=df4, ten_number_data=ten_number_data)\n",
    "        plt.figure(figsize=(4, 2))\n",
    "        visualization(data=depth2_1_mg, sorted_L=sorted(depth2_1_mg['cluster'].unique()), i='Depth 2')\n",
    "        input_calculate3, input_calculate4 = input_calculate(data=depth2_1_mg, ten_number_data=ten_number_data)\n",
    "        print(\"Depth 1 1번째 편차, Depth 2 1번째 편차 : {}\".format(input_calculate3))\n",
    "        print(\"Depth 1 1번째 편차, Depth 2 2번째 편차 : {}\\n\".format(input_calculate4))\n",
    "        \n",
    "        if input_calculate3 > 25:\n",
    "            depth3_1_1_mg, depth3_1_2_mg = deepen(data=depth2_1_mg, ten_number_data=ten_number_data)\n",
    "            plt.figure(figsize=(4, 2))\n",
    "            visualization(data=depth3_1_1_mg, sorted_L=sorted(depth3_1_1_mg['cluster'].unique()), i='Depth 3')\n",
    "            input_calculate5, input_calculate6 = input_calculate(data=depth3_1_1_mg, ten_number_data=ten_number_data)\n",
    "            print(\"Depth 1 1번째 편차, Depth 2 1번째 편차, Depth 3 1번째 편차 : {}\".format(input_calculate5))\n",
    "            print(\"Depth 1 1번째 편차, Depth 2 1번째 편차, Depth 3 2번째 편차 : {}\\n\".format(input_calculate6))\n",
    "            \n",
    "            if input_calculate5 > 25:\n",
    "                depth4_1_1_1_mg, depth4_1_1_2_mg = deepen(data=depth3_1_1_mg, ten_number_data=ten_number_data)\n",
    "                plt.figure(figsize=(4, 2))\n",
    "                visualization(data=depth4_1_1_1_mg, sorted_L=sorted(depth4_1_1_1_mg['cluster'].unique()), i='Depth 4')\n",
    "                input_calculate7, input_calculate8 = input_calculate(data=depth4_1_1_1_mg, ten_number_data=ten_number_data)\n",
    "                print(\"Depth 1 1번째 편차, Depth 2 1번째 편차, Depth 3 1번째 편차, Depth 4 1번째 편차 : {}\".format(input_calculate7))\n",
    "                print(\"Depth 1 1번째 편차, Depth 2 1번째 편차, Depth 3 1번째 편차, Depth 4 2번째 편차 : {}\\n\".format(input_calculate8))\n",
    "\n",
    "            if input_calculate6 > 25:\n",
    "                plt.figure(figsize=(4, 2))\n",
    "                visualization(data=depth4_1_1_2_mg, sorted_L=sorted(depth4_1_1_2_mg['cluster'].unique()), i='Depth 4')\n",
    "                input_calculate9, input_calculate10 = input_calculate(data=depth4_1_1_2_mg, ten_number_data=ten_number_data)\n",
    "                print(\"Depth 1 1번째 편차, Depth 2 1번째 편차, Depth 3 2번째 편차, Depth 4 3번째 편차 : {}\".format(input_calculate9))\n",
    "                print(\"Depth 1 1번째 편차, Depth 2 1번째 편차, Depth 3 2번째 편차, Depth 4 4번째 편차 : {}\\n\".format(input_calculate10))\n",
    "                      \n",
    "        if input_calculate4 > 25:\n",
    "            depth3_2_1_mg, depth3_2_2_mg = deepen(data=depth3_1_2_mg, ten_number_data=ten_number_data)\n",
    "            plt.figure(figsize=(4, 2))\n",
    "            visualization(data=depth3_1_2_mg, sorted_L=sorted(depth3_1_2_mg['cluster'].unique()), i='Depth 3')\n",
    "            input_calculate5, input_calculate6 = input_calculate(data=depth3_1_2_mg, ten_number_data=ten_number_data)\n",
    "            print(\"Depth 1 1번째 편차, Depth 2 2번째 편차, Depth 3 1번째 편차 : {}\".format(input_calculate5))\n",
    "            print(\"Depth 1 1번째 편차, Depth 2 2번째 편차, Depth 3 2번째 편차 : {}\\n\".format(input_calculate6))\n",
    "            \n",
    "            if input_calculate5 > 25:\n",
    "                depth4_2_1_1_mg, depth4_2_1_2_mg = deepen(data=depth3_2_1_mg, ten_number_data=ten_number_data)\n",
    "                plt.figure(figsize=(4, 2))\n",
    "                visualization(data=depth3_2_1_mg, sorted_L=sorted(depth3_2_1_mg['cluster'].unique()), i='Depth 4')\n",
    "                input_calculate11, input_calculate12 = input_calculate(data=depth3_2_1_mg, ten_number_data=ten_number_data)\n",
    "                print(\"Depth 1 1번째 편차, Depth 2 2번째 편차, Depth 3 1번째 편차, Depth 4 1번째 편차 : {}\".format(input_calculate11))\n",
    "                print(\"Depth 1 1번째 편차, Depth 2 2번째 편차, Depth 3 1번째 편차, Depth 4 2번째 편차 : {}\\n\".format(input_calculate12))\n",
    "                \n",
    "                if input_calculate11 > 25:\n",
    "                    depth5_2_1_1_1_mg, depth5_2_2_2_2_mg = deepen(data=depth4_2_1_1_mg, ten_number_data=ten_number_data)\n",
    "                    plt.figure(figsize=(4, 2))\n",
    "                    visualization(data=depth4_2_1_1_mg, sorted_L=sorted(depth4_2_1_1_mg['cluster'].unique()), i='Depth 5')\n",
    "                    input_calculate13, input_calculate14 = input_calculate(data=depth4_2_1_1_mg, ten_number_data=ten_number_data)\n",
    "                    print(\"Depth 1 1번째 편차, Depth 2 2번째 편차, Depth 3 1번째 편차, Depth 4 1번째 편차, Depth 5 1번째 편차 : {}\".format(input_calculate13))\n",
    "                    print(\"Depth 1 1번째 편차, Depth 2 2번째 편차, Depth 3 1번째 편차, Depth 4 1번째 편차, Depth 5 2번째 편차 : {}\\n\".format(input_calculate14))\n",
    "                \n",
    "            if input_calculate6 > 25:\n",
    "                depth4_2_2_1_mg, depth4_2_2_2_mg = deepen(data=depth3_2_2_mg, ten_number_data=ten_number_data)\n",
    "                plt.figure(figsize=(4, 2))\n",
    "                visualization(data=depth3_2_2_mg, sorted_L=sorted(depth3_2_2_mg['cluster'].unique()), i='Depth 4')\n",
    "                input_calculate15, input_calculate16 = input_calculate(data=depth3_2_2_mg, ten_number_data=ten_number_data)\n",
    "                print(\"Depth 1 1번째 편차, Depth 2 2번째 편차, Depth 3 2번째 편차, Depth 4 1번째 편차 : {}\".format(input_calculate15))\n",
    "                print(\"Depth 1 1번째 편차, Depth 2 2번째 편차, Depth 3 2번째 편차, Depth 4 2번째 편차 : {}\\n\".format(input_calculate16))\n",
    "                \n",
    "                if input_calculate16 > 25:\n",
    "                    depth5_2_2_2_1_mg, depth5_2_2_2_2_mg = deepen(data=depth4_2_2_2_mg, ten_number_data=ten_number_data)\n",
    "                    plt.figure(figsize=(4, 2))\n",
    "                    visualization(data=depth4_2_2_2_mg, sorted_L=sorted(depth4_2_2_2_mg['cluster'].unique()), i='Depth 5')\n",
    "                    input_calculate17, input_calculate18 = input_calculate(data=depth4_2_2_2_mg, ten_number_data=ten_number_data)\n",
    "                    print(\"Depth 1 1번째 편차, Depth 2 2번째 편차, Depth 3 2번째 편차, Depth 4 2번째 편차, Depth 5 1번째 편차 : {}\".format(input_calculate17))\n",
    "                    print(\"Depth 1 1번째 편차, Depth 2 2번째 편차, Depth 3 2번째 편차, Depth 4 2번째 편차, Depth 5 1번째 편차 : {}\\n\".format(input_calculate18))\n",
    "            \n",
    "    \n",
    "    # 오른쪽 가지 시작\n",
    "    if input_calculate2 > 25:\n",
    "        depth2_2_3_mg, depth2_2_4_mg = deepen(data=depth2_2_mg, ten_number_data=ten_number_data)\n",
    "        plt.figure(figsize=(4, 2))\n",
    "        visualization(data=depth2_2_mg, sorted_L=sorted(depth2_2_mg['cluster'].unique()), i='Depth 2')\n",
    "        input_calculate19, input_calculate20 = input_calculate(data=depth2_2_mg, ten_number_data=ten_number_data)\n",
    "        print(\"Depth1 2번째, Depth2 2번째, Depth3 1번째 편차 : {}\".format(input_calculate19))\n",
    "        print(\"Depth1 2번째, Depth2 2번째, Depth3 2번재 편차 : {}\\n\".format(input_calculate20))\n",
    "\n",
    "        if input_calculate19 > 25:\n",
    "            depth3_2_3_1_mg, depth3_2_3_2_mg = deepen(data=depth2_2_3_mg, ten_number_data=ten_number_data)\n",
    "            plt.figure(figsize=(4, 2))\n",
    "            visualization(data=depth2_2_3_mg, sorted_L=sorted(depth2_2_3_mg['cluster'].unique()), i='Depth 3')\n",
    "            input_calculate21, input_calculate22 = input_calculate(data=depth2_2_3_mg, ten_number_data=ten_number_data)\n",
    "            print(\"Depth1 2번째, Depth2 2번째, Depth3 1번째, Depth4 1번째 편차 : {}\".format(input_calculate21))\n",
    "            print(\"Depth1 2번째, Depth2 2번째, Depth3 1번재, Depth4 2번째 편차 : {}\\n\".format(input_calculate22))\n",
    "            \n",
    "            if input_calculate21 > 25:\n",
    "                depth4_2_3_1_1_mg, depth4_2_3_1_2_mg = deepen(data=depth3_2_3_1_mg, ten_number_data=ten_number_data)\n",
    "                plt.figure(figsize=(4, 2))\n",
    "                visualization(data=depth3_2_3_1_mg, sorted_L=sorted(depth3_2_3_1_mg['cluster'].unique()), i='Depth 4')\n",
    "                input_calculate25, input_calculate26 = input_calculate(data=depth3_2_3_1_mg, ten_number_data=ten_number_data)\n",
    "                print(\"Depth1 2번째, Depth2 2번째, Depth3 1번째, Depth4 1번째, Depth5 1번째 편차 : {}\".format(input_calculate25))\n",
    "                print(\"Depth1 2번째, Depth2 2번째, Depth3 1번재, Depth4 1번째, Depth5 2번째 편차 : {}\\n\".format(input_calculate26))\n",
    "                \n",
    "        if input_calculate20 > 25:\n",
    "            depth3_2_3_3_mg, depth3_2_3_4_mg = deepen(data=depth2_2_4_mg, ten_number_data=ten_number_data)\n",
    "            plt.figure(figsize=(4, 2))\n",
    "            visualization(data=depth2_2_4_mg, sorted_L=sorted(depth2_2_4_mg['cluster'].unique()), i='Depth 3')\n",
    "            input_calculate23, input_calculate24 = input_calculate(data=depth2_2_4_mg, ten_number_data=ten_number_data)\n",
    "            print(\"Depth1 2번째, Depth2 2번째, Depth3 2번째, Depth4 1번째 편차 : {}\".format(input_calculate23))\n",
    "            print(\"Depth1 2번째, Depth2 2번째, Depth3 2번재, Depth4 2번째 편차 : {}\\n\".format(input_calculate24))\n",
    "            \n",
    "            if input_calculate24 > 25:\n",
    "                depth4_2_3_4_1_mg, depth4_2_3_4_2_mg = deepen(data=depth3_2_3_4_mg, ten_number_data=ten_number_data)\n",
    "                plt.figure(figsize=(4, 2))\n",
    "                visualization(data=depth3_2_3_4_mg, sorted_L=sorted(depth3_2_3_4_mg['cluster'].unique()), i='Depth 4')\n",
    "                input_calculate27, input_calculate28 = input_calculate(data=depth3_2_3_4_mg, ten_number_data=ten_number_data)\n",
    "                print(\"Depth1 2번째, Depth2 2번째, Depth3 2번째, Depth4 2번째, Depth5 1번째 편차 : {}\".format(input_calculate27))\n",
    "                print(\"Depth1 2번째, Depth2 2번째, Depth3 2번재, Depth4 2번째, Depth5 1번째 편차 : {}\\n\".format(input_calculate28))\n",
    "                \n",
    "        \n",
    "    \n",
    "    \n",
    "    \n",
    "    return"
   ]
  },
  {
   "cell_type": "code",
   "execution_count": 613,
   "metadata": {
    "collapsed": true
   },
   "outputs": [
    {
     "data": {
      "image/png": "[encoded data removed]",
      "text/plain": [
       "<Figure size 432x288 with 1 Axes>"
      ]
     },
     "metadata": {},
     "output_type": "display_data"
    },
    {
     "name": "stdout",
     "output_type": "stream",
     "text": [
      "Depth 1\n"
     ]
    },
    {
     "data": {
      "image/png": "[encoded data removed]",
      "text/plain": [
       "<Figure size 360x144 with 2 Axes>"
      ]
     },
     "metadata": {},
     "output_type": "display_data"
    },
    {
     "name": "stdout",
     "output_type": "stream",
     "text": [
      "Depth 1 1번째 편차 : 251.18\n",
      "Depth 1 2번째 편차 : 11.47\n",
      "\n",
      "Depth 2\n"
     ]
    },
    {
     "data": {
      "image/png": "[encoded data removed]",
      "text/plain": [
       "<Figure size 288x144 with 2 Axes>"
      ]
     },
     "metadata": {},
     "output_type": "display_data"
    },
    {
     "name": "stdout",
     "output_type": "stream",
     "text": [
      "Depth 1 1번째 편차, Depth 2 1번째 편차 : 57.86\n",
      "Depth 1 1번째 편차, Depth 2 2번째 편차 : 55.01\n",
      "\n",
      "Depth 3\n"
     ]
    },
    {
     "data": {
      "image/png": "[encoded data removed]",
      "text/plain": [
       "<Figure size 288x144 with 2 Axes>"
      ]
     },
     "metadata": {},
     "output_type": "display_data"
    },
    {
     "name": "stdout",
     "output_type": "stream",
     "text": [
      "Depth 1 1번째 편차, Depth 2 1번째 편차, Depth 3 1번째 편차 : 21.26\n",
      "Depth 1 1번째 편차, Depth 2 1번째 편차, Depth 3 2번째 편차 : 0.0\n",
      "\n",
      "Depth 3\n"
     ]
    },
    {
     "data": {
      "image/png": "[encoded data removed]",
      "text/plain": [
       "<Figure size 288x144 with 2 Axes>"
      ]
     },
     "metadata": {},
     "output_type": "display_data"
    },
    {
     "name": "stdout",
     "output_type": "stream",
     "text": [
      "Depth 1 1번째 편차, Depth 2 2번째 편차, Depth 3 1번째 편차 : 25.34\n",
      "Depth 1 1번째 편차, Depth 2 2번째 편차, Depth 3 2번째 편차 : 0.98\n",
      "\n",
      "Depth 4\n"
     ]
    },
    {
     "data": {
      "image/png": "[encoded data removed]",
      "text/plain": [
       "<Figure size 288x144 with 2 Axes>"
      ]
     },
     "metadata": {},
     "output_type": "display_data"
    },
    {
     "name": "stdout",
     "output_type": "stream",
     "text": [
      "Depth 1 1번째 편차, Depth 2 2번째 편차, Depth 3 1번째 편차, Depth 4 1번째 편차 : 6.78\n",
      "Depth 1 1번째 편차, Depth 2 2번째 편차, Depth 3 1번째 편차, Depth 4 2번째 편차 : 5.02\n",
      "\n"
     ]
    }
   ],
   "source": [
    "kmeans_clustering(port_ais_data=port_ais, ten_number_data=df3)"
   ]
  },
  {
   "cell_type": "code",
   "execution_count": 444,
   "metadata": {},
   "outputs": [
    {
     "data": {
      "text/html": [
       "<div>\n",
       "<style scoped>\n",
       "    .dataframe tbody tr th:only-of-type {\n",
       "        vertical-align: middle;\n",
       "    }\n",
       "\n",
       "    .dataframe tbody tr th {\n",
       "        vertical-align: top;\n",
       "    }\n",
       "\n",
       "    .dataframe thead th {\n",
       "        text-align: right;\n",
       "    }\n",
       "</style>\n",
       "<table border=\"1\" class=\"dataframe\">\n",
       "  <thead>\n",
       "    <tr style=\"text-align: right;\">\n",
       "      <th></th>\n",
       "      <th>index</th>\n",
       "      <th>port_id</th>\n",
       "      <th>distance</th>\n",
       "      <th>LAT</th>\n",
       "      <th>LON</th>\n",
       "    </tr>\n",
       "  </thead>\n",
       "  <tbody>\n",
       "    <tr>\n",
       "      <th>0</th>\n",
       "      <td>89</td>\n",
       "      <td>USOAK</td>\n",
       "      <td>235</td>\n",
       "      <td>37.797840</td>\n",
       "      <td>-122.286404</td>\n",
       "    </tr>\n",
       "    <tr>\n",
       "      <th>1</th>\n",
       "      <td>63</td>\n",
       "      <td>KRPUS</td>\n",
       "      <td>136</td>\n",
       "      <td>35.101620</td>\n",
       "      <td>-230.963950</td>\n",
       "    </tr>\n",
       "    <tr>\n",
       "      <th>2</th>\n",
       "      <td>88</td>\n",
       "      <td>USLGB</td>\n",
       "      <td>122</td>\n",
       "      <td>33.754929</td>\n",
       "      <td>-118.214344</td>\n",
       "    </tr>\n",
       "    <tr>\n",
       "      <th>3</th>\n",
       "      <td>52</td>\n",
       "      <td>JPSHS</td>\n",
       "      <td>118</td>\n",
       "      <td>33.937665</td>\n",
       "      <td>-229.076200</td>\n",
       "    </tr>\n",
       "    <tr>\n",
       "      <th>4</th>\n",
       "      <td>68</td>\n",
       "      <td>MXZLO</td>\n",
       "      <td>83</td>\n",
       "      <td>19.077290</td>\n",
       "      <td>-104.322500</td>\n",
       "    </tr>\n",
       "    <tr>\n",
       "      <th>5</th>\n",
       "      <td>32</td>\n",
       "      <td>CNYTN</td>\n",
       "      <td>70</td>\n",
       "      <td>22.575000</td>\n",
       "      <td>-245.723499</td>\n",
       "    </tr>\n",
       "  </tbody>\n",
       "</table>\n",
       "</div>"
      ],
      "text/plain": [
       "   index port_id  distance        LAT         LON\n",
       "0     89   USOAK       235  37.797840 -122.286404\n",
       "1     63   KRPUS       136  35.101620 -230.963950\n",
       "2     88   USLGB       122  33.754929 -118.214344\n",
       "3     52   JPSHS       118  33.937665 -229.076200\n",
       "4     68   MXZLO        83  19.077290 -104.322500\n",
       "5     32   CNYTN        70  22.575000 -245.723499"
      ]
     },
     "execution_count": 444,
     "metadata": {},
     "output_type": "execute_result"
    }
   ],
   "source": [
    "df2"
   ]
  },
  {
   "cell_type": "code",
   "execution_count": 621,
   "metadata": {
    "collapsed": true
   },
   "outputs": [
    {
     "data": {
      "image/png": "[encoded data removed]",
      "text/plain": [
       "<Figure size 432x288 with 1 Axes>"
      ]
     },
     "metadata": {},
     "output_type": "display_data"
    },
    {
     "name": "stdout",
     "output_type": "stream",
     "text": [
      "Depth 1\n"
     ]
    },
    {
     "data": {
      "image/png": "[encoded data removed]",
      "text/plain": [
       "<Figure size 360x144 with 2 Axes>"
      ]
     },
     "metadata": {},
     "output_type": "display_data"
    },
    {
     "name": "stdout",
     "output_type": "stream",
     "text": [
      "Depth 1 1번째 편차 : 75.6\n",
      "Depth 1 2번째 편차 : 0.0\n",
      "\n",
      "Depth 2\n"
     ]
    },
    {
     "data": {
      "image/png": "[encoded data removed]",
      "text/plain": [
       "<Figure size 288x144 with 2 Axes>"
      ]
     },
     "metadata": {},
     "output_type": "display_data"
    },
    {
     "name": "stdout",
     "output_type": "stream",
     "text": [
      "Depth 1 1번째 편차, Depth 2 1번째 편차 : 14.98\n",
      "Depth 1 1번째 편차, Depth 2 2번째 편차 : 0.12\n",
      "\n"
     ]
    }
   ],
   "source": [
    "port_id = 'CNYTN'\n",
    "port_ais = port_5km(data=data, lat=df2.loc[df2.port_id.tolist().index(port_id), 'LAT'], lon=df2.loc[df2.port_id.tolist().index(port_id), 'LON'])\n",
    "df3 = ten_number(port_ais)\n",
    "cluster_data = kmeans_clustering(port_ais_data=port_ais, ten_number_data=df3)"
   ]
  },
  {
   "cell_type": "code",
   "execution_count": 628,
   "metadata": {},
   "outputs": [],
   "source": [
    "cluster_data"
   ]
  },
  {
   "cell_type": "code",
   "execution_count": null,
   "metadata": {},
   "outputs": [],
   "source": []
  },
  {
   "cell_type": "code",
   "execution_count": null,
   "metadata": {},
   "outputs": [],
   "source": []
  },
  {
   "cell_type": "code",
   "execution_count": null,
   "metadata": {},
   "outputs": [],
   "source": []
  },
  {
   "cell_type": "code",
   "execution_count": null,
   "metadata": {},
   "outputs": [],
   "source": []
  },
  {
   "cell_type": "code",
   "execution_count": null,
   "metadata": {},
   "outputs": [],
   "source": []
  },
  {
   "cell_type": "code",
   "execution_count": 591,
   "metadata": {},
   "outputs": [
    {
     "ename": "AttributeError",
     "evalue": "'NoneType' object has no attribute 'cluster_x'",
     "output_type": "error",
     "traceback": [
      "\u001b[1;31m---------------------------------------------------------------------------\u001b[0m",
      "\u001b[1;31mAttributeError\u001b[0m                            Traceback (most recent call last)",
      "\u001b[1;32m<ipython-input-591-7fc06264d9c4>\u001b[0m in \u001b[0;36m<module>\u001b[1;34m()\u001b[0m\n\u001b[1;32m----> 1\u001b[1;33m \u001b[0mcluster_data\u001b[0m\u001b[1;33m[\u001b[0m\u001b[1;34m'clustering'\u001b[0m\u001b[1;33m]\u001b[0m \u001b[1;33m=\u001b[0m \u001b[0mcluster_data\u001b[0m\u001b[1;33m.\u001b[0m\u001b[0mcluster_x\u001b[0m\u001b[1;33m.\u001b[0m\u001b[0mapply\u001b[0m\u001b[1;33m(\u001b[0m\u001b[1;32mlambda\u001b[0m \u001b[0mx\u001b[0m\u001b[1;33m:\u001b[0m \u001b[0mstr\u001b[0m\u001b[1;33m(\u001b[0m\u001b[0mx\u001b[0m\u001b[1;33m)\u001b[0m\u001b[1;33m)\u001b[0m\u001b[1;33m+\u001b[0m\u001b[0mcluster_data\u001b[0m\u001b[1;33m.\u001b[0m\u001b[0mcluster_y\u001b[0m\u001b[1;33m.\u001b[0m\u001b[0mapply\u001b[0m\u001b[1;33m(\u001b[0m\u001b[1;32mlambda\u001b[0m \u001b[0mx\u001b[0m\u001b[1;33m:\u001b[0m \u001b[0mstr\u001b[0m\u001b[1;33m(\u001b[0m\u001b[0mx\u001b[0m\u001b[1;33m)\u001b[0m\u001b[1;33m)\u001b[0m\u001b[1;33m+\u001b[0m\u001b[0mcluster_data\u001b[0m\u001b[1;33m.\u001b[0m\u001b[0mcluster\u001b[0m\u001b[1;33m.\u001b[0m\u001b[0mapply\u001b[0m\u001b[1;33m(\u001b[0m\u001b[1;32mlambda\u001b[0m \u001b[0mx\u001b[0m\u001b[1;33m:\u001b[0m \u001b[0mstr\u001b[0m\u001b[1;33m(\u001b[0m\u001b[0mint\u001b[0m\u001b[1;33m(\u001b[0m\u001b[0mx\u001b[0m\u001b[1;33m)\u001b[0m\u001b[1;33m)\u001b[0m\u001b[1;33m)\u001b[0m\u001b[1;33m\u001b[0m\u001b[0m\n\u001b[0m\u001b[0;32m      2\u001b[0m \u001b[0mcluster_data\u001b[0m\u001b[1;33m.\u001b[0m\u001b[0mclustering\u001b[0m\u001b[1;33m.\u001b[0m\u001b[0munique\u001b[0m\u001b[1;33m(\u001b[0m\u001b[1;33m)\u001b[0m\u001b[1;33m\u001b[0m\u001b[0m\n",
      "\u001b[1;31mAttributeError\u001b[0m: 'NoneType' object has no attribute 'cluster_x'"
     ]
    }
   ],
   "source": [
    "cluster_data['clustering'] = cluster_data.cluster_x.apply(lambda x: str(x))+cluster_data.cluster_y.apply(lambda x: str(x))+cluster_data.cluster.apply(lambda x: str(int(x)))\n",
    "cluster_data.clustering.unique()"
   ]
  },
  {
   "cell_type": "code",
   "execution_count": 58,
   "metadata": {},
   "outputs": [],
   "source": [
    "cluster_data['clustering'] = cluster_data.cluster_x.apply(lambda x: str(x))+cluster_data.cluster_y.apply(lambda x: str(x))+cluster_data.cluster.apply(lambda x: str(int(x)))"
   ]
  },
  {
   "cell_type": "markdown",
   "metadata": {},
   "source": [
    "### modeling 도착지점을 기반으로, test set 가져오기"
   ]
  },
  {
   "cell_type": "code",
   "execution_count": 64,
   "metadata": {},
   "outputs": [],
   "source": [
    "# 필요한 항구 정보를 넣자.\n",
    "port_id = 'USOAK'\n",
    "test_port_ais = port_5km(data=test3, lat=df2.loc[df2.port_id.tolist().index(port_id), 'LAT'], lon=df2.loc[df2.port_id.tolist().index(port_id), 'LON'])\n",
    "train_data = cluster_data\n",
    "# test_port_ais"
   ]
  },
  {
   "cell_type": "code",
   "execution_count": 88,
   "metadata": {},
   "outputs": [],
   "source": [
    "train = ten_number(train_data)\n",
    "train.rename(columns={0:'MMSI3'}, inplace=True)"
   ]
  },
  {
   "cell_type": "code",
   "execution_count": 100,
   "metadata": {
    "scrolled": true
   },
   "outputs": [],
   "source": [
    "train2 = pd.merge(train, train_data[['MMSI3', 'clustering']], how = 'left', on = ['MMSI3']).groupby('clustering').mean().reset_index()"
   ]
  },
  {
   "cell_type": "code",
   "execution_count": 101,
   "metadata": {},
   "outputs": [],
   "source": [
    "test4 = ten_number(test_port_ais)"
   ]
  },
  {
   "cell_type": "code",
   "execution_count": 102,
   "metadata": {
    "collapsed": true
   },
   "outputs": [
    {
     "data": {
      "text/html": [
       "<div>\n",
       "<style scoped>\n",
       "    .dataframe tbody tr th:only-of-type {\n",
       "        vertical-align: middle;\n",
       "    }\n",
       "\n",
       "    .dataframe tbody tr th {\n",
       "        vertical-align: top;\n",
       "    }\n",
       "\n",
       "    .dataframe thead th {\n",
       "        text-align: right;\n",
       "    }\n",
       "</style>\n",
       "<table border=\"1\" class=\"dataframe\">\n",
       "  <thead>\n",
       "    <tr style=\"text-align: right;\">\n",
       "      <th></th>\n",
       "      <th>clustering</th>\n",
       "      <th>1</th>\n",
       "      <th>2</th>\n",
       "      <th>3</th>\n",
       "      <th>4</th>\n",
       "      <th>5</th>\n",
       "      <th>6</th>\n",
       "      <th>7</th>\n",
       "      <th>8</th>\n",
       "      <th>9</th>\n",
       "      <th>...</th>\n",
       "      <th>13</th>\n",
       "      <th>14</th>\n",
       "      <th>15</th>\n",
       "      <th>16</th>\n",
       "      <th>17</th>\n",
       "      <th>18</th>\n",
       "      <th>19</th>\n",
       "      <th>20</th>\n",
       "      <th>21</th>\n",
       "      <th>22</th>\n",
       "    </tr>\n",
       "  </thead>\n",
       "  <tbody>\n",
       "    <tr>\n",
       "      <th>0</th>\n",
       "      <td>003</td>\n",
       "      <td>33.748693</td>\n",
       "      <td>-118.251848</td>\n",
       "      <td>33.788428</td>\n",
       "      <td>-118.700503</td>\n",
       "      <td>34.057268</td>\n",
       "      <td>-119.439313</td>\n",
       "      <td>34.335031</td>\n",
       "      <td>-120.330384</td>\n",
       "      <td>34.733470</td>\n",
       "      <td>...</td>\n",
       "      <td>35.966284</td>\n",
       "      <td>-122.049199</td>\n",
       "      <td>36.563772</td>\n",
       "      <td>-122.425104</td>\n",
       "      <td>37.139692</td>\n",
       "      <td>-122.660076</td>\n",
       "      <td>37.656230</td>\n",
       "      <td>-122.652375</td>\n",
       "      <td>37.800643</td>\n",
       "      <td>-122.317335</td>\n",
       "    </tr>\n",
       "    <tr>\n",
       "      <th>1</th>\n",
       "      <td>013</td>\n",
       "      <td>43.073195</td>\n",
       "      <td>-122.353114</td>\n",
       "      <td>44.501918</td>\n",
       "      <td>-123.832248</td>\n",
       "      <td>45.820892</td>\n",
       "      <td>-124.553896</td>\n",
       "      <td>46.625192</td>\n",
       "      <td>-125.334331</td>\n",
       "      <td>46.680999</td>\n",
       "      <td>...</td>\n",
       "      <td>45.203874</td>\n",
       "      <td>-125.176743</td>\n",
       "      <td>42.619567</td>\n",
       "      <td>-125.080666</td>\n",
       "      <td>40.291730</td>\n",
       "      <td>-124.402221</td>\n",
       "      <td>38.854247</td>\n",
       "      <td>-124.071861</td>\n",
       "      <td>37.792324</td>\n",
       "      <td>-122.299149</td>\n",
       "    </tr>\n",
       "    <tr>\n",
       "      <th>2</th>\n",
       "      <td>100</td>\n",
       "      <td>-17.538470</td>\n",
       "      <td>-149.576318</td>\n",
       "      <td>-12.095847</td>\n",
       "      <td>-147.474109</td>\n",
       "      <td>-5.819910</td>\n",
       "      <td>-144.717027</td>\n",
       "      <td>0.170996</td>\n",
       "      <td>-142.238983</td>\n",
       "      <td>5.897495</td>\n",
       "      <td>...</td>\n",
       "      <td>16.704916</td>\n",
       "      <td>-135.075720</td>\n",
       "      <td>22.243320</td>\n",
       "      <td>-132.482932</td>\n",
       "      <td>27.741587</td>\n",
       "      <td>-129.755701</td>\n",
       "      <td>33.613479</td>\n",
       "      <td>-126.534594</td>\n",
       "      <td>37.794240</td>\n",
       "      <td>-122.306160</td>\n",
       "    </tr>\n",
       "    <tr>\n",
       "      <th>3</th>\n",
       "      <td>101</td>\n",
       "      <td>-14.294019</td>\n",
       "      <td>-170.668868</td>\n",
       "      <td>-9.024446</td>\n",
       "      <td>-164.723608</td>\n",
       "      <td>-3.454792</td>\n",
       "      <td>-158.817613</td>\n",
       "      <td>2.317632</td>\n",
       "      <td>-152.766395</td>\n",
       "      <td>7.820237</td>\n",
       "      <td>...</td>\n",
       "      <td>18.065326</td>\n",
       "      <td>-135.556912</td>\n",
       "      <td>23.288810</td>\n",
       "      <td>-129.250238</td>\n",
       "      <td>28.407311</td>\n",
       "      <td>-122.499868</td>\n",
       "      <td>33.193149</td>\n",
       "      <td>-118.034894</td>\n",
       "      <td>37.795620</td>\n",
       "      <td>-122.307276</td>\n",
       "    </tr>\n",
       "    <tr>\n",
       "      <th>4</th>\n",
       "      <td>110</td>\n",
       "      <td>-37.658985</td>\n",
       "      <td>-183.822600</td>\n",
       "      <td>-30.650976</td>\n",
       "      <td>-176.577781</td>\n",
       "      <td>-23.728987</td>\n",
       "      <td>-170.039675</td>\n",
       "      <td>-16.901127</td>\n",
       "      <td>-163.482524</td>\n",
       "      <td>-8.061488</td>\n",
       "      <td>...</td>\n",
       "      <td>7.746057</td>\n",
       "      <td>-146.198106</td>\n",
       "      <td>15.883775</td>\n",
       "      <td>-140.528430</td>\n",
       "      <td>24.151188</td>\n",
       "      <td>-134.632778</td>\n",
       "      <td>32.658158</td>\n",
       "      <td>-127.973358</td>\n",
       "      <td>37.793565</td>\n",
       "      <td>-122.302388</td>\n",
       "    </tr>\n",
       "    <tr>\n",
       "      <th>5</th>\n",
       "      <td>111</td>\n",
       "      <td>-37.859200</td>\n",
       "      <td>-215.084000</td>\n",
       "      <td>-34.050400</td>\n",
       "      <td>-207.871300</td>\n",
       "      <td>-34.053900</td>\n",
       "      <td>-189.733900</td>\n",
       "      <td>-35.340100</td>\n",
       "      <td>-181.910700</td>\n",
       "      <td>-25.119500</td>\n",
       "      <td>...</td>\n",
       "      <td>-3.693400</td>\n",
       "      <td>-157.421000</td>\n",
       "      <td>6.702900</td>\n",
       "      <td>-149.600400</td>\n",
       "      <td>16.950900</td>\n",
       "      <td>-141.719900</td>\n",
       "      <td>27.683300</td>\n",
       "      <td>-132.991700</td>\n",
       "      <td>37.792400</td>\n",
       "      <td>-122.305400</td>\n",
       "    </tr>\n",
       "  </tbody>\n",
       "</table>\n",
       "<p>6 rows × 23 columns</p>\n",
       "</div>"
      ],
      "text/plain": [
       "  clustering          1           2          3           4          5  \\\n",
       "0        003  33.748693 -118.251848  33.788428 -118.700503  34.057268   \n",
       "1        013  43.073195 -122.353114  44.501918 -123.832248  45.820892   \n",
       "2        100 -17.538470 -149.576318 -12.095847 -147.474109  -5.819910   \n",
       "3        101 -14.294019 -170.668868  -9.024446 -164.723608  -3.454792   \n",
       "4        110 -37.658985 -183.822600 -30.650976 -176.577781 -23.728987   \n",
       "5        111 -37.859200 -215.084000 -34.050400 -207.871300 -34.053900   \n",
       "\n",
       "            6          7           8          9     ...             13  \\\n",
       "0 -119.439313  34.335031 -120.330384  34.733470     ...      35.966284   \n",
       "1 -124.553896  46.625192 -125.334331  46.680999     ...      45.203874   \n",
       "2 -144.717027   0.170996 -142.238983   5.897495     ...      16.704916   \n",
       "3 -158.817613   2.317632 -152.766395   7.820237     ...      18.065326   \n",
       "4 -170.039675 -16.901127 -163.482524  -8.061488     ...       7.746057   \n",
       "5 -189.733900 -35.340100 -181.910700 -25.119500     ...      -3.693400   \n",
       "\n",
       "           14         15          16         17          18         19  \\\n",
       "0 -122.049199  36.563772 -122.425104  37.139692 -122.660076  37.656230   \n",
       "1 -125.176743  42.619567 -125.080666  40.291730 -124.402221  38.854247   \n",
       "2 -135.075720  22.243320 -132.482932  27.741587 -129.755701  33.613479   \n",
       "3 -135.556912  23.288810 -129.250238  28.407311 -122.499868  33.193149   \n",
       "4 -146.198106  15.883775 -140.528430  24.151188 -134.632778  32.658158   \n",
       "5 -157.421000   6.702900 -149.600400  16.950900 -141.719900  27.683300   \n",
       "\n",
       "           20         21          22  \n",
       "0 -122.652375  37.800643 -122.317335  \n",
       "1 -124.071861  37.792324 -122.299149  \n",
       "2 -126.534594  37.794240 -122.306160  \n",
       "3 -118.034894  37.795620 -122.307276  \n",
       "4 -127.973358  37.793565 -122.302388  \n",
       "5 -132.991700  37.792400 -122.305400  \n",
       "\n",
       "[6 rows x 23 columns]"
      ]
     },
     "execution_count": 102,
     "metadata": {},
     "output_type": "execute_result"
    }
   ],
   "source": [
    "train2"
   ]
  },
  {
   "cell_type": "code",
   "execution_count": 103,
   "metadata": {},
   "outputs": [
    {
     "data": {
      "text/html": [
       "<div>\n",
       "<style scoped>\n",
       "    .dataframe tbody tr th:only-of-type {\n",
       "        vertical-align: middle;\n",
       "    }\n",
       "\n",
       "    .dataframe tbody tr th {\n",
       "        vertical-align: top;\n",
       "    }\n",
       "\n",
       "    .dataframe thead th {\n",
       "        text-align: right;\n",
       "    }\n",
       "</style>\n",
       "<table border=\"1\" class=\"dataframe\">\n",
       "  <thead>\n",
       "    <tr style=\"text-align: right;\">\n",
       "      <th></th>\n",
       "      <th>0</th>\n",
       "      <th>1</th>\n",
       "      <th>2</th>\n",
       "      <th>3</th>\n",
       "      <th>4</th>\n",
       "      <th>5</th>\n",
       "      <th>6</th>\n",
       "      <th>7</th>\n",
       "      <th>8</th>\n",
       "      <th>9</th>\n",
       "      <th>...</th>\n",
       "      <th>13</th>\n",
       "      <th>14</th>\n",
       "      <th>15</th>\n",
       "      <th>16</th>\n",
       "      <th>17</th>\n",
       "      <th>18</th>\n",
       "      <th>19</th>\n",
       "      <th>20</th>\n",
       "      <th>21</th>\n",
       "      <th>22</th>\n",
       "    </tr>\n",
       "  </thead>\n",
       "  <tbody>\n",
       "    <tr>\n",
       "      <th>0</th>\n",
       "      <td>255805930_33_1</td>\n",
       "      <td>33.7529</td>\n",
       "      <td>-118.2343</td>\n",
       "      <td>33.7461</td>\n",
       "      <td>-118.5807</td>\n",
       "      <td>34.0388</td>\n",
       "      <td>-119.1835</td>\n",
       "      <td>34.2346</td>\n",
       "      <td>-119.9449</td>\n",
       "      <td>34.3914</td>\n",
       "      <td>...</td>\n",
       "      <td>35.4931</td>\n",
       "      <td>-121.8038</td>\n",
       "      <td>36.3033</td>\n",
       "      <td>-122.3013</td>\n",
       "      <td>37.1103</td>\n",
       "      <td>-122.6131</td>\n",
       "      <td>37.6662</td>\n",
       "      <td>-122.6665</td>\n",
       "      <td>37.7920</td>\n",
       "      <td>-122.3034</td>\n",
       "    </tr>\n",
       "    <tr>\n",
       "      <th>1</th>\n",
       "      <td>538004202_35_1</td>\n",
       "      <td>33.7645</td>\n",
       "      <td>-118.2743</td>\n",
       "      <td>33.7508</td>\n",
       "      <td>-118.5778</td>\n",
       "      <td>34.0183</td>\n",
       "      <td>-119.1452</td>\n",
       "      <td>34.2473</td>\n",
       "      <td>-120.0431</td>\n",
       "      <td>34.4958</td>\n",
       "      <td>...</td>\n",
       "      <td>35.7243</td>\n",
       "      <td>-121.9303</td>\n",
       "      <td>36.4437</td>\n",
       "      <td>-122.2799</td>\n",
       "      <td>37.2054</td>\n",
       "      <td>-122.6515</td>\n",
       "      <td>37.6820</td>\n",
       "      <td>-122.6682</td>\n",
       "      <td>37.8116</td>\n",
       "      <td>-122.3339</td>\n",
       "    </tr>\n",
       "    <tr>\n",
       "      <th>2</th>\n",
       "      <td>564345000_62_1</td>\n",
       "      <td>33.7465</td>\n",
       "      <td>-118.2724</td>\n",
       "      <td>33.7528</td>\n",
       "      <td>-118.5730</td>\n",
       "      <td>34.0560</td>\n",
       "      <td>-119.2229</td>\n",
       "      <td>34.2116</td>\n",
       "      <td>-119.8706</td>\n",
       "      <td>34.4580</td>\n",
       "      <td>...</td>\n",
       "      <td>35.7206</td>\n",
       "      <td>-121.9809</td>\n",
       "      <td>36.5195</td>\n",
       "      <td>-122.3746</td>\n",
       "      <td>37.0198</td>\n",
       "      <td>-122.6241</td>\n",
       "      <td>37.7503</td>\n",
       "      <td>-122.6807</td>\n",
       "      <td>37.8100</td>\n",
       "      <td>-122.3374</td>\n",
       "    </tr>\n",
       "    <tr>\n",
       "      <th>3</th>\n",
       "      <td>636018189_4_1</td>\n",
       "      <td>33.7622</td>\n",
       "      <td>-118.2758</td>\n",
       "      <td>33.7606</td>\n",
       "      <td>-118.5965</td>\n",
       "      <td>34.0771</td>\n",
       "      <td>-119.2715</td>\n",
       "      <td>34.2242</td>\n",
       "      <td>-119.9263</td>\n",
       "      <td>34.4406</td>\n",
       "      <td>...</td>\n",
       "      <td>35.7878</td>\n",
       "      <td>-121.7974</td>\n",
       "      <td>36.5023</td>\n",
       "      <td>-122.2826</td>\n",
       "      <td>37.0124</td>\n",
       "      <td>-122.5399</td>\n",
       "      <td>37.7122</td>\n",
       "      <td>-122.6962</td>\n",
       "      <td>37.7948</td>\n",
       "      <td>-122.3127</td>\n",
       "    </tr>\n",
       "    <tr>\n",
       "      <th>4</th>\n",
       "      <td>636091912_41_5</td>\n",
       "      <td>-17.5387</td>\n",
       "      <td>-149.5751</td>\n",
       "      <td>-11.9694</td>\n",
       "      <td>-147.4324</td>\n",
       "      <td>-6.1572</td>\n",
       "      <td>-144.7414</td>\n",
       "      <td>-0.1760</td>\n",
       "      <td>-141.9964</td>\n",
       "      <td>5.7495</td>\n",
       "      <td>...</td>\n",
       "      <td>17.0647</td>\n",
       "      <td>-133.9875</td>\n",
       "      <td>22.4429</td>\n",
       "      <td>-131.3678</td>\n",
       "      <td>27.7501</td>\n",
       "      <td>-128.6822</td>\n",
       "      <td>33.0481</td>\n",
       "      <td>-125.8708</td>\n",
       "      <td>37.7923</td>\n",
       "      <td>-122.2944</td>\n",
       "    </tr>\n",
       "  </tbody>\n",
       "</table>\n",
       "<p>5 rows × 23 columns</p>\n",
       "</div>"
      ],
      "text/plain": [
       "               0        1         2        3         4        5         6   \\\n",
       "0  255805930_33_1  33.7529 -118.2343  33.7461 -118.5807  34.0388 -119.1835   \n",
       "1  538004202_35_1  33.7645 -118.2743  33.7508 -118.5778  34.0183 -119.1452   \n",
       "2  564345000_62_1  33.7465 -118.2724  33.7528 -118.5730  34.0560 -119.2229   \n",
       "3   636018189_4_1  33.7622 -118.2758  33.7606 -118.5965  34.0771 -119.2715   \n",
       "4  636091912_41_5 -17.5387 -149.5751 -11.9694 -147.4324  -6.1572 -144.7414   \n",
       "\n",
       "        7         8        9     ...          13        14       15        16  \\\n",
       "0  34.2346 -119.9449  34.3914    ...     35.4931 -121.8038  36.3033 -122.3013   \n",
       "1  34.2473 -120.0431  34.4958    ...     35.7243 -121.9303  36.4437 -122.2799   \n",
       "2  34.2116 -119.8706  34.4580    ...     35.7206 -121.9809  36.5195 -122.3746   \n",
       "3  34.2242 -119.9263  34.4406    ...     35.7878 -121.7974  36.5023 -122.2826   \n",
       "4  -0.1760 -141.9964   5.7495    ...     17.0647 -133.9875  22.4429 -131.3678   \n",
       "\n",
       "        17        18       19        20       21        22  \n",
       "0  37.1103 -122.6131  37.6662 -122.6665  37.7920 -122.3034  \n",
       "1  37.2054 -122.6515  37.6820 -122.6682  37.8116 -122.3339  \n",
       "2  37.0198 -122.6241  37.7503 -122.6807  37.8100 -122.3374  \n",
       "3  37.0124 -122.5399  37.7122 -122.6962  37.7948 -122.3127  \n",
       "4  27.7501 -128.6822  33.0481 -125.8708  37.7923 -122.2944  \n",
       "\n",
       "[5 rows x 23 columns]"
      ]
     },
     "execution_count": 103,
     "metadata": {},
     "output_type": "execute_result"
    }
   ],
   "source": [
    "test4"
   ]
  },
  {
   "cell_type": "code",
   "execution_count": 175,
   "metadata": {},
   "outputs": [],
   "source": [
    "L = []\n",
    "for i in test4.index:\n",
    "    L2 = []\n",
    "    for j in train2.index:\n",
    "        sum = 0\n",
    "        for l1,l2 in zip(test4.iloc[i,1:], train2.iloc[j,1:]):\n",
    "            sum = sum + (l1-l2)**2\n",
    "        L2.append(sum)\n",
    "    L.append(train2.clustering[L2.index(min(L2))])\n",
    "test5 = pd.DataFrame({'MMSI3':test4[0], 'clustering':L})"
   ]
  },
  {
   "cell_type": "code",
   "execution_count": 176,
   "metadata": {},
   "outputs": [
    {
     "data": {
      "text/html": [
       "<div>\n",
       "<style scoped>\n",
       "    .dataframe tbody tr th:only-of-type {\n",
       "        vertical-align: middle;\n",
       "    }\n",
       "\n",
       "    .dataframe tbody tr th {\n",
       "        vertical-align: top;\n",
       "    }\n",
       "\n",
       "    .dataframe thead th {\n",
       "        text-align: right;\n",
       "    }\n",
       "</style>\n",
       "<table border=\"1\" class=\"dataframe\">\n",
       "  <thead>\n",
       "    <tr style=\"text-align: right;\">\n",
       "      <th></th>\n",
       "      <th>MMSI3</th>\n",
       "      <th>clustering</th>\n",
       "    </tr>\n",
       "  </thead>\n",
       "  <tbody>\n",
       "    <tr>\n",
       "      <th>0</th>\n",
       "      <td>255805930_33_1</td>\n",
       "      <td>003</td>\n",
       "    </tr>\n",
       "    <tr>\n",
       "      <th>1</th>\n",
       "      <td>538004202_35_1</td>\n",
       "      <td>003</td>\n",
       "    </tr>\n",
       "    <tr>\n",
       "      <th>2</th>\n",
       "      <td>564345000_62_1</td>\n",
       "      <td>003</td>\n",
       "    </tr>\n",
       "    <tr>\n",
       "      <th>3</th>\n",
       "      <td>636018189_4_1</td>\n",
       "      <td>003</td>\n",
       "    </tr>\n",
       "    <tr>\n",
       "      <th>4</th>\n",
       "      <td>636091912_41_5</td>\n",
       "      <td>100</td>\n",
       "    </tr>\n",
       "  </tbody>\n",
       "</table>\n",
       "</div>"
      ],
      "text/plain": [
       "            MMSI3 clustering\n",
       "0  255805930_33_1        003\n",
       "1  538004202_35_1        003\n",
       "2  564345000_62_1        003\n",
       "3   636018189_4_1        003\n",
       "4  636091912_41_5        100"
      ]
     },
     "execution_count": 176,
     "metadata": {},
     "output_type": "execute_result"
    }
   ],
   "source": [
    "test5"
   ]
  },
  {
   "cell_type": "code",
   "execution_count": 353,
   "metadata": {},
   "outputs": [],
   "source": [
    "train6 = train_data[train_data.clustering == '003']\n",
    "train6.drop(['cluster_x', 'cluster_y', 'cluster', 'clustering', 'MMSI2', 'MMSI'], inplace=True, axis=1)"
   ]
  },
  {
   "cell_type": "code",
   "execution_count": 362,
   "metadata": {},
   "outputs": [],
   "source": [
    "test6 = test_port_ais[test_port_ais.MMSI3.isin(test5[test5['clustering']=='003']['MMSI3'])]\n",
    "test6.drop(['MMSI2', 'MMSI'], inplace=True, axis=1)"
   ]
  },
  {
   "cell_type": "code",
   "execution_count": 383,
   "metadata": {},
   "outputs": [],
   "source": [
    "import datetime \n",
    "def Y_Value(x) : \n",
    "    x['ETA'] = x['ETA'].astype(str).apply(lambda x: x[0:19])\n",
    "    x['ETA'] = x['ETA'].apply(lambda x: datetime.datetime.strptime(x, \"%Y-%m-%d %H:%M:%S\"))\n",
    "    lastTime = x.groupby('MMSI3').last()['ETA'].reset_index()\n",
    "    lastTime.columns = ['MMSI3','LAST_ETA']\n",
    "    x = pd.merge(x, lastTime , on = 'MMSI3')\n",
    "    x['y_value'] = (x['LAST_ETA'] - x['ETA']) /np.timedelta64(1, 'h')\n",
    "    return x"
   ]
  },
  {
   "cell_type": "code",
   "execution_count": 384,
   "metadata": {
    "scrolled": true
   },
   "outputs": [],
   "source": [
    "train67 = Y_Value(train6)"
   ]
  },
  {
   "cell_type": "code",
   "execution_count": 420,
   "metadata": {},
   "outputs": [],
   "source": [
    "test77 = test6[['LAT', 'LON']]"
   ]
  },
  {
   "cell_type": "code",
   "execution_count": 421,
   "metadata": {},
   "outputs": [],
   "source": [
    "train77 = train67[['LAT', 'LON', 'y_value']]"
   ]
  },
  {
   "cell_type": "markdown",
   "metadata": {},
   "source": [
    "### modeling and predictions"
   ]
  },
  {
   "cell_type": "code",
   "execution_count": 391,
   "metadata": {},
   "outputs": [],
   "source": [
    "import sklearn\n",
    "from sklearn.linear_model import LinearRegression"
   ]
  },
  {
   "cell_type": "code",
   "execution_count": 422,
   "metadata": {},
   "outputs": [],
   "source": [
    "regr = LinearRegression()"
   ]
  },
  {
   "cell_type": "code",
   "execution_count": 424,
   "metadata": {},
   "outputs": [
    {
     "data": {
      "text/plain": [
       "LinearRegression(copy_X=True, fit_intercept=True, n_jobs=1, normalize=False)"
      ]
     },
     "execution_count": 424,
     "metadata": {},
     "output_type": "execute_result"
    }
   ],
   "source": [
    "regr.fit(train77[['LAT', 'LON']], train77[['y_value']])"
   ]
  },
  {
   "cell_type": "code",
   "execution_count": 425,
   "metadata": {},
   "outputs": [],
   "source": [
    "y_pred = regr.predict(test77)"
   ]
  },
  {
   "cell_type": "code",
   "execution_count": 426,
   "metadata": {
    "scrolled": true
   },
   "outputs": [],
   "source": [
    "test6['ETA'] = test6['ETA'].apply(lambda x: str(x)+':00')\n",
    "y_test = Y_Value(test6)['y_value']"
   ]
  },
  {
   "cell_type": "code",
   "execution_count": 427,
   "metadata": {},
   "outputs": [],
   "source": [
    "y_sqrt = []\n",
    "for i,j in zip(y_pred, y_test):\n",
    "    y_sqrt.append((float(i)-float(j))**2)"
   ]
  },
  {
   "cell_type": "code",
   "execution_count": 428,
   "metadata": {
    "scrolled": true
   },
   "outputs": [
    {
     "data": {
      "text/plain": [
       "4.206528540947065"
      ]
     },
     "execution_count": 428,
     "metadata": {},
     "output_type": "execute_result"
    }
   ],
   "source": [
    "np.sqrt(np.mean(y_sqrt))"
   ]
  },
  {
   "cell_type": "code",
   "execution_count": null,
   "metadata": {},
   "outputs": [],
   "source": []
  },
  {
   "cell_type": "code",
   "execution_count": 405,
   "metadata": {},
   "outputs": [],
   "source": [
    "train6 = train_data[train_data.clustering == '100']\n",
    "train6.drop(['cluster_x', 'cluster_y', 'cluster', 'clustering', 'MMSI2', 'MMSI'], inplace=True, axis=1)"
   ]
  },
  {
   "cell_type": "code",
   "execution_count": 406,
   "metadata": {},
   "outputs": [],
   "source": [
    "test6 = test_port_ais[test_port_ais.MMSI3.isin(test5[test5['clustering']=='100']['MMSI3'])]\n",
    "test6.drop(['MMSI2', 'MMSI'], inplace=True, axis=1)"
   ]
  },
  {
   "cell_type": "code",
   "execution_count": 409,
   "metadata": {
    "scrolled": true
   },
   "outputs": [],
   "source": [
    "train6['ETA'] = train6['ETA'].apply(lambda x: str(x)+':00')\n",
    "train67 = Y_Value(train6)"
   ]
  },
  {
   "cell_type": "code",
   "execution_count": 410,
   "metadata": {},
   "outputs": [],
   "source": [
    "test77 = test6[['LAT', 'LON', 'SPEED']]"
   ]
  },
  {
   "cell_type": "code",
   "execution_count": 411,
   "metadata": {},
   "outputs": [],
   "source": [
    "train77 = train67[['LAT', 'LON', 'SPEED', 'y_value']]"
   ]
  },
  {
   "cell_type": "markdown",
   "metadata": {},
   "source": [
    "### modeling and predictions"
   ]
  },
  {
   "cell_type": "code",
   "execution_count": 412,
   "metadata": {},
   "outputs": [],
   "source": [
    "import sklearn\n",
    "from sklearn.linear_model import LinearRegression"
   ]
  },
  {
   "cell_type": "code",
   "execution_count": 413,
   "metadata": {},
   "outputs": [],
   "source": [
    "regr = LinearRegression()"
   ]
  },
  {
   "cell_type": "code",
   "execution_count": 414,
   "metadata": {},
   "outputs": [
    {
     "data": {
      "text/plain": [
       "LinearRegression(copy_X=True, fit_intercept=True, n_jobs=1, normalize=False)"
      ]
     },
     "execution_count": 414,
     "metadata": {},
     "output_type": "execute_result"
    }
   ],
   "source": [
    "regr.fit(train77[['LAT', 'LON', 'SPEED']], train77[['y_value']])"
   ]
  },
  {
   "cell_type": "code",
   "execution_count": 415,
   "metadata": {},
   "outputs": [],
   "source": [
    "y_pred = regr.predict(test77)"
   ]
  },
  {
   "cell_type": "code",
   "execution_count": 416,
   "metadata": {
    "scrolled": true
   },
   "outputs": [],
   "source": [
    "test6['ETA'] = test6['ETA'].apply(lambda x: str(x)+':00')\n",
    "y_test = Y_Value(test6)['y_value']"
   ]
  },
  {
   "cell_type": "code",
   "execution_count": 417,
   "metadata": {},
   "outputs": [],
   "source": [
    "y_sqrt = []\n",
    "for i,j in zip(y_pred, y_test):\n",
    "    y_sqrt.append((float(i)-float(j))**2)"
   ]
  },
  {
   "cell_type": "code",
   "execution_count": 418,
   "metadata": {
    "scrolled": true
   },
   "outputs": [
    {
     "data": {
      "text/plain": [
       "3.7850017743727453"
      ]
     },
     "execution_count": 418,
     "metadata": {},
     "output_type": "execute_result"
    }
   ],
   "source": [
    "np.sqrt(np.mean(y_sqrt))"
   ]
  },
  {
   "cell_type": "code",
   "execution_count": null,
   "metadata": {},
   "outputs": [],
   "source": []
  },
  {
   "cell_type": "code",
   "execution_count": null,
   "metadata": {},
   "outputs": [],
   "source": []
  },
  {
   "cell_type": "code",
   "execution_count": null,
   "metadata": {},
   "outputs": [],
   "source": []
  },
  {
   "cell_type": "code",
   "execution_count": null,
   "metadata": {},
   "outputs": [],
   "source": []
  },
  {
   "cell_type": "code",
   "execution_count": null,
   "metadata": {},
   "outputs": [],
   "source": []
  },
  {
   "cell_type": "code",
   "execution_count": null,
   "metadata": {},
   "outputs": [],
   "source": []
  },
  {
   "cell_type": "code",
   "execution_count": null,
   "metadata": {},
   "outputs": [],
   "source": []
  },
  {
   "cell_type": "code",
   "execution_count": null,
   "metadata": {},
   "outputs": [],
   "source": []
  },
  {
   "cell_type": "code",
   "execution_count": null,
   "metadata": {},
   "outputs": [],
   "source": []
  },
  {
   "cell_type": "code",
   "execution_count": null,
   "metadata": {},
   "outputs": [],
   "source": []
  },
  {
   "cell_type": "code",
   "execution_count": null,
   "metadata": {},
   "outputs": [],
   "source": []
  },
  {
   "cell_type": "code",
   "execution_count": null,
   "metadata": {},
   "outputs": [],
   "source": []
  },
  {
   "cell_type": "code",
   "execution_count": null,
   "metadata": {},
   "outputs": [],
   "source": []
  },
  {
   "cell_type": "code",
   "execution_count": null,
   "metadata": {},
   "outputs": [],
   "source": []
  },
  {
   "cell_type": "code",
   "execution_count": null,
   "metadata": {},
   "outputs": [],
   "source": []
  },
  {
   "cell_type": "code",
   "execution_count": null,
   "metadata": {},
   "outputs": [],
   "source": []
  },
  {
   "cell_type": "code",
   "execution_count": null,
   "metadata": {},
   "outputs": [],
   "source": [
    "def kmeans_clustering(port_ais_data, ten_number_data):\n",
    "    df1 = port_ais_data\n",
    "    data22 = ten_number_data.iloc[:,1:]\n",
    "    \n",
    "    df2 = pd.DataFrame(ten_number_data[ten_number_data[0].isin(df1['MMSI3'].unique())])\n",
    "    mean_test(data=df2.groupby([0]).mean())\n",
    "    \n",
    "    kmeans = KMeans(n_clusters=2, random_state=0).fit(np.array(data22))\n",
    "\n",
    "    data2 = pd.DataFrame({'MMSI3' : ten_number_data.loc[:,0].tolist(), 'cluster' : list(kmeans.labels_)})\n",
    "    data3 = pd.merge(df1, data2, how='left', on=['MMSI3'])\n",
    "    \n",
    "    \n",
    "#     print(data3) 얘는 맨 처음 clustering 한 내용. 기본 data + cluster_1 정보 들어있음.\n",
    "    \n",
    "    L = sorted(data3['cluster'].unique())\n",
    "    \n",
    "    # DEPTH 1\n",
    "    plt.figure(figsize=(5, 2))\n",
    "    visualization(data=data3, sorted_L=L, i='Depth 1')\n",
    "    \n",
    "    print(input_calculate(data=data3, ten_number_data=ten_number_data))\n",
    "    \n",
    "    # DEPTH 2\n",
    "    depth2_1_mg, depth2_2_mg = deepen(data=data3, ten_number_data=ten_number_data)\n",
    "    \n",
    "    df11, df12 = input_calculate(data=depth2_1_mg, ten_number_data=ten_number_data)\n",
    "    df21, df22 = input_calculate(data=depth2_2_mg, ten_number_data=ten_number_data)\n",
    "    \n",
    "    if df11 < 25 and df12 < 25:\n",
    "        plt.figure(figsize=(3, 2))\n",
    "        visualization(data=depth2_1_mg, sorted_L=sorted(np.unique(depth2_1_mg.iloc[:,-1:])), i='Depth2-1')\n",
    "        plt.figure(figsize=(3, 2))\n",
    "        visualization(data=depth2_2_mg, sorted_L=sorted(np.unique(depth2_2_mg.iloc[:,-1:])), i='Depth2-2')\n",
    "    \n",
    "    \n",
    "    # join\n",
    "    data4 = pd.merge(data3, pd.DataFrame(pd.concat([depth2_1_mg.groupby('MMSI3').first()['cluster'], depth2_2_mg.groupby('MMSI3').first()['cluster']])), how='left', on=['MMSI3'])\n",
    "    \n",
    "    \n",
    "    print(input_calculate(data=depth2_1_mg, ten_number_data=ten_number_data))\n",
    "    print(input_calculate(data=depth2_2_mg, ten_number_data=ten_number_data))\n",
    "    \n",
    "    # DEPTH 3\n",
    "    if df11 >= 25 and df12 >= 25:\n",
    "        depth3_1_mg, depth3_2_mg = deepen(data=depth2_1_mg, ten_number_data=ten_number_data)\n",
    "        plt.figure(figsize=(2, 1))\n",
    "        visualization(data=depth3_1_mg, sorted_L=sorted(np.unique(depth3_1_mg.iloc[:,-1:])), i='2-1 - Depth3-1')\n",
    "        plt.figure(figsize=(2, 1))\n",
    "        visualization(data=depth3_2_mg, sorted_L=sorted(np.unique(depth3_2_mg.iloc[:,-1:])), i='2-1 - Depth3-2')\n",
    "\n",
    "        print(input_calculate(data=depth3_1_mg, ten_number_data=ten_number_data))\n",
    "        print(input_calculate(data=depth3_2_mg, ten_number_data=ten_number_data))\n",
    "    \n",
    "    if df21 >= 25 and df22 >= 25:\n",
    "        depth3_3_mg, depth3_4_mg = deepen(data=depth2_2_mg, ten_number_data=ten_number_data)\n",
    "        plt.figure(figsize=(2, 1))\n",
    "        visualization(data=depth3_3_mg, sorted_L=sorted(np.unique(depth3_3_mg.iloc[:,-1:])), i='2-2 - Depth3-3')\n",
    "        plt.figure(figsize=(2, 1))\n",
    "        visualization(data=depth3_4_mg, sorted_L=sorted(np.unique(depth3_4_mg.iloc[:,-1:])), i='2-2 - Depth3-4')\n",
    "        \n",
    "        print(input_calculate(data=depth3_3_mg, ten_number_data=ten_number_data))\n",
    "        print(input_calculate(data=depth3_4_mg, ten_number_data=ten_number_data))\n",
    "        \n",
    "    # join\n",
    "    if df11 >= 25 and df12 >= 25 and df21 >= 25 and df22 >= 25:\n",
    "        data5 = pd.merge(data4, pd.DataFrame(pd.concat([depth3_1_mg.groupby('MMSI3').first()['cluster'], depth3_2_mg.groupby('MMSI3').first()['cluster'], depth3_3_mg.groupby('MMSI3').first()['cluster'], depth3_4_mg.groupby('MMSI3').first()['cluster']])), how='left', on=['MMSI3'])\n",
    "    elif df11 >= 25 and df12 >= 25:\n",
    "        data5 = pd.merge(data4, pd.DataFrame(pd.concat([depth3_1_mg.groupby('MMSI3').first()['cluster'], depth3_2_mg.groupby('MMSI3').first()['cluster']])), how='left', on=['MMSI3']).fillna(3)\n",
    "    else:\n",
    "        data5 = pd.merge(data4, pd.DataFrame(pd.concat([depth3_3_mg.groupby('MMSI3').first()['cluster'], depth3_4_mg.groupby('MMSI3').first()['cluster']])), how='left', on=['MMSI3']).fillna(3)\n",
    "        \n",
    "    return data5"
   ]
  },
  {
   "cell_type": "code",
   "execution_count": 22,
   "metadata": {},
   "outputs": [],
   "source": [
    "import warnings\n",
    "warnings.filterwarnings(\"ignore\")"
   ]
  }
 ],
 "metadata": {
  "kernelspec": {
   "display_name": "Python 3",
   "language": "python",
   "name": "python3"
  },
  "language_info": {
   "codemirror_mode": {
    "name": "ipython",
    "version": 3
   },
   "file_extension": ".py",
   "mimetype": "text/x-python",
   "name": "python",
   "nbconvert_exporter": "python",
   "pygments_lexer": "ipython3",
   "version": "3.6.5"
  }
 },
 "nbformat": 4,
 "nbformat_minor": 2
}
