{
 "cells": [
  {
   "cell_type": "code",
   "execution_count": 6,
   "metadata": {},
   "outputs": [],
   "source": [
    "import pandas as pd\n",
    "import numpy as np\n",
    "import folium"
   ]
  },
  {
   "cell_type": "code",
   "execution_count": 7,
   "metadata": {},
   "outputs": [],
   "source": [
    "from sklearn.cluster import DBSCAN\n",
    "from sklearn import metrics\n",
    "from sklearn.datasets.samples_generator import make_blobs\n",
    "from sklearn.preprocessing import StandardScaler\n",
    "import matplotlib.pyplot as plt\n",
    "from sklearn.cluster import KMeans"
   ]
  },
  {
   "cell_type": "code",
   "execution_count": 48,
   "metadata": {},
   "outputs": [],
   "source": [
    "data = pd.read_csv(\"C:/Users/renz/Downloads/day_interval_out.csv\")\n",
    "data['LON'] = data['LON'].apply(lambda x : (x - 360) if x>0 else x )"
   ]
  },
  {
   "cell_type": "code",
   "execution_count": 49,
   "metadata": {},
   "outputs": [],
   "source": [
    "data1 = data"
   ]
  },
  {
   "cell_type": "code",
   "execution_count": null,
   "metadata": {},
   "outputs": [],
   "source": []
  },
  {
   "cell_type": "code",
   "execution_count": 542,
   "metadata": {},
   "outputs": [],
   "source": [
    "data = pd.read_csv(\"C:/Users/renz/Downloads/hour_interval_out.csv\")\n",
    "data['LON'] = data['LON'].apply(lambda x : (x - 360) if x>0 else x )\n",
    "data1 = data"
   ]
  },
  {
   "cell_type": "code",
   "execution_count": 567,
   "metadata": {
    "scrolled": true
   },
   "outputs": [
    {
     "data": {
      "text/plain": [
       "MMSI2\n",
       "209087000_10     1287\n",
       "209087000_4       249\n",
       "209087000_8       891\n",
       "209251000_20      717\n",
       "209251000_31      116\n",
       "209540000_49      223\n",
       "209550000_20      200\n",
       "209550000_59      161\n",
       "209735000_42      181\n",
       "210161000_11      319\n",
       "210161000_12      643\n",
       "210161000_13      639\n",
       "210161000_14      622\n",
       "210161000_21      694\n",
       "210161000_22      614\n",
       "210161000_23      269\n",
       "210161000_24      423\n",
       "210242000_14      931\n",
       "210242000_22      554\n",
       "210242000_23      926\n",
       "210242000_25      537\n",
       "210242000_26      987\n",
       "210242000_30     1012\n",
       "210242000_31      954\n",
       "210242000_33      971\n",
       "210242000_35     1010\n",
       "210296000_56      489\n",
       "210562000_61     1094\n",
       "210562000_62      188\n",
       "210562000_65       83\n",
       "                 ... \n",
       "636092489_29      520\n",
       "636092489_32      445\n",
       "636092489_33      957\n",
       "636092489_34      478\n",
       "636092489_36      359\n",
       "636092489_38     1019\n",
       "636092489_39      438\n",
       "636092489_45      434\n",
       "636092587_32      841\n",
       "636092587_45      376\n",
       "636092627_51      578\n",
       "636092764_11      272\n",
       "636092786_4       921\n",
       "636092792_17      446\n",
       "636092792_18      229\n",
       "636092793_1       324\n",
       "636092793_12      426\n",
       "636092793_17      273\n",
       "636092793_23       72\n",
       "636092793_26      584\n",
       "636092793_5       386\n",
       "636092793_6       360\n",
       "636092835_8       286\n",
       "636092848_9       220\n",
       "725001409_121     134\n",
       "725001409_30      143\n",
       "725001409_60      122\n",
       "725001409_71      114\n",
       "725001409_72      109\n",
       "725001409_73      198\n",
       "Name: LON, Length: 2156, dtype: int64"
      ]
     },
     "execution_count": 567,
     "metadata": {},
     "output_type": "execute_result"
    }
   ],
   "source": [
    "data1.groupby('MMSI2')['LON'].count()"
   ]
  },
  {
   "cell_type": "code",
   "execution_count": 604,
   "metadata": {
    "scrolled": true
   },
   "outputs": [
    {
     "name": "stdout",
     "output_type": "stream",
     "text": [
      "0\n",
      "2\n",
      "5\n",
      "7\n",
      "10\n",
      "12\n",
      "15\n",
      "17\n",
      "20\n",
      "22\n",
      "25\n",
      "27\n",
      "30\n",
      "32\n",
      "35\n",
      "37\n",
      "40\n",
      "42\n",
      "45\n",
      "47\n",
      "50\n",
      "52\n",
      "55\n",
      "57\n",
      "60\n",
      "62\n",
      "65\n",
      "67\n",
      "70\n",
      "72\n",
      "75\n",
      "77\n",
      "80\n",
      "82\n",
      "85\n",
      "87\n",
      "90\n",
      "92\n",
      "95\n",
      "97\n",
      "100\n",
      "102\n",
      "105\n",
      "107\n",
      "110\n",
      "112\n",
      "115\n",
      "117\n",
      "120\n",
      "122\n",
      "124\n",
      "127\n",
      "129\n",
      "132\n",
      "134\n",
      "137\n",
      "139\n",
      "142\n",
      "144\n",
      "147\n",
      "149\n",
      "152\n",
      "154\n",
      "157\n",
      "159\n",
      "162\n",
      "164\n",
      "167\n",
      "169\n",
      "172\n",
      "174\n",
      "177\n",
      "179\n",
      "182\n",
      "184\n",
      "187\n",
      "189\n",
      "192\n",
      "194\n",
      "197\n",
      "199\n",
      "202\n",
      "204\n",
      "207\n",
      "209\n",
      "212\n",
      "214\n",
      "217\n",
      "219\n",
      "222\n",
      "224\n",
      "227\n",
      "229\n",
      "232\n",
      "234\n",
      "237\n",
      "239\n",
      "242\n",
      "244\n",
      "247\n",
      "249\n"
     ]
    }
   ],
   "source": [
    "L = []\n",
    "for i,j in zip(data1['MMSI2'].unique(), data1.groupby('MMSI2')['LON'].count()):\n",
    "#     if i == '209087000_10' and j == 1287:\n",
    "#         df1 = data[data['MMSI2']=='209087000_10'].loc[[0,]]\n",
    "#     else:\n",
    "    for k in range(0, 101, 1):\n",
    "        k = k/100\n",
    "        print(int(round(j*k)))\n",
    "#             df1.append(pd.DataFrame(data1 = data1[data1['MMSI2']==j].loc[[int(round(j*k, 0)),]]))\n",
    "\n",
    "                     \n",
    "    if i == '209087000_4':\n",
    "        break"
   ]
  },
  {
   "cell_type": "code",
   "execution_count": 594,
   "metadata": {
    "scrolled": true
   },
   "outputs": [],
   "source": [
    "df1 = data[data['MMSI2']=='209087000_10'].loc[[0,]]"
   ]
  },
  {
   "cell_type": "code",
   "execution_count": 595,
   "metadata": {},
   "outputs": [
    {
     "data": {
      "text/html": [
       "<div>\n",
       "<style scoped>\n",
       "    .dataframe tbody tr th:only-of-type {\n",
       "        vertical-align: middle;\n",
       "    }\n",
       "\n",
       "    .dataframe tbody tr th {\n",
       "        vertical-align: top;\n",
       "    }\n",
       "\n",
       "    .dataframe thead th {\n",
       "        text-align: right;\n",
       "    }\n",
       "</style>\n",
       "<table border=\"1\" class=\"dataframe\">\n",
       "  <thead>\n",
       "    <tr style=\"text-align: right;\">\n",
       "      <th></th>\n",
       "      <th>ETA</th>\n",
       "      <th>ETA2</th>\n",
       "      <th>MMSI</th>\n",
       "      <th>LAT</th>\n",
       "      <th>LON</th>\n",
       "      <th>SPEED</th>\n",
       "      <th>DATE_DIFF</th>\n",
       "      <th>CASE_DIFF</th>\n",
       "      <th>CUM_SUM</th>\n",
       "      <th>MMSI2</th>\n",
       "      <th>ETA3</th>\n",
       "      <th>HOUR_NUM</th>\n",
       "    </tr>\n",
       "  </thead>\n",
       "  <tbody>\n",
       "    <tr>\n",
       "      <th>0</th>\n",
       "      <td>2018-03-23 00:03:07</td>\n",
       "      <td>2018-03-21 20:34:19</td>\n",
       "      <td>209087000</td>\n",
       "      <td>30.6202</td>\n",
       "      <td>-237.9424</td>\n",
       "      <td>10.0</td>\n",
       "      <td>2.0</td>\n",
       "      <td>1</td>\n",
       "      <td>10</td>\n",
       "      <td>209087000_10</td>\n",
       "      <td>2018-03-23 00</td>\n",
       "      <td>1</td>\n",
       "    </tr>\n",
       "  </tbody>\n",
       "</table>\n",
       "</div>"
      ],
      "text/plain": [
       "                   ETA                 ETA2       MMSI      LAT       LON  \\\n",
       "0  2018-03-23 00:03:07  2018-03-21 20:34:19  209087000  30.6202 -237.9424   \n",
       "\n",
       "   SPEED  DATE_DIFF  CASE_DIFF  CUM_SUM         MMSI2           ETA3  HOUR_NUM  \n",
       "0   10.0        2.0          1       10  209087000_10  2018-03-23 00         1  "
      ]
     },
     "execution_count": 595,
     "metadata": {},
     "output_type": "execute_result"
    }
   ],
   "source": [
    "df1"
   ]
  },
  {
   "cell_type": "code",
   "execution_count": 603,
   "metadata": {},
   "outputs": [
    {
     "data": {
      "text/html": [
       "<div>\n",
       "<style scoped>\n",
       "    .dataframe tbody tr th:only-of-type {\n",
       "        vertical-align: middle;\n",
       "    }\n",
       "\n",
       "    .dataframe tbody tr th {\n",
       "        vertical-align: top;\n",
       "    }\n",
       "\n",
       "    .dataframe thead th {\n",
       "        text-align: right;\n",
       "    }\n",
       "</style>\n",
       "<table border=\"1\" class=\"dataframe\">\n",
       "  <thead>\n",
       "    <tr style=\"text-align: right;\">\n",
       "      <th></th>\n",
       "      <th>ETA</th>\n",
       "      <th>ETA2</th>\n",
       "      <th>MMSI</th>\n",
       "      <th>LAT</th>\n",
       "      <th>LON</th>\n",
       "      <th>SPEED</th>\n",
       "      <th>DATE_DIFF</th>\n",
       "      <th>CASE_DIFF</th>\n",
       "      <th>CUM_SUM</th>\n",
       "      <th>MMSI2</th>\n",
       "      <th>ETA3</th>\n",
       "      <th>HOUR_NUM</th>\n",
       "    </tr>\n",
       "  </thead>\n",
       "  <tbody>\n",
       "    <tr>\n",
       "      <th>0</th>\n",
       "      <td>2018-03-23 00:03:07</td>\n",
       "      <td>2018-03-21 20:34:19</td>\n",
       "      <td>209087000</td>\n",
       "      <td>30.6202</td>\n",
       "      <td>-237.9424</td>\n",
       "      <td>10.0</td>\n",
       "      <td>2.0</td>\n",
       "      <td>1</td>\n",
       "      <td>10</td>\n",
       "      <td>209087000_10</td>\n",
       "      <td>2018-03-23 00</td>\n",
       "      <td>1</td>\n",
       "    </tr>\n",
       "    <tr>\n",
       "      <th>1</th>\n",
       "      <td>2018-03-23 03:20:05</td>\n",
       "      <td>2018-03-23 00:03:07</td>\n",
       "      <td>209087000</td>\n",
       "      <td>30.4058</td>\n",
       "      <td>-237.1697</td>\n",
       "      <td>11.0</td>\n",
       "      <td>0.0</td>\n",
       "      <td>0</td>\n",
       "      <td>10</td>\n",
       "      <td>209087000_10</td>\n",
       "      <td>2018-03-23 03</td>\n",
       "      <td>1</td>\n",
       "    </tr>\n",
       "  </tbody>\n",
       "</table>\n",
       "</div>"
      ],
      "text/plain": [
       "                   ETA                 ETA2       MMSI      LAT       LON  \\\n",
       "0  2018-03-23 00:03:07  2018-03-21 20:34:19  209087000  30.6202 -237.9424   \n",
       "1  2018-03-23 03:20:05  2018-03-23 00:03:07  209087000  30.4058 -237.1697   \n",
       "\n",
       "   SPEED  DATE_DIFF  CASE_DIFF  CUM_SUM         MMSI2           ETA3  HOUR_NUM  \n",
       "0   10.0        2.0          1       10  209087000_10  2018-03-23 00         1  \n",
       "1   11.0        0.0          0       10  209087000_10  2018-03-23 03         1  "
      ]
     },
     "execution_count": 603,
     "metadata": {},
     "output_type": "execute_result"
    }
   ],
   "source": [
    "df1.append(pd.DataFrame(data = data1[data1['MMSI2']=='209087000_10'].loc[[1,]]))"
   ]
  },
  {
   "cell_type": "code",
   "execution_count": null,
   "metadata": {},
   "outputs": [],
   "source": []
  },
  {
   "cell_type": "code",
   "execution_count": null,
   "metadata": {},
   "outputs": [],
   "source": []
  },
  {
   "cell_type": "code",
   "execution_count": null,
   "metadata": {},
   "outputs": [],
   "source": []
  },
  {
   "cell_type": "code",
   "execution_count": null,
   "metadata": {},
   "outputs": [],
   "source": []
  },
  {
   "cell_type": "code",
   "execution_count": 511,
   "metadata": {
    "scrolled": true
   },
   "outputs": [
    {
     "ename": "AttributeError",
     "evalue": "'SeriesGroupBy' object has no attribute 'percentile'",
     "output_type": "error",
     "traceback": [
      "\u001b[1;31m---------------------------------------------------------------------------\u001b[0m",
      "\u001b[1;31mAttributeError\u001b[0m                            Traceback (most recent call last)",
      "\u001b[1;32m<ipython-input-511-a15fcd613700>\u001b[0m in \u001b[0;36m<module>\u001b[1;34m()\u001b[0m\n\u001b[0;32m      2\u001b[0m \u001b[1;31m# b = data1.groupby('MMSI2')[['LAT', 'LON']].mean()\u001b[0m\u001b[1;33m\u001b[0m\u001b[1;33m\u001b[0m\u001b[0m\n\u001b[0;32m      3\u001b[0m \u001b[0mc\u001b[0m \u001b[1;33m=\u001b[0m \u001b[0mdata1\u001b[0m\u001b[1;33m.\u001b[0m\u001b[0mgroupby\u001b[0m\u001b[1;33m(\u001b[0m\u001b[1;34m'MMSI2'\u001b[0m\u001b[1;33m)\u001b[0m\u001b[1;33m[\u001b[0m\u001b[1;34m'LAT'\u001b[0m\u001b[1;33m]\u001b[0m\u001b[1;33m.\u001b[0m\u001b[0mfirst\u001b[0m\u001b[1;33m(\u001b[0m\u001b[1;33m)\u001b[0m\u001b[1;33m\u001b[0m\u001b[0m\n\u001b[1;32m----> 4\u001b[1;33m \u001b[0me\u001b[0m \u001b[1;33m=\u001b[0m \u001b[0mdata1\u001b[0m\u001b[1;33m.\u001b[0m\u001b[0mgroupby\u001b[0m\u001b[1;33m(\u001b[0m\u001b[1;34m'MMSI2'\u001b[0m\u001b[1;33m)\u001b[0m\u001b[1;33m[\u001b[0m\u001b[1;34m'LAT'\u001b[0m\u001b[1;33m]\u001b[0m\u001b[1;33m.\u001b[0m\u001b[0mpercentile\u001b[0m\u001b[1;33m(\u001b[0m\u001b[1;36m1\u001b[0m\u001b[1;33m)\u001b[0m\u001b[1;33m\u001b[0m\u001b[0m\n\u001b[0m\u001b[0;32m      5\u001b[0m \u001b[0md\u001b[0m \u001b[1;33m=\u001b[0m \u001b[0mdata1\u001b[0m\u001b[1;33m.\u001b[0m\u001b[0mgroupby\u001b[0m\u001b[1;33m(\u001b[0m\u001b[1;34m'MMSI2'\u001b[0m\u001b[1;33m)\u001b[0m\u001b[1;33m[\u001b[0m\u001b[1;34m'LAT'\u001b[0m\u001b[1;33m]\u001b[0m\u001b[1;33m.\u001b[0m\u001b[0mlast\u001b[0m\u001b[1;33m(\u001b[0m\u001b[1;33m)\u001b[0m\u001b[1;33m\u001b[0m\u001b[0m\n\u001b[0;32m      6\u001b[0m \u001b[1;31m# e = data1.groupby('MMSI2')['LAT'].quantile(.1)\u001b[0m\u001b[1;33m\u001b[0m\u001b[1;33m\u001b[0m\u001b[0m\n",
      "\u001b[1;32mC:\\tools\\Anaconda3\\lib\\site-packages\\pandas\\core\\groupby\\groupby.py\u001b[0m in \u001b[0;36m__getattr__\u001b[1;34m(self, attr)\u001b[0m\n\u001b[0;32m    763\u001b[0m \u001b[1;33m\u001b[0m\u001b[0m\n\u001b[0;32m    764\u001b[0m         raise AttributeError(\"%r object has no attribute %r\" %\n\u001b[1;32m--> 765\u001b[1;33m                              (type(self).__name__, attr))\n\u001b[0m\u001b[0;32m    766\u001b[0m \u001b[1;33m\u001b[0m\u001b[0m\n\u001b[0;32m    767\u001b[0m     @Substitution(klass='GroupBy',\n",
      "\u001b[1;31mAttributeError\u001b[0m: 'SeriesGroupBy' object has no attribute 'percentile'"
     ]
    }
   ],
   "source": [
    "# a = data1.groupby('MMSI2')[['LAT', 'LON']].var()\n",
    "# b = data1.groupby('MMSI2')[['LAT', 'LON']].mean()\n",
    "c = data1.groupby('MMSI2')['LAT'].first()\n",
    "e = data1.groupby('MMSI2')['LAT'].percentile(1)\n",
    "d = data1.groupby('MMSI2')['LAT'].last()\n",
    "# e = data1.groupby('MMSI2')['LAT'].quantile(.1)\n",
    "# f = data1.groupby('MMSI2')['LAT'].quantile(.2)\n",
    "# g = data1.groupby('MMSI2')['LAT'].quantile(.3)\n",
    "# h = data1.groupby('MMSI2')['LAT'].quantile(.4)\n",
    "# i = data1.groupby('MMSI2')['LAT'].quantile(.5)\n",
    "# j = data1.groupby('MMSI2')['LAT'].quantile(.6)\n",
    "# k = data1.groupby('MMSI2')['LAT'].quantile(.7)\n",
    "# l = data1.groupby('MMSI2')['LAT'].quantile(.8)\n",
    "# m = data1.groupby('MMSI2')['LAT'].quantile(.9)\n",
    "c2 = data1.groupby('MMSI2')['LON'].first()\n",
    "d2 = data1.groupby('MMSI2')['LON'].last()\n",
    "# e2 = data1.groupby('MMSI2')['LON'].quantile(.1)\n",
    "# f2 = data1.groupby('MMSI2')['LON'].quantile(.2)\n",
    "# g2 = data1.groupby('MMSI2')['LON'].quantile(.3)\n",
    "# h2 = data1.groupby('MMSI2')['LON'].quantile(.4)\n",
    "# i2 = data1.groupby('MMSI2')['LON'].quantile(.5)\n",
    "# j2 = data1.groupby('MMSI2')['LON'].quantile(.6)\n",
    "# k2 = data1.groupby('MMSI2')['LON'].quantile(.7)\n",
    "# l2 = data1.groupby('MMSI2')['LON'].quantile(.8)\n",
    "# m2 = data1.groupby('MMSI2')['LON'].quantile(.9)"
   ]
  },
  {
   "cell_type": "code",
   "execution_count": 509,
   "metadata": {
    "scrolled": true
   },
   "outputs": [
    {
     "data": {
      "text/plain": [
       "MMSI2\n",
       "209087000_10     30.6202\n",
       "209087000_4      19.0743\n",
       "209087000_8      19.0609\n",
       "209251000_20     47.5825\n",
       "209251000_31     33.7412\n",
       "209540000_49     35.6061\n",
       "209550000_20     22.5667\n",
       "209550000_59     22.3260\n",
       "209735000_42     25.1562\n",
       "210161000_11     34.6800\n",
       "210161000_12     33.7544\n",
       "210161000_13     33.7575\n",
       "210161000_14     33.7630\n",
       "210161000_21     33.7599\n",
       "210161000_22     33.7535\n",
       "210161000_23     33.7607\n",
       "210161000_24     33.7452\n",
       "210242000_14     33.7691\n",
       "210242000_22    -37.8498\n",
       "210242000_23     33.7688\n",
       "210242000_25    -37.8506\n",
       "210242000_26     33.7688\n",
       "210242000_30     33.7678\n",
       "210242000_31     33.7686\n",
       "210242000_33     33.7674\n",
       "210242000_35    -37.8726\n",
       "210296000_56     21.2725\n",
       "210562000_61    -33.0299\n",
       "210562000_62     19.0602\n",
       "210562000_65    -36.7073\n",
       "                  ...   \n",
       "636092489_29    -37.8571\n",
       "636092489_32    -37.6612\n",
       "636092489_33     33.7694\n",
       "636092489_34     37.7944\n",
       "636092489_36    -37.6601\n",
       "636092489_38     33.7629\n",
       "636092489_39     33.7678\n",
       "636092489_45     33.7679\n",
       "636092587_32     22.3265\n",
       "636092587_45     17.9450\n",
       "636092627_51     33.7520\n",
       "636092764_11    -37.0354\n",
       "636092786_4      19.0652\n",
       "636092792_17     25.1509\n",
       "636092792_18     19.0654\n",
       "636092793_1      35.0220\n",
       "636092793_12     31.8523\n",
       "636092793_17     31.8399\n",
       "636092793_23    -20.1912\n",
       "636092793_26    -33.0294\n",
       "636092793_5      31.8526\n",
       "636092793_6      30.5987\n",
       "636092835_8      35.0769\n",
       "636092848_9      19.0618\n",
       "725001409_121   -36.7360\n",
       "725001409_30    -36.6745\n",
       "725001409_60    -36.7365\n",
       "725001409_71    -20.1967\n",
       "725001409_72    -36.7364\n",
       "725001409_73    -20.1952\n",
       "Name: LAT, Length: 2156, dtype: float64"
      ]
     },
     "execution_count": 509,
     "metadata": {},
     "output_type": "execute_result"
    }
   ],
   "source": [
    "c"
   ]
  },
  {
   "cell_type": "code",
   "execution_count": 510,
   "metadata": {
    "scrolled": true
   },
   "outputs": [
    {
     "data": {
      "text/plain": [
       "MMSI2\n",
       "209087000_10     54.5285\n",
       "209087000_4      19.0743\n",
       "209087000_8      40.0013\n",
       "209251000_20     54.7830\n",
       "209251000_31     47.3119\n",
       "209540000_49     35.6061\n",
       "209550000_20     54.5877\n",
       "209550000_59     54.7079\n",
       "209735000_42     25.1566\n",
       "210161000_11     46.8170\n",
       "210161000_12     54.6549\n",
       "210161000_13     54.4347\n",
       "210161000_14     47.4538\n",
       "210161000_21     56.9781\n",
       "210161000_22     46.0215\n",
       "210161000_23     51.1253\n",
       "210161000_24     54.4507\n",
       "210242000_14     37.7968\n",
       "210242000_22     37.7967\n",
       "210242000_23     37.7968\n",
       "210242000_25     37.7967\n",
       "210242000_26     37.7975\n",
       "210242000_30     37.7941\n",
       "210242000_31     37.7962\n",
       "210242000_33     37.7938\n",
       "210242000_35     37.7946\n",
       "210296000_56     35.3837\n",
       "210562000_61     47.7879\n",
       "210562000_62     19.0602\n",
       "210562000_65    -17.4778\n",
       "                  ...   \n",
       "636092489_29     37.7957\n",
       "636092489_32     37.7870\n",
       "636092489_33     34.3611\n",
       "636092489_34     37.7944\n",
       "636092489_36     34.9410\n",
       "636092489_38     37.7941\n",
       "636092489_39     33.7678\n",
       "636092489_45     33.7679\n",
       "636092587_32     47.8364\n",
       "636092587_45     33.4858\n",
       "636092627_51     46.0427\n",
       "636092764_11     17.9452\n",
       "636092786_4      44.4124\n",
       "636092792_17     47.7187\n",
       "636092792_18     19.0654\n",
       "636092793_1      44.4464\n",
       "636092793_12     36.0037\n",
       "636092793_17     44.7810\n",
       "636092793_23    -20.1912\n",
       "636092793_26     25.3681\n",
       "636092793_5      44.4257\n",
       "636092793_6      36.0001\n",
       "636092835_8      55.0012\n",
       "636092848_9      19.0618\n",
       "725001409_121   -18.4812\n",
       "725001409_30    -18.4483\n",
       "725001409_60    -20.1965\n",
       "725001409_71    -20.1967\n",
       "725001409_72    -20.1983\n",
       "725001409_73    -18.4710\n",
       "Name: LAT, Length: 2156, dtype: float64"
      ]
     },
     "execution_count": 510,
     "metadata": {},
     "output_type": "execute_result"
    }
   ],
   "source": [
    "e"
   ]
  },
  {
   "cell_type": "code",
   "execution_count": 497,
   "metadata": {
    "scrolled": true
   },
   "outputs": [
    {
     "name": "stdout",
     "output_type": "stream",
     "text": [
      "0.0\n",
      "0.01\n",
      "0.02\n",
      "0.03\n",
      "0.04\n",
      "0.05\n",
      "0.06\n",
      "0.07\n",
      "0.08\n",
      "0.09\n",
      "0.1\n",
      "0.11\n",
      "0.12\n",
      "0.13\n",
      "0.14\n",
      "0.15\n",
      "0.16\n",
      "0.17\n",
      "0.18\n",
      "0.19\n",
      "0.2\n",
      "0.21\n",
      "0.22\n",
      "0.23\n",
      "0.24\n",
      "0.25\n",
      "0.26\n",
      "0.27\n",
      "0.28\n",
      "0.29\n",
      "0.3\n",
      "0.31\n",
      "0.32\n",
      "0.33\n",
      "0.34\n",
      "0.35\n",
      "0.36\n",
      "0.37\n",
      "0.38\n",
      "0.39\n",
      "0.4\n",
      "0.41\n",
      "0.42\n",
      "0.43\n",
      "0.44\n",
      "0.45\n",
      "0.46\n",
      "0.47\n",
      "0.48\n",
      "0.49\n",
      "0.5\n",
      "0.51\n",
      "0.52\n",
      "0.53\n",
      "0.54\n",
      "0.55\n",
      "0.56\n",
      "0.57\n",
      "0.58\n",
      "0.59\n",
      "0.6\n",
      "0.61\n",
      "0.62\n",
      "0.63\n",
      "0.64\n",
      "0.65\n",
      "0.66\n",
      "0.67\n",
      "0.68\n",
      "0.69\n",
      "0.7\n",
      "0.71\n",
      "0.72\n",
      "0.73\n",
      "0.74\n",
      "0.75\n",
      "0.76\n",
      "0.77\n",
      "0.78\n",
      "0.79\n",
      "0.8\n",
      "0.81\n",
      "0.82\n",
      "0.83\n",
      "0.84\n",
      "0.85\n",
      "0.86\n",
      "0.87\n",
      "0.88\n",
      "0.89\n",
      "0.9\n",
      "0.91\n",
      "0.92\n",
      "0.93\n",
      "0.94\n",
      "0.95\n",
      "0.96\n",
      "0.97\n",
      "0.98\n",
      "0.99\n",
      "1.0\n"
     ]
    }
   ],
   "source": [
    "for i in range(0, 101, 1):\n",
    "    print(i/100)"
   ]
  },
  {
   "cell_type": "code",
   "execution_count": 484,
   "metadata": {},
   "outputs": [],
   "source": [
    "# X = np.array(pd.concat([c,d,e,f,g,h,i,j,k,l,m,n], axis=1, join_axes=[data2.index]))\n",
    "# X = np.array(pd.concat([c,d,e,f,g,h,i,j,k,l,m,c2,d2,e2,f2,g2,h2,i2,j2,k2,l2,m2], axis = 1))\n",
    "X = np.array(pd.concat([c,d,c2,d2], axis = 1))\n",
    "kmeans = KMeans(n_clusters=2, random_state=0).fit(X)"
   ]
  },
  {
   "cell_type": "code",
   "execution_count": 485,
   "metadata": {
    "scrolled": true
   },
   "outputs": [],
   "source": [
    "data2 = pd.DataFrame({'MMSI2' : data2['MMSI2'].unique(), 'cluster' : kmeans.labels_})"
   ]
  },
  {
   "cell_type": "code",
   "execution_count": 486,
   "metadata": {
    "scrolled": true
   },
   "outputs": [],
   "source": [
    "data3 = pd.merge(data1, data2, how='left', on=['MMSI2'])"
   ]
  },
  {
   "cell_type": "code",
   "execution_count": 487,
   "metadata": {
    "scrolled": false
   },
   "outputs": [],
   "source": [
    "# plt.figure(figsize=(15, 10))\n",
    "# color_num = 50\n",
    "# plt.scatter(data3['LON'], data3['LAT'], c = data3['cluster'], cmap = plt.cm.get_cmap('rainbow', color_num), s = 0.1, marker='o')"
   ]
  },
  {
   "cell_type": "code",
   "execution_count": 488,
   "metadata": {},
   "outputs": [
    {
     "name": "stderr",
     "output_type": "stream",
     "text": [
      "C:\\tools\\Anaconda3\\lib\\site-packages\\matplotlib\\cbook\\deprecation.py:107: MatplotlibDeprecationWarning: Adding an axes using the same arguments as a previous axes currently reuses the earlier instance.  In a future version, a new instance will always be created and returned.  Meanwhile, this warning can be suppressed, and the future behavior ensured, by passing a unique label to each axes instance.\n",
      "  warnings.warn(message, mplDeprecation, stacklevel=1)\n"
     ]
    },
    {
     "data": {
      "image/png": "[encoded data removed]",
      "text/plain": [
       "<Figure size 1080x1080 with 2 Axes>"
      ]
     },
     "metadata": {},
     "output_type": "display_data"
    }
   ],
   "source": [
    "# colors = ['b', 'g', 'r', 'c', 'm', 'y', 'k']\n",
    "L = data3['cluster'].unique()\n",
    "\n",
    "plt.figure(figsize=(15, 15))\n",
    "for i, j in enumerate(L):\n",
    "    data_cluster = data3[data3['cluster'] == j][['MMSI2', 'LAT', 'LON']]\n",
    "    L2 = data_cluster['MMSI2'].unique()\n",
    "    \n",
    "    for k in L2:\n",
    "        plt.subplot(6, 5, i+1)\n",
    "        plt.plot(data_cluster[data_cluster['MMSI2'] == k]['LON'], \n",
    "                 data_cluster[data_cluster['MMSI2'] == k]['LAT'], \n",
    "                 'rs--', linewidth = .1, markersize = .1)\n",
    "\n",
    "plt.show()"
   ]
  },
  {
   "cell_type": "code",
   "execution_count": null,
   "metadata": {},
   "outputs": [],
   "source": []
  },
  {
   "cell_type": "code",
   "execution_count": null,
   "metadata": {},
   "outputs": [],
   "source": []
  },
  {
   "cell_type": "code",
   "execution_count": null,
   "metadata": {},
   "outputs": [],
   "source": []
  },
  {
   "cell_type": "markdown",
   "metadata": {},
   "source": [
    "# DBSCAN으로 outlier 제거"
   ]
  },
  {
   "cell_type": "code",
   "execution_count": null,
   "metadata": {},
   "outputs": [],
   "source": [
    "import collections"
   ]
  },
  {
   "cell_type": "code",
   "execution_count": 260,
   "metadata": {},
   "outputs": [],
   "source": [
    "data = pd.read_csv(\"C:/Users/renz/Downloads/hour_interval_out.csv\")\n",
    "data['LON'] = data['LON'].apply(lambda x : (x - 360) if x>0 else x )\n",
    "data1 = data"
   ]
  },
  {
   "cell_type": "code",
   "execution_count": 261,
   "metadata": {},
   "outputs": [],
   "source": [
    "X = data1[['MMSI2', 'LAT', 'LON']]"
   ]
  },
  {
   "cell_type": "code",
   "execution_count": 262,
   "metadata": {},
   "outputs": [],
   "source": [
    "MMSI2 = X['MMSI2'].unique()"
   ]
  },
  {
   "cell_type": "code",
   "execution_count": 258,
   "metadata": {},
   "outputs": [],
   "source": [
    "X1 = StandardScaler().fit_transform(X[X['MMSI2']==MMSI2[0]][['LAT', 'LON']])"
   ]
  },
  {
   "cell_type": "code",
   "execution_count": 259,
   "metadata": {},
   "outputs": [],
   "source": [
    "# Compute DBSCAN\n",
    "db = DBSCAN(eps=.5, min_samples=1).fit(X1)"
   ]
  },
  {
   "cell_type": "code",
   "execution_count": 263,
   "metadata": {},
   "outputs": [],
   "source": [
    "X = data1[['MMSI2', 'LAT', 'LON']]\n",
    "MMSI2 = X['MMSI2'].unique()\n",
    "L = []\n",
    "L1 = []\n",
    "\n",
    "for i in range(len(MMSI2)):\n",
    "    X1 = StandardScaler().fit_transform(X[X['MMSI2']==MMSI2[i]][['LAT', 'LON']])\n",
    "    db = DBSCAN(eps=.5, min_samples=1).fit(X1)\n",
    "    L.append(set(db.labels_))\n",
    "    L1.append(collections.Counter(db.labels_))"
   ]
  },
  {
   "cell_type": "code",
   "execution_count": 354,
   "metadata": {},
   "outputs": [],
   "source": [
    "A = pd.DataFrame({'MMSI2' : MMSI2, 'L' : L, 'L_counts' : L1})\n",
    "A = A[A['L'] != {0}]"
   ]
  },
  {
   "cell_type": "code",
   "execution_count": null,
   "metadata": {},
   "outputs": [],
   "source": []
  },
  {
   "cell_type": "code",
   "execution_count": 368,
   "metadata": {
    "scrolled": true
   },
   "outputs": [],
   "source": [
    "new_data = data[data['MMSI2'].apply(lambda x: x not in list(A['MMSI2']))]"
   ]
  },
  {
   "cell_type": "code",
   "execution_count": 371,
   "metadata": {},
   "outputs": [],
   "source": [
    "new_data.to_csv('C:/Users/renz/Downloads/new_data.csv', encoding='utf-8')"
   ]
  },
  {
   "cell_type": "code",
   "execution_count": null,
   "metadata": {},
   "outputs": [],
   "source": []
  },
  {
   "cell_type": "code",
   "execution_count": null,
   "metadata": {},
   "outputs": [],
   "source": []
  },
  {
   "cell_type": "code",
   "execution_count": null,
   "metadata": {},
   "outputs": [],
   "source": []
  },
  {
   "cell_type": "code",
   "execution_count": null,
   "metadata": {},
   "outputs": [],
   "source": []
  },
  {
   "cell_type": "code",
   "execution_count": 325,
   "metadata": {
    "scrolled": true
   },
   "outputs": [],
   "source": [
    "X1 = StandardScaler().fit_transform(X[X['MMSI2'] == '209550000_39'][['LAT', 'LON']])"
   ]
  },
  {
   "cell_type": "code",
   "execution_count": 326,
   "metadata": {},
   "outputs": [],
   "source": [
    "db = DBSCAN(eps=.5, min_samples=1).fit(X1)"
   ]
  },
  {
   "cell_type": "code",
   "execution_count": 327,
   "metadata": {},
   "outputs": [],
   "source": [
    "core_samples_mask = np.zeros_like(db.labels_, dtype=bool)\n",
    "core_samples_mask[db.core_sample_indices_] = True\n",
    "labels = db.labels_\n",
    "\n",
    "# Number of clusters in labels, ignoring noise if present.\n",
    "n_clusters_ = len(set(labels)) - (1 if -1 in labels else 0)\n",
    "n_noise_ = list(labels).count(-1)"
   ]
  },
  {
   "cell_type": "code",
   "execution_count": 328,
   "metadata": {},
   "outputs": [
    {
     "data": {
      "image/png": "[encoded data removed]",
      "text/plain": [
       "<Figure size 720x720 with 1 Axes>"
      ]
     },
     "metadata": {},
     "output_type": "display_data"
    }
   ],
   "source": [
    "# Black removed and is used for noise instead.\n",
    "unique_labels = set(labels)\n",
    "colors = [plt.cm.Spectral(each)\n",
    "          for each in np.linspace(0, 1, len(unique_labels))]\n",
    "\n",
    "plt.figure(figsize=(10, 10))\n",
    "for k, col in zip(unique_labels, colors):\n",
    "    if k == -1:\n",
    "        # Black used for noise.\n",
    "        col = [0, 0, 0, 1]\n",
    "\n",
    "    class_member_mask = (labels == k)\n",
    "\n",
    "    xy = X1[class_member_mask & core_samples_mask]\n",
    "    plt.plot(xy[:, 0], xy[:, 1], 'o', markerfacecolor=tuple(col), markeredgecolor='k', markersize=8)\n",
    "\n",
    "    xy = X1[class_member_mask & ~core_samples_mask]\n",
    "    plt.plot(xy[:, 0], xy[:, 1], 'o', markerfacecolor=tuple(col), markeredgecolor='k', markersize=8)\n",
    "\n",
    "plt.title('Estimated number of clusters: %d' % n_clusters_)\n",
    "plt.show()"
   ]
  },
  {
   "cell_type": "markdown",
   "metadata": {},
   "source": [
    "# 여기까지 DBSCAN"
   ]
  },
  {
   "cell_type": "code",
   "execution_count": null,
   "metadata": {},
   "outputs": [],
   "source": []
  },
  {
   "cell_type": "code",
   "execution_count": null,
   "metadata": {},
   "outputs": [],
   "source": []
  },
  {
   "cell_type": "code",
   "execution_count": null,
   "metadata": {},
   "outputs": [],
   "source": []
  },
  {
   "cell_type": "code",
   "execution_count": null,
   "metadata": {},
   "outputs": [],
   "source": []
  },
  {
   "cell_type": "code",
   "execution_count": null,
   "metadata": {},
   "outputs": [],
   "source": []
  },
  {
   "cell_type": "code",
   "execution_count": null,
   "metadata": {},
   "outputs": [],
   "source": []
  },
  {
   "cell_type": "code",
   "execution_count": null,
   "metadata": {},
   "outputs": [],
   "source": []
  },
  {
   "cell_type": "code",
   "execution_count": null,
   "metadata": {},
   "outputs": [],
   "source": []
  },
  {
   "cell_type": "code",
   "execution_count": null,
   "metadata": {},
   "outputs": [],
   "source": []
  },
  {
   "cell_type": "markdown",
   "metadata": {},
   "source": [
    "경로가 중간에 사라지는 백색지역이나, AIS데이터의 수집과정에서 손실 및 기타 어떠한 이유로 제거 되었을 때, 경로를 100% 파악할 수 없다.\n",
    "그러나 사후분포를 계산하여 경로를 복원할 수 있고, 도착시간을 더 정확하게 예측할 수 있다."
   ]
  }
 ],
 "metadata": {
  "kernelspec": {
   "display_name": "Python 3",
   "language": "python",
   "name": "python3"
  },
  "language_info": {
   "codemirror_mode": {
    "name": "ipython",
    "version": 3
   },
   "file_extension": ".py",
   "mimetype": "text/x-python",
   "name": "python",
   "nbconvert_exporter": "python",
   "pygments_lexer": "ipython3",
   "version": "3.6.5"
  }
 },
 "nbformat": 4,
 "nbformat_minor": 2
}
