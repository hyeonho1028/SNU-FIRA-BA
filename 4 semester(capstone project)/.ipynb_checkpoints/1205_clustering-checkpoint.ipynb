{
 "cells": [
  {
   "cell_type": "code",
   "execution_count": 2,
   "metadata": {},
   "outputs": [],
   "source": [
    "import pandas as pd\n",
    "import numpy as np\n",
    "import folium\n",
    "from sklearn.cluster import KMeans\n",
    "from math import *\n",
    "import matplotlib.pyplot as plt"
   ]
  },
  {
   "cell_type": "markdown",
   "metadata": {},
   "source": [
    "### 데이터 로드, longitude 태평양중심"
   ]
  },
  {
   "cell_type": "code",
   "execution_count": 652,
   "metadata": {},
   "outputs": [],
   "source": [
    "data = pd.read_csv('C:/Users/renz/Downloads/1205_data.csv')\n",
    "data['LON'] = data['LON'].apply(lambda x : (x - 360) if x>0 else x )"
   ]
  },
  {
   "cell_type": "markdown",
   "metadata": {},
   "source": [
    "### MMSI3 그룹화해서 개수 보기"
   ]
  },
  {
   "cell_type": "code",
   "execution_count": 191,
   "metadata": {
    "scrolled": true
   },
   "outputs": [
    {
     "data": {
      "text/plain": [
       "MMSI3\n",
       "209087000_4_1    141\n",
       "209087000_4_2     47\n",
       "209087000_8_2     48\n",
       "209087000_8_3     39\n",
       "209087000_8_5     94\n",
       "Name: MMSI, dtype: int64"
      ]
     },
     "execution_count": 191,
     "metadata": {},
     "output_type": "execute_result"
    }
   ],
   "source": [
    "data.groupby('MMSI3').count()['MMSI'].head()"
   ]
  },
  {
   "cell_type": "markdown",
   "metadata": {},
   "source": [
    "### MMSI3 기준으로 배가 몇개인지 확인"
   ]
  },
  {
   "cell_type": "code",
   "execution_count": 192,
   "metadata": {},
   "outputs": [
    {
     "data": {
      "text/plain": [
       "2783"
      ]
     },
     "execution_count": 192,
     "metadata": {},
     "output_type": "execute_result"
    }
   ],
   "source": [
    "len(data.groupby('MMSI3').count())"
   ]
  },
  {
   "cell_type": "markdown",
   "metadata": {},
   "source": [
    "##### 배 경로 시각화(간단 코드)"
   ]
  },
  {
   "cell_type": "code",
   "execution_count": 193,
   "metadata": {
    "collapsed": true
   },
   "outputs": [
    {
     "ename": "KeyError",
     "evalue": "'the label [0] is not in the [index]'",
     "output_type": "error",
     "traceback": [
      "\u001b[1;31m---------------------------------------------------------------------------\u001b[0m",
      "\u001b[1;31mKeyError\u001b[0m                                  Traceback (most recent call last)",
      "\u001b[1;32mC:\\tools\\Anaconda3\\lib\\site-packages\\pandas\\core\\indexing.py\u001b[0m in \u001b[0;36m_validate_key\u001b[1;34m(self, key, axis)\u001b[0m\n\u001b[0;32m   1789\u001b[0m                 \u001b[1;32mif\u001b[0m \u001b[1;32mnot\u001b[0m \u001b[0max\u001b[0m\u001b[1;33m.\u001b[0m\u001b[0mcontains\u001b[0m\u001b[1;33m(\u001b[0m\u001b[0mkey\u001b[0m\u001b[1;33m)\u001b[0m\u001b[1;33m:\u001b[0m\u001b[1;33m\u001b[0m\u001b[0m\n\u001b[1;32m-> 1790\u001b[1;33m                     \u001b[0merror\u001b[0m\u001b[1;33m(\u001b[0m\u001b[1;33m)\u001b[0m\u001b[1;33m\u001b[0m\u001b[0m\n\u001b[0m\u001b[0;32m   1791\u001b[0m             \u001b[1;32mexcept\u001b[0m \u001b[0mTypeError\u001b[0m \u001b[1;32mas\u001b[0m \u001b[0me\u001b[0m\u001b[1;33m:\u001b[0m\u001b[1;33m\u001b[0m\u001b[0m\n",
      "\u001b[1;32mC:\\tools\\Anaconda3\\lib\\site-packages\\pandas\\core\\indexing.py\u001b[0m in \u001b[0;36merror\u001b[1;34m()\u001b[0m\n\u001b[0;32m   1784\u001b[0m                                .format(key=key,\n\u001b[1;32m-> 1785\u001b[1;33m                                        axis=self.obj._get_axis_name(axis)))\n\u001b[0m\u001b[0;32m   1786\u001b[0m \u001b[1;33m\u001b[0m\u001b[0m\n",
      "\u001b[1;31mKeyError\u001b[0m: 'the label [0] is not in the [index]'",
      "\nDuring handling of the above exception, another exception occurred:\n",
      "\u001b[1;31mKeyError\u001b[0m                                  Traceback (most recent call last)",
      "\u001b[1;32m<ipython-input-193-370b321d626e>\u001b[0m in \u001b[0;36m<module>\u001b[1;34m()\u001b[0m\n\u001b[0;32m      1\u001b[0m \u001b[0mdata1\u001b[0m \u001b[1;33m=\u001b[0m \u001b[0mdata\u001b[0m\u001b[1;33m[\u001b[0m\u001b[0mdata\u001b[0m\u001b[1;33m[\u001b[0m\u001b[1;34m'MMSI3'\u001b[0m\u001b[1;33m]\u001b[0m\u001b[1;33m==\u001b[0m\u001b[1;34m'636092379_83_3'\u001b[0m\u001b[1;33m]\u001b[0m\u001b[1;33m\u001b[0m\u001b[0m\n\u001b[0;32m      2\u001b[0m \u001b[0mdata1\u001b[0m \u001b[1;33m=\u001b[0m \u001b[0mdata1\u001b[0m\u001b[1;33m.\u001b[0m\u001b[0mreset_index\u001b[0m\u001b[1;33m(\u001b[0m\u001b[1;33m)\u001b[0m\u001b[1;33m\u001b[0m\u001b[0m\n\u001b[1;32m----> 3\u001b[1;33m \u001b[0mm\u001b[0m \u001b[1;33m=\u001b[0m \u001b[0mfolium\u001b[0m\u001b[1;33m.\u001b[0m\u001b[0mMap\u001b[0m\u001b[1;33m(\u001b[0m\u001b[0mlocation\u001b[0m\u001b[1;33m=\u001b[0m\u001b[1;33m[\u001b[0m\u001b[0mdata1\u001b[0m\u001b[1;33m.\u001b[0m\u001b[0mloc\u001b[0m\u001b[1;33m[\u001b[0m\u001b[1;36m0\u001b[0m\u001b[1;33m,\u001b[0m\u001b[1;34m'LAT'\u001b[0m\u001b[1;33m]\u001b[0m\u001b[1;33m,\u001b[0m \u001b[0mdata1\u001b[0m\u001b[1;33m.\u001b[0m\u001b[0mloc\u001b[0m\u001b[1;33m[\u001b[0m\u001b[1;36m0\u001b[0m\u001b[1;33m,\u001b[0m\u001b[1;34m'LON'\u001b[0m\u001b[1;33m]\u001b[0m\u001b[1;33m]\u001b[0m\u001b[1;33m,\u001b[0m \u001b[0mzoom_start\u001b[0m\u001b[1;33m=\u001b[0m\u001b[1;36m1\u001b[0m\u001b[1;33m)\u001b[0m\u001b[1;33m\u001b[0m\u001b[0m\n\u001b[0m\u001b[0;32m      4\u001b[0m \u001b[1;32mfor\u001b[0m \u001b[0mi\u001b[0m \u001b[1;32min\u001b[0m \u001b[0mrange\u001b[0m\u001b[1;33m(\u001b[0m\u001b[0mdata1\u001b[0m\u001b[1;33m.\u001b[0m\u001b[0mshape\u001b[0m\u001b[1;33m[\u001b[0m\u001b[1;36m0\u001b[0m\u001b[1;33m]\u001b[0m\u001b[1;33m)\u001b[0m\u001b[1;33m:\u001b[0m\u001b[1;33m\u001b[0m\u001b[0m\n\u001b[0;32m      5\u001b[0m     \u001b[0mfolium\u001b[0m\u001b[1;33m.\u001b[0m\u001b[0mCircleMarker\u001b[0m\u001b[1;33m(\u001b[0m\u001b[0mlocation\u001b[0m\u001b[1;33m=\u001b[0m\u001b[1;33m[\u001b[0m\u001b[0mdata1\u001b[0m\u001b[1;33m.\u001b[0m\u001b[0mloc\u001b[0m\u001b[1;33m[\u001b[0m\u001b[0mi\u001b[0m\u001b[1;33m,\u001b[0m\u001b[1;34m'LAT'\u001b[0m\u001b[1;33m]\u001b[0m\u001b[1;33m,\u001b[0m \u001b[0mdata1\u001b[0m\u001b[1;33m.\u001b[0m\u001b[0mloc\u001b[0m\u001b[1;33m[\u001b[0m\u001b[0mi\u001b[0m\u001b[1;33m,\u001b[0m\u001b[1;34m'LON'\u001b[0m\u001b[1;33m]\u001b[0m\u001b[1;33m]\u001b[0m\u001b[1;33m,\u001b[0m \u001b[0mcolor\u001b[0m \u001b[1;33m=\u001b[0m \u001b[1;34m'red'\u001b[0m\u001b[1;33m,\u001b[0m \u001b[0mradius\u001b[0m \u001b[1;33m=\u001b[0m \u001b[1;36m0.05\u001b[0m\u001b[1;33m)\u001b[0m\u001b[1;33m.\u001b[0m\u001b[0madd_to\u001b[0m\u001b[1;33m(\u001b[0m\u001b[0mm\u001b[0m\u001b[1;33m)\u001b[0m\u001b[1;33m\u001b[0m\u001b[0m\n",
      "\u001b[1;32mC:\\tools\\Anaconda3\\lib\\site-packages\\pandas\\core\\indexing.py\u001b[0m in \u001b[0;36m__getitem__\u001b[1;34m(self, key)\u001b[0m\n\u001b[0;32m   1470\u001b[0m             \u001b[1;32mexcept\u001b[0m \u001b[1;33m(\u001b[0m\u001b[0mKeyError\u001b[0m\u001b[1;33m,\u001b[0m \u001b[0mIndexError\u001b[0m\u001b[1;33m)\u001b[0m\u001b[1;33m:\u001b[0m\u001b[1;33m\u001b[0m\u001b[0m\n\u001b[0;32m   1471\u001b[0m                 \u001b[1;32mpass\u001b[0m\u001b[1;33m\u001b[0m\u001b[0m\n\u001b[1;32m-> 1472\u001b[1;33m             \u001b[1;32mreturn\u001b[0m \u001b[0mself\u001b[0m\u001b[1;33m.\u001b[0m\u001b[0m_getitem_tuple\u001b[0m\u001b[1;33m(\u001b[0m\u001b[0mkey\u001b[0m\u001b[1;33m)\u001b[0m\u001b[1;33m\u001b[0m\u001b[0m\n\u001b[0m\u001b[0;32m   1473\u001b[0m         \u001b[1;32melse\u001b[0m\u001b[1;33m:\u001b[0m\u001b[1;33m\u001b[0m\u001b[0m\n\u001b[0;32m   1474\u001b[0m             \u001b[1;31m# we by definition only have the 0th axis\u001b[0m\u001b[1;33m\u001b[0m\u001b[1;33m\u001b[0m\u001b[0m\n",
      "\u001b[1;32mC:\\tools\\Anaconda3\\lib\\site-packages\\pandas\\core\\indexing.py\u001b[0m in \u001b[0;36m_getitem_tuple\u001b[1;34m(self, tup)\u001b[0m\n\u001b[0;32m    868\u001b[0m     \u001b[1;32mdef\u001b[0m \u001b[0m_getitem_tuple\u001b[0m\u001b[1;33m(\u001b[0m\u001b[0mself\u001b[0m\u001b[1;33m,\u001b[0m \u001b[0mtup\u001b[0m\u001b[1;33m)\u001b[0m\u001b[1;33m:\u001b[0m\u001b[1;33m\u001b[0m\u001b[0m\n\u001b[0;32m    869\u001b[0m         \u001b[1;32mtry\u001b[0m\u001b[1;33m:\u001b[0m\u001b[1;33m\u001b[0m\u001b[0m\n\u001b[1;32m--> 870\u001b[1;33m             \u001b[1;32mreturn\u001b[0m \u001b[0mself\u001b[0m\u001b[1;33m.\u001b[0m\u001b[0m_getitem_lowerdim\u001b[0m\u001b[1;33m(\u001b[0m\u001b[0mtup\u001b[0m\u001b[1;33m)\u001b[0m\u001b[1;33m\u001b[0m\u001b[0m\n\u001b[0m\u001b[0;32m    871\u001b[0m         \u001b[1;32mexcept\u001b[0m \u001b[0mIndexingError\u001b[0m\u001b[1;33m:\u001b[0m\u001b[1;33m\u001b[0m\u001b[0m\n\u001b[0;32m    872\u001b[0m             \u001b[1;32mpass\u001b[0m\u001b[1;33m\u001b[0m\u001b[0m\n",
      "\u001b[1;32mC:\\tools\\Anaconda3\\lib\\site-packages\\pandas\\core\\indexing.py\u001b[0m in \u001b[0;36m_getitem_lowerdim\u001b[1;34m(self, tup)\u001b[0m\n\u001b[0;32m    996\u001b[0m         \u001b[1;32mfor\u001b[0m \u001b[0mi\u001b[0m\u001b[1;33m,\u001b[0m \u001b[0mkey\u001b[0m \u001b[1;32min\u001b[0m \u001b[0menumerate\u001b[0m\u001b[1;33m(\u001b[0m\u001b[0mtup\u001b[0m\u001b[1;33m)\u001b[0m\u001b[1;33m:\u001b[0m\u001b[1;33m\u001b[0m\u001b[0m\n\u001b[0;32m    997\u001b[0m             \u001b[1;32mif\u001b[0m \u001b[0mis_label_like\u001b[0m\u001b[1;33m(\u001b[0m\u001b[0mkey\u001b[0m\u001b[1;33m)\u001b[0m \u001b[1;32mor\u001b[0m \u001b[0misinstance\u001b[0m\u001b[1;33m(\u001b[0m\u001b[0mkey\u001b[0m\u001b[1;33m,\u001b[0m \u001b[0mtuple\u001b[0m\u001b[1;33m)\u001b[0m\u001b[1;33m:\u001b[0m\u001b[1;33m\u001b[0m\u001b[0m\n\u001b[1;32m--> 998\u001b[1;33m                 \u001b[0msection\u001b[0m \u001b[1;33m=\u001b[0m \u001b[0mself\u001b[0m\u001b[1;33m.\u001b[0m\u001b[0m_getitem_axis\u001b[0m\u001b[1;33m(\u001b[0m\u001b[0mkey\u001b[0m\u001b[1;33m,\u001b[0m \u001b[0maxis\u001b[0m\u001b[1;33m=\u001b[0m\u001b[0mi\u001b[0m\u001b[1;33m)\u001b[0m\u001b[1;33m\u001b[0m\u001b[0m\n\u001b[0m\u001b[0;32m    999\u001b[0m \u001b[1;33m\u001b[0m\u001b[0m\n\u001b[0;32m   1000\u001b[0m                 \u001b[1;31m# we have yielded a scalar ?\u001b[0m\u001b[1;33m\u001b[0m\u001b[1;33m\u001b[0m\u001b[0m\n",
      "\u001b[1;32mC:\\tools\\Anaconda3\\lib\\site-packages\\pandas\\core\\indexing.py\u001b[0m in \u001b[0;36m_getitem_axis\u001b[1;34m(self, key, axis)\u001b[0m\n\u001b[0;32m   1909\u001b[0m \u001b[1;33m\u001b[0m\u001b[0m\n\u001b[0;32m   1910\u001b[0m         \u001b[1;31m# fall thru to straight lookup\u001b[0m\u001b[1;33m\u001b[0m\u001b[1;33m\u001b[0m\u001b[0m\n\u001b[1;32m-> 1911\u001b[1;33m         \u001b[0mself\u001b[0m\u001b[1;33m.\u001b[0m\u001b[0m_validate_key\u001b[0m\u001b[1;33m(\u001b[0m\u001b[0mkey\u001b[0m\u001b[1;33m,\u001b[0m \u001b[0maxis\u001b[0m\u001b[1;33m)\u001b[0m\u001b[1;33m\u001b[0m\u001b[0m\n\u001b[0m\u001b[0;32m   1912\u001b[0m         \u001b[1;32mreturn\u001b[0m \u001b[0mself\u001b[0m\u001b[1;33m.\u001b[0m\u001b[0m_get_label\u001b[0m\u001b[1;33m(\u001b[0m\u001b[0mkey\u001b[0m\u001b[1;33m,\u001b[0m \u001b[0maxis\u001b[0m\u001b[1;33m=\u001b[0m\u001b[0maxis\u001b[0m\u001b[1;33m)\u001b[0m\u001b[1;33m\u001b[0m\u001b[0m\n\u001b[0;32m   1913\u001b[0m \u001b[1;33m\u001b[0m\u001b[0m\n",
      "\u001b[1;32mC:\\tools\\Anaconda3\\lib\\site-packages\\pandas\\core\\indexing.py\u001b[0m in \u001b[0;36m_validate_key\u001b[1;34m(self, key, axis)\u001b[0m\n\u001b[0;32m   1796\u001b[0m                 \u001b[1;32mraise\u001b[0m\u001b[1;33m\u001b[0m\u001b[0m\n\u001b[0;32m   1797\u001b[0m             \u001b[1;32mexcept\u001b[0m\u001b[1;33m:\u001b[0m\u001b[1;33m\u001b[0m\u001b[0m\n\u001b[1;32m-> 1798\u001b[1;33m                 \u001b[0merror\u001b[0m\u001b[1;33m(\u001b[0m\u001b[1;33m)\u001b[0m\u001b[1;33m\u001b[0m\u001b[0m\n\u001b[0m\u001b[0;32m   1799\u001b[0m \u001b[1;33m\u001b[0m\u001b[0m\n\u001b[0;32m   1800\u001b[0m     \u001b[1;32mdef\u001b[0m \u001b[0m_is_scalar_access\u001b[0m\u001b[1;33m(\u001b[0m\u001b[0mself\u001b[0m\u001b[1;33m,\u001b[0m \u001b[0mkey\u001b[0m\u001b[1;33m)\u001b[0m\u001b[1;33m:\u001b[0m\u001b[1;33m\u001b[0m\u001b[0m\n",
      "\u001b[1;32mC:\\tools\\Anaconda3\\lib\\site-packages\\pandas\\core\\indexing.py\u001b[0m in \u001b[0;36merror\u001b[1;34m()\u001b[0m\n\u001b[0;32m   1783\u001b[0m                 raise KeyError(u\"the label [{key}] is not in the [{axis}]\"\n\u001b[0;32m   1784\u001b[0m                                .format(key=key,\n\u001b[1;32m-> 1785\u001b[1;33m                                        axis=self.obj._get_axis_name(axis)))\n\u001b[0m\u001b[0;32m   1786\u001b[0m \u001b[1;33m\u001b[0m\u001b[0m\n\u001b[0;32m   1787\u001b[0m             \u001b[1;32mtry\u001b[0m\u001b[1;33m:\u001b[0m\u001b[1;33m\u001b[0m\u001b[0m\n",
      "\u001b[1;31mKeyError\u001b[0m: 'the label [0] is not in the [index]'"
     ]
    }
   ],
   "source": [
    "data1 = data[data['MMSI3']=='636092379_83_3']\n",
    "data1 = data1.reset_index()\n",
    "m = folium.Map(location=[data1.loc[0,'LAT'], data1.loc[0,'LON']], zoom_start=1)\n",
    "for i in range(data1.shape[0]):\n",
    "    folium.CircleMarker(location=[data1.loc[i,'LAT'], data1.loc[i,'LON']], color = 'red', radius = 0.05).add_to(m)\n",
    "m"
   ]
  },
  {
   "cell_type": "markdown",
   "metadata": {},
   "source": [
    "### train, test set 나누기"
   ]
  },
  {
   "cell_type": "code",
   "execution_count": 659,
   "metadata": {
    "scrolled": true
   },
   "outputs": [],
   "source": [
    "test = pd.concat([data, pd.DataFrame({'ETA4':data['ETA3'].apply(lambda x: x[:7].replace('-', ''))})], axis = 1).groupby('MMSI3').first().reset_index()\n",
    "test2 = test[test['ETA4'].apply(lambda x: x in ['201808', '201807'])]\n",
    "test3 = data[data['MMSI3'].isin(test2['MMSI3'])]"
   ]
  },
  {
   "cell_type": "code",
   "execution_count": 661,
   "metadata": {},
   "outputs": [],
   "source": [
    "train = data[data.MMSI3.isin(test3.MMSI3) == False] "
   ]
  },
  {
   "cell_type": "code",
   "execution_count": 669,
   "metadata": {},
   "outputs": [],
   "source": [
    "data = train"
   ]
  },
  {
   "cell_type": "markdown",
   "metadata": {},
   "source": [
    "### 도착지점에 대하여...(가장 많은 도착지점은 어떤 항구인가?)"
   ]
  },
  {
   "cell_type": "markdown",
   "metadata": {},
   "source": [
    "##### 항구가져오기"
   ]
  },
  {
   "cell_type": "code",
   "execution_count": 670,
   "metadata": {},
   "outputs": [],
   "source": [
    "port = pd.read_csv('C:/Users/renz/Downloads/DATA/PORT_MERGE_out.csv')"
   ]
  },
  {
   "cell_type": "code",
   "execution_count": 671,
   "metadata": {},
   "outputs": [],
   "source": [
    "df1 = data.groupby('MMSI3').last()\n",
    "L2 = []\n",
    "for i,j,k in zip(df1.index, df1['LAT'], df1['LON']):\n",
    "    L1 = []\n",
    "    for l1, l2 in zip(port['LAT'], port['LON']):\n",
    "        R = 6373.0 \n",
    "        lat1 = radians(j) \n",
    "        lon1 = radians(k) \n",
    "        lat2 = radians(l1) \n",
    "        lon2 = radians(l2) \n",
    "        dlon = lon2 - lon1 \n",
    "        dlat = lat2 - lat1 \n",
    "        a = sin(dlat / 2)**2 + cos(lat1) * cos(lat2) * sin(dlon / 2)**2 \n",
    "        c = 2 * atan2(sqrt(a), sqrt(1 - a)) \n",
    "        distance = R * c\n",
    "        L1.append(distance)\n",
    "    L2.append([min(L1), port.iloc[L1.index(min(L1)),0], port.iloc[L1.index(min(L1)),1], port.iloc[L1.index(min(L1)),2]])"
   ]
  },
  {
   "cell_type": "markdown",
   "metadata": {},
   "source": [
    "##### 2828개의 ship, 옆에 LAT, LON 붙이기"
   ]
  },
  {
   "cell_type": "code",
   "execution_count": 689,
   "metadata": {},
   "outputs": [
    {
     "data": {
      "text/html": [
       "<div>\n",
       "<style scoped>\n",
       "    .dataframe tbody tr th:only-of-type {\n",
       "        vertical-align: middle;\n",
       "    }\n",
       "\n",
       "    .dataframe tbody tr th {\n",
       "        vertical-align: top;\n",
       "    }\n",
       "\n",
       "    .dataframe thead th {\n",
       "        text-align: right;\n",
       "    }\n",
       "</style>\n",
       "<table border=\"1\" class=\"dataframe\">\n",
       "  <thead>\n",
       "    <tr style=\"text-align: right;\">\n",
       "      <th></th>\n",
       "      <th>index</th>\n",
       "      <th>port_id</th>\n",
       "      <th>distance</th>\n",
       "      <th>LAT</th>\n",
       "      <th>LON</th>\n",
       "    </tr>\n",
       "  </thead>\n",
       "  <tbody>\n",
       "    <tr>\n",
       "      <th>0</th>\n",
       "      <td>89</td>\n",
       "      <td>USOAK</td>\n",
       "      <td>235</td>\n",
       "      <td>37.797840</td>\n",
       "      <td>-122.286404</td>\n",
       "    </tr>\n",
       "    <tr>\n",
       "      <th>1</th>\n",
       "      <td>63</td>\n",
       "      <td>KRPUS</td>\n",
       "      <td>136</td>\n",
       "      <td>35.101620</td>\n",
       "      <td>-230.963950</td>\n",
       "    </tr>\n",
       "    <tr>\n",
       "      <th>2</th>\n",
       "      <td>88</td>\n",
       "      <td>USLGB</td>\n",
       "      <td>122</td>\n",
       "      <td>33.754929</td>\n",
       "      <td>-118.214344</td>\n",
       "    </tr>\n",
       "    <tr>\n",
       "      <th>3</th>\n",
       "      <td>52</td>\n",
       "      <td>JPSHS</td>\n",
       "      <td>118</td>\n",
       "      <td>33.937665</td>\n",
       "      <td>-229.076200</td>\n",
       "    </tr>\n",
       "    <tr>\n",
       "      <th>4</th>\n",
       "      <td>68</td>\n",
       "      <td>MXZLO</td>\n",
       "      <td>83</td>\n",
       "      <td>19.077290</td>\n",
       "      <td>-104.322500</td>\n",
       "    </tr>\n",
       "    <tr>\n",
       "      <th>5</th>\n",
       "      <td>32</td>\n",
       "      <td>CNYTN</td>\n",
       "      <td>70</td>\n",
       "      <td>22.575000</td>\n",
       "      <td>-245.723499</td>\n",
       "    </tr>\n",
       "  </tbody>\n",
       "</table>\n",
       "</div>"
      ],
      "text/plain": [
       "   index port_id  distance        LAT         LON\n",
       "0     89   USOAK       235  37.797840 -122.286404\n",
       "1     63   KRPUS       136  35.101620 -230.963950\n",
       "2     88   USLGB       122  33.754929 -118.214344\n",
       "3     52   JPSHS       118  33.937665 -229.076200\n",
       "4     68   MXZLO        83  19.077290 -104.322500\n",
       "5     32   CNYTN        70  22.575000 -245.723499"
      ]
     },
     "execution_count": 689,
     "metadata": {},
     "output_type": "execute_result"
    }
   ],
   "source": [
    "port_count = pd.DataFrame(L2, columns = ['distance', 'port_id', 'LAT', 'LON']).reset_index(drop=True).groupby('port_id').agg({'distance':'count', 'LAT':'mean', 'LON':'mean'}).reset_index().sort_values(by='distance', ascending=False)\n",
    "df2 = port_count[port_count.port_id.isin(['USOAK', 'USLGB', 'KRPUS', 'JPSHS', 'MXZLO', 'CNYTN'])].reset_index(drop=False)\n",
    "df2"
   ]
  },
  {
   "cell_type": "markdown",
   "metadata": {},
   "source": [
    "### 도착지(어떤 항구)를 기준으로 5km이내 모든 경로 가져오기"
   ]
  },
  {
   "cell_type": "code",
   "execution_count": 693,
   "metadata": {},
   "outputs": [],
   "source": [
    "def port_5km(data, lat, lon):\n",
    "    data1 = data.groupby(['MMSI3']).last()\n",
    "    L1 = []\n",
    "    \n",
    "    for i,j,k in zip(data1.index, data1['LAT'], data1['LON']):\n",
    "        R = 6373.0 \n",
    "        lat1 = radians(j) \n",
    "        lon1 = radians(k) \n",
    "        lat2 = radians(lat) \n",
    "        lon2 = radians(lon)\n",
    "        dlon = lon2 - lon1 \n",
    "        dlat = lat2 - lat1 \n",
    "        a = sin(dlat / 2)**2 + cos(lat1) * cos(lat2) * sin(dlon / 2)**2 \n",
    "        c = 2 * atan2(sqrt(a), sqrt(1 - a)) \n",
    "        distance = R * c\n",
    "        L1.append(distance)\n",
    "\n",
    "    df1 = pd.DataFrame(list(zip(data1.index, L1)), columns = ['MMSI3', 'distance'])\n",
    "    df2 = df1[df1['distance'] <= 5]['MMSI3'].tolist()\n",
    "    df3 = data[data['MMSI3'].isin(df2)].reset_index(drop=True)\n",
    "    \n",
    "    return df3"
   ]
  },
  {
   "cell_type": "code",
   "execution_count": 1106,
   "metadata": {
    "scrolled": true
   },
   "outputs": [],
   "source": [
    "# 필요한 항구 정보를 넣자.\n",
    "port_id = 'MXZLO'\n",
    "port_ais = port_5km(data=data, lat=df2.loc[df2.port_id.tolist().index(port_id), 'LAT'], lon=df2.loc[df2.port_id.tolist().index(port_id), 'LON'])\n",
    "# port_ais"
   ]
  },
  {
   "cell_type": "markdown",
   "metadata": {},
   "source": [
    "### port_ais를 이용하여 10분위 수 가져오기"
   ]
  },
  {
   "cell_type": "code",
   "execution_count": 695,
   "metadata": {},
   "outputs": [],
   "source": [
    "def ten_number(data):\n",
    "    L1 = list()\n",
    "    for i, j in data.groupby('MMSI3').agg({'MMSI3': 'unique', 'MMSI': 'count'}).reset_index(drop=True).apply(lambda x: (x.MMSI3[0], x.MMSI), axis=1).tolist():\n",
    "        for k in range(0, 11, 1):\n",
    "            k = k/10\n",
    "            df1 = data[data['MMSI3'] == i][['MMSI3', 'LAT', 'LON']].reset_index()\n",
    "            \n",
    "            if k == 0:\n",
    "                L2 = list()\n",
    "                L2.extend(list(df1[['MMSI3', 'LAT', 'LON']].iloc[0, :]))\n",
    "            elif 0 < k < 1:\n",
    "                L2.extend(list(df1[['LAT', 'LON']].iloc[int(round(j*k)), :]))\n",
    "            else:\n",
    "                L2.extend(list(df1[['LAT', 'LON']].iloc[-1, :]))\n",
    "        L1.append(L2)\n",
    "\n",
    "    L2 = pd.DataFrame(L1)\n",
    "    \n",
    "    \n",
    "    if pd.isnull(L2).sum().sum() != 0:\n",
    "        print('exist null...!!!!!')\n",
    "    \n",
    "    return L2"
   ]
  },
  {
   "cell_type": "code",
   "execution_count": 1107,
   "metadata": {
    "scrolled": true
   },
   "outputs": [],
   "source": [
    "df3 = ten_number(port_ais)\n",
    "# df3"
   ]
  },
  {
   "cell_type": "markdown",
   "metadata": {},
   "source": [
    "### k means clustring(계층적으로....)"
   ]
  },
  {
   "cell_type": "code",
   "execution_count": 1108,
   "metadata": {},
   "outputs": [],
   "source": [
    "def visualization(data, sorted_L, i):\n",
    "    print(i)\n",
    "    data3 = data\n",
    "    L = sorted_L\n",
    "    for i, j in enumerate(L):\n",
    "        data_cluster = data3[np.array(data3.iloc[:,-1:]).tolist() == j][['MMSI3', 'LAT', 'LON']]\n",
    "        L2 = data_cluster['MMSI3'].unique()\n",
    "        for k in L2:\n",
    "                plt.subplot(1, 2, i+1)\n",
    "                plt.plot(data_cluster[data_cluster['MMSI3'] == k]['LON'], data_cluster[data_cluster['MMSI3'] == k]['LAT'], \n",
    "                         'rs--', linewidth = .1, markersize = .1)\n",
    "    \n",
    "    return plt.show()"
   ]
  },
  {
   "cell_type": "code",
   "execution_count": 1109,
   "metadata": {},
   "outputs": [],
   "source": [
    "def mean_test(data):\n",
    "    mean = data.describe().loc['mean',:]\n",
    "\n",
    "    L = list()\n",
    "    for i,j in zip(mean, data.columns):\n",
    "        sum = 0\n",
    "        for k in data.index:\n",
    "#             sum = sum + (i-data[j][k])**2\n",
    "            sum = sum + abs(i-data[j][k])\n",
    "        L.append(round(sum,2))\n",
    "    L1 = np.mean(L)\n",
    "    \n",
    "    return L1"
   ]
  },
  {
   "cell_type": "code",
   "execution_count": 1110,
   "metadata": {},
   "outputs": [],
   "source": [
    "def deepen(data, ten_number_data):\n",
    "    data3 = data\n",
    "    \n",
    "    data_depth2_1 = data3[data3['cluster']==0].reset_index(drop=True)\n",
    "    data_depth2_2 = data3[data3['cluster']==1].reset_index(drop=True)\n",
    "\n",
    "    X_depth2_1 = np.array(ten_number_data[ten_number_data[0].isin(data_depth2_1['MMSI3'].unique())].iloc[:,1:])\n",
    "    X_depth2_2 = np.array(ten_number_data[ten_number_data[0].isin(data_depth2_2['MMSI3'].unique())].iloc[:,1:])\n",
    "\n",
    "    try:\n",
    "#         df1 = pd.DataFrame(ten_number_data[ten_number_data[0].isin(data_depth2_1['MMSI3'].unique())])\n",
    "#         mean_result = mean_test(data=df1.groupby([0]).mean())\n",
    "#         if mean_result < 25:\n",
    "        kmeans_depth2_1 = KMeans(n_clusters=2, random_state=0).fit(X_depth2_1)\n",
    "        del data_depth2_1['cluster']\n",
    "        depth2_1 = pd.DataFrame({'MMSI3' : ten_number_data[ten_number_data[0].isin(data_depth2_1['MMSI3'].unique())].iloc[:,0].tolist(), 'cluster' : list(kmeans_depth2_1.labels_)})\n",
    "        depth2_1_mg = pd.merge(data_depth2_1, depth2_1, how='left', on=['MMSI3'])\n",
    "    except:\n",
    "        pass\n",
    "\n",
    "    try:\n",
    "#         df2 = pd.DataFrame(ten_number_data[ten_number_data[0].isin(data_depth2_2['MMSI3'].unique())])\n",
    "#         mean_test(data=df2.groupby([0]).mean())\n",
    "#         mean_result = mean_test(data=df1.groupby([0]).mean())\n",
    "#         if mean_reslut < 25:\n",
    "        kmeans_depth2_2 = KMeans(n_clusters=2, random_state=0).fit(X_depth2_2)\n",
    "        del data_depth2_2['cluster']\n",
    "        depth2_2 = pd.DataFrame({'MMSI3' : ten_number_data[ten_number_data[0].isin(data_depth2_2['MMSI3'].unique())].iloc[:,0].tolist(), 'cluster' : list(kmeans_depth2_2.labels_)})\n",
    "        depth2_2_mg = pd.merge(data_depth2_2, depth2_2, how='left', on=['MMSI3'])    \n",
    "    except:\n",
    "        pass\n",
    "\n",
    "    try:\n",
    "        return depth2_1_mg, depth2_2_mg\n",
    "    except:\n",
    "        try:\n",
    "            return depth2_1_mg\n",
    "        except:\n",
    "            try:\n",
    "                return depth2_2_mg\n",
    "            except:\n",
    "                pass"
   ]
  },
  {
   "cell_type": "code",
   "execution_count": 1111,
   "metadata": {},
   "outputs": [],
   "source": [
    "def kmeans_clustering(port_ais_data, ten_number_data):\n",
    "    df1 = port_ais_data\n",
    "    data22 = ten_number_data.iloc[:,1:]\n",
    "    \n",
    "    df2 = pd.DataFrame(ten_number_data[ten_number_data[0].isin(df1['MMSI3'].unique())])\n",
    "    mean_test(data=df2.groupby([0]).mean())\n",
    "    \n",
    "    \n",
    "    kmeans = KMeans(n_clusters=2, random_state=0).fit(np.array(data22))\n",
    "\n",
    "    data2 = pd.DataFrame({'MMSI3' : ten_number_data.loc[:,0].tolist(), 'cluster' : list(kmeans.labels_)})\n",
    "    data3 = pd.merge(df1, data2, how='left', on=['MMSI3'])\n",
    "    \n",
    "    L = sorted(data3['cluster'].unique())\n",
    "    \n",
    "    plt.figure(figsize=(5, 2))\n",
    "    # DEPTH 1\n",
    "    visualization(data=data3, sorted_L=L, i='Depth 1')\n",
    "    \n",
    "    \n",
    "    # DEPTH 2\n",
    "    depth2_1_mg, depth2_2_mg = deepen(data=data3, ten_number_data=ten_number_data)\n",
    "    plt.figure(figsize=(3, 2))\n",
    "    visualization(data=depth2_1_mg, sorted_L=sorted(np.unique(depth2_1_mg.iloc[:,-1:])), i='Depth2-1')\n",
    "    plt.figure(figsize=(3, 2))\n",
    "    visualization(data=depth2_2_mg, sorted_L=sorted(np.unique(depth2_2_mg.iloc[:,-1:])), i='Depth2-2')\n",
    "\n",
    "    \n",
    "    # DEPTH 3\n",
    "    depth3_1_mg, depth3_2_mg = deepen(data=depth2_1_mg, ten_number_data=ten_number_data)\n",
    "    plt.figure(figsize=(2, 1))\n",
    "    visualization(data=depth3_1_mg, sorted_L=sorted(np.unique(depth3_1_mg.iloc[:,-1:])), i='Depth3-1')\n",
    "    plt.figure(figsize=(2, 1))\n",
    "    visualization(data=depth3_2_mg, sorted_L=sorted(np.unique(depth3_2_mg.iloc[:,-1:])), i='Depth3-2')\n",
    "    \n",
    "    \n",
    "    try:\n",
    "        depth3_3_mg, depth3_4_mg = deepen(data=depth2_2_mg, ten_number_data=ten_number_data)\n",
    "        plt.figure(figsize=(2, 1))\n",
    "        visualization(data=depth3_3_mg, sorted_L=sorted(np.unique(depth3_3_mg.iloc[:,-1:])), i='Depth3-3')\n",
    "        plt.figure(figsize=(2, 1))\n",
    "        visualization(data=depth3_4_mg, sorted_L=sorted(np.unique(depth3_4_mg.iloc[:,-1:])), i='Depth3-4')\n",
    "    except:\n",
    "        try:\n",
    "            depth3_3_mg = deepen(data=depth2_2_mg, ten_number_data=ten_number_data)\n",
    "            plt.figure(figsize=(2, 1))\n",
    "            visualization(data=depth3_3_mg, sorted_L=sorted(np.unique(depth3_3_mg.iloc[:,-1:])), i='Depth3-3')\n",
    "        except:\n",
    "            print('군집이 더 이상 나눠지지 않습니다.')\n",
    "            try:\n",
    "                depth3_4_mg = deepen(data=depth2_2_mg, ten_number_data=ten_number_data)\n",
    "                plt.figure(figsize=(2, 1))\n",
    "                visualization(data=depth3_4_mg, sorted_L=sorted(np.unique(depth3_4_mg.iloc[:,-1:])), i='Depth3-4')\n",
    "            except:\n",
    "                print('군집이 더 이상 나눠지지 않습니다.')\n",
    "    \n",
    "    return"
   ]
  },
  {
   "cell_type": "code",
   "execution_count": 1112,
   "metadata": {
    "scrolled": false
   },
   "outputs": [
    {
     "name": "stdout",
     "output_type": "stream",
     "text": [
      "Depth 1\n"
     ]
    },
    {
     "name": "stderr",
     "output_type": "stream",
     "text": [
      "C:\\tools\\Anaconda3\\lib\\site-packages\\matplotlib\\cbook\\deprecation.py:107: MatplotlibDeprecationWarning: Adding an axes using the same arguments as a previous axes currently reuses the earlier instance.  In a future version, a new instance will always be created and returned.  Meanwhile, this warning can be suppressed, and the future behavior ensured, by passing a unique label to each axes instance.\n",
      "  warnings.warn(message, mplDeprecation, stacklevel=1)\n"
     ]
    },
    {
     "data": {
      "image/png": "[encoded data removed]",
      "text/plain": [
       "<Figure size 360x144 with 2 Axes>"
      ]
     },
     "metadata": {},
     "output_type": "display_data"
    },
    {
     "name": "stdout",
     "output_type": "stream",
     "text": [
      "군집이 더이상 나눠지지 않는다.\n",
      "군집이 더이상 나눠지지 않는다.\n",
      "뎁스3 군집 ㄴㄴ\n",
      "뎁스3 군집 ㄴㄴ\n",
      "군집이 더 이상 나눠지지 않습니다.\n",
      "군집이 더 이상 나눠지지 않습니다.\n"
     ]
    },
    {
     "data": {
      "text/plain": [
       "<Figure size 216x144 with 0 Axes>"
      ]
     },
     "metadata": {},
     "output_type": "display_data"
    },
    {
     "data": {
      "text/plain": [
       "<Figure size 216x144 with 0 Axes>"
      ]
     },
     "metadata": {},
     "output_type": "display_data"
    }
   ],
   "source": [
    "kmeans_clustering(port_ais_data=port_ais, ten_number_data=df3)"
   ]
  },
  {
   "cell_type": "code",
   "execution_count": null,
   "metadata": {},
   "outputs": [],
   "source": []
  },
  {
   "cell_type": "code",
   "execution_count": null,
   "metadata": {},
   "outputs": [],
   "source": []
  },
  {
   "cell_type": "code",
   "execution_count": null,
   "metadata": {},
   "outputs": [],
   "source": []
  },
  {
   "cell_type": "code",
   "execution_count": null,
   "metadata": {},
   "outputs": [],
   "source": []
  },
  {
   "cell_type": "code",
   "execution_count": null,
   "metadata": {},
   "outputs": [],
   "source": []
  },
  {
   "cell_type": "code",
   "execution_count": null,
   "metadata": {},
   "outputs": [],
   "source": []
  },
  {
   "cell_type": "code",
   "execution_count": null,
   "metadata": {},
   "outputs": [],
   "source": []
  },
  {
   "cell_type": "code",
   "execution_count": null,
   "metadata": {},
   "outputs": [],
   "source": []
  },
  {
   "cell_type": "code",
   "execution_count": null,
   "metadata": {},
   "outputs": [],
   "source": [
    "df1 = data[data['MMSI3'].apply(lambda x: x in list(L11[0]))]\n",
    "data10 = L11.iloc[:, 1:]\n",
    "data2 = L11[0]\n",
    "X = np.array(data10)\n",
    "kmeans = KMeans(n_clusters=2, random_state=0).fit(X)\n",
    "data2 = pd.DataFrame({'MMSI3' : data2, 'cluster' : list(kmeans.labels_)})\n",
    "data3 = pd.merge(df1, data2, how='left', on=['MMSI3'])\n",
    "# colors = ['b', 'g', 'r', 'c', 'm', 'y', 'k']\n",
    "L = sorted(data3['cluster'].unique())\n",
    "plt.figure(figsize=(15, 15))\n",
    "for i, j in enumerate(L):\n",
    "    data_cluster = data3[data3['cluster'] == j][['MMSI3', 'LAT', 'LON']]\n",
    "    L2 = data_cluster['MMSI3'].unique()\n",
    "    for k in L2:\n",
    "        plt.subplot(3, 2, i+1)\n",
    "        plt.plot(data_cluster[data_cluster['MMSI3'] == k]['LON'], \n",
    "                 data_cluster[data_cluster['MMSI3'] == k]['LAT'], \n",
    "                 'rs--', linewidth = .1, markersize = .1)\n",
    "plt.show()"
   ]
  },
  {
   "cell_type": "code",
   "execution_count": null,
   "metadata": {},
   "outputs": [],
   "source": [
    "L1 = L1[L1[0].isin(list(data2[data2['cluster']==0]['MMSI3']))]\n",
    "list(data2[data2['cluster']==0]['MMSI3'])\n",
    "df5 = pd.concat([L1, pd.DataFrame(kmeans.labels_, columns = ['cluster'])], axis=1)\n",
    "df6 = data[data['MMSI3'].apply(lambda x: x in list(df5[df5['cluster']==1][0]))]\n",
    "df6 = data[data['MMSI3'].isin(list(df5[df5['cluster']==1][0]))]\n",
    "df6"
   ]
  }
 ],
 "metadata": {
  "kernelspec": {
   "display_name": "Python 3",
   "language": "python",
   "name": "python3"
  },
  "language_info": {
   "codemirror_mode": {
    "name": "ipython",
    "version": 3
   },
   "file_extension": ".py",
   "mimetype": "text/x-python",
   "name": "python",
   "nbconvert_exporter": "python",
   "pygments_lexer": "ipython3",
   "version": "3.6.5"
  }
 },
 "nbformat": 4,
 "nbformat_minor": 2
}
