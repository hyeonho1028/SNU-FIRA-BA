{
 "cells": [
  {
   "cell_type": "code",
   "execution_count": null,
   "metadata": {},
   "outputs": [],
   "source": [
    "data = pd.read_csv('C:/Users/renz/Desktop/data.csv')  "
   ]
  },
  {
   "cell_type": "code",
   "execution_count": null,
   "metadata": {},
   "outputs": [],
   "source": [
    "def Y_Value(x) : \n",
    "    x['ETA'] = x['ETA'].apply(lambda x : datetime.datetime.strptime(x,\"%Y-%m-%d %H:%M:%S\"))\n",
    "    lastTime = x.groupby('MMSI3').last()[['ETA']].reset_index()\n",
    "    lastTime.columns = ['MMSI3','LAST_ETA']\n",
    "    x = pd.merge(data , lastTime , on = 'MMSI3')\n",
    "    x['y_value'] = (x['LAST_ETA'] - x['ETA']) /np.timedelta64(1, 'h')\n",
    "    return x"
   ]
  }
 ],
 "metadata": {
  "kernelspec": {
   "display_name": "Python 3",
   "language": "python",
   "name": "python3"
  },
  "language_info": {
   "codemirror_mode": {
    "name": "ipython",
    "version": 3
   },
   "file_extension": ".py",
   "mimetype": "text/x-python",
   "name": "python",
   "nbconvert_exporter": "python",
   "pygments_lexer": "ipython3",
   "version": "3.6.5"
  }
 },
 "nbformat": 4,
 "nbformat_minor": 2
}
