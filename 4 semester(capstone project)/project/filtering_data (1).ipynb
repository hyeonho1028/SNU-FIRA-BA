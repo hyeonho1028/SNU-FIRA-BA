{
 "cells": [
  {
   "cell_type": "markdown",
   "metadata": {},
   "source": [
    "### auto clustering of k-means"
   ]
  },
  {
   "cell_type": "code",
   "execution_count": 677,
   "metadata": {},
   "outputs": [],
   "source": [
    "def port_5km(data, lat, lon):\n",
    "    '''\n",
    "    port 좌표와 data lon, lat를 이용하여 거리계산\n",
    "    '''\n",
    "    data1 = data.groupby(['MMSI']).last()\n",
    "    L1 = []\n",
    "    \n",
    "    for i,j,k in zip(data1.index, data1['LAT'], data1['LON']):\n",
    "        R = 6373.0 \n",
    "        lat1 = radians(j) \n",
    "        lon1 = radians(k) \n",
    "        lat2 = radians(lat) \n",
    "        lon2 = radians(lon)\n",
    "        dlon = lon2 - lon1 \n",
    "        dlat = lat2 - lat1 \n",
    "        a = sin(dlat / 2)**2 + cos(lat1) * cos(lat2) * sin(dlon / 2)**2 \n",
    "        c = 2 * atan2(sqrt(a), sqrt(1 - a)) \n",
    "        distance = R * c\n",
    "        L1.append(distance)\n",
    "\n",
    "    df1 = pd.DataFrame(list(zip(data1.index, L1)), columns = ['MMSI', 'distance'])\n",
    "    df2 = df1[df1['distance'] <= 5]['MMSI'].tolist()\n",
    "    df3 = data[data['MMSI'].isin(df2)].reset_index(drop=True)\n",
    "    \n",
    "    return df3"
   ]
  },
  {
   "cell_type": "code",
   "execution_count": 864,
   "metadata": {},
   "outputs": [],
   "source": [
    "def representative_value(data):\n",
    "    '''\n",
    "    representative value 추출 / 출발점, 도착점, 9개의 대푯값 추출\n",
    "    y_value가 있으면, else문 : y_value도 같이 추출한다.\n",
    "    '''\n",
    "    if 'y_value' not in data.columns:\n",
    "        L1 = list()\n",
    "        for i, j in data.groupby('MMSI').agg({'MMSI': 'unique', 'SPEED': 'count'}).reset_index(drop=True).apply(lambda x: (x['MMSI'][0], x['SPEED']), axis=1).tolist():\n",
    "            for k in range(0, 11):\n",
    "                k = k/10\n",
    "                df1 = data[data['MMSI'] == i][['MMSI', 'LAT', 'LON']].reset_index()\n",
    "\n",
    "                if k == 0:\n",
    "                    L2 = list()\n",
    "                    L2.extend(list(df1[['MMSI', 'LAT', 'LON']].iloc[0, :]))\n",
    "                    \n",
    "                elif 0 < k < 1:\n",
    "                    L2.extend(list(df1[['LAT', 'LON']].iloc[int(round(j*k)), :]))\n",
    "\n",
    "                else:\n",
    "                    L2.extend(list(df1[['LAT', 'LON']].iloc[-1, :]))\n",
    "                    \n",
    "            L1.append(L2)\n",
    "\n",
    "        df = pd.DataFrame(L1)\n",
    "        \n",
    "        a = [['MMSI', 'Start_LAT', 'Start_LON'], chain.from_iterable([['rpst_value_LAT'+str(i), 'rpst_value_LON'+str(i)] for i in range(1,10)]), ['End_LAT', 'End_LON']]\n",
    "        a = list(chain.from_iterable(a))\n",
    "        \n",
    "        df.columns = a\n",
    "        \n",
    "        \n",
    "        # LAT weighted *2\n",
    "        df[df.columns[['LAT' in i for i in df.columns]]] = df[df.columns[['LAT' in i for i in df.columns]]]*2\n",
    "        df.iloc[:, 1:7] = df.iloc[:, 1:7]*3\n",
    "        \n",
    "        return df\n",
    "\n",
    "    else:\n",
    "        L1 = list()\n",
    "        for i, j in data.groupby('MMSI').agg({'MMSI': 'unique', 'SPEED': 'count'}).reset_index(drop=True).apply(lambda x: (x['MMSI'][0], x['SPEED']), axis=1).tolist():\n",
    "            for k in range(0, 11, 1):\n",
    "                k = k/10\n",
    "                df1 = data[data['MMSI'] == i][['MMSI', 'LAT', 'LON', 'y_value']].reset_index()\n",
    "\n",
    "                if k == 0:\n",
    "                    L2 = list()\n",
    "                    L2.extend(list(df1[['MMSI', 'LAT', 'LON', 'y_value']].iloc[0, :]))\n",
    "                elif 0 < k < 1:\n",
    "                    L2.extend(list(df1[['LAT', 'LON', 'y_value']].iloc[int(round(j*k)), :]))\n",
    "                else:\n",
    "                    L2.extend(list(df1[['LAT', 'LON']].iloc[-1, :]))\n",
    "            L1.append(L2)\n",
    "\n",
    "        df = pd.DataFrame(L1)\n",
    "\n",
    "#         df.columns = ['MMSI', 'Start_LAT', 'Start_LON', 'rpst_value_LAT1', 'rpst_value_LON1', 'rpst_value_LAT2', 'rpst_value_LON2',\n",
    "#                      'rpst_value_LAT3', 'rpst_value_LON3', 'rpst_value_LAT4', 'rpst_value_LON4', 'rpst_value_LAT5', 'rpst_value_LON5',\n",
    "#                      'rpst_value_LAT6', 'rpst_value_LON6', 'rpst_value_LAT7', 'rpst_value_LON7', 'rpst_value_LAT8', 'rpst_value_LON8',\n",
    "#                      'rpst_value_LA9', 'rpst_value_LON9', 'End_LAT', 'End_LON']\n",
    "    \n",
    "    \n",
    "    \n",
    "        return df"
   ]
  },
  {
   "cell_type": "code",
   "execution_count": 865,
   "metadata": {},
   "outputs": [],
   "source": [
    "df1 = pd.read_csv('../../Downloads/clustering_2.csv')\n",
    "# df1 = df1[df1['MMSI']!='477067900_26_11'].reset_index()"
   ]
  },
  {
   "cell_type": "code",
   "execution_count": 866,
   "metadata": {},
   "outputs": [],
   "source": [
    "from itertools import chain\n",
    "from sklearn.cluster import KMeans\n",
    "import copy\n",
    "import pandas as pd\n",
    "import numpy as np\n",
    "from math import *"
   ]
  },
  {
   "cell_type": "code",
   "execution_count": 867,
   "metadata": {
    "scrolled": true
   },
   "outputs": [],
   "source": [
    "# long beach location\n",
    "df2 = port_5km(df1, 33.754929, -118.214344)\n",
    "df3 = representative_value(df2)"
   ]
  },
  {
   "cell_type": "code",
   "execution_count": 868,
   "metadata": {},
   "outputs": [],
   "source": [
    "df4 = pd.concat([df3[['MMSI']], pd.DataFrame(df3.iloc[:, 1:])], axis=1)\n",
    "df4.columns = df3.columns"
   ]
  },
  {
   "cell_type": "code",
   "execution_count": 869,
   "metadata": {},
   "outputs": [],
   "source": [
    "def users_kmeans(data, cluster_name, mse):\n",
    "    \n",
    "    if data.shape[0] == 1:\n",
    "        data[cluster_name] = 2\n",
    "        return data\n",
    "\n",
    "    elif np.mean([round(np.mean([i**2 for i in (data.reset_index(drop=True).iloc[:, 1:].loc[i,] - data.reset_index(drop=True).iloc[:, 1:].describe().loc['mean',])]), 2) for i in range(0, len(data))]) < mse:\n",
    "        data[cluster_name] = 2\n",
    "        return data\n",
    "    \n",
    "    else:\n",
    "        users_kmeans = KMeans(n_clusters=2, random_state=1028, init=\"k-means++\").fit(data.iloc[:, 1:])\n",
    "\n",
    "        if len(set(users_kmeans.labels_)) == 1:\n",
    "            data[cluster_name] = 2\n",
    "            return data\n",
    "        \n",
    "        else:\n",
    "            df1 = copy.deepcopy(data)\n",
    "            df1[cluster_name] = users_kmeans.labels_\n",
    "\n",
    "            df2 = df1[df1[cluster_name]==0].reset_index(drop=True)\n",
    "            df3 = df1[df1[cluster_name]==1].reset_index(drop=True)\n",
    "\n",
    "            df2_mse = np.mean([round(np.mean([i**2 for i in df2.iloc[:, 1:].loc[i,] - df2.iloc[:, 1:].describe().loc['mean',]]), 2) for i in range(0, len(df2))])\n",
    "            df3_mse = np.mean([round(np.mean([i**2 for i in df3.iloc[:, 1:].loc[i,] - df3.iloc[:, 1:].describe().loc['mean',]]), 2) for i in range(0, len(df3))])\n",
    "\n",
    "\n",
    "            if df2_mse < mse and df3_mse < mse:\n",
    "                df2[cluster_name] = '00'\n",
    "                df3[cluster_name] = '11'\n",
    "\n",
    "                return df1\n",
    "\n",
    "            elif df2_mse < mse:\n",
    "                df2[cluster_name] = 2\n",
    "                return df1\n",
    "\n",
    "            elif df3_mse < mse:\n",
    "                df3[cluster_name] = 2\n",
    "                return df1\n",
    "\n",
    "            else:\n",
    "                return df1\n",
    "\n"
   ]
  },
  {
   "cell_type": "code",
   "execution_count": 870,
   "metadata": {},
   "outputs": [],
   "source": [
    "def auto_clustering(mmsi_data, mse):\n",
    "    \n",
    "    data = copy.deepcopy(mmsi_data)\n",
    "    \n",
    "    iter = 1\n",
    "    cluster_rt = pd.DataFrame()\n",
    "    \n",
    "    while True:\n",
    "        if iter == 1:\n",
    "            cluster_pd = pd.DataFrame()\n",
    "            \n",
    "            # 출발점을 기준으로 사전 클러스터링 실행\n",
    "            \n",
    "            \n",
    "            cluster_name = 'cluster'+ str(iter)\n",
    "            \n",
    "            df1 = users_kmeans(data, cluster_name, mse)\n",
    "            \n",
    "            cluster_pd = pd.concat([cluster_pd, df1[[cluster_name]]], axis=1)\n",
    "            cluster_pd = cluster_pd.astype('str').apply(lambda x: ''.join(x), axis=1)\n",
    "            \n",
    "            cluster_rt = pd.DataFrame({cluster_name : cluster_pd}) \n",
    "            \n",
    "        elif iter > 1:\n",
    "            cluster_pd = pd.DataFrame()\n",
    "            cluster_name = 'cluster'+ str(iter)\n",
    "            data['cluster_prediction'] = cluster_rt\n",
    "            \n",
    "            for i in np.unique(cluster_rt):\n",
    "                df1 = users_kmeans(data[data['cluster_prediction'] == i].drop(columns=['cluster_prediction']), cluster_name, mse)\n",
    "                \n",
    "                cluster_pd = pd.concat([cluster_pd, df1[[cluster_name]]], axis=1)\n",
    "                \n",
    "            else:\n",
    "                cluster_rt = pd.concat([cluster_rt, cluster_pd.astype(str).apply(lambda x: ''.join(x), axis=1).apply(lambda x: x.replace('nan', '')).astype(float).astype(int).astype(str)], axis=1).apply(lambda x: ''.join(x), axis=1)\n",
    "            \n",
    "            if all(cluster_rt.apply(lambda x: x[-1]=='2')):\n",
    "                break\n",
    "            \n",
    "            \n",
    "        iter+=1\n",
    "    \n",
    "    unique_cluster = np.unique(data.cluster_prediction)\n",
    "    data = pd.merge(data, pd.DataFrame({'cluster_prediction':unique_cluster, 'b':range(1, len(unique_cluster)+1)}), how='left', on='cluster_prediction')\n",
    "    data['cluster_prediction'] = data['b']\n",
    "    data = data.drop(columns='b')\n",
    "    \n",
    "    # representative_value weight *2 release\n",
    "#     data.iloc[:, 1:3] = data.iloc[:, 1:3]/1.5\n",
    "    \n",
    "    return data\n"
   ]
  },
  {
   "cell_type": "code",
   "execution_count": 871,
   "metadata": {
    "scrolled": true
   },
   "outputs": [],
   "source": [
    "df5 = auto_clustering(df4, 10)"
   ]
  },
  {
   "cell_type": "code",
   "execution_count": 885,
   "metadata": {},
   "outputs": [],
   "source": [
    "from sklearn.cluster import DBSCAN"
   ]
  },
  {
   "cell_type": "code",
   "execution_count": 907,
   "metadata": {},
   "outputs": [],
   "source": [
    "u2 = DBSCAN(eps=5, min_samples=1).fit(df5.iloc[:, 1:3]).labels_"
   ]
  },
  {
   "cell_type": "code",
   "execution_count": 908,
   "metadata": {},
   "outputs": [],
   "source": [
    "u = df5.iloc[:, 1:3]"
   ]
  },
  {
   "cell_type": "code",
   "execution_count": 909,
   "metadata": {},
   "outputs": [],
   "source": [
    "u['cluster'] = u2"
   ]
  },
  {
   "cell_type": "code",
   "execution_count": 913,
   "metadata": {},
   "outputs": [],
   "source": [
    "import matplotlib.pyplot as plt"
   ]
  },
  {
   "cell_type": "code",
   "execution_count": 925,
   "metadata": {},
   "outputs": [
    {
     "data": {
      "text/plain": [
       "<matplotlib.collections.PathCollection at 0xc4175f8>"
      ]
     },
     "execution_count": 925,
     "metadata": {},
     "output_type": "execute_result"
    },
    {
     "data": {
      "image/png": "[encoded data removed]",
      "text/plain": [
       "<Figure size 720x720 with 1 Axes>"
      ]
     },
     "metadata": {},
     "output_type": "display_data"
    }
   ],
   "source": [
    "plt.scatter(u.Start_LON/3, u.Start_LAT/3, c=u.cluster, s=20)"
   ]
  },
  {
   "cell_type": "code",
   "execution_count": null,
   "metadata": {},
   "outputs": [],
   "source": []
  },
  {
   "cell_type": "code",
   "execution_count": null,
   "metadata": {},
   "outputs": [],
   "source": []
  },
  {
   "cell_type": "code",
   "execution_count": null,
   "metadata": {},
   "outputs": [],
   "source": []
  },
  {
   "cell_type": "code",
   "execution_count": null,
   "metadata": {},
   "outputs": [],
   "source": []
  },
  {
   "cell_type": "code",
   "execution_count": null,
   "metadata": {},
   "outputs": [],
   "source": []
  },
  {
   "cell_type": "code",
   "execution_count": 872,
   "metadata": {},
   "outputs": [
    {
     "data": {
      "text/plain": [
       "10    27\n",
       "1      9\n",
       "16     4\n",
       "9      4\n",
       "11     3\n",
       "14     3\n",
       "2      3\n",
       "7      2\n",
       "6      2\n",
       "4      2\n",
       "13     1\n",
       "12     1\n",
       "15     1\n",
       "8      1\n",
       "5      1\n",
       "3      1\n",
       "17     1\n",
       "Name: cluster_prediction, dtype: int64"
      ]
     },
     "execution_count": 872,
     "metadata": {},
     "output_type": "execute_result"
    }
   ],
   "source": [
    "pd.value_counts(df5['cluster_prediction'])"
   ]
  },
  {
   "cell_type": "markdown",
   "metadata": {},
   "source": [
    "### 클러스터 간 변동량을 계산해서 비슷한 경로끼리 한 클러스터로 합치기"
   ]
  },
  {
   "cell_type": "code",
   "execution_count": 873,
   "metadata": {
    "scrolled": false
   },
   "outputs": [],
   "source": [
    "a = df5.iloc[:, 1:].groupby('cluster_prediction').mean()"
   ]
  },
  {
   "cell_type": "code",
   "execution_count": 874,
   "metadata": {
    "scrolled": true
   },
   "outputs": [
    {
     "name": "stdout",
     "output_type": "stream",
     "text": [
      "1의 최솟값은 76.61이고, 3와 최솟값이다.\n",
      "2의 최솟값은 18.71이고, 3와 최솟값이다.\n",
      "3의 최솟값은 18.71이고, 2와 최솟값이다.\n",
      "4의 최솟값은 3819.01이고, 5와 최솟값이다.\n",
      "5의 최솟값은 97.97이고, 2와 최솟값이다.\n",
      "6의 최솟값은 2.25이고, 8와 최솟값이다.\n",
      "7의 최솟값은 0.67이고, 9와 최솟값이다.\n",
      "8의 최솟값은 2.25이고, 6와 최솟값이다.\n",
      "9의 최솟값은 0.67이고, 7와 최솟값이다.\n",
      "10의 최솟값은 3.01이고, 11와 최솟값이다.\n",
      "11의 최솟값은 3.01이고, 10와 최솟값이다.\n",
      "12의 최솟값은 3.57이고, 10와 최솟값이다.\n",
      "13의 최솟값은 5.35이고, 7와 최솟값이다.\n",
      "14의 최솟값은 4.08이고, 16와 최솟값이다.\n",
      "15의 최솟값은 1.08이고, 9와 최솟값이다.\n",
      "16의 최솟값은 4.08이고, 14와 최솟값이다.\n",
      "17의 최솟값은 36.56이고, 11와 최솟값이다.\n"
     ]
    }
   ],
   "source": [
    "for i in a.index:\n",
    "    alist = [9999 if k == 0.0 else k for k in [round(np.mean(a.loc[j, :] - a.loc[i, :])**2, 2) for j in a.index]]\n",
    "    print('{}의 최솟값은 {}이고, {}와 최솟값이다.'.format(i, min(alist), np.argmin(alist)+1))\n",
    "    "
   ]
  },
  {
   "cell_type": "code",
   "execution_count": null,
   "metadata": {},
   "outputs": [],
   "source": []
  },
  {
   "cell_type": "code",
   "execution_count": null,
   "metadata": {},
   "outputs": [],
   "source": []
  },
  {
   "cell_type": "code",
   "execution_count": null,
   "metadata": {},
   "outputs": [],
   "source": []
  },
  {
   "cell_type": "code",
   "execution_count": null,
   "metadata": {},
   "outputs": [],
   "source": []
  },
  {
   "cell_type": "code",
   "execution_count": null,
   "metadata": {},
   "outputs": [],
   "source": []
  },
  {
   "cell_type": "code",
   "execution_count": 847,
   "metadata": {
    "scrolled": true
   },
   "outputs": [
    {
     "data": {
      "text/plain": [
       "554.8015344697916"
      ]
     },
     "execution_count": 847,
     "metadata": {},
     "output_type": "execute_result"
    }
   ],
   "source": [
    "np.mean((a1[0] - a1[1])**2)"
   ]
  },
  {
   "cell_type": "code",
   "execution_count": null,
   "metadata": {},
   "outputs": [],
   "source": []
  },
  {
   "cell_type": "code",
   "execution_count": null,
   "metadata": {},
   "outputs": [],
   "source": []
  },
  {
   "cell_type": "code",
   "execution_count": null,
   "metadata": {},
   "outputs": [],
   "source": []
  },
  {
   "cell_type": "code",
   "execution_count": null,
   "metadata": {},
   "outputs": [],
   "source": []
  },
  {
   "cell_type": "code",
   "execution_count": null,
   "metadata": {},
   "outputs": [],
   "source": []
  },
  {
   "cell_type": "code",
   "execution_count": null,
   "metadata": {},
   "outputs": [],
   "source": []
  },
  {
   "cell_type": "code",
   "execution_count": null,
   "metadata": {},
   "outputs": [],
   "source": []
  },
  {
   "cell_type": "code",
   "execution_count": null,
   "metadata": {},
   "outputs": [],
   "source": []
  },
  {
   "cell_type": "markdown",
   "metadata": {},
   "source": [
    "#  "
   ]
  },
  {
   "cell_type": "markdown",
   "metadata": {},
   "source": [
    "### train, test data split"
   ]
  },
  {
   "cell_type": "code",
   "execution_count": 114,
   "metadata": {},
   "outputs": [],
   "source": [
    "test_date = ['201807','201808']"
   ]
  },
  {
   "cell_type": "code",
   "execution_count": 115,
   "metadata": {
    "scrolled": true
   },
   "outputs": [],
   "source": [
    "df2['ETA2'] = df2['ETA'].apply(lambda x: x[:4]+x[5:7])"
   ]
  },
  {
   "cell_type": "code",
   "execution_count": 116,
   "metadata": {
    "scrolled": true
   },
   "outputs": [],
   "source": [
    "df_test = df2.sort_values(['MMSI', 'ETA']).reset_index(drop=True).groupby('MMSI').first()['ETA2'].reset_index()\n",
    "test_MMSI = df_test['MMSI'][df_test['ETA2'].isin(test_date)]"
   ]
  },
  {
   "cell_type": "code",
   "execution_count": 117,
   "metadata": {
    "scrolled": true
   },
   "outputs": [],
   "source": [
    "df2 = df2.drop(columns='ETA2')"
   ]
  },
  {
   "cell_type": "code",
   "execution_count": 118,
   "metadata": {
    "scrolled": true
   },
   "outputs": [],
   "source": [
    "train_data = df2[~df2['MMSI'].isin(test_MMSI)].reset_index(drop=True)\n",
    "test_data = df2[df2['MMSI'].isin(test_MMSI)].reset_index(drop=True)"
   ]
  },
  {
   "cell_type": "markdown",
   "metadata": {},
   "source": [
    "### pre-processing learning"
   ]
  },
  {
   "cell_type": "code",
   "execution_count": 119,
   "metadata": {},
   "outputs": [],
   "source": [
    "def train_data_learning(train_data, lat, lon):\n",
    "    df2 = port_5km(train_data, lat, lon)\n",
    "    df3 = representative_value(df2)\n",
    "    df4 = pd.concat([df3[['MMSI']], pd.DataFrame(df3.iloc[:, 1:])], axis=1)\n",
    "    df4.columns = df3.columns\n",
    "    \n",
    "    df5 = auto_clustering(df4)\n",
    "    \n",
    "    return df5"
   ]
  },
  {
   "cell_type": "code",
   "execution_count": 129,
   "metadata": {
    "scrolled": true
   },
   "outputs": [],
   "source": [
    "train_data2 = train_data_learning(train_data, 33.754929, -118.214344)"
   ]
  },
  {
   "cell_type": "markdown",
   "metadata": {},
   "source": [
    "###### test data에 근접한 baseline 찾기"
   ]
  },
  {
   "cell_type": "code",
   "execution_count": 130,
   "metadata": {
    "scrolled": true
   },
   "outputs": [],
   "source": [
    "baseline_mean_data = train_data2.groupby('cluster_prediction').mean().reset_index()\n",
    "baseline_mean_data = pd.concat([baseline_mean_data.iloc[:, :17], baseline_mean_data.iloc[:, -2:]], axis=1)"
   ]
  },
  {
   "cell_type": "code",
   "execution_count": 131,
   "metadata": {},
   "outputs": [],
   "source": [
    "def test_data_cluster_detect(test_data, baseline_mean_data):\n",
    "    \n",
    "    df1 = representative_value(test_data)\n",
    "    df1_ = pd.concat([df1[['MMSI']], pd.DataFrame(df1.iloc[:, 1:])], axis=1)\n",
    "    df1_.columns = df1.columns\n",
    "    \n",
    "    df2 = pd.concat([df1_.iloc[:, :17], df1_.iloc[:, -2:]], axis=1)\n",
    "    df2['cluster_prediction'] = np.argmin([np.sum((baseline_mean_data.iloc[:,1:].loc[i,] - df2.iloc[:, 1:])**2, axis=1) for i in range(0,10)]) + 1\n",
    "    test = df2\n",
    "    \n",
    "    return test\n"
   ]
  },
  {
   "cell_type": "code",
   "execution_count": 132,
   "metadata": {
    "scrolled": true
   },
   "outputs": [],
   "source": [
    "test_data4 = test_data_cluster_detect(test_data[test_data['MMSI']=='372319000_51_3'], baseline_mean_data)\n",
    "train_data4 = train_data2[train_data2['cluster_prediction'].isin(test_data4['cluster_prediction'])]\n",
    "# test_data4 = pd.concat([test_data4.iloc[:, 2:17], test_data4.iloc[:, -3:-1]], axis=1)\n",
    "# train_data4 = pd.concat([train_data4.iloc[:, 2:17], train_data4.iloc[:, -3:-1]], axis=1)"
   ]
  },
  {
   "cell_type": "code",
   "execution_count": null,
   "metadata": {},
   "outputs": [],
   "source": [
    "def features_make_train(data, train):\n",
    "    \n",
    "    c\n",
    "    data.groupby('MMSI').[['MMSI', 'ETA']]min()\n",
    "    \n",
    "    return"
   ]
  },
  {
   "cell_type": "code",
   "execution_count": 76,
   "metadata": {},
   "outputs": [],
   "source": [
    "import datetime"
   ]
  },
  {
   "cell_type": "code",
   "execution_count": 149,
   "metadata": {},
   "outputs": [],
   "source": [
    "def Y_Value(data, train) : \n",
    "    data = data[data['MMSI'].isin(train['MMSI'])].reset_index(drop=True)\n",
    "    data['ETA'] = data['ETA'].apply(lambda x: datetime.datetime.strptime(x, \"%Y-%m-%d %H:%M:%S\"))\n",
    "    lastTime = data.groupby('MMSI').last()['ETA'].reset_index()\n",
    "    lastTime.columns = ['MMSI','LAST_ETA']\n",
    "    data = pd.merge(data, lastTime , on = 'MMSI')\n",
    "    data['y_value'] = round((data['LAST_ETA'] - data['ETA']) /np.timedelta64(1, 'h'),1)\n",
    "    \n",
    "    \n",
    "    \n",
    "    df1 = representative_value(data)\n",
    "    df1 = df1[list(range(0,33,3))]\n",
    "    \n",
    "    \n",
    "    \n",
    "    \n",
    "    \n",
    "    return df1"
   ]
  },
  {
   "cell_type": "code",
   "execution_count": 150,
   "metadata": {},
   "outputs": [
    {
     "data": {
      "text/html": [
       "<div>\n",
       "<style scoped>\n",
       "    .dataframe tbody tr th:only-of-type {\n",
       "        vertical-align: middle;\n",
       "    }\n",
       "\n",
       "    .dataframe tbody tr th {\n",
       "        vertical-align: top;\n",
       "    }\n",
       "\n",
       "    .dataframe thead th {\n",
       "        text-align: right;\n",
       "    }\n",
       "</style>\n",
       "<table border=\"1\" class=\"dataframe\">\n",
       "  <thead>\n",
       "    <tr style=\"text-align: right;\">\n",
       "      <th></th>\n",
       "      <th>0</th>\n",
       "      <th>3</th>\n",
       "      <th>6</th>\n",
       "      <th>9</th>\n",
       "      <th>12</th>\n",
       "      <th>15</th>\n",
       "      <th>18</th>\n",
       "      <th>21</th>\n",
       "      <th>24</th>\n",
       "      <th>27</th>\n",
       "      <th>30</th>\n",
       "    </tr>\n",
       "  </thead>\n",
       "  <tbody>\n",
       "    <tr>\n",
       "      <th>0</th>\n",
       "      <td>220379000_49_3</td>\n",
       "      <td>246.5</td>\n",
       "      <td>219.1</td>\n",
       "      <td>195.0</td>\n",
       "      <td>168.8</td>\n",
       "      <td>144.9</td>\n",
       "      <td>121.0</td>\n",
       "      <td>96.1</td>\n",
       "      <td>72.1</td>\n",
       "      <td>46.5</td>\n",
       "      <td>23.1</td>\n",
       "    </tr>\n",
       "    <tr>\n",
       "      <th>1</th>\n",
       "      <td>352058000_14_12</td>\n",
       "      <td>285.0</td>\n",
       "      <td>247.0</td>\n",
       "      <td>219.0</td>\n",
       "      <td>189.8</td>\n",
       "      <td>160.7</td>\n",
       "      <td>134.0</td>\n",
       "      <td>108.0</td>\n",
       "      <td>80.0</td>\n",
       "      <td>52.0</td>\n",
       "      <td>24.8</td>\n",
       "    </tr>\n",
       "    <tr>\n",
       "      <th>2</th>\n",
       "      <td>477067900_26_11</td>\n",
       "      <td>289.1</td>\n",
       "      <td>255.1</td>\n",
       "      <td>228.2</td>\n",
       "      <td>174.2</td>\n",
       "      <td>146.1</td>\n",
       "      <td>122.2</td>\n",
       "      <td>98.2</td>\n",
       "      <td>73.1</td>\n",
       "      <td>49.1</td>\n",
       "      <td>23.1</td>\n",
       "    </tr>\n",
       "    <tr>\n",
       "      <th>3</th>\n",
       "      <td>477607700_40_4</td>\n",
       "      <td>289.4</td>\n",
       "      <td>252.0</td>\n",
       "      <td>224.0</td>\n",
       "      <td>196.0</td>\n",
       "      <td>167.8</td>\n",
       "      <td>141.0</td>\n",
       "      <td>113.0</td>\n",
       "      <td>83.5</td>\n",
       "      <td>54.0</td>\n",
       "      <td>27.1</td>\n",
       "    </tr>\n",
       "    <tr>\n",
       "      <th>4</th>\n",
       "      <td>477829700_51_9</td>\n",
       "      <td>316.9</td>\n",
       "      <td>275.0</td>\n",
       "      <td>243.9</td>\n",
       "      <td>213.0</td>\n",
       "      <td>180.0</td>\n",
       "      <td>149.9</td>\n",
       "      <td>120.0</td>\n",
       "      <td>90.0</td>\n",
       "      <td>58.8</td>\n",
       "      <td>28.9</td>\n",
       "    </tr>\n",
       "    <tr>\n",
       "      <th>5</th>\n",
       "      <td>477990200_46_3</td>\n",
       "      <td>294.9</td>\n",
       "      <td>256.0</td>\n",
       "      <td>226.6</td>\n",
       "      <td>196.0</td>\n",
       "      <td>168.0</td>\n",
       "      <td>138.8</td>\n",
       "      <td>111.0</td>\n",
       "      <td>83.0</td>\n",
       "      <td>55.0</td>\n",
       "      <td>26.8</td>\n",
       "    </tr>\n",
       "    <tr>\n",
       "      <th>6</th>\n",
       "      <td>565747000_17_3</td>\n",
       "      <td>257.0</td>\n",
       "      <td>230.2</td>\n",
       "      <td>207.0</td>\n",
       "      <td>180.8</td>\n",
       "      <td>154.7</td>\n",
       "      <td>130.0</td>\n",
       "      <td>105.0</td>\n",
       "      <td>79.0</td>\n",
       "      <td>51.9</td>\n",
       "      <td>25.6</td>\n",
       "    </tr>\n",
       "    <tr>\n",
       "      <th>7</th>\n",
       "      <td>636091307_15_6</td>\n",
       "      <td>295.2</td>\n",
       "      <td>260.3</td>\n",
       "      <td>229.8</td>\n",
       "      <td>203.1</td>\n",
       "      <td>174.1</td>\n",
       "      <td>144.4</td>\n",
       "      <td>117.2</td>\n",
       "      <td>88.0</td>\n",
       "      <td>61.2</td>\n",
       "      <td>30.2</td>\n",
       "    </tr>\n",
       "  </tbody>\n",
       "</table>\n",
       "</div>"
      ],
      "text/plain": [
       "                0      3      6      9      12     15     18     21    24  \\\n",
       "0   220379000_49_3  246.5  219.1  195.0  168.8  144.9  121.0   96.1  72.1   \n",
       "1  352058000_14_12  285.0  247.0  219.0  189.8  160.7  134.0  108.0  80.0   \n",
       "2  477067900_26_11  289.1  255.1  228.2  174.2  146.1  122.2   98.2  73.1   \n",
       "3   477607700_40_4  289.4  252.0  224.0  196.0  167.8  141.0  113.0  83.5   \n",
       "4   477829700_51_9  316.9  275.0  243.9  213.0  180.0  149.9  120.0  90.0   \n",
       "5   477990200_46_3  294.9  256.0  226.6  196.0  168.0  138.8  111.0  83.0   \n",
       "6   565747000_17_3  257.0  230.2  207.0  180.8  154.7  130.0  105.0  79.0   \n",
       "7   636091307_15_6  295.2  260.3  229.8  203.1  174.1  144.4  117.2  88.0   \n",
       "\n",
       "     27    30  \n",
       "0  46.5  23.1  \n",
       "1  52.0  24.8  \n",
       "2  49.1  23.1  \n",
       "3  54.0  27.1  \n",
       "4  58.8  28.9  \n",
       "5  55.0  26.8  \n",
       "6  51.9  25.6  \n",
       "7  61.2  30.2  "
      ]
     },
     "execution_count": 150,
     "metadata": {},
     "output_type": "execute_result"
    }
   ],
   "source": [
    "Y_Value(df1, train_data4)"
   ]
  },
  {
   "cell_type": "code",
   "execution_count": 151,
   "metadata": {},
   "outputs": [
    {
     "data": {
      "text/html": [
       "<div>\n",
       "<style scoped>\n",
       "    .dataframe tbody tr th:only-of-type {\n",
       "        vertical-align: middle;\n",
       "    }\n",
       "\n",
       "    .dataframe tbody tr th {\n",
       "        vertical-align: top;\n",
       "    }\n",
       "\n",
       "    .dataframe thead th {\n",
       "        text-align: right;\n",
       "    }\n",
       "</style>\n",
       "<table border=\"1\" class=\"dataframe\">\n",
       "  <thead>\n",
       "    <tr style=\"text-align: right;\">\n",
       "      <th></th>\n",
       "      <th>0</th>\n",
       "      <th>3</th>\n",
       "      <th>6</th>\n",
       "      <th>9</th>\n",
       "      <th>12</th>\n",
       "      <th>15</th>\n",
       "      <th>18</th>\n",
       "      <th>21</th>\n",
       "      <th>24</th>\n",
       "      <th>27</th>\n",
       "      <th>30</th>\n",
       "    </tr>\n",
       "  </thead>\n",
       "  <tbody>\n",
       "    <tr>\n",
       "      <th>0</th>\n",
       "      <td>372319000_51_3</td>\n",
       "      <td>289.0</td>\n",
       "      <td>255.0</td>\n",
       "      <td>225.6</td>\n",
       "      <td>197.1</td>\n",
       "      <td>167.0</td>\n",
       "      <td>139.0</td>\n",
       "      <td>111.0</td>\n",
       "      <td>82.9</td>\n",
       "      <td>55.1</td>\n",
       "      <td>26.7</td>\n",
       "    </tr>\n",
       "  </tbody>\n",
       "</table>\n",
       "</div>"
      ],
      "text/plain": [
       "               0      3      6      9      12     15     18     21    24  \\\n",
       "0  372319000_51_3  289.0  255.0  225.6  197.1  167.0  139.0  111.0  82.9   \n",
       "\n",
       "     27    30  \n",
       "0  55.1  26.7  "
      ]
     },
     "execution_count": 151,
     "metadata": {},
     "output_type": "execute_result"
    }
   ],
   "source": [
    "Y_Value(df1, test_data4)"
   ]
  },
  {
   "cell_type": "markdown",
   "metadata": {},
   "source": [
    "### regression"
   ]
  },
  {
   "cell_type": "code",
   "execution_count": 154,
   "metadata": {
    "scrolled": true
   },
   "outputs": [],
   "source": [
    "a = Y_Value(df1, train_data4)"
   ]
  },
  {
   "cell_type": "code",
   "execution_count": 162,
   "metadata": {},
   "outputs": [],
   "source": [
    "import xgboost as xgb"
   ]
  },
  {
   "cell_type": "code",
   "execution_count": 163,
   "metadata": {},
   "outputs": [],
   "source": [
    "y_pred = xgb.XGBRegressor(booster='gblinear', eta = 10, min_child_weight =22,\n",
    "                          max_depth = 8, gamma = 100 , alpha = 0.1, n_estimators=10000).fit(a.iloc[:, 1:-1], a[30]).predict(b.iloc[:, 1:-1])"
   ]
  },
  {
   "cell_type": "code",
   "execution_count": 165,
   "metadata": {},
   "outputs": [
    {
     "data": {
      "text/plain": [
       "(array([27.054432], dtype=float32), 0    26.7\n",
       " Name: 30, dtype: float64)"
      ]
     },
     "execution_count": 165,
     "metadata": {},
     "output_type": "execute_result"
    }
   ],
   "source": [
    "y_pred, b[30]"
   ]
  },
  {
   "cell_type": "code",
   "execution_count": null,
   "metadata": {},
   "outputs": [],
   "source": []
  },
  {
   "cell_type": "code",
   "execution_count": null,
   "metadata": {},
   "outputs": [],
   "source": []
  },
  {
   "cell_type": "code",
   "execution_count": null,
   "metadata": {},
   "outputs": [],
   "source": []
  },
  {
   "cell_type": "code",
   "execution_count": null,
   "metadata": {},
   "outputs": [],
   "source": []
  },
  {
   "cell_type": "code",
   "execution_count": null,
   "metadata": {},
   "outputs": [],
   "source": []
  },
  {
   "cell_type": "code",
   "execution_count": null,
   "metadata": {},
   "outputs": [],
   "source": []
  },
  {
   "cell_type": "markdown",
   "metadata": {},
   "source": [
    "### Visualization of routes by vessel"
   ]
  },
  {
   "cell_type": "code",
   "execution_count": 170,
   "metadata": {},
   "outputs": [],
   "source": [
    "import folium"
   ]
  },
  {
   "cell_type": "code",
   "execution_count": 875,
   "metadata": {
    "scrolled": true
   },
   "outputs": [],
   "source": [
    "unique_cluster = np.unique(df5['cluster_prediction'])\n",
    "for iter in unique_cluster:\n",
    "    df6 = df1[df1['MMSI'].isin(df5[df5['cluster_prediction']==iter]['MMSI'])].reset_index(drop=True)\n",
    "    df6['LON'] = df6['LON'].apply(lambda x: x-360 if x>0 else x)\n",
    "    m = folium.Map(location=[df6.loc[0,'LAT'], df6.loc[0,'LON']], zoom_start=1, tiles='Stamen Terrain')\n",
    "    for i in range(df6.shape[0]):\n",
    "        folium.CircleMarker(location=[df6.loc[i,'LAT'], df6.loc[i,'LON']], color = 'red', radius = 1).add_to(m)\n",
    "    m.save('C:/Users/SDS/Desktop/Downloads/image(longbeach)/{}.html'.format('image'+str(iter)))"
   ]
  },
  {
   "cell_type": "markdown",
   "metadata": {},
   "source": [
    "### eta eda"
   ]
  },
  {
   "cell_type": "code",
   "execution_count": 20,
   "metadata": {
    "scrolled": true
   },
   "outputs": [
    {
     "data": {
      "text/plain": [
       "('2016-02-11 21:44:00', '2018-08-22 22:00:00')"
      ]
     },
     "execution_count": 20,
     "metadata": {},
     "output_type": "execute_result"
    }
   ],
   "source": [
    "min(df1['ETA']), max(df1['ETA'])"
   ]
  },
  {
   "cell_type": "code",
   "execution_count": 21,
   "metadata": {
    "scrolled": false
   },
   "outputs": [],
   "source": [
    "a=pd.value_counts(df1['ETA'].apply(lambda x: x[:4]+x[5:7])).sort_index()"
   ]
  },
  {
   "cell_type": "code",
   "execution_count": 22,
   "metadata": {},
   "outputs": [],
   "source": [
    "import seaborn as sns"
   ]
  },
  {
   "cell_type": "code",
   "execution_count": 23,
   "metadata": {
    "scrolled": false
   },
   "outputs": [
    {
     "data": {
      "image/png": "[encoded data removed]",
      "text/plain": [
       "<Figure size 720x720 with 1 Axes>"
      ]
     },
     "metadata": {},
     "output_type": "display_data"
    }
   ],
   "source": [
    "sns.set(rc={'figure.figsize':(10,10)})\n",
    "g = sns.barplot(x=a.index, y=a)\n",
    "g = g.set_xticklabels(g.get_xticklabels(),rotation=45)"
   ]
  }
 ],
 "metadata": {
  "kernelspec": {
   "display_name": "Python 3",
   "language": "python",
   "name": "python3"
  },
  "language_info": {
   "codemirror_mode": {
    "name": "ipython",
    "version": 3
   },
   "file_extension": ".py",
   "mimetype": "text/x-python",
   "name": "python",
   "nbconvert_exporter": "python",
   "pygments_lexer": "ipython3",
   "version": "3.7.0"
  }
 },
 "nbformat": 4,
 "nbformat_minor": 2
}
